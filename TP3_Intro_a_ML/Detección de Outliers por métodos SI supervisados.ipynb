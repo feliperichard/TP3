{
 "cells": [
  {
   "cell_type": "code",
   "execution_count": 1,
   "metadata": {},
   "outputs": [
    {
     "name": "stdout",
     "output_type": "stream",
     "text": [
      "numpy       1.19.1\n",
      "pandas      1.1.3 \n",
      "matplotlib  3.3.1 \n",
      "sklearn     0.23.2\n"
     ]
    }
   ],
   "source": [
    "import numpy as np\n",
    "print(f\"{'numpy':<11} {np.__version__:<6}\")\n",
    "\n",
    "import pandas as pd\n",
    "print(f\"{'pandas':<11} {pd.__version__:<6}\")\n",
    "\n",
    "import matplotlib\n",
    "print(f\"{'matplotlib':<11} {matplotlib.__version__:<6}\")\n",
    "\n",
    "import matplotlib.pyplot as plt\n",
    "\n",
    "from sklearn import __version__ as sklearn_version\n",
    "print(f\"{'sklearn':<11} {sklearn_version:<6}\")\n",
    "\n",
    "from sklearn.compose import ColumnTransformer\n",
    "from sklearn.impute import SimpleImputer\n",
    "from sklearn.pipeline import Pipeline\n",
    "from sklearn.preprocessing import OneHotEncoder\n",
    "from sklearn.preprocessing import StandardScaler\n",
    "from sklearn.svm import OneClassSVM\n",
    "from sklearn.tree import DecisionTreeClassifier\n",
    "from sklearn.metrics import mean_absolute_error, recall_score\n",
    "\n",
    "import itertools"
   ]
  },
  {
   "cell_type": "code",
   "execution_count": 2,
   "metadata": {},
   "outputs": [],
   "source": [
    "from sklearn import set_config\n",
    "set_config(display=\"diagram\")"
   ]
  },
  {
   "cell_type": "code",
   "execution_count": 3,
   "metadata": {},
   "outputs": [],
   "source": [
    "from sklearn.metrics import classification_report, precision_score, recall_score, f1_score, precision_recall_fscore_support\n",
    "\n",
    "def print_report( Y_test, Y_preds ):\n",
    "    print('MAE                                         : %.3f'% mean_absolute_error(Y_test, Y_preds))\n",
    "    print('Precision                                   : %.3f'% precision_score(Y_test, Y_preds))\n",
    "    print('Recall                                      : %.3f'% recall_score(Y_test, Y_preds))\n",
    "    print('F1-Score                                    : %.3f'% f1_score(Y_test, Y_preds))\n",
    "    print('\\nPrecision Recall F1-Score Support Per Class : \\n', precision_recall_fscore_support(Y_test, Y_preds))\n",
    "    print('\\nClassification Report                       : ')\n",
    "    print(classification_report(Y_test, Y_preds))"
   ]
  },
  {
   "cell_type": "code",
   "execution_count": 4,
   "metadata": {},
   "outputs": [],
   "source": [
    "# Model Evaluation\n",
    "from sklearn.metrics import confusion_matrix\n",
    "\n",
    "def confusion_matrix_plot( Y_test, Y_preds ):\n",
    "\n",
    "    conf_mat = confusion_matrix(Y_test, Y_preds)\n",
    "    print(conf_mat)\n",
    "    with plt.style.context(('ggplot', 'seaborn')):\n",
    "        fig = plt.figure(figsize=(6,6), num=1)\n",
    "        plt.imshow(conf_mat, interpolation='nearest',cmap= plt.cm.Blues )\n",
    "        plt.xticks([0,1],[0,1])\n",
    "        plt.yticks([0,1],[0,1])\n",
    "        plt.xlabel('Predicted Label')\n",
    "        plt.ylabel('Actual Label')\n",
    "        for i, j in itertools.product(range(conf_mat.shape[0]), range(conf_mat.shape[1])):\n",
    "                    plt.text(j, i,conf_mat[i, j], horizontalalignment=\"center\",color=\"red\")\n",
    "        plt.grid(None)\n",
    "        plt.title('Confusion Matrix')\n",
    "        plt.colorbar()\n",
    "        plt.show()"
   ]
  },
  {
   "cell_type": "code",
   "execution_count": 5,
   "metadata": {},
   "outputs": [],
   "source": [
    "# Data Loading\n",
    "df0: pd.DataFrame = pd.read_csv(\n",
    "    \"datasets/traffic_AR_CL_UY+features+column_classifier.csv\",\n",
    "    parse_dates=[\"Fecha\"]\n",
    ")\n",
    "\n",
    "df0[\"Fecha\"] = pd.to_datetime(df0[\"Fecha\"], utc=True)\n"
   ]
  },
  {
   "cell_type": "code",
   "execution_count": 6,
   "metadata": {},
   "outputs": [
    {
     "name": "stdout",
     "output_type": "stream",
     "text": [
      "<class 'pandas.core.frame.DataFrame'>\n",
      "RangeIndex: 7712 entries, 0 to 7711\n",
      "Data columns (total 27 columns):\n",
      " #   Column               Non-Null Count  Dtype              \n",
      "---  ------               --------------  -----              \n",
      " 0   Fecha                7712 non-null   datetime64[ns, UTC]\n",
      " 1   Site                 7712 non-null   object             \n",
      " 2   flow                 7712 non-null   object             \n",
      " 3   Device               7712 non-null   object             \n",
      " 4   Loading              7712 non-null   int64              \n",
      " 5   Shipping             7712 non-null   int64              \n",
      " 6   Payments             7712 non-null   int64              \n",
      " 7   Review               7712 non-null   int64              \n",
      " 8   Congrats             7712 non-null   int64              \n",
      " 9   missing              7712 non-null   bool               \n",
      " 10  day_of_week          7712 non-null   int64              \n",
      " 11  month                7712 non-null   int64              \n",
      " 12  year                 7712 non-null   int64              \n",
      " 13  Shipping_ratio       7712 non-null   float64            \n",
      " 14  Payments_ratio       7712 non-null   float64            \n",
      " 15  Review_ratio         7712 non-null   float64            \n",
      " 16  Congrats_ratio       7712 non-null   float64            \n",
      " 17  TOTAL                7712 non-null   float64            \n",
      " 18  input_on_Shipping    7712 non-null   bool               \n",
      " 19  missing_on_Shipping  7712 non-null   bool               \n",
      " 20  input_on_Payments    7712 non-null   bool               \n",
      " 21  missing_on_Payments  7712 non-null   bool               \n",
      " 22  input_on_Review      7712 non-null   bool               \n",
      " 23  missing_on_Review    7712 non-null   bool               \n",
      " 24  input_on_Congrats    7712 non-null   bool               \n",
      " 25  missing_on_Congrats  7712 non-null   bool               \n",
      " 26  anomaly              7712 non-null   bool               \n",
      "dtypes: bool(10), datetime64[ns, UTC](1), float64(5), int64(8), object(3)\n",
      "memory usage: 1.1+ MB\n"
     ]
    }
   ],
   "source": [
    "df0.info()"
   ]
  },
  {
   "cell_type": "code",
   "execution_count": 7,
   "metadata": {},
   "outputs": [],
   "source": [
    "site   = \"MLA\"\n",
    "flow   = \"direct\"\n",
    "device = \"iOS\"\n",
    "\n",
    "result: pd.DataFrame = df0.query(\n",
    "        f\"\"\" Site == \"{site}\" and flow == '{flow}' and Device == '{device}' \"\"\"\n",
    "    )\n"
   ]
  },
  {
   "cell_type": "code",
   "execution_count": 39,
   "metadata": {},
   "outputs": [],
   "source": [
    "# Column / Feature Selection\n",
    "data = result[[\"Fecha\", \"Site\", \"flow\",\"Device\",\"Loading\",\"Shipping\",\"Payments\",\"Review\",\"Congrats\",\"TOTAL\",\"anomaly\"]]\n"
   ]
  },
  {
   "cell_type": "code",
   "execution_count": 9,
   "metadata": {},
   "outputs": [
    {
     "name": "stdout",
     "output_type": "stream",
     "text": [
      "<class 'pandas.core.frame.DataFrame'>\n",
      "Int64Index: 488 entries, 7 to 7701\n",
      "Data columns (total 11 columns):\n",
      " #   Column    Non-Null Count  Dtype              \n",
      "---  ------    --------------  -----              \n",
      " 0   Fecha     488 non-null    datetime64[ns, UTC]\n",
      " 1   Site      488 non-null    object             \n",
      " 2   flow      488 non-null    object             \n",
      " 3   Device    488 non-null    object             \n",
      " 4   Loading   488 non-null    int64              \n",
      " 5   Shipping  488 non-null    int64              \n",
      " 6   Payments  488 non-null    int64              \n",
      " 7   Review    488 non-null    int64              \n",
      " 8   Congrats  488 non-null    int64              \n",
      " 9   TOTAL     488 non-null    float64            \n",
      " 10  anomaly   488 non-null    bool               \n",
      "dtypes: bool(1), datetime64[ns, UTC](1), float64(1), int64(5), object(3)\n",
      "memory usage: 42.4+ KB\n"
     ]
    }
   ],
   "source": [
    "data.info()\n"
   ]
  },
  {
   "cell_type": "code",
   "execution_count": 10,
   "metadata": {},
   "outputs": [
    {
     "name": "stdout",
     "output_type": "stream",
     "text": [
      "False    0.915984\n",
      "True     0.084016\n",
      "Name: anomaly, dtype: float64\n"
     ]
    },
    {
     "data": {
      "text/plain": [
       "<AxesSubplot:title={'center':'Dist'}>"
      ]
     },
     "execution_count": 10,
     "metadata": {},
     "output_type": "execute_result"
    },
    {
     "data": {
      "image/png": "[encoded data removed]",
      "text/plain": [
       "<Figure size 432x288 with 1 Axes>"
      ]
     },
     "metadata": {
      "needs_background": "light"
     },
     "output_type": "display_data"
    }
   ],
   "source": [
    "print(data.anomaly.value_counts(normalize=True))\n",
    "data[\"anomaly\"].value_counts().plot(kind=\"bar\", title=\"Classes distribution\")\n"
   ]
  },
  {
   "cell_type": "code",
   "execution_count": 11,
   "metadata": {},
   "outputs": [
    {
     "name": "stderr",
     "output_type": "stream",
     "text": [
      "/Users/contingencia/miniconda3/envs/ddatos21_ment_tp3/lib/python3.7/site-packages/ipykernel_launcher.py:6: SettingWithCopyWarning: \n",
      "A value is trying to be set on a copy of a slice from a DataFrame.\n",
      "Try using .loc[row_indexer,col_indexer] = value instead\n",
      "\n",
      "See the caveats in the documentation: https://pandas.pydata.org/pandas-docs/stable/user_guide/indexing.html#returning-a-view-versus-a-copy\n",
      "  \n"
     ]
    },
    {
     "data": {
      "text/plain": [
       "7      -1\n",
       "19     -1\n",
       "31      1\n",
       "43     -1\n",
       "55     -1\n",
       "       ..\n",
       "7629    1\n",
       "7647   -1\n",
       "7665   -1\n",
       "7683    1\n",
       "7701   -1\n",
       "Name: class, Length: 488, dtype: int64"
      ]
     },
     "execution_count": 11,
     "metadata": {},
     "output_type": "execute_result"
    }
   ],
   "source": [
    "map_class = { \n",
    "    True : 1,  # Anomalies on class 1\n",
    "    False: -1  # Normal on class -1\n",
    "}\n",
    "\n",
    "data[\"class\"] = data[\"anomaly\"].map(map_class)\n",
    "\n",
    "target_name = \"class\"\n",
    "target = data[target_name]\n",
    "target"
   ]
  },
  {
   "cell_type": "code",
   "execution_count": 12,
   "metadata": {},
   "outputs": [
    {
     "data": {
      "text/html": [
       "<div>\n",
       "<style scoped>\n",
       "    .dataframe tbody tr th:only-of-type {\n",
       "        vertical-align: middle;\n",
       "    }\n",
       "\n",
       "    .dataframe tbody tr th {\n",
       "        vertical-align: top;\n",
       "    }\n",
       "\n",
       "    .dataframe thead th {\n",
       "        text-align: right;\n",
       "    }\n",
       "</style>\n",
       "<table border=\"1\" class=\"dataframe\">\n",
       "  <thead>\n",
       "    <tr style=\"text-align: right;\">\n",
       "      <th></th>\n",
       "      <th>Fecha</th>\n",
       "      <th>Site</th>\n",
       "      <th>flow</th>\n",
       "      <th>Device</th>\n",
       "      <th>Loading</th>\n",
       "      <th>Shipping</th>\n",
       "      <th>Payments</th>\n",
       "      <th>Review</th>\n",
       "      <th>Congrats</th>\n",
       "      <th>TOTAL</th>\n",
       "    </tr>\n",
       "  </thead>\n",
       "  <tbody>\n",
       "    <tr>\n",
       "      <th>7</th>\n",
       "      <td>2019-03-01 00:00:00+00:00</td>\n",
       "      <td>MLA</td>\n",
       "      <td>direct</td>\n",
       "      <td>iOS</td>\n",
       "      <td>29215</td>\n",
       "      <td>27378</td>\n",
       "      <td>23245</td>\n",
       "      <td>17899</td>\n",
       "      <td>16835</td>\n",
       "      <td>0.615</td>\n",
       "    </tr>\n",
       "    <tr>\n",
       "      <th>19</th>\n",
       "      <td>2019-03-02 00:00:00+00:00</td>\n",
       "      <td>MLA</td>\n",
       "      <td>direct</td>\n",
       "      <td>iOS</td>\n",
       "      <td>22275</td>\n",
       "      <td>20572</td>\n",
       "      <td>17103</td>\n",
       "      <td>12304</td>\n",
       "      <td>11421</td>\n",
       "      <td>0.555</td>\n",
       "    </tr>\n",
       "    <tr>\n",
       "      <th>31</th>\n",
       "      <td>2019-03-03 00:00:00+00:00</td>\n",
       "      <td>MLA</td>\n",
       "      <td>direct</td>\n",
       "      <td>iOS</td>\n",
       "      <td>18784</td>\n",
       "      <td>17220</td>\n",
       "      <td>13968</td>\n",
       "      <td>9617</td>\n",
       "      <td>8865</td>\n",
       "      <td>0.515</td>\n",
       "    </tr>\n",
       "    <tr>\n",
       "      <th>43</th>\n",
       "      <td>2019-03-04 00:00:00+00:00</td>\n",
       "      <td>MLA</td>\n",
       "      <td>direct</td>\n",
       "      <td>iOS</td>\n",
       "      <td>24166</td>\n",
       "      <td>22199</td>\n",
       "      <td>18156</td>\n",
       "      <td>12852</td>\n",
       "      <td>11881</td>\n",
       "      <td>0.535</td>\n",
       "    </tr>\n",
       "    <tr>\n",
       "      <th>55</th>\n",
       "      <td>2019-03-05 00:00:00+00:00</td>\n",
       "      <td>MLA</td>\n",
       "      <td>direct</td>\n",
       "      <td>iOS</td>\n",
       "      <td>29237</td>\n",
       "      <td>27081</td>\n",
       "      <td>22501</td>\n",
       "      <td>16484</td>\n",
       "      <td>15372</td>\n",
       "      <td>0.568</td>\n",
       "    </tr>\n",
       "  </tbody>\n",
       "</table>\n",
       "</div>"
      ],
      "text/plain": [
       "                       Fecha Site    flow Device  Loading  Shipping  Payments  \\\n",
       "7  2019-03-01 00:00:00+00:00  MLA  direct    iOS    29215     27378     23245   \n",
       "19 2019-03-02 00:00:00+00:00  MLA  direct    iOS    22275     20572     17103   \n",
       "31 2019-03-03 00:00:00+00:00  MLA  direct    iOS    18784     17220     13968   \n",
       "43 2019-03-04 00:00:00+00:00  MLA  direct    iOS    24166     22199     18156   \n",
       "55 2019-03-05 00:00:00+00:00  MLA  direct    iOS    29237     27081     22501   \n",
       "\n",
       "    Review  Congrats  TOTAL  \n",
       "7    17899     16835  0.615  \n",
       "19   12304     11421  0.555  \n",
       "31    9617      8865  0.515  \n",
       "43   12852     11881  0.535  \n",
       "55   16484     15372  0.568  "
      ]
     },
     "execution_count": 12,
     "metadata": {},
     "output_type": "execute_result"
    }
   ],
   "source": [
    "# We drop from our data the target column to train our \n",
    "data = data.drop( columns = [ target_name , \"anomaly\" ] )\n",
    "data.head()"
   ]
  },
  {
   "cell_type": "code",
   "execution_count": 35,
   "metadata": {},
   "outputs": [],
   "source": [
    "from sklearn.model_selection import train_test_split\n",
    "\n",
    "X_train, X_test, y_train, y_test = train_test_split(data, target, test_size=0.15, random_state=999983)\n",
    "\n",
    "# display(X_train)\n",
    "# display(y_train)"
   ]
  },
  {
   "cell_type": "code",
   "execution_count": 36,
   "metadata": {},
   "outputs": [
    {
     "data": {
      "text/html": [
       "<style>div.sk-top-container {color: black;background-color: white;}div.sk-toggleable {background-color: white;}label.sk-toggleable__label {cursor: pointer;display: block;width: 100%;margin-bottom: 0;padding: 0.2em 0.3em;box-sizing: border-box;text-align: center;}div.sk-toggleable__content {max-height: 0;max-width: 0;overflow: hidden;text-align: left;background-color: #f0f8ff;}div.sk-toggleable__content pre {margin: 0.2em;color: black;border-radius: 0.25em;background-color: #f0f8ff;}input.sk-toggleable__control:checked~div.sk-toggleable__content {max-height: 200px;max-width: 100%;overflow: auto;}div.sk-estimator input.sk-toggleable__control:checked~label.sk-toggleable__label {background-color: #d4ebff;}div.sk-label input.sk-toggleable__control:checked~label.sk-toggleable__label {background-color: #d4ebff;}input.sk-hidden--visually {border: 0;clip: rect(1px 1px 1px 1px);clip: rect(1px, 1px, 1px, 1px);height: 1px;margin: -1px;overflow: hidden;padding: 0;position: absolute;width: 1px;}div.sk-estimator {font-family: monospace;background-color: #f0f8ff;margin: 0.25em 0.25em;border: 1px dotted black;border-radius: 0.25em;box-sizing: border-box;}div.sk-estimator:hover {background-color: #d4ebff;}div.sk-parallel-item::after {content: \"\";width: 100%;border-bottom: 1px solid gray;flex-grow: 1;}div.sk-label:hover label.sk-toggleable__label {background-color: #d4ebff;}div.sk-serial::before {content: \"\";position: absolute;border-left: 1px solid gray;box-sizing: border-box;top: 2em;bottom: 0;left: 50%;}div.sk-serial {display: flex;flex-direction: column;align-items: center;background-color: white;}div.sk-item {z-index: 1;}div.sk-parallel {display: flex;align-items: stretch;justify-content: center;background-color: white;}div.sk-parallel-item {display: flex;flex-direction: column;position: relative;background-color: white;}div.sk-parallel-item:first-child::after {align-self: flex-end;width: 50%;}div.sk-parallel-item:last-child::after {align-self: flex-start;width: 50%;}div.sk-parallel-item:only-child::after {width: 0;}div.sk-dashed-wrapped {border: 1px dashed gray;margin: 0.2em;box-sizing: border-box;padding-bottom: 0.1em;background-color: white;position: relative;}div.sk-label label {font-family: monospace;font-weight: bold;background-color: white;display: inline-block;line-height: 1.2em;}div.sk-label-container {position: relative;z-index: 2;text-align: center;}div.sk-container {display: inline-block;position: relative;}</style><div class=\"sk-top-container\"><div class=\"sk-container\"><div class=\"sk-item sk-dashed-wrapped\"><div class=\"sk-label-container\"><div class=\"sk-label sk-toggleable\"><input class=\"sk-toggleable__control sk-hidden--visually\" id=\"6ca439f2-bbee-4b56-9e37-42d6fa506b6e\" type=\"checkbox\" ><label class=\"sk-toggleable__label\" for=\"6ca439f2-bbee-4b56-9e37-42d6fa506b6e\">Pipeline</label><div class=\"sk-toggleable__content\"><pre>Pipeline(steps=[('preprocess',\n",
       "                 ColumnTransformer(transformers=[('categorical_preprocessing',\n",
       "                                                  Pipeline(steps=[('ohe',\n",
       "                                                                   OneHotEncoder())]),\n",
       "                                                  ['Site', 'flow', 'Device']),\n",
       "                                                 ('numerical_preprocessing',\n",
       "                                                  Pipeline(steps=[('imputation',\n",
       "                                                                   SimpleImputer()),\n",
       "                                                                  ('scaler',\n",
       "                                                                   StandardScaler())]),\n",
       "                                                  ['Loading', 'Shipping',\n",
       "                                                   'Payments', 'Review',\n",
       "                                                   'Congrats', 'TOTAL'])])),\n",
       "                ('clf', OneClassSVM(gamma=0.01, nu=0.084016))])</pre></div></div></div><div class=\"sk-serial\"><div class=\"sk-item sk-dashed-wrapped\"><div class=\"sk-label-container\"><div class=\"sk-label sk-toggleable\"><input class=\"sk-toggleable__control sk-hidden--visually\" id=\"c64bbac5-b009-433b-8829-dd3fb94b0f2d\" type=\"checkbox\" ><label class=\"sk-toggleable__label\" for=\"c64bbac5-b009-433b-8829-dd3fb94b0f2d\">preprocess: ColumnTransformer</label><div class=\"sk-toggleable__content\"><pre>ColumnTransformer(transformers=[('categorical_preprocessing',\n",
       "                                 Pipeline(steps=[('ohe', OneHotEncoder())]),\n",
       "                                 ['Site', 'flow', 'Device']),\n",
       "                                ('numerical_preprocessing',\n",
       "                                 Pipeline(steps=[('imputation',\n",
       "                                                  SimpleImputer()),\n",
       "                                                 ('scaler', StandardScaler())]),\n",
       "                                 ['Loading', 'Shipping', 'Payments', 'Review',\n",
       "                                  'Congrats', 'TOTAL'])])</pre></div></div></div><div class=\"sk-parallel\"><div class=\"sk-parallel-item\"><div class=\"sk-item\"><div class=\"sk-label-container\"><div class=\"sk-label sk-toggleable\"><input class=\"sk-toggleable__control sk-hidden--visually\" id=\"3db6c443-631a-4648-88e5-20f0f45f584e\" type=\"checkbox\" ><label class=\"sk-toggleable__label\" for=\"3db6c443-631a-4648-88e5-20f0f45f584e\">categorical_preprocessing</label><div class=\"sk-toggleable__content\"><pre>['Site', 'flow', 'Device']</pre></div></div></div><div class=\"sk-serial\"><div class=\"sk-item\"><div class=\"sk-serial\"><div class=\"sk-item\"><div class=\"sk-estimator sk-toggleable\"><input class=\"sk-toggleable__control sk-hidden--visually\" id=\"9e0cfe82-1fdf-43ac-aff7-9d12a08b61e3\" type=\"checkbox\" ><label class=\"sk-toggleable__label\" for=\"9e0cfe82-1fdf-43ac-aff7-9d12a08b61e3\">OneHotEncoder</label><div class=\"sk-toggleable__content\"><pre>OneHotEncoder()</pre></div></div></div></div></div></div></div></div><div class=\"sk-parallel-item\"><div class=\"sk-item\"><div class=\"sk-label-container\"><div class=\"sk-label sk-toggleable\"><input class=\"sk-toggleable__control sk-hidden--visually\" id=\"fd10ca53-8540-4b28-973e-69df4f0a50e7\" type=\"checkbox\" ><label class=\"sk-toggleable__label\" for=\"fd10ca53-8540-4b28-973e-69df4f0a50e7\">numerical_preprocessing</label><div class=\"sk-toggleable__content\"><pre>['Loading', 'Shipping', 'Payments', 'Review', 'Congrats', 'TOTAL']</pre></div></div></div><div class=\"sk-serial\"><div class=\"sk-item\"><div class=\"sk-serial\"><div class=\"sk-item\"><div class=\"sk-estimator sk-toggleable\"><input class=\"sk-toggleable__control sk-hidden--visually\" id=\"a1b82a81-afb4-44b3-96b5-e982acda7bbb\" type=\"checkbox\" ><label class=\"sk-toggleable__label\" for=\"a1b82a81-afb4-44b3-96b5-e982acda7bbb\">SimpleImputer</label><div class=\"sk-toggleable__content\"><pre>SimpleImputer()</pre></div></div></div><div class=\"sk-item\"><div class=\"sk-estimator sk-toggleable\"><input class=\"sk-toggleable__control sk-hidden--visually\" id=\"30a3eb09-bbdf-4374-be0f-dbc9c7fd4359\" type=\"checkbox\" ><label class=\"sk-toggleable__label\" for=\"30a3eb09-bbdf-4374-be0f-dbc9c7fd4359\">StandardScaler</label><div class=\"sk-toggleable__content\"><pre>StandardScaler()</pre></div></div></div></div></div></div></div></div></div></div><div class=\"sk-item\"><div class=\"sk-estimator sk-toggleable\"><input class=\"sk-toggleable__control sk-hidden--visually\" id=\"ae0cf3ab-ba28-4dd0-9dd2-076c4be6f741\" type=\"checkbox\" ><label class=\"sk-toggleable__label\" for=\"ae0cf3ab-ba28-4dd0-9dd2-076c4be6f741\">OneClassSVM</label><div class=\"sk-toggleable__content\"><pre>OneClassSVM(gamma=0.01, nu=0.084016)</pre></div></div></div></div></div></div></div>"
      ],
      "text/plain": [
       "Pipeline(steps=[('preprocess',\n",
       "                 ColumnTransformer(transformers=[('categorical_preprocessing',\n",
       "                                                  Pipeline(steps=[('ohe',\n",
       "                                                                   OneHotEncoder())]),\n",
       "                                                  ['Site', 'flow', 'Device']),\n",
       "                                                 ('numerical_preprocessing',\n",
       "                                                  Pipeline(steps=[('imputation',\n",
       "                                                                   SimpleImputer()),\n",
       "                                                                  ('scaler',\n",
       "                                                                   StandardScaler())]),\n",
       "                                                  ['Loading', 'Shipping',\n",
       "                                                   'Payments', 'Review',\n",
       "                                                   'Congrats', 'TOTAL'])])),\n",
       "                ('clf', OneClassSVM(gamma=0.01, nu=0.084016))])"
      ]
     },
     "execution_count": 36,
     "metadata": {},
     "output_type": "execute_result"
    }
   ],
   "source": [
    "# define individual transformers in a pipeline\n",
    "categorical_preprocessing = Pipeline([\n",
    "    ('ohe', OneHotEncoder())\n",
    "])\n",
    "numerical_preprocessing = Pipeline([\n",
    "    ('imputation', SimpleImputer()),\n",
    "    ('scaler', StandardScaler())\n",
    "])\n",
    "\n",
    "# define which transformer applies to which columns\n",
    "preprocess = ColumnTransformer([\n",
    "    ('categorical_preprocessing', categorical_preprocessing, [\"Site\", \"flow\",\"Device\"]),\n",
    "    ('numerical_preprocessing', numerical_preprocessing, [\"Loading\",\"Shipping\",\"Payments\",\"Review\",\"Congrats\",\"TOTAL\"])\n",
    "])\n",
    "\n",
    "# define clasifier\n",
    "outliers_fraction = 0.084016\n",
    "model = OneClassSVM(nu=outliers_fraction, kernel=\"rbf\", gamma=0.01)\n",
    "\n",
    "# create the final pipeline with preprocessing steps and \n",
    "# the final classifier step\n",
    "pipeline = Pipeline([\n",
    "    ('preprocess', preprocess),\n",
    "    ('clf', model )\n",
    "])\n",
    "\n",
    "pipeline"
   ]
  },
  {
   "cell_type": "code",
   "execution_count": 37,
   "metadata": {},
   "outputs": [
    {
     "data": {
      "text/plain": [
       "5515   -1\n",
       "7355   -1\n",
       "6043    1\n",
       "5627   -1\n",
       "6811   -1\n",
       "       ..\n",
       "3659   -1\n",
       "2235   -1\n",
       "411    -1\n",
       "5531   -1\n",
       "6603   -1\n",
       "Name: class, Length: 74, dtype: int64"
      ]
     },
     "metadata": {},
     "output_type": "display_data"
    },
    {
     "data": {
      "text/plain": [
       "array([ 1, -1,  1,  1, -1,  1,  1,  1,  1,  1, -1,  1, -1,  1,  1,  1,  1,\n",
       "        1,  1,  1,  1,  1,  1,  1,  1,  1,  1,  1,  1,  1,  1, -1,  1,  1,\n",
       "       -1,  1,  1, -1,  1,  1,  1,  1,  1, -1,  1,  1,  1,  1,  1,  1,  1,\n",
       "        1,  1,  1,  1,  1,  1,  1,  1,  1,  1,  1,  1,  1,  1,  1,  1,  1,\n",
       "        1,  1,  1,  1,  1,  1])"
      ]
     },
     "metadata": {},
     "output_type": "display_data"
    },
    {
     "name": "stdout",
     "output_type": "stream",
     "text": [
      "[[ 6 59]\n",
      " [ 2  7]]\n"
     ]
    },
    {
     "data": {
      "image/png": "[encoded data removed]",
      "text/plain": [
       "<Figure size 432x432 with 2 Axes>"
      ]
     },
     "metadata": {},
     "output_type": "display_data"
    },
    {
     "name": "stdout",
     "output_type": "stream",
     "text": [
      "MAE                                         : 1.649\n",
      "Precision                                   : 0.106\n",
      "Recall                                      : 0.778\n",
      "F1-Score                                    : 0.187\n",
      "\n",
      "Precision Recall F1-Score Support Per Class : \n",
      " (array([0.75      , 0.10606061]), array([0.09230769, 0.77777778]), array([0.16438356, 0.18666667]), array([65,  9]))\n",
      "\n",
      "Classification Report                       : \n",
      "              precision    recall  f1-score   support\n",
      "\n",
      "          -1       0.75      0.09      0.16        65\n",
      "           1       0.11      0.78      0.19         9\n",
      "\n",
      "    accuracy                           0.18        74\n",
      "   macro avg       0.43      0.44      0.18        74\n",
      "weighted avg       0.67      0.18      0.17        74\n",
      "\n"
     ]
    }
   ],
   "source": [
    "#Realizamos el ajuste\n",
    "pipeline.fit(X_train,y_train)\n",
    "\n",
    "# evaluate the model against test data\n",
    "yhat = pipeline.predict(X_test)\n",
    "\n",
    "display(y_test)\n",
    "display(yhat)\n",
    "\n",
    "# evaluate predictions\n",
    "confusion_matrix_plot(y_test, yhat)\n",
    "print_report( y_test, yhat )\n",
    "#\n"
   ]
  },
  {
   "cell_type": "code",
   "execution_count": 38,
   "metadata": {},
   "outputs": [
    {
     "data": {
      "image/png": "[encoded data removed]",
      "text/plain": [
       "<Figure size 1152x288 with 1 Axes>"
      ]
     },
     "metadata": {
      "needs_background": "light"
     },
     "output_type": "display_data"
    }
   ],
   "source": [
    "\n",
    "fig, ax = plt.subplots(figsize=(16,4))\n",
    "a = result.loc[ result[\"anomaly\"] == 1 , [\"Fecha\" , \"TOTAL\"] ] #anomaly\n",
    "\n",
    "ax.plot(result[\"Fecha\"], result[\"TOTAL\"], color='blue')\n",
    "ax.scatter(a[\"Fecha\"],a[\"TOTAL\"], color='red')\n",
    "\n",
    "plt.show();"
   ]
  },
  {
   "cell_type": "code",
   "execution_count": null,
   "metadata": {},
   "outputs": [],
   "source": []
  },
  {
   "cell_type": "code",
   "execution_count": null,
   "metadata": {},
   "outputs": [],
   "source": []
  }
 ],
 "metadata": {
  "kernelspec": {
   "display_name": "Python [conda env:ddatos21_ment_tp3] *",
   "language": "python",
   "name": "conda-env-ddatos21_ment_tp3-py"
  },
  "language_info": {
   "codemirror_mode": {
    "name": "ipython",
    "version": 3
   },
   "file_extension": ".py",
   "mimetype": "text/x-python",
   "name": "python",
   "nbconvert_exporter": "python",
   "pygments_lexer": "ipython3",
   "version": "3.7.9"
  }
 },
 "nbformat": 4,
 "nbformat_minor": 4
}
