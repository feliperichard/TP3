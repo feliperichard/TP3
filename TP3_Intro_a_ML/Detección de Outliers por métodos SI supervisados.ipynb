{
 "cells": [
  {
   "cell_type": "code",
   "execution_count": 1,
   "metadata": {},
   "outputs": [
    {
     "name": "stdout",
     "output_type": "stream",
     "text": [
      "numpy       1.19.1\n",
      "pandas      1.1.3 \n",
      "matplotlib  3.3.1 \n",
      "sklearn     0.23.2\n"
     ]
    }
   ],
   "source": [
    "import numpy as np\n",
    "print(f\"{'numpy':<11} {np.__version__:<6}\")\n",
    "\n",
    "import pandas as pd\n",
    "print(f\"{'pandas':<11} {pd.__version__:<6}\")\n",
    "\n",
    "import matplotlib\n",
    "print(f\"{'matplotlib':<11} {matplotlib.__version__:<6}\")\n",
    "\n",
    "import matplotlib.pyplot as plt\n",
    "\n",
    "from sklearn import __version__ as sklearn_version\n",
    "print(f\"{'sklearn':<11} {sklearn_version:<6}\")\n",
    "\n",
    "from sklearn.compose import ColumnTransformer\n",
    "from sklearn.impute import SimpleImputer\n",
    "from sklearn.pipeline import Pipeline\n",
    "from sklearn.preprocessing import OneHotEncoder\n",
    "from sklearn.preprocessing import StandardScaler\n",
    "from sklearn.svm import OneClassSVM\n",
    "from sklearn.tree import DecisionTreeClassifier\n",
    "from sklearn.metrics import mean_absolute_error, recall_score\n",
    "\n",
    "import itertools"
   ]
  },
  {
   "cell_type": "code",
   "execution_count": 2,
   "metadata": {},
   "outputs": [],
   "source": [
    "from sklearn import set_config\n",
    "set_config(display=\"diagram\")"
   ]
  },
  {
   "cell_type": "code",
   "execution_count": 3,
   "metadata": {},
   "outputs": [],
   "source": [
    "from sklearn.metrics import classification_report, precision_score, recall_score, f1_score, precision_recall_fscore_support\n",
    "\n",
    "def print_report( Y_test, Y_preds ):\n",
    "    print('MAE                                         : %.3f'% mean_absolute_error(Y_test, Y_preds))\n",
    "    print('Precision                                   : %.3f'% precision_score(Y_test, Y_preds))\n",
    "    print('Recall                                      : %.3f'% recall_score(Y_test, Y_preds))\n",
    "    print('F1-Score                                    : %.3f'% f1_score(Y_test, Y_preds))\n",
    "    print('\\nPrecision Recall F1-Score Support Per Class : \\n', precision_recall_fscore_support(Y_test, Y_preds))\n",
    "    print('\\nClassification Report                       : ')\n",
    "    print(classification_report(Y_test, Y_preds))"
   ]
  },
  {
   "cell_type": "code",
   "execution_count": 4,
   "metadata": {},
   "outputs": [],
   "source": [
    "# Model Evaluation\n",
    "from sklearn.metrics import confusion_matrix\n",
    "\n",
    "def confusion_matrix_plot( Y_test, Y_preds ):\n",
    "\n",
    "    conf_mat = confusion_matrix(Y_test, Y_preds)\n",
    "    print(conf_mat)\n",
    "    with plt.style.context(('ggplot', 'seaborn')):\n",
    "        fig = plt.figure(figsize=(6,6), num=1)\n",
    "        plt.imshow(conf_mat, interpolation='nearest',cmap= plt.cm.Blues )\n",
    "        plt.xticks([0,1],[0,1])\n",
    "        plt.yticks([0,1],[0,1])\n",
    "        plt.xlabel('Predicted Label')\n",
    "        plt.ylabel('Actual Label')\n",
    "        for i, j in itertools.product(range(conf_mat.shape[0]), range(conf_mat.shape[1])):\n",
    "                    plt.text(j, i,conf_mat[i, j], horizontalalignment=\"center\",color=\"red\")\n",
    "        plt.grid(None)\n",
    "        plt.title('Confusion Matrix')\n",
    "        plt.colorbar()\n",
    "        plt.show()"
   ]
  },
  {
   "cell_type": "code",
   "execution_count": 5,
   "metadata": {},
   "outputs": [],
   "source": [
    "# Data Loading\n",
    "df0: pd.DataFrame = pd.read_csv(\n",
    "    \"datasets/traffic_AR_CL_UY+features+column_classifier.csv\",\n",
    "    parse_dates=[\"Fecha\"]\n",
    ")\n",
    "\n",
    "df0[\"Fecha\"] = pd.to_datetime(df0[\"Fecha\"], utc=True)\n"
   ]
  },
  {
   "cell_type": "code",
   "execution_count": 6,
   "metadata": {},
   "outputs": [
    {
     "name": "stdout",
     "output_type": "stream",
     "text": [
      "<class 'pandas.core.frame.DataFrame'>\n",
      "RangeIndex: 7712 entries, 0 to 7711\n",
      "Data columns (total 27 columns):\n",
      " #   Column               Non-Null Count  Dtype              \n",
      "---  ------               --------------  -----              \n",
      " 0   Fecha                7712 non-null   datetime64[ns, UTC]\n",
      " 1   Site                 7712 non-null   object             \n",
      " 2   flow                 7712 non-null   object             \n",
      " 3   Device               7712 non-null   object             \n",
      " 4   Loading              7712 non-null   int64              \n",
      " 5   Shipping             7712 non-null   int64              \n",
      " 6   Payments             7712 non-null   int64              \n",
      " 7   Review               7712 non-null   int64              \n",
      " 8   Congrats             7712 non-null   int64              \n",
      " 9   missing              7712 non-null   bool               \n",
      " 10  day_of_week          7712 non-null   int64              \n",
      " 11  month                7712 non-null   int64              \n",
      " 12  year                 7712 non-null   int64              \n",
      " 13  Shipping_ratio       7712 non-null   float64            \n",
      " 14  Payments_ratio       7712 non-null   float64            \n",
      " 15  Review_ratio         7712 non-null   float64            \n",
      " 16  Congrats_ratio       7712 non-null   float64            \n",
      " 17  TOTAL                7712 non-null   float64            \n",
      " 18  input_on_Shipping    7712 non-null   bool               \n",
      " 19  missing_on_Shipping  7712 non-null   bool               \n",
      " 20  input_on_Payments    7712 non-null   bool               \n",
      " 21  missing_on_Payments  7712 non-null   bool               \n",
      " 22  input_on_Review      7712 non-null   bool               \n",
      " 23  missing_on_Review    7712 non-null   bool               \n",
      " 24  input_on_Congrats    7712 non-null   bool               \n",
      " 25  missing_on_Congrats  7712 non-null   bool               \n",
      " 26  anomaly              7712 non-null   bool               \n",
      "dtypes: bool(10), datetime64[ns, UTC](1), float64(5), int64(8), object(3)\n",
      "memory usage: 1.1+ MB\n"
     ]
    }
   ],
   "source": [
    "df0.info()"
   ]
  },
  {
   "cell_type": "code",
   "execution_count": 7,
   "metadata": {},
   "outputs": [],
   "source": [
    "site   = \"MLA\"\n",
    "flow   = \"direct\"\n",
    "device = \"iOS\"\n",
    "\n",
    "result: pd.DataFrame = df0.query(\n",
    "        f\"\"\" Site == \"{site}\" and flow == '{flow}' and Device == '{device}' \"\"\"\n",
    "    )\n"
   ]
  },
  {
   "cell_type": "code",
   "execution_count": 8,
   "metadata": {},
   "outputs": [],
   "source": [
    "# Column / Feature Selection\n",
    "data = result[[\"Fecha\", \"Site\", \"flow\",\"Device\",\"Loading\",\"Shipping\",\"Payments\",\"Review\",\"Congrats\",\"TOTAL\",\"anomaly\"]]\n"
   ]
  },
  {
   "cell_type": "code",
   "execution_count": 9,
   "metadata": {},
   "outputs": [
    {
     "name": "stdout",
     "output_type": "stream",
     "text": [
      "<class 'pandas.core.frame.DataFrame'>\n",
      "Int64Index: 488 entries, 7 to 7701\n",
      "Data columns (total 11 columns):\n",
      " #   Column    Non-Null Count  Dtype              \n",
      "---  ------    --------------  -----              \n",
      " 0   Fecha     488 non-null    datetime64[ns, UTC]\n",
      " 1   Site      488 non-null    object             \n",
      " 2   flow      488 non-null    object             \n",
      " 3   Device    488 non-null    object             \n",
      " 4   Loading   488 non-null    int64              \n",
      " 5   Shipping  488 non-null    int64              \n",
      " 6   Payments  488 non-null    int64              \n",
      " 7   Review    488 non-null    int64              \n",
      " 8   Congrats  488 non-null    int64              \n",
      " 9   TOTAL     488 non-null    float64            \n",
      " 10  anomaly   488 non-null    bool               \n",
      "dtypes: bool(1), datetime64[ns, UTC](1), float64(1), int64(5), object(3)\n",
      "memory usage: 42.4+ KB\n"
     ]
    }
   ],
   "source": [
    "data.info()\n"
   ]
  },
  {
   "cell_type": "code",
   "execution_count": 10,
   "metadata": {},
   "outputs": [
    {
     "name": "stdout",
     "output_type": "stream",
     "text": [
      "False    0.915984\n",
      "True     0.084016\n",
      "Name: anomaly, dtype: float64\n"
     ]
    },
    {
     "data": {
      "text/plain": [
       "<AxesSubplot:title={'center':'Classes distribution'}>"
      ]
     },
     "execution_count": 10,
     "metadata": {},
     "output_type": "execute_result"
    },
    {
     "data": {
      "image/png": "[encoded data removed]",
      "text/plain": [
       "<Figure size 432x288 with 1 Axes>"
      ]
     },
     "metadata": {
      "needs_background": "light"
     },
     "output_type": "display_data"
    }
   ],
   "source": [
    "print(data.anomaly.value_counts(normalize=True))\n",
    "data[\"anomaly\"].value_counts().plot(kind=\"bar\", title=\"Classes distribution\")\n"
   ]
  },
  {
   "cell_type": "code",
   "execution_count": 11,
   "metadata": {},
   "outputs": [
    {
     "name": "stderr",
     "output_type": "stream",
     "text": [
      "/Users/contingencia/miniconda3/envs/ddatos21_ment_tp3/lib/python3.7/site-packages/ipykernel_launcher.py:6: SettingWithCopyWarning: \n",
      "A value is trying to be set on a copy of a slice from a DataFrame.\n",
      "Try using .loc[row_indexer,col_indexer] = value instead\n",
      "\n",
      "See the caveats in the documentation: https://pandas.pydata.org/pandas-docs/stable/user_guide/indexing.html#returning-a-view-versus-a-copy\n",
      "  \n"
     ]
    },
    {
     "data": {
      "text/plain": [
       "7      -1\n",
       "19     -1\n",
       "31      1\n",
       "43     -1\n",
       "55     -1\n",
       "       ..\n",
       "7629    1\n",
       "7647   -1\n",
       "7665   -1\n",
       "7683    1\n",
       "7701   -1\n",
       "Name: class, Length: 488, dtype: int64"
      ]
     },
     "execution_count": 11,
     "metadata": {},
     "output_type": "execute_result"
    }
   ],
   "source": [
    "map_class = { \n",
    "    True : 1,  # Anomalies on class 1\n",
    "    False: -1  # Normal on class -1\n",
    "}\n",
    "\n",
    "data[\"class\"] = data[\"anomaly\"].map(map_class)\n",
    "\n",
    "target_name = \"class\"\n",
    "target = data[target_name]\n",
    "target"
   ]
  },
  {
   "cell_type": "code",
   "execution_count": 12,
   "metadata": {},
   "outputs": [
    {
     "data": {
      "text/html": [
       "<div>\n",
       "<style scoped>\n",
       "    .dataframe tbody tr th:only-of-type {\n",
       "        vertical-align: middle;\n",
       "    }\n",
       "\n",
       "    .dataframe tbody tr th {\n",
       "        vertical-align: top;\n",
       "    }\n",
       "\n",
       "    .dataframe thead th {\n",
       "        text-align: right;\n",
       "    }\n",
       "</style>\n",
       "<table border=\"1\" class=\"dataframe\">\n",
       "  <thead>\n",
       "    <tr style=\"text-align: right;\">\n",
       "      <th></th>\n",
       "      <th>Fecha</th>\n",
       "      <th>Site</th>\n",
       "      <th>flow</th>\n",
       "      <th>Device</th>\n",
       "      <th>Loading</th>\n",
       "      <th>Shipping</th>\n",
       "      <th>Payments</th>\n",
       "      <th>Review</th>\n",
       "      <th>Congrats</th>\n",
       "      <th>TOTAL</th>\n",
       "    </tr>\n",
       "  </thead>\n",
       "  <tbody>\n",
       "    <tr>\n",
       "      <th>7</th>\n",
       "      <td>2019-03-01 00:00:00+00:00</td>\n",
       "      <td>MLA</td>\n",
       "      <td>direct</td>\n",
       "      <td>iOS</td>\n",
       "      <td>29215</td>\n",
       "      <td>27378</td>\n",
       "      <td>23245</td>\n",
       "      <td>17899</td>\n",
       "      <td>16835</td>\n",
       "      <td>0.615</td>\n",
       "    </tr>\n",
       "    <tr>\n",
       "      <th>19</th>\n",
       "      <td>2019-03-02 00:00:00+00:00</td>\n",
       "      <td>MLA</td>\n",
       "      <td>direct</td>\n",
       "      <td>iOS</td>\n",
       "      <td>22275</td>\n",
       "      <td>20572</td>\n",
       "      <td>17103</td>\n",
       "      <td>12304</td>\n",
       "      <td>11421</td>\n",
       "      <td>0.555</td>\n",
       "    </tr>\n",
       "    <tr>\n",
       "      <th>31</th>\n",
       "      <td>2019-03-03 00:00:00+00:00</td>\n",
       "      <td>MLA</td>\n",
       "      <td>direct</td>\n",
       "      <td>iOS</td>\n",
       "      <td>18784</td>\n",
       "      <td>17220</td>\n",
       "      <td>13968</td>\n",
       "      <td>9617</td>\n",
       "      <td>8865</td>\n",
       "      <td>0.515</td>\n",
       "    </tr>\n",
       "    <tr>\n",
       "      <th>43</th>\n",
       "      <td>2019-03-04 00:00:00+00:00</td>\n",
       "      <td>MLA</td>\n",
       "      <td>direct</td>\n",
       "      <td>iOS</td>\n",
       "      <td>24166</td>\n",
       "      <td>22199</td>\n",
       "      <td>18156</td>\n",
       "      <td>12852</td>\n",
       "      <td>11881</td>\n",
       "      <td>0.535</td>\n",
       "    </tr>\n",
       "    <tr>\n",
       "      <th>55</th>\n",
       "      <td>2019-03-05 00:00:00+00:00</td>\n",
       "      <td>MLA</td>\n",
       "      <td>direct</td>\n",
       "      <td>iOS</td>\n",
       "      <td>29237</td>\n",
       "      <td>27081</td>\n",
       "      <td>22501</td>\n",
       "      <td>16484</td>\n",
       "      <td>15372</td>\n",
       "      <td>0.568</td>\n",
       "    </tr>\n",
       "  </tbody>\n",
       "</table>\n",
       "</div>"
      ],
      "text/plain": [
       "                       Fecha Site    flow Device  Loading  Shipping  Payments  \\\n",
       "7  2019-03-01 00:00:00+00:00  MLA  direct    iOS    29215     27378     23245   \n",
       "19 2019-03-02 00:00:00+00:00  MLA  direct    iOS    22275     20572     17103   \n",
       "31 2019-03-03 00:00:00+00:00  MLA  direct    iOS    18784     17220     13968   \n",
       "43 2019-03-04 00:00:00+00:00  MLA  direct    iOS    24166     22199     18156   \n",
       "55 2019-03-05 00:00:00+00:00  MLA  direct    iOS    29237     27081     22501   \n",
       "\n",
       "    Review  Congrats  TOTAL  \n",
       "7    17899     16835  0.615  \n",
       "19   12304     11421  0.555  \n",
       "31    9617      8865  0.515  \n",
       "43   12852     11881  0.535  \n",
       "55   16484     15372  0.568  "
      ]
     },
     "execution_count": 12,
     "metadata": {},
     "output_type": "execute_result"
    }
   ],
   "source": [
    "# We drop from our data the target column to train our \n",
    "data = data.drop( columns = [ target_name , \"anomaly\" ] )\n",
    "data.head()"
   ]
  },
  {
   "cell_type": "code",
   "execution_count": 13,
   "metadata": {},
   "outputs": [],
   "source": [
    "from sklearn.model_selection import train_test_split\n",
    "\n",
    "X_train, X_test, y_train, y_test = train_test_split(data, target, test_size=0.15, random_state=999983)\n",
    "\n",
    "# display(X_train)\n",
    "# display(y_train)"
   ]
  },
  {
   "cell_type": "code",
   "execution_count": 14,
   "metadata": {},
   "outputs": [
    {
     "data": {
      "text/html": [
       "<style>div.sk-top-container {color: black;background-color: white;}div.sk-toggleable {background-color: white;}label.sk-toggleable__label {cursor: pointer;display: block;width: 100%;margin-bottom: 0;padding: 0.2em 0.3em;box-sizing: border-box;text-align: center;}div.sk-toggleable__content {max-height: 0;max-width: 0;overflow: hidden;text-align: left;background-color: #f0f8ff;}div.sk-toggleable__content pre {margin: 0.2em;color: black;border-radius: 0.25em;background-color: #f0f8ff;}input.sk-toggleable__control:checked~div.sk-toggleable__content {max-height: 200px;max-width: 100%;overflow: auto;}div.sk-estimator input.sk-toggleable__control:checked~label.sk-toggleable__label {background-color: #d4ebff;}div.sk-label input.sk-toggleable__control:checked~label.sk-toggleable__label {background-color: #d4ebff;}input.sk-hidden--visually {border: 0;clip: rect(1px 1px 1px 1px);clip: rect(1px, 1px, 1px, 1px);height: 1px;margin: -1px;overflow: hidden;padding: 0;position: absolute;width: 1px;}div.sk-estimator {font-family: monospace;background-color: #f0f8ff;margin: 0.25em 0.25em;border: 1px dotted black;border-radius: 0.25em;box-sizing: border-box;}div.sk-estimator:hover {background-color: #d4ebff;}div.sk-parallel-item::after {content: \"\";width: 100%;border-bottom: 1px solid gray;flex-grow: 1;}div.sk-label:hover label.sk-toggleable__label {background-color: #d4ebff;}div.sk-serial::before {content: \"\";position: absolute;border-left: 1px solid gray;box-sizing: border-box;top: 2em;bottom: 0;left: 50%;}div.sk-serial {display: flex;flex-direction: column;align-items: center;background-color: white;}div.sk-item {z-index: 1;}div.sk-parallel {display: flex;align-items: stretch;justify-content: center;background-color: white;}div.sk-parallel-item {display: flex;flex-direction: column;position: relative;background-color: white;}div.sk-parallel-item:first-child::after {align-self: flex-end;width: 50%;}div.sk-parallel-item:last-child::after {align-self: flex-start;width: 50%;}div.sk-parallel-item:only-child::after {width: 0;}div.sk-dashed-wrapped {border: 1px dashed gray;margin: 0.2em;box-sizing: border-box;padding-bottom: 0.1em;background-color: white;position: relative;}div.sk-label label {font-family: monospace;font-weight: bold;background-color: white;display: inline-block;line-height: 1.2em;}div.sk-label-container {position: relative;z-index: 2;text-align: center;}div.sk-container {display: inline-block;position: relative;}</style><div class=\"sk-top-container\"><div class=\"sk-container\"><div class=\"sk-item sk-dashed-wrapped\"><div class=\"sk-label-container\"><div class=\"sk-label sk-toggleable\"><input class=\"sk-toggleable__control sk-hidden--visually\" id=\"4fc8f498-5804-4911-9504-73358981f77b\" type=\"checkbox\" ><label class=\"sk-toggleable__label\" for=\"4fc8f498-5804-4911-9504-73358981f77b\">Pipeline</label><div class=\"sk-toggleable__content\"><pre>Pipeline(steps=[('preprocess',\n",
       "                 ColumnTransformer(transformers=[('categorical_preprocessing',\n",
       "                                                  Pipeline(steps=[('ohe',\n",
       "                                                                   OneHotEncoder())]),\n",
       "                                                  ['Site', 'flow', 'Device']),\n",
       "                                                 ('numerical_preprocessing',\n",
       "                                                  Pipeline(steps=[('imputation',\n",
       "                                                                   SimpleImputer()),\n",
       "                                                                  ('scaler',\n",
       "                                                                   StandardScaler())]),\n",
       "                                                  ['Loading', 'Shipping',\n",
       "                                                   'Payments', 'Review',\n",
       "                                                   'Congrats', 'TOTAL'])])),\n",
       "                ('clf', OneClassSVM(gamma=0.02, nu=0.09))])</pre></div></div></div><div class=\"sk-serial\"><div class=\"sk-item sk-dashed-wrapped\"><div class=\"sk-label-container\"><div class=\"sk-label sk-toggleable\"><input class=\"sk-toggleable__control sk-hidden--visually\" id=\"914be3ca-1162-4a61-85e7-b4d3b4789386\" type=\"checkbox\" ><label class=\"sk-toggleable__label\" for=\"914be3ca-1162-4a61-85e7-b4d3b4789386\">preprocess: ColumnTransformer</label><div class=\"sk-toggleable__content\"><pre>ColumnTransformer(transformers=[('categorical_preprocessing',\n",
       "                                 Pipeline(steps=[('ohe', OneHotEncoder())]),\n",
       "                                 ['Site', 'flow', 'Device']),\n",
       "                                ('numerical_preprocessing',\n",
       "                                 Pipeline(steps=[('imputation',\n",
       "                                                  SimpleImputer()),\n",
       "                                                 ('scaler', StandardScaler())]),\n",
       "                                 ['Loading', 'Shipping', 'Payments', 'Review',\n",
       "                                  'Congrats', 'TOTAL'])])</pre></div></div></div><div class=\"sk-parallel\"><div class=\"sk-parallel-item\"><div class=\"sk-item\"><div class=\"sk-label-container\"><div class=\"sk-label sk-toggleable\"><input class=\"sk-toggleable__control sk-hidden--visually\" id=\"21949b33-9165-4983-aeab-e58286d1c3b7\" type=\"checkbox\" ><label class=\"sk-toggleable__label\" for=\"21949b33-9165-4983-aeab-e58286d1c3b7\">categorical_preprocessing</label><div class=\"sk-toggleable__content\"><pre>['Site', 'flow', 'Device']</pre></div></div></div><div class=\"sk-serial\"><div class=\"sk-item\"><div class=\"sk-serial\"><div class=\"sk-item\"><div class=\"sk-estimator sk-toggleable\"><input class=\"sk-toggleable__control sk-hidden--visually\" id=\"bc537c09-33eb-4e3b-9448-036cbcc1636f\" type=\"checkbox\" ><label class=\"sk-toggleable__label\" for=\"bc537c09-33eb-4e3b-9448-036cbcc1636f\">OneHotEncoder</label><div class=\"sk-toggleable__content\"><pre>OneHotEncoder()</pre></div></div></div></div></div></div></div></div><div class=\"sk-parallel-item\"><div class=\"sk-item\"><div class=\"sk-label-container\"><div class=\"sk-label sk-toggleable\"><input class=\"sk-toggleable__control sk-hidden--visually\" id=\"4546d38e-ea62-4635-a480-9bb657409b4a\" type=\"checkbox\" ><label class=\"sk-toggleable__label\" for=\"4546d38e-ea62-4635-a480-9bb657409b4a\">numerical_preprocessing</label><div class=\"sk-toggleable__content\"><pre>['Loading', 'Shipping', 'Payments', 'Review', 'Congrats', 'TOTAL']</pre></div></div></div><div class=\"sk-serial\"><div class=\"sk-item\"><div class=\"sk-serial\"><div class=\"sk-item\"><div class=\"sk-estimator sk-toggleable\"><input class=\"sk-toggleable__control sk-hidden--visually\" id=\"08bf82a8-2c65-45dc-8358-1977923f79b7\" type=\"checkbox\" ><label class=\"sk-toggleable__label\" for=\"08bf82a8-2c65-45dc-8358-1977923f79b7\">SimpleImputer</label><div class=\"sk-toggleable__content\"><pre>SimpleImputer()</pre></div></div></div><div class=\"sk-item\"><div class=\"sk-estimator sk-toggleable\"><input class=\"sk-toggleable__control sk-hidden--visually\" id=\"2ac12e71-5bc4-459c-9690-a79cae5619b4\" type=\"checkbox\" ><label class=\"sk-toggleable__label\" for=\"2ac12e71-5bc4-459c-9690-a79cae5619b4\">StandardScaler</label><div class=\"sk-toggleable__content\"><pre>StandardScaler()</pre></div></div></div></div></div></div></div></div></div></div><div class=\"sk-item\"><div class=\"sk-estimator sk-toggleable\"><input class=\"sk-toggleable__control sk-hidden--visually\" id=\"3245815c-b197-414f-b0a1-85d768d0ce90\" type=\"checkbox\" ><label class=\"sk-toggleable__label\" for=\"3245815c-b197-414f-b0a1-85d768d0ce90\">OneClassSVM</label><div class=\"sk-toggleable__content\"><pre>OneClassSVM(gamma=0.02, nu=0.09)</pre></div></div></div></div></div></div></div>"
      ],
      "text/plain": [
       "Pipeline(steps=[('preprocess',\n",
       "                 ColumnTransformer(transformers=[('categorical_preprocessing',\n",
       "                                                  Pipeline(steps=[('ohe',\n",
       "                                                                   OneHotEncoder())]),\n",
       "                                                  ['Site', 'flow', 'Device']),\n",
       "                                                 ('numerical_preprocessing',\n",
       "                                                  Pipeline(steps=[('imputation',\n",
       "                                                                   SimpleImputer()),\n",
       "                                                                  ('scaler',\n",
       "                                                                   StandardScaler())]),\n",
       "                                                  ['Loading', 'Shipping',\n",
       "                                                   'Payments', 'Review',\n",
       "                                                   'Congrats', 'TOTAL'])])),\n",
       "                ('clf', OneClassSVM(gamma=0.02, nu=0.09))])"
      ]
     },
     "execution_count": 14,
     "metadata": {},
     "output_type": "execute_result"
    }
   ],
   "source": [
    "# define individual transformers in a pipeline\n",
    "categorical_preprocessing = Pipeline([\n",
    "    ('ohe', OneHotEncoder())\n",
    "])\n",
    "numerical_preprocessing = Pipeline([\n",
    "    ('imputation', SimpleImputer()),\n",
    "    ('scaler', StandardScaler())\n",
    "])\n",
    "\n",
    "# define which transformer applies to which columns\n",
    "preprocess = ColumnTransformer([\n",
    "    ('categorical_preprocessing', categorical_preprocessing, [\"Site\", \"flow\",\"Device\"]),\n",
    "    ('numerical_preprocessing', numerical_preprocessing, [\"Loading\",\"Shipping\",\"Payments\",\"Review\",\"Congrats\",\"TOTAL\"])\n",
    "])\n",
    "\n",
    "# define clasifier\n",
    "outliers_fraction = 0.09\n",
    "model = OneClassSVM(nu=outliers_fraction, kernel=\"rbf\", gamma=0.02)\n",
    "\n",
    "# create the final pipeline with preprocessing steps and \n",
    "# the final classifier step\n",
    "pipeline = Pipeline([\n",
    "    ('preprocess', preprocess),\n",
    "    ('clf', model )\n",
    "])\n",
    "\n",
    "pipeline"
   ]
  },
  {
   "cell_type": "code",
   "execution_count": 15,
   "metadata": {},
   "outputs": [
    {
     "data": {
      "text/plain": [
       "5515   -1\n",
       "7355   -1\n",
       "6043    1\n",
       "5627   -1\n",
       "6811   -1\n",
       "       ..\n",
       "3659   -1\n",
       "2235   -1\n",
       "411    -1\n",
       "5531   -1\n",
       "6603   -1\n",
       "Name: class, Length: 74, dtype: int64"
      ]
     },
     "metadata": {},
     "output_type": "display_data"
    },
    {
     "data": {
      "text/plain": [
       "array([ 1, -1,  1,  1, -1,  1,  1,  1,  1,  1, -1,  1, -1, -1,  1,  1,  1,\n",
       "        1,  1,  1,  1,  1,  1,  1,  1,  1,  1,  1,  1,  1,  1, -1,  1,  1,\n",
       "       -1,  1,  1, -1,  1,  1,  1,  1,  1, -1,  1,  1,  1,  1,  1,  1,  1,\n",
       "        1,  1,  1,  1,  1,  1,  1,  1,  1,  1,  1,  1,  1,  1,  1,  1,  1,\n",
       "        1,  1,  1,  1,  1,  1])"
      ]
     },
     "metadata": {},
     "output_type": "display_data"
    },
    {
     "name": "stdout",
     "output_type": "stream",
     "text": [
      "[[ 7 58]\n",
      " [ 2  7]]\n"
     ]
    },
    {
     "data": {
      "image/png": "[encoded data removed]",
      "text/plain": [
       "<Figure size 432x432 with 2 Axes>"
      ]
     },
     "metadata": {},
     "output_type": "display_data"
    },
    {
     "name": "stdout",
     "output_type": "stream",
     "text": [
      "MAE                                         : 1.622\n",
      "Precision                                   : 0.108\n",
      "Recall                                      : 0.778\n",
      "F1-Score                                    : 0.189\n",
      "\n",
      "Precision Recall F1-Score Support Per Class : \n",
      " (array([0.77777778, 0.10769231]), array([0.10769231, 0.77777778]), array([0.18918919, 0.18918919]), array([65,  9]))\n",
      "\n",
      "Classification Report                       : \n",
      "              precision    recall  f1-score   support\n",
      "\n",
      "          -1       0.78      0.11      0.19        65\n",
      "           1       0.11      0.78      0.19         9\n",
      "\n",
      "    accuracy                           0.19        74\n",
      "   macro avg       0.44      0.44      0.19        74\n",
      "weighted avg       0.70      0.19      0.19        74\n",
      "\n"
     ]
    }
   ],
   "source": [
    "#Realizamos el ajuste\n",
    "pipeline.fit(X_train,y_train)\n",
    "\n",
    "# evaluate the model against test data\n",
    "yhat = pipeline.predict(X_test)\n",
    "\n",
    "display(y_test)\n",
    "display(yhat)\n",
    "\n",
    "# evaluate predictions\n",
    "confusion_matrix_plot(y_test, yhat)\n",
    "print_report( y_test, yhat )\n",
    "#\n"
   ]
  },
  {
   "cell_type": "code",
   "execution_count": 16,
   "metadata": {},
   "outputs": [
    {
     "data": {
      "image/png": "[encoded data removed]",
      "text/plain": [
       "<Figure size 1152x288 with 1 Axes>"
      ]
     },
     "metadata": {
      "needs_background": "light"
     },
     "output_type": "display_data"
    }
   ],
   "source": [
    "\n",
    "fig, ax = plt.subplots(figsize=(16,4))\n",
    "a = result.loc[ result[\"anomaly\"] == 1 , [\"Fecha\" , \"TOTAL\"] ] #anomaly\n",
    "\n",
    "ax.plot(result[\"Fecha\"], result[\"TOTAL\"], color='blue')\n",
    "ax.scatter(a[\"Fecha\"],a[\"TOTAL\"], color='red')\n",
    "\n",
    "plt.show();"
   ]
  },
  {
   "cell_type": "code",
   "execution_count": null,
   "metadata": {},
   "outputs": [],
   "source": []
  },
  {
   "cell_type": "code",
   "execution_count": null,
   "metadata": {},
   "outputs": [],
   "source": []
  }
 ],
 "metadata": {
  "kernelspec": {
   "display_name": "Python [conda env:ddatos21_ment_tp3] *",
   "language": "python",
   "name": "conda-env-ddatos21_ment_tp3-py"
  },
  "language_info": {
   "codemirror_mode": {
    "name": "ipython",
    "version": 3
   },
   "file_extension": ".py",
   "mimetype": "text/x-python",
   "name": "python",
   "nbconvert_exporter": "python",
   "pygments_lexer": "ipython3",
   "version": "3.7.9"
  }
 },
 "nbformat": 4,
 "nbformat_minor": 4
}
