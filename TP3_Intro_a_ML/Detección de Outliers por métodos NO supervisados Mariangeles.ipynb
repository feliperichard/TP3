{
 "cells": [
  {
   "cell_type": "code",
   "execution_count": 1,
   "metadata": {},
   "outputs": [
    {
     "name": "stdout",
     "output_type": "stream",
     "text": [
      "pandas      1.1.3 \n",
      "numpy       1.19.1\n",
      "plotly      1.1.3 \n",
      "matplotlib  3.3.1 \n",
      "adtk        0.6.2 \n"
     ]
    },
    {
     "name": "stderr",
     "output_type": "stream",
     "text": [
      "C:\\Users\\Walter Cassino\\anaconda3\\envs\\ddatos21_ment_tp3\\lib\\site-packages\\statsmodels\\tools\\_testing.py:19: FutureWarning: pandas.util.testing is deprecated. Use the functions in the public API at pandas.testing instead.\n",
      "  import pandas.util.testing as tm\n"
     ]
    },
    {
     "name": "stdout",
     "output_type": "stream",
     "text": [
      "sklearn     0.23.2\n"
     ]
    }
   ],
   "source": [
    "import pandas as pd\n",
    "\n",
    "print(f\"{'pandas':<11} {pd.__version__:<6}\")\n",
    "\n",
    "import numpy as np\n",
    "\n",
    "print(f\"{'numpy':<11} {np.__version__:<6}\")\n",
    "\n",
    "import plotly\n",
    "\n",
    "print(f\"{'plotly':<11} {pd.__version__:<6}\")\n",
    "\n",
    "import matplotlib\n",
    "import matplotlib.pyplot as plt\n",
    "print(f\"{'matplotlib':<11} {matplotlib.__version__:<6}\")\n",
    "\n",
    "import itertools\n",
    "\n",
    "from adtk import __version__ as adtk_version\n",
    "\n",
    "print(f\"{'adtk':<11} {adtk_version:<6}\")\n",
    "\n",
    "from adtk.data import validate_series\n",
    "from adtk.visualization import plot\n",
    "from adtk.detector import ThresholdAD\n",
    "from adtk.detector import QuantileAD\n",
    "from adtk.detector import InterQuartileRangeAD\n",
    "from adtk.detector import PersistAD\n",
    "from adtk.detector import LevelShiftAD\n",
    "from adtk.detector import VolatilityShiftAD\n",
    "from adtk.detector import SeasonalAD\n",
    "from adtk.detector import AutoregressionAD\n",
    "from adtk.detector import MinClusterDetector\n",
    "from adtk.detector import OutlierDetector\n",
    "from adtk.detector import PcaAD\n",
    "from adtk.detector import GeneralizedESDTestAD\n",
    "\n",
    "from adtk.data import validate_series\n",
    "from adtk.visualization import plot\n",
    "\n",
    "from sklearn import __version__ as sklearn_version\n",
    "\n",
    "print(f\"{'sklearn':<11} {sklearn_version:<6}\")\n",
    "from sklearn.neighbors import LocalOutlierFactor\n",
    "from sklearn.ensemble import IsolationForest\n",
    "from sklearn.covariance import EllipticEnvelope\n",
    "from sklearn.cluster import KMeans\n",
    "\n",
    "from io import StringIO\n",
    "#from support.convertion import load_conversion_from\n",
    "#from support.parsers import p2f\n",
    "#from support.parsers import d2d\n",
    "from datetime import datetime, timedelta\n",
    "from typing import List, Dict\n",
    "\n",
    "# plt.rcParams[\"figure.figsize\"] = [14, 10]\n",
    "# plt.style.use(\"ggplot\")\n",
    "\n",
    "%matplotlib inline\n",
    "%load_ext autoreload\n",
    "%autoreload 2"
   ]
  },
  {
   "cell_type": "code",
   "execution_count": 2,
   "metadata": {},
   "outputs": [
    {
     "data": {
      "text/plain": [
       "<AxesSubplot:title={'center':'Dist'}>"
      ]
     },
     "execution_count": 2,
     "metadata": {},
     "output_type": "execute_result"
    },
    {
     "data": {
      "image/png": "[encoded data removed]",
      "text/plain": [
       "<Figure size 432x288 with 1 Axes>"
      ]
     },
     "metadata": {
      "needs_background": "light"
     },
     "output_type": "display_data"
    }
   ],
   "source": [
    "df0: pd.DataFrame = pd.read_csv(\n",
    "    \"datasets/traffic_AR_CL_UY+features+column_classifier.csv\",\n",
    "    parse_dates=[\"Fecha\"]\n",
    ")\n",
    "\n",
    "df0[\"Fecha\"] = pd.to_datetime(df0[\"Fecha\"], utc=True)\n",
    "\n",
    "df0[\"anomaly\"].value_counts().plot(kind='bar', \n",
    "                                     title='Dist')"
   ]
  },
  {
   "cell_type": "code",
   "execution_count": 3,
   "metadata": {},
   "outputs": [],
   "source": [
    "import plotly.graph_objects as go\n",
    "\n",
    "\n",
    "def anomaly_plot(\n",
    "    ts=None, anomaly=None, anomaly_color: str = \"red\", mode: str = \"markers\", title=\"\"\n",
    "):\n",
    "\n",
    "    df: pd.DataFrame = None\n",
    "    anomalies: pd.DataFrame = None\n",
    "\n",
    "    if ts is not None:\n",
    "        # type check for ts\n",
    "        if isinstance(ts, pd.Series):\n",
    "            if ts.name is None:\n",
    "                df = ts.to_frame(\"Time Series\")\n",
    "            else:\n",
    "                df = ts.to_frame()\n",
    "        elif isinstance(ts, pd.DataFrame):\n",
    "            df = ts.copy()\n",
    "        else:\n",
    "            raise TypeError(\"Argument `ts` must be a pandas Series or DataFrame.\")\n",
    "\n",
    "        # check series index\n",
    "        if not isinstance(df.index, pd.DatetimeIndex):\n",
    "            raise TypeError(\n",
    "                \"Index of the input time series must be a pandas \"\n",
    "                \"DatetimeIndex object.\"\n",
    "            )\n",
    "\n",
    "        # check duplicated column names\n",
    "        if df.columns.duplicated().any():\n",
    "            raise ValueError(\"Input DataFrame must have unique column names.\")\n",
    "\n",
    "    else:  # no time series, just event\n",
    "        df = pd.DataFrame(dtype=int)\n",
    "\n",
    "    # plot anomaly\n",
    "    if anomaly is not None:\n",
    "        pass\n",
    "    else:\n",
    "        raise ValueError(\"Anomaly values should be provided\")\n",
    "\n",
    "    if isinstance(anomaly, pd.Series):\n",
    "\n",
    "        anomaly: pd.Series = anomaly\n",
    "        idx: pd.DatetimeIndex = anomaly[anomaly == True].index\n",
    "\n",
    "        if anomaly.name in df.columns:\n",
    "            anomalies: pd.DataFrame = df.loc[idx][anomaly.name].to_frame()\n",
    "        else:\n",
    "            anomalies: pd.DataFrame = df.loc[idx]\n",
    "    elif isinstance(anomaly, pd.DataFrame):\n",
    "        anomaly: pd.DataFrame = anomaly\n",
    "        anomalies: pd.DataFrame = pd.DataFrame(columns=df.columns)\n",
    "        for anomaly_name in anomaly.columns:\n",
    "            if anomaly_name in df.columns:\n",
    "                anomalies = pd.concat(anomalies, df.loc[anomaly[anomaly_name] == True])\n",
    "\n",
    "    fig = go.Figure()\n",
    "\n",
    "    for column_name in df.columns:\n",
    "        # Add scatter trace for line\n",
    "        fig.add_trace(\n",
    "            go.Scatter(x=df.index, y=df[column_name], mode=\"lines\", name=column_name)\n",
    "        )\n",
    "    for column_name in anomalies.columns:\n",
    "        fig.add_trace(\n",
    "            go.Scatter(\n",
    "                x=anomalies.index,\n",
    "                y=anomalies[column_name],\n",
    "                mode=\"markers\",\n",
    "                marker=dict(\n",
    "                    color=\"LightSkyBlue\",\n",
    "                    size=6,\n",
    "                    opacity=0.5,\n",
    "                    line=dict(color=\"red\", width=2),\n",
    "                ),\n",
    "                showlegend=False,\n",
    "            ),\n",
    "        )\n",
    "    fig.update_layout(\n",
    "        title={\"text\": title,}\n",
    "    )\n",
    "    fig.show()"
   ]
  },
  {
   "cell_type": "code",
   "execution_count": 4,
   "metadata": {},
   "outputs": [],
   "source": [
    "# Model Evaluation\n",
    "from sklearn.metrics import confusion_matrix\n",
    "\n",
    "def confusion_matrix_plot( Y_test, Y_preds ):\n",
    "\n",
    "    conf_mat = confusion_matrix(Y_test, Y_preds)\n",
    "    print(conf_mat)\n",
    "    with plt.style.context(('ggplot', 'seaborn')):\n",
    "        fig = plt.figure(figsize=(6,6), num=1)\n",
    "        plt.imshow(conf_mat, interpolation='nearest',cmap= plt.cm.Blues )\n",
    "        plt.xticks([0,1],[0,1])\n",
    "        plt.yticks([0,1],[0,1])\n",
    "        plt.xlabel('Predicted Label')\n",
    "        plt.ylabel('Actual Label')\n",
    "        for i, j in itertools.product(range(conf_mat.shape[0]), range(conf_mat.shape[1])):\n",
    "                    plt.text(j, i,conf_mat[i, j], horizontalalignment=\"center\",color=\"red\")\n",
    "        plt.grid(None)\n",
    "        plt.title('Confusion Matrix')\n",
    "        plt.colorbar()\n",
    "        plt.show()\n",
    "\n"
   ]
  },
  {
   "cell_type": "code",
   "execution_count": 5,
   "metadata": {},
   "outputs": [],
   "source": [
    "from sklearn.metrics import classification_report, precision_score, recall_score, f1_score, precision_recall_fscore_support\n",
    "\n",
    "def print_report( Y_test, Y_preds ):\n",
    "    print('Precision                                   : %.3f'%precision_score(Y_test, Y_preds))\n",
    "    print('Recall                                      : %.3f'%recall_score(Y_test, Y_preds))\n",
    "    print('F1-Score                                    : %.3f'%f1_score(Y_test, Y_preds))\n",
    "    print('\\nPrecision Recall F1-Score Support Per Class : \\n',precision_recall_fscore_support(Y_test, Y_preds))\n",
    "    print('\\nClassification Report                       : ')\n",
    "    print(classification_report(Y_test, Y_preds))"
   ]
  },
  {
   "cell_type": "code",
   "execution_count": 23,
   "metadata": {
    "scrolled": false
   },
   "outputs": [
    {
     "name": "stdout",
     "output_type": "stream",
     "text": [
      "['MLA']\n",
      "['direct']\n",
      "['Android']\n"
     ]
    },
    {
     "data": {
      "application/vnd.plotly.v1+json": {
       "config": {
        "plotlyServerURL": "https://plot.ly"
       },
       "data": [
        {
         "mode": "lines",
         "name": "TOTAL",
         "type": "scatter",
         "x": [
          "2019-03-01T00:00:00+00:00",
          "2019-03-02T00:00:00+00:00",
          "2019-03-03T00:00:00+00:00",
          "2019-03-04T00:00:00+00:00",
          "2019-03-05T00:00:00+00:00",
          "2019-03-06T00:00:00+00:00",
          "2019-03-07T00:00:00+00:00",
          "2019-03-08T00:00:00+00:00",
          "2019-03-09T00:00:00+00:00",
          "2019-03-10T00:00:00+00:00",
          "2019-03-11T00:00:00+00:00",
          "2019-03-12T00:00:00+00:00",
          "2019-03-13T00:00:00+00:00",
          "2019-03-14T00:00:00+00:00",
          "2019-03-15T00:00:00+00:00",
          "2019-03-16T00:00:00+00:00",
          "2019-03-17T00:00:00+00:00",
          "2019-03-18T00:00:00+00:00",
          "2019-03-19T00:00:00+00:00",
          "2019-03-20T00:00:00+00:00",
          "2019-03-21T00:00:00+00:00",
          "2019-03-22T00:00:00+00:00",
          "2019-03-23T00:00:00+00:00",
          "2019-03-24T00:00:00+00:00",
          "2019-03-25T00:00:00+00:00",
          "2019-03-26T00:00:00+00:00",
          "2019-03-27T00:00:00+00:00",
          "2019-03-28T00:00:00+00:00",
          "2019-03-29T00:00:00+00:00",
          "2019-03-30T00:00:00+00:00",
          "2019-03-31T00:00:00+00:00",
          "2019-04-01T00:00:00+00:00",
          "2019-04-02T00:00:00+00:00",
          "2019-04-03T00:00:00+00:00",
          "2019-04-04T00:00:00+00:00",
          "2019-04-05T00:00:00+00:00",
          "2019-04-06T00:00:00+00:00",
          "2019-04-07T00:00:00+00:00",
          "2019-04-08T00:00:00+00:00",
          "2019-04-09T00:00:00+00:00",
          "2019-04-10T00:00:00+00:00",
          "2019-04-11T00:00:00+00:00",
          "2019-04-12T00:00:00+00:00",
          "2019-04-13T00:00:00+00:00",
          "2019-04-14T00:00:00+00:00",
          "2019-04-15T00:00:00+00:00",
          "2019-04-16T00:00:00+00:00",
          "2019-04-17T00:00:00+00:00",
          "2019-04-18T00:00:00+00:00",
          "2019-04-19T00:00:00+00:00",
          "2019-04-20T00:00:00+00:00",
          "2019-04-21T00:00:00+00:00",
          "2019-04-22T00:00:00+00:00",
          "2019-04-23T00:00:00+00:00",
          "2019-04-24T00:00:00+00:00",
          "2019-04-25T00:00:00+00:00",
          "2019-04-26T00:00:00+00:00",
          "2019-04-27T00:00:00+00:00",
          "2019-04-28T00:00:00+00:00",
          "2019-04-29T00:00:00+00:00",
          "2019-04-30T00:00:00+00:00",
          "2019-05-01T00:00:00+00:00",
          "2019-05-02T00:00:00+00:00",
          "2019-05-03T00:00:00+00:00",
          "2019-05-04T00:00:00+00:00",
          "2019-05-05T00:00:00+00:00",
          "2019-05-06T00:00:00+00:00",
          "2019-05-07T00:00:00+00:00",
          "2019-05-08T00:00:00+00:00",
          "2019-05-09T00:00:00+00:00",
          "2019-05-10T00:00:00+00:00",
          "2019-05-11T00:00:00+00:00",
          "2019-05-12T00:00:00+00:00",
          "2019-05-13T00:00:00+00:00",
          "2019-05-14T00:00:00+00:00",
          "2019-05-15T00:00:00+00:00",
          "2019-05-16T00:00:00+00:00",
          "2019-05-17T00:00:00+00:00",
          "2019-05-18T00:00:00+00:00",
          "2019-05-19T00:00:00+00:00",
          "2019-05-20T00:00:00+00:00",
          "2019-05-21T00:00:00+00:00",
          "2019-05-22T00:00:00+00:00",
          "2019-05-23T00:00:00+00:00",
          "2019-05-24T00:00:00+00:00",
          "2019-05-25T00:00:00+00:00",
          "2019-05-26T00:00:00+00:00",
          "2019-05-27T00:00:00+00:00",
          "2019-05-28T00:00:00+00:00",
          "2019-05-29T00:00:00+00:00",
          "2019-05-30T00:00:00+00:00",
          "2019-05-31T00:00:00+00:00",
          "2019-06-01T00:00:00+00:00",
          "2019-06-02T00:00:00+00:00",
          "2019-06-03T00:00:00+00:00",
          "2019-06-04T00:00:00+00:00",
          "2019-06-05T00:00:00+00:00",
          "2019-06-06T00:00:00+00:00",
          "2019-06-07T00:00:00+00:00",
          "2019-06-08T00:00:00+00:00",
          "2019-06-09T00:00:00+00:00",
          "2019-06-10T00:00:00+00:00",
          "2019-06-11T00:00:00+00:00",
          "2019-06-12T00:00:00+00:00",
          "2019-06-13T00:00:00+00:00",
          "2019-06-14T00:00:00+00:00",
          "2019-06-15T00:00:00+00:00",
          "2019-06-16T00:00:00+00:00",
          "2019-06-17T00:00:00+00:00",
          "2019-06-18T00:00:00+00:00",
          "2019-06-19T00:00:00+00:00",
          "2019-06-20T00:00:00+00:00",
          "2019-06-21T00:00:00+00:00",
          "2019-06-22T00:00:00+00:00",
          "2019-06-23T00:00:00+00:00",
          "2019-06-24T00:00:00+00:00",
          "2019-06-25T00:00:00+00:00",
          "2019-06-26T00:00:00+00:00",
          "2019-06-27T00:00:00+00:00",
          "2019-06-28T00:00:00+00:00",
          "2019-06-29T00:00:00+00:00",
          "2019-06-30T00:00:00+00:00",
          "2019-07-01T00:00:00+00:00",
          "2019-07-02T00:00:00+00:00",
          "2019-07-03T00:00:00+00:00",
          "2019-07-04T00:00:00+00:00",
          "2019-07-05T00:00:00+00:00",
          "2019-07-06T00:00:00+00:00",
          "2019-07-07T00:00:00+00:00",
          "2019-07-08T00:00:00+00:00",
          "2019-07-09T00:00:00+00:00",
          "2019-07-10T00:00:00+00:00",
          "2019-07-11T00:00:00+00:00",
          "2019-07-12T00:00:00+00:00",
          "2019-07-13T00:00:00+00:00",
          "2019-07-14T00:00:00+00:00",
          "2019-07-15T00:00:00+00:00",
          "2019-07-16T00:00:00+00:00",
          "2019-07-17T00:00:00+00:00",
          "2019-07-18T00:00:00+00:00",
          "2019-07-19T00:00:00+00:00",
          "2019-07-20T00:00:00+00:00",
          "2019-07-21T00:00:00+00:00",
          "2019-07-22T00:00:00+00:00",
          "2019-07-23T00:00:00+00:00",
          "2019-07-24T00:00:00+00:00",
          "2019-07-25T00:00:00+00:00",
          "2019-07-26T00:00:00+00:00",
          "2019-07-27T00:00:00+00:00",
          "2019-07-28T00:00:00+00:00",
          "2019-07-29T00:00:00+00:00",
          "2019-07-30T00:00:00+00:00",
          "2019-07-31T00:00:00+00:00",
          "2019-08-01T00:00:00+00:00",
          "2019-08-02T00:00:00+00:00",
          "2019-08-03T00:00:00+00:00",
          "2019-08-04T00:00:00+00:00",
          "2019-08-05T00:00:00+00:00",
          "2019-08-06T00:00:00+00:00",
          "2019-08-07T00:00:00+00:00",
          "2019-08-08T00:00:00+00:00",
          "2019-08-09T00:00:00+00:00",
          "2019-08-10T00:00:00+00:00",
          "2019-08-11T00:00:00+00:00",
          "2019-08-12T00:00:00+00:00",
          "2019-08-13T00:00:00+00:00",
          "2019-08-14T00:00:00+00:00",
          "2019-08-15T00:00:00+00:00",
          "2019-08-16T00:00:00+00:00",
          "2019-08-17T00:00:00+00:00",
          "2019-08-18T00:00:00+00:00",
          "2019-08-19T00:00:00+00:00",
          "2019-08-20T00:00:00+00:00",
          "2019-08-21T00:00:00+00:00",
          "2019-08-22T00:00:00+00:00",
          "2019-08-23T00:00:00+00:00",
          "2019-08-24T00:00:00+00:00",
          "2019-08-25T00:00:00+00:00",
          "2019-08-26T00:00:00+00:00",
          "2019-08-27T00:00:00+00:00",
          "2019-08-28T00:00:00+00:00",
          "2019-08-29T00:00:00+00:00",
          "2019-08-30T00:00:00+00:00",
          "2019-08-31T00:00:00+00:00",
          "2019-09-01T00:00:00+00:00",
          "2019-09-02T00:00:00+00:00",
          "2019-09-03T00:00:00+00:00",
          "2019-09-04T00:00:00+00:00",
          "2019-09-05T00:00:00+00:00",
          "2019-09-06T00:00:00+00:00",
          "2019-09-07T00:00:00+00:00",
          "2019-09-08T00:00:00+00:00",
          "2019-09-09T00:00:00+00:00",
          "2019-09-10T00:00:00+00:00",
          "2019-09-11T00:00:00+00:00",
          "2019-09-12T00:00:00+00:00",
          "2019-09-13T00:00:00+00:00",
          "2019-09-14T00:00:00+00:00",
          "2019-09-15T00:00:00+00:00",
          "2019-09-16T00:00:00+00:00",
          "2019-09-17T00:00:00+00:00",
          "2019-09-18T00:00:00+00:00",
          "2019-09-19T00:00:00+00:00",
          "2019-09-20T00:00:00+00:00",
          "2019-09-21T00:00:00+00:00",
          "2019-09-22T00:00:00+00:00",
          "2019-09-23T00:00:00+00:00",
          "2019-09-24T00:00:00+00:00",
          "2019-09-25T00:00:00+00:00",
          "2019-09-26T00:00:00+00:00",
          "2019-09-27T00:00:00+00:00",
          "2019-09-28T00:00:00+00:00",
          "2019-09-29T00:00:00+00:00",
          "2019-09-30T00:00:00+00:00",
          "2019-10-01T00:00:00+00:00",
          "2019-10-02T00:00:00+00:00",
          "2019-10-03T00:00:00+00:00",
          "2019-10-04T00:00:00+00:00",
          "2019-10-05T00:00:00+00:00",
          "2019-10-06T00:00:00+00:00",
          "2019-10-07T00:00:00+00:00",
          "2019-10-08T00:00:00+00:00",
          "2019-10-09T00:00:00+00:00",
          "2019-10-10T00:00:00+00:00",
          "2019-10-11T00:00:00+00:00",
          "2019-10-12T00:00:00+00:00",
          "2019-10-13T00:00:00+00:00",
          "2019-10-14T00:00:00+00:00",
          "2019-10-15T00:00:00+00:00",
          "2019-10-16T00:00:00+00:00",
          "2019-10-17T00:00:00+00:00",
          "2019-10-18T00:00:00+00:00",
          "2019-10-19T00:00:00+00:00",
          "2019-10-20T00:00:00+00:00",
          "2019-10-21T00:00:00+00:00",
          "2019-10-22T00:00:00+00:00",
          "2019-10-23T00:00:00+00:00",
          "2019-10-24T00:00:00+00:00",
          "2019-10-25T00:00:00+00:00",
          "2019-10-26T00:00:00+00:00",
          "2019-10-27T00:00:00+00:00",
          "2019-10-28T00:00:00+00:00",
          "2019-10-29T00:00:00+00:00",
          "2019-10-30T00:00:00+00:00",
          "2019-10-31T00:00:00+00:00",
          "2019-11-01T00:00:00+00:00",
          "2019-11-02T00:00:00+00:00",
          "2019-11-03T00:00:00+00:00",
          "2019-11-04T00:00:00+00:00",
          "2019-11-05T00:00:00+00:00",
          "2019-11-06T00:00:00+00:00",
          "2019-11-07T00:00:00+00:00",
          "2019-11-08T00:00:00+00:00",
          "2019-11-09T00:00:00+00:00",
          "2019-11-10T00:00:00+00:00",
          "2019-11-11T00:00:00+00:00",
          "2019-11-12T00:00:00+00:00",
          "2019-11-13T00:00:00+00:00",
          "2019-11-14T00:00:00+00:00",
          "2019-11-15T00:00:00+00:00",
          "2019-11-16T00:00:00+00:00",
          "2019-11-17T00:00:00+00:00",
          "2019-11-18T00:00:00+00:00",
          "2019-11-19T00:00:00+00:00",
          "2019-11-20T00:00:00+00:00",
          "2019-11-21T00:00:00+00:00",
          "2019-11-22T00:00:00+00:00",
          "2019-11-23T00:00:00+00:00",
          "2019-11-24T00:00:00+00:00",
          "2019-11-25T00:00:00+00:00",
          "2019-11-26T00:00:00+00:00",
          "2019-11-27T00:00:00+00:00",
          "2019-11-28T00:00:00+00:00",
          "2019-11-29T00:00:00+00:00",
          "2019-11-30T00:00:00+00:00",
          "2019-12-01T00:00:00+00:00",
          "2019-12-02T00:00:00+00:00",
          "2019-12-03T00:00:00+00:00",
          "2019-12-04T00:00:00+00:00",
          "2019-12-05T00:00:00+00:00",
          "2019-12-06T00:00:00+00:00",
          "2019-12-07T00:00:00+00:00",
          "2019-12-08T00:00:00+00:00",
          "2019-12-09T00:00:00+00:00",
          "2019-12-10T00:00:00+00:00",
          "2019-12-11T00:00:00+00:00",
          "2019-12-12T00:00:00+00:00",
          "2019-12-13T00:00:00+00:00",
          "2019-12-14T00:00:00+00:00",
          "2019-12-15T00:00:00+00:00",
          "2019-12-16T00:00:00+00:00",
          "2019-12-17T00:00:00+00:00",
          "2019-12-18T00:00:00+00:00",
          "2019-12-19T00:00:00+00:00",
          "2019-12-20T00:00:00+00:00",
          "2019-12-21T00:00:00+00:00",
          "2019-12-22T00:00:00+00:00",
          "2019-12-23T00:00:00+00:00",
          "2019-12-24T00:00:00+00:00",
          "2019-12-25T00:00:00+00:00",
          "2019-12-26T00:00:00+00:00",
          "2019-12-27T00:00:00+00:00",
          "2019-12-28T00:00:00+00:00",
          "2019-12-29T00:00:00+00:00",
          "2019-12-30T00:00:00+00:00",
          "2019-12-31T00:00:00+00:00",
          "2020-01-01T00:00:00+00:00",
          "2020-01-02T00:00:00+00:00",
          "2020-01-03T00:00:00+00:00",
          "2020-01-04T00:00:00+00:00",
          "2020-01-05T00:00:00+00:00",
          "2020-01-06T00:00:00+00:00",
          "2020-01-07T00:00:00+00:00",
          "2020-01-08T00:00:00+00:00",
          "2020-01-09T00:00:00+00:00",
          "2020-01-10T00:00:00+00:00",
          "2020-01-11T00:00:00+00:00",
          "2020-01-12T00:00:00+00:00",
          "2020-01-13T00:00:00+00:00",
          "2020-01-14T00:00:00+00:00",
          "2020-01-15T00:00:00+00:00",
          "2020-01-16T00:00:00+00:00",
          "2020-01-17T00:00:00+00:00",
          "2020-01-18T00:00:00+00:00",
          "2020-01-19T00:00:00+00:00",
          "2020-01-20T00:00:00+00:00",
          "2020-01-21T00:00:00+00:00",
          "2020-01-22T00:00:00+00:00",
          "2020-01-23T00:00:00+00:00",
          "2020-01-24T00:00:00+00:00",
          "2020-01-25T00:00:00+00:00",
          "2020-01-26T00:00:00+00:00",
          "2020-01-27T00:00:00+00:00",
          "2020-01-28T00:00:00+00:00",
          "2020-01-29T00:00:00+00:00",
          "2020-01-30T00:00:00+00:00",
          "2020-01-31T00:00:00+00:00",
          "2020-02-01T00:00:00+00:00",
          "2020-02-02T00:00:00+00:00",
          "2020-02-03T00:00:00+00:00",
          "2020-02-04T00:00:00+00:00",
          "2020-02-05T00:00:00+00:00",
          "2020-02-06T00:00:00+00:00",
          "2020-02-07T00:00:00+00:00",
          "2020-02-08T00:00:00+00:00",
          "2020-02-09T00:00:00+00:00",
          "2020-02-10T00:00:00+00:00",
          "2020-02-11T00:00:00+00:00",
          "2020-02-12T00:00:00+00:00",
          "2020-02-13T00:00:00+00:00",
          "2020-02-14T00:00:00+00:00",
          "2020-02-15T00:00:00+00:00",
          "2020-02-16T00:00:00+00:00",
          "2020-02-17T00:00:00+00:00",
          "2020-02-18T00:00:00+00:00",
          "2020-02-19T00:00:00+00:00",
          "2020-02-20T00:00:00+00:00",
          "2020-02-21T00:00:00+00:00",
          "2020-02-22T00:00:00+00:00",
          "2020-02-23T00:00:00+00:00",
          "2020-02-24T00:00:00+00:00",
          "2020-02-25T00:00:00+00:00",
          "2020-02-26T00:00:00+00:00",
          "2020-02-27T00:00:00+00:00",
          "2020-02-28T00:00:00+00:00",
          "2020-02-29T00:00:00+00:00",
          "2020-03-01T00:00:00+00:00",
          "2020-03-02T00:00:00+00:00",
          "2020-03-03T00:00:00+00:00",
          "2020-03-04T00:00:00+00:00",
          "2020-03-05T00:00:00+00:00",
          "2020-03-06T00:00:00+00:00",
          "2020-03-07T00:00:00+00:00",
          "2020-03-08T00:00:00+00:00",
          "2020-03-09T00:00:00+00:00",
          "2020-03-10T00:00:00+00:00",
          "2020-03-11T00:00:00+00:00",
          "2020-03-12T00:00:00+00:00",
          "2020-03-13T00:00:00+00:00",
          "2020-03-14T00:00:00+00:00",
          "2020-03-15T00:00:00+00:00",
          "2020-03-16T00:00:00+00:00",
          "2020-03-17T00:00:00+00:00",
          "2020-03-18T00:00:00+00:00",
          "2020-03-19T00:00:00+00:00",
          "2020-03-20T00:00:00+00:00",
          "2020-03-21T00:00:00+00:00",
          "2020-03-22T00:00:00+00:00",
          "2020-03-23T00:00:00+00:00",
          "2020-03-24T00:00:00+00:00",
          "2020-03-25T00:00:00+00:00",
          "2020-03-26T00:00:00+00:00",
          "2020-03-27T00:00:00+00:00",
          "2020-03-28T00:00:00+00:00",
          "2020-03-29T00:00:00+00:00",
          "2020-03-30T00:00:00+00:00",
          "2020-03-31T00:00:00+00:00",
          "2020-04-01T00:00:00+00:00",
          "2020-04-02T00:00:00+00:00",
          "2020-04-03T00:00:00+00:00",
          "2020-04-04T00:00:00+00:00",
          "2020-04-05T00:00:00+00:00",
          "2020-04-06T00:00:00+00:00",
          "2020-04-07T00:00:00+00:00",
          "2020-04-08T00:00:00+00:00",
          "2020-04-09T00:00:00+00:00",
          "2020-04-10T00:00:00+00:00",
          "2020-04-11T00:00:00+00:00",
          "2020-04-12T00:00:00+00:00",
          "2020-04-13T00:00:00+00:00",
          "2020-04-14T00:00:00+00:00",
          "2020-04-15T00:00:00+00:00",
          "2020-04-16T00:00:00+00:00",
          "2020-04-17T00:00:00+00:00",
          "2020-04-18T00:00:00+00:00",
          "2020-04-19T00:00:00+00:00",
          "2020-04-20T00:00:00+00:00",
          "2020-04-21T00:00:00+00:00",
          "2020-04-22T00:00:00+00:00",
          "2020-04-23T00:00:00+00:00",
          "2020-04-24T00:00:00+00:00",
          "2020-04-25T00:00:00+00:00",
          "2020-04-26T00:00:00+00:00",
          "2020-04-27T00:00:00+00:00",
          "2020-04-28T00:00:00+00:00",
          "2020-04-29T00:00:00+00:00",
          "2020-04-30T00:00:00+00:00",
          "2020-05-01T00:00:00+00:00",
          "2020-05-02T00:00:00+00:00",
          "2020-05-03T00:00:00+00:00",
          "2020-05-04T00:00:00+00:00",
          "2020-05-05T00:00:00+00:00",
          "2020-05-06T00:00:00+00:00",
          "2020-05-07T00:00:00+00:00",
          "2020-05-08T00:00:00+00:00",
          "2020-05-09T00:00:00+00:00",
          "2020-05-10T00:00:00+00:00",
          "2020-05-11T00:00:00+00:00",
          "2020-05-12T00:00:00+00:00",
          "2020-05-13T00:00:00+00:00",
          "2020-05-14T00:00:00+00:00",
          "2020-05-15T00:00:00+00:00",
          "2020-05-16T00:00:00+00:00",
          "2020-05-17T00:00:00+00:00",
          "2020-05-18T00:00:00+00:00",
          "2020-05-19T00:00:00+00:00",
          "2020-05-20T00:00:00+00:00",
          "2020-05-21T00:00:00+00:00",
          "2020-05-22T00:00:00+00:00",
          "2020-05-23T00:00:00+00:00",
          "2020-05-24T00:00:00+00:00",
          "2020-05-25T00:00:00+00:00",
          "2020-05-26T00:00:00+00:00",
          "2020-05-27T00:00:00+00:00",
          "2020-05-28T00:00:00+00:00",
          "2020-05-29T00:00:00+00:00",
          "2020-05-30T00:00:00+00:00",
          "2020-05-31T00:00:00+00:00",
          "2020-06-01T00:00:00+00:00",
          "2020-06-02T00:00:00+00:00",
          "2020-06-03T00:00:00+00:00",
          "2020-06-04T00:00:00+00:00",
          "2020-06-05T00:00:00+00:00",
          "2020-06-06T00:00:00+00:00",
          "2020-06-07T00:00:00+00:00",
          "2020-06-08T00:00:00+00:00",
          "2020-06-09T00:00:00+00:00",
          "2020-06-10T00:00:00+00:00",
          "2020-06-11T00:00:00+00:00",
          "2020-06-12T00:00:00+00:00",
          "2020-06-13T00:00:00+00:00",
          "2020-06-14T00:00:00+00:00",
          "2020-06-15T00:00:00+00:00",
          "2020-06-16T00:00:00+00:00",
          "2020-06-17T00:00:00+00:00",
          "2020-06-18T00:00:00+00:00",
          "2020-06-19T00:00:00+00:00",
          "2020-06-20T00:00:00+00:00",
          "2020-06-21T00:00:00+00:00",
          "2020-06-22T00:00:00+00:00",
          "2020-06-23T00:00:00+00:00",
          "2020-06-24T00:00:00+00:00",
          "2020-06-25T00:00:00+00:00",
          "2020-06-26T00:00:00+00:00",
          "2020-06-27T00:00:00+00:00",
          "2020-06-28T00:00:00+00:00",
          "2020-06-29T00:00:00+00:00",
          "2020-06-30T00:00:00+00:00"
         ],
         "y": [
          0.551,
          0.493,
          0.442,
          0.465,
          0.487,
          0.5429999999999999,
          0.539,
          0.551,
          0.498,
          0.477,
          0.534,
          0.529,
          0.532,
          0.529,
          0.517,
          0.464,
          0.45,
          0.537,
          0.527,
          0.524,
          0.521,
          0.46,
          0.491,
          0.461,
          0.541,
          0.537,
          0.531,
          0.531,
          0.5379999999999999,
          0.499,
          0.471,
          0.545,
          0.493,
          0.544,
          0.531,
          0.535,
          0.5,
          0.479,
          0.552,
          0.536,
          0.5329999999999999,
          0.528,
          0.5329999999999999,
          0.486,
          0.456,
          0.5329999999999999,
          0.524,
          0.523,
          0.4920000000000001,
          0.45,
          0.472,
          0.446,
          0.508,
          0.502,
          0.501,
          0.511,
          0.519,
          0.474,
          0.458,
          0.52,
          0.503,
          0.456,
          0.528,
          0.53,
          0.491,
          0.458,
          0.534,
          0.608,
          0.5329999999999999,
          0.519,
          0.521,
          0.483,
          0.4370000000000001,
          0.459,
          0.4920000000000001,
          0.509,
          0.479,
          0.489,
          0.444,
          0.45,
          0.479,
          0.485,
          0.49,
          0.499,
          0.513,
          0.455,
          0.455,
          0.513,
          0.499,
          0.483,
          0.505,
          0.507,
          0.481,
          0.462,
          0.526,
          0.525,
          0.52,
          0.525,
          0.529,
          0.4920000000000001,
          0.468,
          0.5479999999999999,
          0.513,
          0.507,
          0.503,
          0.495,
          0.469,
          0.426,
          0.465,
          0.524,
          0.51,
          0.484,
          0.518,
          0.487,
          0.456,
          0.537,
          0.529,
          0.518,
          0.521,
          0.54,
          0.505,
          0.479,
          0.552,
          0.547,
          0.536,
          0.524,
          0.522,
          0.484,
          0.457,
          0.493,
          0.472,
          0.564,
          0.532,
          0.517,
          0.491,
          0.467,
          0.542,
          0.505,
          0.526,
          0.513,
          0.519,
          0.478,
          0.445,
          0.514,
          0.481,
          0.412,
          0.472,
          0.49,
          0.457,
          0.4370000000000001,
          0.472,
          0.468,
          0.477,
          0.505,
          0.507,
          0.464,
          0.448,
          0.522,
          0.462,
          0.483,
          0.496,
          0.4970000000000001,
          0.462,
          0.456,
          0.561,
          0.534,
          0.521,
          0.511,
          0.504,
          0.477,
          0.4320000000000001,
          0.469,
          0.501,
          0.488,
          0.482,
          0.499,
          0.466,
          0.442,
          0.512,
          0.419,
          0.506,
          0.491,
          0.503,
          0.475,
          0.471,
          0.523,
          0.481,
          0.5,
          0.484,
          0.51,
          0.482,
          0.457,
          0.516,
          0.514,
          0.487,
          0.499,
          0.502,
          0.461,
          0.441,
          0.518,
          0.506,
          0.504,
          0.501,
          0.511,
          0.474,
          0.466,
          0.515,
          0.473,
          0.498,
          0.507,
          0.516,
          0.474,
          0.462,
          0.504,
          0.519,
          0.51,
          0.516,
          0.517,
          0.488,
          0.46,
          0.535,
          0.517,
          0.518,
          0.525,
          0.506,
          0.461,
          0.443,
          0.481,
          0.517,
          0.505,
          0.519,
          0.499,
          0.485,
          0.438,
          0.519,
          0.512,
          0.508,
          0.509,
          0.5429999999999999,
          0.522,
          0.508,
          0.523,
          0.522,
          0.508,
          0.506,
          0.527,
          0.482,
          0.443,
          0.45,
          0.494,
          0.509,
          0.487,
          0.494,
          0.475,
          0.459,
          0.515,
          0.509,
          0.52,
          0.498,
          0.511,
          0.456,
          0.401,
          0.469,
          0.521,
          0.487,
          0.483,
          0.499,
          0.46,
          0.435,
          0.498,
          0.489,
          0.491,
          0.476,
          0.46,
          0.453,
          0.442,
          0.473,
          0.479,
          0.481,
          0.622,
          0.53,
          0.482,
          0.45,
          0.519,
          0.51,
          0.502,
          0.516,
          0.507,
          0.473,
          0.472,
          0.44,
          0.52,
          0.522,
          0.523,
          0.512,
          0.482,
          0.462,
          0.55,
          0.494,
          0.417,
          0.502,
          0.514,
          0.467,
          0.439,
          0.504,
          0.471,
          0.435,
          0.524,
          0.49,
          0.457,
          0.449,
          0.512,
          0.498,
          0.491,
          0.483,
          0.481,
          0.426,
          0.416,
          0.519,
          0.501,
          0.477,
          0.477,
          0.459,
          0.447,
          0.418,
          0.451,
          0.478,
          0.461,
          0.481,
          0.489,
          0.452,
          0.4270000000000001,
          0.505,
          0.482,
          0.477,
          0.481,
          0.483,
          0.461,
          0.44,
          0.515,
          0.505,
          0.4920000000000001,
          0.498,
          0.499,
          0.461,
          0.442,
          0.516,
          0.506,
          0.501,
          0.495,
          0.496,
          0.447,
          0.4270000000000001,
          0.493,
          0.489,
          0.481,
          0.481,
          0.487,
          0.442,
          0.408,
          0.428,
          0.459,
          0.512,
          0.489,
          0.495,
          0.469,
          0.45,
          0.495,
          0.505,
          0.5,
          0.501,
          0.501,
          0.465,
          0.449,
          0.496,
          0.506,
          0.491,
          0.501,
          0.494,
          0.453,
          0.446,
          0.508,
          0.489,
          0.483,
          0.48,
          0.388,
          0.355,
          0.343,
          0.369,
          0.3670000000000001,
          0.392,
          0.394,
          0.416,
          0.399,
          0.395,
          0.429,
          0.458,
          0.465,
          0.471,
          0.473,
          0.464,
          0.447,
          0.477,
          0.482,
          0.474,
          0.476,
          0.468,
          0.475,
          0.468,
          0.501,
          0.503,
          0.496,
          0.494,
          0.489,
          0.469,
          0.46,
          0.495,
          0.498,
          0.488,
          0.488,
          0.495,
          0.472,
          0.462,
          0.501,
          0.489,
          0.496,
          0.491,
          0.489,
          0.49,
          0.472,
          0.511,
          0.514,
          0.505,
          0.525,
          0.528,
          0.488,
          0.473,
          0.499,
          0.505,
          0.503,
          0.506,
          0.49,
          0.471,
          0.463,
          0.504,
          0.502,
          0.495,
          0.493,
          0.4920000000000001,
          0.466,
          0.442,
          0.481,
          0.515,
          0.507,
          0.507,
          0.521,
          0.489,
          0.483,
          0.531,
          0.528,
          0.52,
          0.532,
          0.52,
          0.4920000000000001,
          0.48,
          0.527,
          0.523,
          0.523,
          0.53,
          0.523,
          0.493,
          0.478,
          0.51,
          0.534,
          0.529,
          0.531,
          0.525,
          0.491,
          0.487,
          0.528,
          0.517,
          0.516,
          0.527,
          0.537,
          0.502,
          0.494,
          0.536,
          0.529
         ]
        },
        {
         "marker": {
          "color": "LightSkyBlue",
          "line": {
           "color": "red",
           "width": 2
          },
          "opacity": 0.5,
          "size": 6
         },
         "mode": "markers",
         "showlegend": false,
         "type": "scatter",
         "x": [
          "2019-03-01T00:00:00+00:00",
          "2019-03-08T00:00:00+00:00",
          "2019-04-08T00:00:00+00:00",
          "2019-05-07T00:00:00+00:00",
          "2019-06-10T00:00:00+00:00",
          "2019-07-01T00:00:00+00:00",
          "2019-07-10T00:00:00+00:00",
          "2019-08-12T00:00:00+00:00",
          "2019-11-17T00:00:00+00:00",
          "2019-12-05T00:00:00+00:00",
          "2019-12-23T00:00:00+00:00",
          "2020-03-20T00:00:00+00:00",
          "2020-03-21T00:00:00+00:00",
          "2020-03-22T00:00:00+00:00",
          "2020-03-23T00:00:00+00:00",
          "2020-03-24T00:00:00+00:00",
          "2020-03-25T00:00:00+00:00",
          "2020-03-26T00:00:00+00:00",
          "2020-03-28T00:00:00+00:00",
          "2020-03-29T00:00:00+00:00"
         ],
         "y": [
          0.551,
          0.551,
          0.552,
          0.608,
          0.5479999999999999,
          0.552,
          0.564,
          0.561,
          0.401,
          0.622,
          0.55,
          0.388,
          0.355,
          0.343,
          0.369,
          0.3670000000000001,
          0.392,
          0.394,
          0.399,
          0.395
         ]
        }
       ],
       "layout": {
        "template": {
         "data": {
          "bar": [
           {
            "error_x": {
             "color": "#2a3f5f"
            },
            "error_y": {
             "color": "#2a3f5f"
            },
            "marker": {
             "line": {
              "color": "#E5ECF6",
              "width": 0.5
             }
            },
            "type": "bar"
           }
          ],
          "barpolar": [
           {
            "marker": {
             "line": {
              "color": "#E5ECF6",
              "width": 0.5
             }
            },
            "type": "barpolar"
           }
          ],
          "carpet": [
           {
            "aaxis": {
             "endlinecolor": "#2a3f5f",
             "gridcolor": "white",
             "linecolor": "white",
             "minorgridcolor": "white",
             "startlinecolor": "#2a3f5f"
            },
            "baxis": {
             "endlinecolor": "#2a3f5f",
             "gridcolor": "white",
             "linecolor": "white",
             "minorgridcolor": "white",
             "startlinecolor": "#2a3f5f"
            },
            "type": "carpet"
           }
          ],
          "choropleth": [
           {
            "colorbar": {
             "outlinewidth": 0,
             "ticks": ""
            },
            "type": "choropleth"
           }
          ],
          "contour": [
           {
            "colorbar": {
             "outlinewidth": 0,
             "ticks": ""
            },
            "colorscale": [
             [
              0,
              "#0d0887"
             ],
             [
              0.1111111111111111,
              "#46039f"
             ],
             [
              0.2222222222222222,
              "#7201a8"
             ],
             [
              0.3333333333333333,
              "#9c179e"
             ],
             [
              0.4444444444444444,
              "#bd3786"
             ],
             [
              0.5555555555555556,
              "#d8576b"
             ],
             [
              0.6666666666666666,
              "#ed7953"
             ],
             [
              0.7777777777777778,
              "#fb9f3a"
             ],
             [
              0.8888888888888888,
              "#fdca26"
             ],
             [
              1,
              "#f0f921"
             ]
            ],
            "type": "contour"
           }
          ],
          "contourcarpet": [
           {
            "colorbar": {
             "outlinewidth": 0,
             "ticks": ""
            },
            "type": "contourcarpet"
           }
          ],
          "heatmap": [
           {
            "colorbar": {
             "outlinewidth": 0,
             "ticks": ""
            },
            "colorscale": [
             [
              0,
              "#0d0887"
             ],
             [
              0.1111111111111111,
              "#46039f"
             ],
             [
              0.2222222222222222,
              "#7201a8"
             ],
             [
              0.3333333333333333,
              "#9c179e"
             ],
             [
              0.4444444444444444,
              "#bd3786"
             ],
             [
              0.5555555555555556,
              "#d8576b"
             ],
             [
              0.6666666666666666,
              "#ed7953"
             ],
             [
              0.7777777777777778,
              "#fb9f3a"
             ],
             [
              0.8888888888888888,
              "#fdca26"
             ],
             [
              1,
              "#f0f921"
             ]
            ],
            "type": "heatmap"
           }
          ],
          "heatmapgl": [
           {
            "colorbar": {
             "outlinewidth": 0,
             "ticks": ""
            },
            "colorscale": [
             [
              0,
              "#0d0887"
             ],
             [
              0.1111111111111111,
              "#46039f"
             ],
             [
              0.2222222222222222,
              "#7201a8"
             ],
             [
              0.3333333333333333,
              "#9c179e"
             ],
             [
              0.4444444444444444,
              "#bd3786"
             ],
             [
              0.5555555555555556,
              "#d8576b"
             ],
             [
              0.6666666666666666,
              "#ed7953"
             ],
             [
              0.7777777777777778,
              "#fb9f3a"
             ],
             [
              0.8888888888888888,
              "#fdca26"
             ],
             [
              1,
              "#f0f921"
             ]
            ],
            "type": "heatmapgl"
           }
          ],
          "histogram": [
           {
            "marker": {
             "colorbar": {
              "outlinewidth": 0,
              "ticks": ""
             }
            },
            "type": "histogram"
           }
          ],
          "histogram2d": [
           {
            "colorbar": {
             "outlinewidth": 0,
             "ticks": ""
            },
            "colorscale": [
             [
              0,
              "#0d0887"
             ],
             [
              0.1111111111111111,
              "#46039f"
             ],
             [
              0.2222222222222222,
              "#7201a8"
             ],
             [
              0.3333333333333333,
              "#9c179e"
             ],
             [
              0.4444444444444444,
              "#bd3786"
             ],
             [
              0.5555555555555556,
              "#d8576b"
             ],
             [
              0.6666666666666666,
              "#ed7953"
             ],
             [
              0.7777777777777778,
              "#fb9f3a"
             ],
             [
              0.8888888888888888,
              "#fdca26"
             ],
             [
              1,
              "#f0f921"
             ]
            ],
            "type": "histogram2d"
           }
          ],
          "histogram2dcontour": [
           {
            "colorbar": {
             "outlinewidth": 0,
             "ticks": ""
            },
            "colorscale": [
             [
              0,
              "#0d0887"
             ],
             [
              0.1111111111111111,
              "#46039f"
             ],
             [
              0.2222222222222222,
              "#7201a8"
             ],
             [
              0.3333333333333333,
              "#9c179e"
             ],
             [
              0.4444444444444444,
              "#bd3786"
             ],
             [
              0.5555555555555556,
              "#d8576b"
             ],
             [
              0.6666666666666666,
              "#ed7953"
             ],
             [
              0.7777777777777778,
              "#fb9f3a"
             ],
             [
              0.8888888888888888,
              "#fdca26"
             ],
             [
              1,
              "#f0f921"
             ]
            ],
            "type": "histogram2dcontour"
           }
          ],
          "mesh3d": [
           {
            "colorbar": {
             "outlinewidth": 0,
             "ticks": ""
            },
            "type": "mesh3d"
           }
          ],
          "parcoords": [
           {
            "line": {
             "colorbar": {
              "outlinewidth": 0,
              "ticks": ""
             }
            },
            "type": "parcoords"
           }
          ],
          "pie": [
           {
            "automargin": true,
            "type": "pie"
           }
          ],
          "scatter": [
           {
            "marker": {
             "colorbar": {
              "outlinewidth": 0,
              "ticks": ""
             }
            },
            "type": "scatter"
           }
          ],
          "scatter3d": [
           {
            "line": {
             "colorbar": {
              "outlinewidth": 0,
              "ticks": ""
             }
            },
            "marker": {
             "colorbar": {
              "outlinewidth": 0,
              "ticks": ""
             }
            },
            "type": "scatter3d"
           }
          ],
          "scattercarpet": [
           {
            "marker": {
             "colorbar": {
              "outlinewidth": 0,
              "ticks": ""
             }
            },
            "type": "scattercarpet"
           }
          ],
          "scattergeo": [
           {
            "marker": {
             "colorbar": {
              "outlinewidth": 0,
              "ticks": ""
             }
            },
            "type": "scattergeo"
           }
          ],
          "scattergl": [
           {
            "marker": {
             "colorbar": {
              "outlinewidth": 0,
              "ticks": ""
             }
            },
            "type": "scattergl"
           }
          ],
          "scattermapbox": [
           {
            "marker": {
             "colorbar": {
              "outlinewidth": 0,
              "ticks": ""
             }
            },
            "type": "scattermapbox"
           }
          ],
          "scatterpolar": [
           {
            "marker": {
             "colorbar": {
              "outlinewidth": 0,
              "ticks": ""
             }
            },
            "type": "scatterpolar"
           }
          ],
          "scatterpolargl": [
           {
            "marker": {
             "colorbar": {
              "outlinewidth": 0,
              "ticks": ""
             }
            },
            "type": "scatterpolargl"
           }
          ],
          "scatterternary": [
           {
            "marker": {
             "colorbar": {
              "outlinewidth": 0,
              "ticks": ""
             }
            },
            "type": "scatterternary"
           }
          ],
          "surface": [
           {
            "colorbar": {
             "outlinewidth": 0,
             "ticks": ""
            },
            "colorscale": [
             [
              0,
              "#0d0887"
             ],
             [
              0.1111111111111111,
              "#46039f"
             ],
             [
              0.2222222222222222,
              "#7201a8"
             ],
             [
              0.3333333333333333,
              "#9c179e"
             ],
             [
              0.4444444444444444,
              "#bd3786"
             ],
             [
              0.5555555555555556,
              "#d8576b"
             ],
             [
              0.6666666666666666,
              "#ed7953"
             ],
             [
              0.7777777777777778,
              "#fb9f3a"
             ],
             [
              0.8888888888888888,
              "#fdca26"
             ],
             [
              1,
              "#f0f921"
             ]
            ],
            "type": "surface"
           }
          ],
          "table": [
           {
            "cells": {
             "fill": {
              "color": "#EBF0F8"
             },
             "line": {
              "color": "white"
             }
            },
            "header": {
             "fill": {
              "color": "#C8D4E3"
             },
             "line": {
              "color": "white"
             }
            },
            "type": "table"
           }
          ]
         },
         "layout": {
          "annotationdefaults": {
           "arrowcolor": "#2a3f5f",
           "arrowhead": 0,
           "arrowwidth": 1
          },
          "coloraxis": {
           "colorbar": {
            "outlinewidth": 0,
            "ticks": ""
           }
          },
          "colorscale": {
           "diverging": [
            [
             0,
             "#8e0152"
            ],
            [
             0.1,
             "#c51b7d"
            ],
            [
             0.2,
             "#de77ae"
            ],
            [
             0.3,
             "#f1b6da"
            ],
            [
             0.4,
             "#fde0ef"
            ],
            [
             0.5,
             "#f7f7f7"
            ],
            [
             0.6,
             "#e6f5d0"
            ],
            [
             0.7,
             "#b8e186"
            ],
            [
             0.8,
             "#7fbc41"
            ],
            [
             0.9,
             "#4d9221"
            ],
            [
             1,
             "#276419"
            ]
           ],
           "sequential": [
            [
             0,
             "#0d0887"
            ],
            [
             0.1111111111111111,
             "#46039f"
            ],
            [
             0.2222222222222222,
             "#7201a8"
            ],
            [
             0.3333333333333333,
             "#9c179e"
            ],
            [
             0.4444444444444444,
             "#bd3786"
            ],
            [
             0.5555555555555556,
             "#d8576b"
            ],
            [
             0.6666666666666666,
             "#ed7953"
            ],
            [
             0.7777777777777778,
             "#fb9f3a"
            ],
            [
             0.8888888888888888,
             "#fdca26"
            ],
            [
             1,
             "#f0f921"
            ]
           ],
           "sequentialminus": [
            [
             0,
             "#0d0887"
            ],
            [
             0.1111111111111111,
             "#46039f"
            ],
            [
             0.2222222222222222,
             "#7201a8"
            ],
            [
             0.3333333333333333,
             "#9c179e"
            ],
            [
             0.4444444444444444,
             "#bd3786"
            ],
            [
             0.5555555555555556,
             "#d8576b"
            ],
            [
             0.6666666666666666,
             "#ed7953"
            ],
            [
             0.7777777777777778,
             "#fb9f3a"
            ],
            [
             0.8888888888888888,
             "#fdca26"
            ],
            [
             1,
             "#f0f921"
            ]
           ]
          },
          "colorway": [
           "#636efa",
           "#EF553B",
           "#00cc96",
           "#ab63fa",
           "#FFA15A",
           "#19d3f3",
           "#FF6692",
           "#B6E880",
           "#FF97FF",
           "#FECB52"
          ],
          "font": {
           "color": "#2a3f5f"
          },
          "geo": {
           "bgcolor": "white",
           "lakecolor": "white",
           "landcolor": "#E5ECF6",
           "showlakes": true,
           "showland": true,
           "subunitcolor": "white"
          },
          "hoverlabel": {
           "align": "left"
          },
          "hovermode": "closest",
          "mapbox": {
           "style": "light"
          },
          "paper_bgcolor": "white",
          "plot_bgcolor": "#E5ECF6",
          "polar": {
           "angularaxis": {
            "gridcolor": "white",
            "linecolor": "white",
            "ticks": ""
           },
           "bgcolor": "#E5ECF6",
           "radialaxis": {
            "gridcolor": "white",
            "linecolor": "white",
            "ticks": ""
           }
          },
          "scene": {
           "xaxis": {
            "backgroundcolor": "#E5ECF6",
            "gridcolor": "white",
            "gridwidth": 2,
            "linecolor": "white",
            "showbackground": true,
            "ticks": "",
            "zerolinecolor": "white"
           },
           "yaxis": {
            "backgroundcolor": "#E5ECF6",
            "gridcolor": "white",
            "gridwidth": 2,
            "linecolor": "white",
            "showbackground": true,
            "ticks": "",
            "zerolinecolor": "white"
           },
           "zaxis": {
            "backgroundcolor": "#E5ECF6",
            "gridcolor": "white",
            "gridwidth": 2,
            "linecolor": "white",
            "showbackground": true,
            "ticks": "",
            "zerolinecolor": "white"
           }
          },
          "shapedefaults": {
           "line": {
            "color": "#2a3f5f"
           }
          },
          "ternary": {
           "aaxis": {
            "gridcolor": "white",
            "linecolor": "white",
            "ticks": ""
           },
           "baxis": {
            "gridcolor": "white",
            "linecolor": "white",
            "ticks": ""
           },
           "bgcolor": "#E5ECF6",
           "caxis": {
            "gridcolor": "white",
            "linecolor": "white",
            "ticks": ""
           }
          },
          "title": {
           "x": 0.05
          },
          "xaxis": {
           "automargin": true,
           "gridcolor": "white",
           "linecolor": "white",
           "ticks": "",
           "title": {
            "standoff": 15
           },
           "zerolinecolor": "white",
           "zerolinewidth": 2
          },
          "yaxis": {
           "automargin": true,
           "gridcolor": "white",
           "linecolor": "white",
           "ticks": "",
           "title": {
            "standoff": 15
           },
           "zerolinecolor": "white",
           "zerolinewidth": 2
          }
         }
        },
        "title": {
         "text": " QuantileAD Plot for site MLA on flow direct and device Android"
        }
       }
      },
      "text/html": [
       "<div>                            <div id=\"55b5481a-8405-42ab-8035-1bccab42adc3\" class=\"plotly-graph-div\" style=\"height:525px; width:100%;\"></div>            <script type=\"text/javascript\">                require([\"plotly\"], function(Plotly) {                    window.PLOTLYENV=window.PLOTLYENV || {};                                    if (document.getElementById(\"55b5481a-8405-42ab-8035-1bccab42adc3\")) {                    Plotly.newPlot(                        \"55b5481a-8405-42ab-8035-1bccab42adc3\",                        [{\"mode\": \"lines\", \"name\": \"TOTAL\", \"type\": \"scatter\", \"x\": [\"2019-03-01T00:00:00+00:00\", \"2019-03-02T00:00:00+00:00\", \"2019-03-03T00:00:00+00:00\", \"2019-03-04T00:00:00+00:00\", \"2019-03-05T00:00:00+00:00\", \"2019-03-06T00:00:00+00:00\", \"2019-03-07T00:00:00+00:00\", \"2019-03-08T00:00:00+00:00\", \"2019-03-09T00:00:00+00:00\", \"2019-03-10T00:00:00+00:00\", \"2019-03-11T00:00:00+00:00\", \"2019-03-12T00:00:00+00:00\", \"2019-03-13T00:00:00+00:00\", \"2019-03-14T00:00:00+00:00\", \"2019-03-15T00:00:00+00:00\", \"2019-03-16T00:00:00+00:00\", \"2019-03-17T00:00:00+00:00\", \"2019-03-18T00:00:00+00:00\", \"2019-03-19T00:00:00+00:00\", \"2019-03-20T00:00:00+00:00\", \"2019-03-21T00:00:00+00:00\", \"2019-03-22T00:00:00+00:00\", \"2019-03-23T00:00:00+00:00\", \"2019-03-24T00:00:00+00:00\", \"2019-03-25T00:00:00+00:00\", \"2019-03-26T00:00:00+00:00\", \"2019-03-27T00:00:00+00:00\", \"2019-03-28T00:00:00+00:00\", \"2019-03-29T00:00:00+00:00\", \"2019-03-30T00:00:00+00:00\", \"2019-03-31T00:00:00+00:00\", \"2019-04-01T00:00:00+00:00\", \"2019-04-02T00:00:00+00:00\", \"2019-04-03T00:00:00+00:00\", \"2019-04-04T00:00:00+00:00\", \"2019-04-05T00:00:00+00:00\", \"2019-04-06T00:00:00+00:00\", \"2019-04-07T00:00:00+00:00\", \"2019-04-08T00:00:00+00:00\", \"2019-04-09T00:00:00+00:00\", \"2019-04-10T00:00:00+00:00\", \"2019-04-11T00:00:00+00:00\", \"2019-04-12T00:00:00+00:00\", \"2019-04-13T00:00:00+00:00\", \"2019-04-14T00:00:00+00:00\", \"2019-04-15T00:00:00+00:00\", \"2019-04-16T00:00:00+00:00\", \"2019-04-17T00:00:00+00:00\", \"2019-04-18T00:00:00+00:00\", \"2019-04-19T00:00:00+00:00\", \"2019-04-20T00:00:00+00:00\", \"2019-04-21T00:00:00+00:00\", \"2019-04-22T00:00:00+00:00\", \"2019-04-23T00:00:00+00:00\", \"2019-04-24T00:00:00+00:00\", \"2019-04-25T00:00:00+00:00\", \"2019-04-26T00:00:00+00:00\", \"2019-04-27T00:00:00+00:00\", \"2019-04-28T00:00:00+00:00\", \"2019-04-29T00:00:00+00:00\", \"2019-04-30T00:00:00+00:00\", \"2019-05-01T00:00:00+00:00\", \"2019-05-02T00:00:00+00:00\", \"2019-05-03T00:00:00+00:00\", \"2019-05-04T00:00:00+00:00\", \"2019-05-05T00:00:00+00:00\", \"2019-05-06T00:00:00+00:00\", \"2019-05-07T00:00:00+00:00\", \"2019-05-08T00:00:00+00:00\", \"2019-05-09T00:00:00+00:00\", \"2019-05-10T00:00:00+00:00\", \"2019-05-11T00:00:00+00:00\", \"2019-05-12T00:00:00+00:00\", \"2019-05-13T00:00:00+00:00\", \"2019-05-14T00:00:00+00:00\", \"2019-05-15T00:00:00+00:00\", \"2019-05-16T00:00:00+00:00\", \"2019-05-17T00:00:00+00:00\", \"2019-05-18T00:00:00+00:00\", \"2019-05-19T00:00:00+00:00\", \"2019-05-20T00:00:00+00:00\", \"2019-05-21T00:00:00+00:00\", \"2019-05-22T00:00:00+00:00\", \"2019-05-23T00:00:00+00:00\", \"2019-05-24T00:00:00+00:00\", \"2019-05-25T00:00:00+00:00\", \"2019-05-26T00:00:00+00:00\", \"2019-05-27T00:00:00+00:00\", \"2019-05-28T00:00:00+00:00\", \"2019-05-29T00:00:00+00:00\", \"2019-05-30T00:00:00+00:00\", \"2019-05-31T00:00:00+00:00\", \"2019-06-01T00:00:00+00:00\", \"2019-06-02T00:00:00+00:00\", \"2019-06-03T00:00:00+00:00\", \"2019-06-04T00:00:00+00:00\", \"2019-06-05T00:00:00+00:00\", \"2019-06-06T00:00:00+00:00\", \"2019-06-07T00:00:00+00:00\", \"2019-06-08T00:00:00+00:00\", \"2019-06-09T00:00:00+00:00\", \"2019-06-10T00:00:00+00:00\", \"2019-06-11T00:00:00+00:00\", \"2019-06-12T00:00:00+00:00\", \"2019-06-13T00:00:00+00:00\", \"2019-06-14T00:00:00+00:00\", \"2019-06-15T00:00:00+00:00\", \"2019-06-16T00:00:00+00:00\", \"2019-06-17T00:00:00+00:00\", \"2019-06-18T00:00:00+00:00\", \"2019-06-19T00:00:00+00:00\", \"2019-06-20T00:00:00+00:00\", \"2019-06-21T00:00:00+00:00\", \"2019-06-22T00:00:00+00:00\", \"2019-06-23T00:00:00+00:00\", \"2019-06-24T00:00:00+00:00\", \"2019-06-25T00:00:00+00:00\", \"2019-06-26T00:00:00+00:00\", \"2019-06-27T00:00:00+00:00\", \"2019-06-28T00:00:00+00:00\", \"2019-06-29T00:00:00+00:00\", \"2019-06-30T00:00:00+00:00\", \"2019-07-01T00:00:00+00:00\", \"2019-07-02T00:00:00+00:00\", \"2019-07-03T00:00:00+00:00\", \"2019-07-04T00:00:00+00:00\", \"2019-07-05T00:00:00+00:00\", \"2019-07-06T00:00:00+00:00\", \"2019-07-07T00:00:00+00:00\", \"2019-07-08T00:00:00+00:00\", \"2019-07-09T00:00:00+00:00\", \"2019-07-10T00:00:00+00:00\", \"2019-07-11T00:00:00+00:00\", \"2019-07-12T00:00:00+00:00\", \"2019-07-13T00:00:00+00:00\", \"2019-07-14T00:00:00+00:00\", \"2019-07-15T00:00:00+00:00\", \"2019-07-16T00:00:00+00:00\", \"2019-07-17T00:00:00+00:00\", \"2019-07-18T00:00:00+00:00\", \"2019-07-19T00:00:00+00:00\", \"2019-07-20T00:00:00+00:00\", \"2019-07-21T00:00:00+00:00\", \"2019-07-22T00:00:00+00:00\", \"2019-07-23T00:00:00+00:00\", \"2019-07-24T00:00:00+00:00\", \"2019-07-25T00:00:00+00:00\", \"2019-07-26T00:00:00+00:00\", \"2019-07-27T00:00:00+00:00\", \"2019-07-28T00:00:00+00:00\", \"2019-07-29T00:00:00+00:00\", \"2019-07-30T00:00:00+00:00\", \"2019-07-31T00:00:00+00:00\", \"2019-08-01T00:00:00+00:00\", \"2019-08-02T00:00:00+00:00\", \"2019-08-03T00:00:00+00:00\", \"2019-08-04T00:00:00+00:00\", \"2019-08-05T00:00:00+00:00\", \"2019-08-06T00:00:00+00:00\", \"2019-08-07T00:00:00+00:00\", \"2019-08-08T00:00:00+00:00\", \"2019-08-09T00:00:00+00:00\", \"2019-08-10T00:00:00+00:00\", \"2019-08-11T00:00:00+00:00\", \"2019-08-12T00:00:00+00:00\", \"2019-08-13T00:00:00+00:00\", \"2019-08-14T00:00:00+00:00\", \"2019-08-15T00:00:00+00:00\", \"2019-08-16T00:00:00+00:00\", \"2019-08-17T00:00:00+00:00\", \"2019-08-18T00:00:00+00:00\", \"2019-08-19T00:00:00+00:00\", \"2019-08-20T00:00:00+00:00\", \"2019-08-21T00:00:00+00:00\", \"2019-08-22T00:00:00+00:00\", \"2019-08-23T00:00:00+00:00\", \"2019-08-24T00:00:00+00:00\", \"2019-08-25T00:00:00+00:00\", \"2019-08-26T00:00:00+00:00\", \"2019-08-27T00:00:00+00:00\", \"2019-08-28T00:00:00+00:00\", \"2019-08-29T00:00:00+00:00\", \"2019-08-30T00:00:00+00:00\", \"2019-08-31T00:00:00+00:00\", \"2019-09-01T00:00:00+00:00\", \"2019-09-02T00:00:00+00:00\", \"2019-09-03T00:00:00+00:00\", \"2019-09-04T00:00:00+00:00\", \"2019-09-05T00:00:00+00:00\", \"2019-09-06T00:00:00+00:00\", \"2019-09-07T00:00:00+00:00\", \"2019-09-08T00:00:00+00:00\", \"2019-09-09T00:00:00+00:00\", \"2019-09-10T00:00:00+00:00\", \"2019-09-11T00:00:00+00:00\", \"2019-09-12T00:00:00+00:00\", \"2019-09-13T00:00:00+00:00\", \"2019-09-14T00:00:00+00:00\", \"2019-09-15T00:00:00+00:00\", \"2019-09-16T00:00:00+00:00\", \"2019-09-17T00:00:00+00:00\", \"2019-09-18T00:00:00+00:00\", \"2019-09-19T00:00:00+00:00\", \"2019-09-20T00:00:00+00:00\", \"2019-09-21T00:00:00+00:00\", \"2019-09-22T00:00:00+00:00\", \"2019-09-23T00:00:00+00:00\", \"2019-09-24T00:00:00+00:00\", \"2019-09-25T00:00:00+00:00\", \"2019-09-26T00:00:00+00:00\", \"2019-09-27T00:00:00+00:00\", \"2019-09-28T00:00:00+00:00\", \"2019-09-29T00:00:00+00:00\", \"2019-09-30T00:00:00+00:00\", \"2019-10-01T00:00:00+00:00\", \"2019-10-02T00:00:00+00:00\", \"2019-10-03T00:00:00+00:00\", \"2019-10-04T00:00:00+00:00\", \"2019-10-05T00:00:00+00:00\", \"2019-10-06T00:00:00+00:00\", \"2019-10-07T00:00:00+00:00\", \"2019-10-08T00:00:00+00:00\", \"2019-10-09T00:00:00+00:00\", \"2019-10-10T00:00:00+00:00\", \"2019-10-11T00:00:00+00:00\", \"2019-10-12T00:00:00+00:00\", \"2019-10-13T00:00:00+00:00\", \"2019-10-14T00:00:00+00:00\", \"2019-10-15T00:00:00+00:00\", \"2019-10-16T00:00:00+00:00\", \"2019-10-17T00:00:00+00:00\", \"2019-10-18T00:00:00+00:00\", \"2019-10-19T00:00:00+00:00\", \"2019-10-20T00:00:00+00:00\", \"2019-10-21T00:00:00+00:00\", \"2019-10-22T00:00:00+00:00\", \"2019-10-23T00:00:00+00:00\", \"2019-10-24T00:00:00+00:00\", \"2019-10-25T00:00:00+00:00\", \"2019-10-26T00:00:00+00:00\", \"2019-10-27T00:00:00+00:00\", \"2019-10-28T00:00:00+00:00\", \"2019-10-29T00:00:00+00:00\", \"2019-10-30T00:00:00+00:00\", \"2019-10-31T00:00:00+00:00\", \"2019-11-01T00:00:00+00:00\", \"2019-11-02T00:00:00+00:00\", \"2019-11-03T00:00:00+00:00\", \"2019-11-04T00:00:00+00:00\", \"2019-11-05T00:00:00+00:00\", \"2019-11-06T00:00:00+00:00\", \"2019-11-07T00:00:00+00:00\", \"2019-11-08T00:00:00+00:00\", \"2019-11-09T00:00:00+00:00\", \"2019-11-10T00:00:00+00:00\", \"2019-11-11T00:00:00+00:00\", \"2019-11-12T00:00:00+00:00\", \"2019-11-13T00:00:00+00:00\", \"2019-11-14T00:00:00+00:00\", \"2019-11-15T00:00:00+00:00\", \"2019-11-16T00:00:00+00:00\", \"2019-11-17T00:00:00+00:00\", \"2019-11-18T00:00:00+00:00\", \"2019-11-19T00:00:00+00:00\", \"2019-11-20T00:00:00+00:00\", \"2019-11-21T00:00:00+00:00\", \"2019-11-22T00:00:00+00:00\", \"2019-11-23T00:00:00+00:00\", \"2019-11-24T00:00:00+00:00\", \"2019-11-25T00:00:00+00:00\", \"2019-11-26T00:00:00+00:00\", \"2019-11-27T00:00:00+00:00\", \"2019-11-28T00:00:00+00:00\", \"2019-11-29T00:00:00+00:00\", \"2019-11-30T00:00:00+00:00\", \"2019-12-01T00:00:00+00:00\", \"2019-12-02T00:00:00+00:00\", \"2019-12-03T00:00:00+00:00\", \"2019-12-04T00:00:00+00:00\", \"2019-12-05T00:00:00+00:00\", \"2019-12-06T00:00:00+00:00\", \"2019-12-07T00:00:00+00:00\", \"2019-12-08T00:00:00+00:00\", \"2019-12-09T00:00:00+00:00\", \"2019-12-10T00:00:00+00:00\", \"2019-12-11T00:00:00+00:00\", \"2019-12-12T00:00:00+00:00\", \"2019-12-13T00:00:00+00:00\", \"2019-12-14T00:00:00+00:00\", \"2019-12-15T00:00:00+00:00\", \"2019-12-16T00:00:00+00:00\", \"2019-12-17T00:00:00+00:00\", \"2019-12-18T00:00:00+00:00\", \"2019-12-19T00:00:00+00:00\", \"2019-12-20T00:00:00+00:00\", \"2019-12-21T00:00:00+00:00\", \"2019-12-22T00:00:00+00:00\", \"2019-12-23T00:00:00+00:00\", \"2019-12-24T00:00:00+00:00\", \"2019-12-25T00:00:00+00:00\", \"2019-12-26T00:00:00+00:00\", \"2019-12-27T00:00:00+00:00\", \"2019-12-28T00:00:00+00:00\", \"2019-12-29T00:00:00+00:00\", \"2019-12-30T00:00:00+00:00\", \"2019-12-31T00:00:00+00:00\", \"2020-01-01T00:00:00+00:00\", \"2020-01-02T00:00:00+00:00\", \"2020-01-03T00:00:00+00:00\", \"2020-01-04T00:00:00+00:00\", \"2020-01-05T00:00:00+00:00\", \"2020-01-06T00:00:00+00:00\", \"2020-01-07T00:00:00+00:00\", \"2020-01-08T00:00:00+00:00\", \"2020-01-09T00:00:00+00:00\", \"2020-01-10T00:00:00+00:00\", \"2020-01-11T00:00:00+00:00\", \"2020-01-12T00:00:00+00:00\", \"2020-01-13T00:00:00+00:00\", \"2020-01-14T00:00:00+00:00\", \"2020-01-15T00:00:00+00:00\", \"2020-01-16T00:00:00+00:00\", \"2020-01-17T00:00:00+00:00\", \"2020-01-18T00:00:00+00:00\", \"2020-01-19T00:00:00+00:00\", \"2020-01-20T00:00:00+00:00\", \"2020-01-21T00:00:00+00:00\", \"2020-01-22T00:00:00+00:00\", \"2020-01-23T00:00:00+00:00\", \"2020-01-24T00:00:00+00:00\", \"2020-01-25T00:00:00+00:00\", \"2020-01-26T00:00:00+00:00\", \"2020-01-27T00:00:00+00:00\", \"2020-01-28T00:00:00+00:00\", \"2020-01-29T00:00:00+00:00\", \"2020-01-30T00:00:00+00:00\", \"2020-01-31T00:00:00+00:00\", \"2020-02-01T00:00:00+00:00\", \"2020-02-02T00:00:00+00:00\", \"2020-02-03T00:00:00+00:00\", \"2020-02-04T00:00:00+00:00\", \"2020-02-05T00:00:00+00:00\", \"2020-02-06T00:00:00+00:00\", \"2020-02-07T00:00:00+00:00\", \"2020-02-08T00:00:00+00:00\", \"2020-02-09T00:00:00+00:00\", \"2020-02-10T00:00:00+00:00\", \"2020-02-11T00:00:00+00:00\", \"2020-02-12T00:00:00+00:00\", \"2020-02-13T00:00:00+00:00\", \"2020-02-14T00:00:00+00:00\", \"2020-02-15T00:00:00+00:00\", \"2020-02-16T00:00:00+00:00\", \"2020-02-17T00:00:00+00:00\", \"2020-02-18T00:00:00+00:00\", \"2020-02-19T00:00:00+00:00\", \"2020-02-20T00:00:00+00:00\", \"2020-02-21T00:00:00+00:00\", \"2020-02-22T00:00:00+00:00\", \"2020-02-23T00:00:00+00:00\", \"2020-02-24T00:00:00+00:00\", \"2020-02-25T00:00:00+00:00\", \"2020-02-26T00:00:00+00:00\", \"2020-02-27T00:00:00+00:00\", \"2020-02-28T00:00:00+00:00\", \"2020-02-29T00:00:00+00:00\", \"2020-03-01T00:00:00+00:00\", \"2020-03-02T00:00:00+00:00\", \"2020-03-03T00:00:00+00:00\", \"2020-03-04T00:00:00+00:00\", \"2020-03-05T00:00:00+00:00\", \"2020-03-06T00:00:00+00:00\", \"2020-03-07T00:00:00+00:00\", \"2020-03-08T00:00:00+00:00\", \"2020-03-09T00:00:00+00:00\", \"2020-03-10T00:00:00+00:00\", \"2020-03-11T00:00:00+00:00\", \"2020-03-12T00:00:00+00:00\", \"2020-03-13T00:00:00+00:00\", \"2020-03-14T00:00:00+00:00\", \"2020-03-15T00:00:00+00:00\", \"2020-03-16T00:00:00+00:00\", \"2020-03-17T00:00:00+00:00\", \"2020-03-18T00:00:00+00:00\", \"2020-03-19T00:00:00+00:00\", \"2020-03-20T00:00:00+00:00\", \"2020-03-21T00:00:00+00:00\", \"2020-03-22T00:00:00+00:00\", \"2020-03-23T00:00:00+00:00\", \"2020-03-24T00:00:00+00:00\", \"2020-03-25T00:00:00+00:00\", \"2020-03-26T00:00:00+00:00\", \"2020-03-27T00:00:00+00:00\", \"2020-03-28T00:00:00+00:00\", \"2020-03-29T00:00:00+00:00\", \"2020-03-30T00:00:00+00:00\", \"2020-03-31T00:00:00+00:00\", \"2020-04-01T00:00:00+00:00\", \"2020-04-02T00:00:00+00:00\", \"2020-04-03T00:00:00+00:00\", \"2020-04-04T00:00:00+00:00\", \"2020-04-05T00:00:00+00:00\", \"2020-04-06T00:00:00+00:00\", \"2020-04-07T00:00:00+00:00\", \"2020-04-08T00:00:00+00:00\", \"2020-04-09T00:00:00+00:00\", \"2020-04-10T00:00:00+00:00\", \"2020-04-11T00:00:00+00:00\", \"2020-04-12T00:00:00+00:00\", \"2020-04-13T00:00:00+00:00\", \"2020-04-14T00:00:00+00:00\", \"2020-04-15T00:00:00+00:00\", \"2020-04-16T00:00:00+00:00\", \"2020-04-17T00:00:00+00:00\", \"2020-04-18T00:00:00+00:00\", \"2020-04-19T00:00:00+00:00\", \"2020-04-20T00:00:00+00:00\", \"2020-04-21T00:00:00+00:00\", \"2020-04-22T00:00:00+00:00\", \"2020-04-23T00:00:00+00:00\", \"2020-04-24T00:00:00+00:00\", \"2020-04-25T00:00:00+00:00\", \"2020-04-26T00:00:00+00:00\", \"2020-04-27T00:00:00+00:00\", \"2020-04-28T00:00:00+00:00\", \"2020-04-29T00:00:00+00:00\", \"2020-04-30T00:00:00+00:00\", \"2020-05-01T00:00:00+00:00\", \"2020-05-02T00:00:00+00:00\", \"2020-05-03T00:00:00+00:00\", \"2020-05-04T00:00:00+00:00\", \"2020-05-05T00:00:00+00:00\", \"2020-05-06T00:00:00+00:00\", \"2020-05-07T00:00:00+00:00\", \"2020-05-08T00:00:00+00:00\", \"2020-05-09T00:00:00+00:00\", \"2020-05-10T00:00:00+00:00\", \"2020-05-11T00:00:00+00:00\", \"2020-05-12T00:00:00+00:00\", \"2020-05-13T00:00:00+00:00\", \"2020-05-14T00:00:00+00:00\", \"2020-05-15T00:00:00+00:00\", \"2020-05-16T00:00:00+00:00\", \"2020-05-17T00:00:00+00:00\", \"2020-05-18T00:00:00+00:00\", \"2020-05-19T00:00:00+00:00\", \"2020-05-20T00:00:00+00:00\", \"2020-05-21T00:00:00+00:00\", \"2020-05-22T00:00:00+00:00\", \"2020-05-23T00:00:00+00:00\", \"2020-05-24T00:00:00+00:00\", \"2020-05-25T00:00:00+00:00\", \"2020-05-26T00:00:00+00:00\", \"2020-05-27T00:00:00+00:00\", \"2020-05-28T00:00:00+00:00\", \"2020-05-29T00:00:00+00:00\", \"2020-05-30T00:00:00+00:00\", \"2020-05-31T00:00:00+00:00\", \"2020-06-01T00:00:00+00:00\", \"2020-06-02T00:00:00+00:00\", \"2020-06-03T00:00:00+00:00\", \"2020-06-04T00:00:00+00:00\", \"2020-06-05T00:00:00+00:00\", \"2020-06-06T00:00:00+00:00\", \"2020-06-07T00:00:00+00:00\", \"2020-06-08T00:00:00+00:00\", \"2020-06-09T00:00:00+00:00\", \"2020-06-10T00:00:00+00:00\", \"2020-06-11T00:00:00+00:00\", \"2020-06-12T00:00:00+00:00\", \"2020-06-13T00:00:00+00:00\", \"2020-06-14T00:00:00+00:00\", \"2020-06-15T00:00:00+00:00\", \"2020-06-16T00:00:00+00:00\", \"2020-06-17T00:00:00+00:00\", \"2020-06-18T00:00:00+00:00\", \"2020-06-19T00:00:00+00:00\", \"2020-06-20T00:00:00+00:00\", \"2020-06-21T00:00:00+00:00\", \"2020-06-22T00:00:00+00:00\", \"2020-06-23T00:00:00+00:00\", \"2020-06-24T00:00:00+00:00\", \"2020-06-25T00:00:00+00:00\", \"2020-06-26T00:00:00+00:00\", \"2020-06-27T00:00:00+00:00\", \"2020-06-28T00:00:00+00:00\", \"2020-06-29T00:00:00+00:00\", \"2020-06-30T00:00:00+00:00\"], \"y\": [0.551, 0.493, 0.442, 0.465, 0.487, 0.5429999999999999, 0.539, 0.551, 0.498, 0.477, 0.534, 0.529, 0.532, 0.529, 0.517, 0.464, 0.45, 0.537, 0.527, 0.524, 0.521, 0.46, 0.491, 0.461, 0.541, 0.537, 0.531, 0.531, 0.5379999999999999, 0.499, 0.471, 0.545, 0.493, 0.544, 0.531, 0.535, 0.5, 0.479, 0.552, 0.536, 0.5329999999999999, 0.528, 0.5329999999999999, 0.486, 0.456, 0.5329999999999999, 0.524, 0.523, 0.4920000000000001, 0.45, 0.472, 0.446, 0.508, 0.502, 0.501, 0.511, 0.519, 0.474, 0.458, 0.52, 0.503, 0.456, 0.528, 0.53, 0.491, 0.458, 0.534, 0.608, 0.5329999999999999, 0.519, 0.521, 0.483, 0.4370000000000001, 0.459, 0.4920000000000001, 0.509, 0.479, 0.489, 0.444, 0.45, 0.479, 0.485, 0.49, 0.499, 0.513, 0.455, 0.455, 0.513, 0.499, 0.483, 0.505, 0.507, 0.481, 0.462, 0.526, 0.525, 0.52, 0.525, 0.529, 0.4920000000000001, 0.468, 0.5479999999999999, 0.513, 0.507, 0.503, 0.495, 0.469, 0.426, 0.465, 0.524, 0.51, 0.484, 0.518, 0.487, 0.456, 0.537, 0.529, 0.518, 0.521, 0.54, 0.505, 0.479, 0.552, 0.547, 0.536, 0.524, 0.522, 0.484, 0.457, 0.493, 0.472, 0.564, 0.532, 0.517, 0.491, 0.467, 0.542, 0.505, 0.526, 0.513, 0.519, 0.478, 0.445, 0.514, 0.481, 0.412, 0.472, 0.49, 0.457, 0.4370000000000001, 0.472, 0.468, 0.477, 0.505, 0.507, 0.464, 0.448, 0.522, 0.462, 0.483, 0.496, 0.4970000000000001, 0.462, 0.456, 0.561, 0.534, 0.521, 0.511, 0.504, 0.477, 0.4320000000000001, 0.469, 0.501, 0.488, 0.482, 0.499, 0.466, 0.442, 0.512, 0.419, 0.506, 0.491, 0.503, 0.475, 0.471, 0.523, 0.481, 0.5, 0.484, 0.51, 0.482, 0.457, 0.516, 0.514, 0.487, 0.499, 0.502, 0.461, 0.441, 0.518, 0.506, 0.504, 0.501, 0.511, 0.474, 0.466, 0.515, 0.473, 0.498, 0.507, 0.516, 0.474, 0.462, 0.504, 0.519, 0.51, 0.516, 0.517, 0.488, 0.46, 0.535, 0.517, 0.518, 0.525, 0.506, 0.461, 0.443, 0.481, 0.517, 0.505, 0.519, 0.499, 0.485, 0.438, 0.519, 0.512, 0.508, 0.509, 0.5429999999999999, 0.522, 0.508, 0.523, 0.522, 0.508, 0.506, 0.527, 0.482, 0.443, 0.45, 0.494, 0.509, 0.487, 0.494, 0.475, 0.459, 0.515, 0.509, 0.52, 0.498, 0.511, 0.456, 0.401, 0.469, 0.521, 0.487, 0.483, 0.499, 0.46, 0.435, 0.498, 0.489, 0.491, 0.476, 0.46, 0.453, 0.442, 0.473, 0.479, 0.481, 0.622, 0.53, 0.482, 0.45, 0.519, 0.51, 0.502, 0.516, 0.507, 0.473, 0.472, 0.44, 0.52, 0.522, 0.523, 0.512, 0.482, 0.462, 0.55, 0.494, 0.417, 0.502, 0.514, 0.467, 0.439, 0.504, 0.471, 0.435, 0.524, 0.49, 0.457, 0.449, 0.512, 0.498, 0.491, 0.483, 0.481, 0.426, 0.416, 0.519, 0.501, 0.477, 0.477, 0.459, 0.447, 0.418, 0.451, 0.478, 0.461, 0.481, 0.489, 0.452, 0.4270000000000001, 0.505, 0.482, 0.477, 0.481, 0.483, 0.461, 0.44, 0.515, 0.505, 0.4920000000000001, 0.498, 0.499, 0.461, 0.442, 0.516, 0.506, 0.501, 0.495, 0.496, 0.447, 0.4270000000000001, 0.493, 0.489, 0.481, 0.481, 0.487, 0.442, 0.408, 0.428, 0.459, 0.512, 0.489, 0.495, 0.469, 0.45, 0.495, 0.505, 0.5, 0.501, 0.501, 0.465, 0.449, 0.496, 0.506, 0.491, 0.501, 0.494, 0.453, 0.446, 0.508, 0.489, 0.483, 0.48, 0.388, 0.355, 0.343, 0.369, 0.3670000000000001, 0.392, 0.394, 0.416, 0.399, 0.395, 0.429, 0.458, 0.465, 0.471, 0.473, 0.464, 0.447, 0.477, 0.482, 0.474, 0.476, 0.468, 0.475, 0.468, 0.501, 0.503, 0.496, 0.494, 0.489, 0.469, 0.46, 0.495, 0.498, 0.488, 0.488, 0.495, 0.472, 0.462, 0.501, 0.489, 0.496, 0.491, 0.489, 0.49, 0.472, 0.511, 0.514, 0.505, 0.525, 0.528, 0.488, 0.473, 0.499, 0.505, 0.503, 0.506, 0.49, 0.471, 0.463, 0.504, 0.502, 0.495, 0.493, 0.4920000000000001, 0.466, 0.442, 0.481, 0.515, 0.507, 0.507, 0.521, 0.489, 0.483, 0.531, 0.528, 0.52, 0.532, 0.52, 0.4920000000000001, 0.48, 0.527, 0.523, 0.523, 0.53, 0.523, 0.493, 0.478, 0.51, 0.534, 0.529, 0.531, 0.525, 0.491, 0.487, 0.528, 0.517, 0.516, 0.527, 0.537, 0.502, 0.494, 0.536, 0.529]}, {\"marker\": {\"color\": \"LightSkyBlue\", \"line\": {\"color\": \"red\", \"width\": 2}, \"opacity\": 0.5, \"size\": 6}, \"mode\": \"markers\", \"showlegend\": false, \"type\": \"scatter\", \"x\": [\"2019-03-01T00:00:00+00:00\", \"2019-03-08T00:00:00+00:00\", \"2019-04-08T00:00:00+00:00\", \"2019-05-07T00:00:00+00:00\", \"2019-06-10T00:00:00+00:00\", \"2019-07-01T00:00:00+00:00\", \"2019-07-10T00:00:00+00:00\", \"2019-08-12T00:00:00+00:00\", \"2019-11-17T00:00:00+00:00\", \"2019-12-05T00:00:00+00:00\", \"2019-12-23T00:00:00+00:00\", \"2020-03-20T00:00:00+00:00\", \"2020-03-21T00:00:00+00:00\", \"2020-03-22T00:00:00+00:00\", \"2020-03-23T00:00:00+00:00\", \"2020-03-24T00:00:00+00:00\", \"2020-03-25T00:00:00+00:00\", \"2020-03-26T00:00:00+00:00\", \"2020-03-28T00:00:00+00:00\", \"2020-03-29T00:00:00+00:00\"], \"y\": [0.551, 0.551, 0.552, 0.608, 0.5479999999999999, 0.552, 0.564, 0.561, 0.401, 0.622, 0.55, 0.388, 0.355, 0.343, 0.369, 0.3670000000000001, 0.392, 0.394, 0.399, 0.395]}],                        {\"template\": {\"data\": {\"bar\": [{\"error_x\": {\"color\": \"#2a3f5f\"}, \"error_y\": {\"color\": \"#2a3f5f\"}, \"marker\": {\"line\": {\"color\": \"#E5ECF6\", \"width\": 0.5}}, \"type\": \"bar\"}], \"barpolar\": [{\"marker\": {\"line\": {\"color\": \"#E5ECF6\", \"width\": 0.5}}, \"type\": \"barpolar\"}], \"carpet\": [{\"aaxis\": {\"endlinecolor\": \"#2a3f5f\", \"gridcolor\": \"white\", \"linecolor\": \"white\", \"minorgridcolor\": \"white\", \"startlinecolor\": \"#2a3f5f\"}, \"baxis\": {\"endlinecolor\": \"#2a3f5f\", \"gridcolor\": \"white\", \"linecolor\": \"white\", \"minorgridcolor\": \"white\", \"startlinecolor\": \"#2a3f5f\"}, \"type\": \"carpet\"}], \"choropleth\": [{\"colorbar\": {\"outlinewidth\": 0, \"ticks\": \"\"}, \"type\": \"choropleth\"}], \"contour\": [{\"colorbar\": {\"outlinewidth\": 0, \"ticks\": \"\"}, \"colorscale\": [[0.0, \"#0d0887\"], [0.1111111111111111, \"#46039f\"], [0.2222222222222222, \"#7201a8\"], [0.3333333333333333, \"#9c179e\"], [0.4444444444444444, \"#bd3786\"], [0.5555555555555556, \"#d8576b\"], [0.6666666666666666, \"#ed7953\"], [0.7777777777777778, \"#fb9f3a\"], [0.8888888888888888, \"#fdca26\"], [1.0, \"#f0f921\"]], \"type\": \"contour\"}], \"contourcarpet\": [{\"colorbar\": {\"outlinewidth\": 0, \"ticks\": \"\"}, \"type\": \"contourcarpet\"}], \"heatmap\": [{\"colorbar\": {\"outlinewidth\": 0, \"ticks\": \"\"}, \"colorscale\": [[0.0, \"#0d0887\"], [0.1111111111111111, \"#46039f\"], [0.2222222222222222, \"#7201a8\"], [0.3333333333333333, \"#9c179e\"], [0.4444444444444444, \"#bd3786\"], [0.5555555555555556, \"#d8576b\"], [0.6666666666666666, \"#ed7953\"], [0.7777777777777778, \"#fb9f3a\"], [0.8888888888888888, \"#fdca26\"], [1.0, \"#f0f921\"]], \"type\": \"heatmap\"}], \"heatmapgl\": [{\"colorbar\": {\"outlinewidth\": 0, \"ticks\": \"\"}, \"colorscale\": [[0.0, \"#0d0887\"], [0.1111111111111111, \"#46039f\"], [0.2222222222222222, \"#7201a8\"], [0.3333333333333333, \"#9c179e\"], [0.4444444444444444, \"#bd3786\"], [0.5555555555555556, \"#d8576b\"], [0.6666666666666666, \"#ed7953\"], [0.7777777777777778, \"#fb9f3a\"], [0.8888888888888888, \"#fdca26\"], [1.0, \"#f0f921\"]], \"type\": \"heatmapgl\"}], \"histogram\": [{\"marker\": {\"colorbar\": {\"outlinewidth\": 0, \"ticks\": \"\"}}, \"type\": \"histogram\"}], \"histogram2d\": [{\"colorbar\": {\"outlinewidth\": 0, \"ticks\": \"\"}, \"colorscale\": [[0.0, \"#0d0887\"], [0.1111111111111111, \"#46039f\"], [0.2222222222222222, \"#7201a8\"], [0.3333333333333333, \"#9c179e\"], [0.4444444444444444, \"#bd3786\"], [0.5555555555555556, \"#d8576b\"], [0.6666666666666666, \"#ed7953\"], [0.7777777777777778, \"#fb9f3a\"], [0.8888888888888888, \"#fdca26\"], [1.0, \"#f0f921\"]], \"type\": \"histogram2d\"}], \"histogram2dcontour\": [{\"colorbar\": {\"outlinewidth\": 0, \"ticks\": \"\"}, \"colorscale\": [[0.0, \"#0d0887\"], [0.1111111111111111, \"#46039f\"], [0.2222222222222222, \"#7201a8\"], [0.3333333333333333, \"#9c179e\"], [0.4444444444444444, \"#bd3786\"], [0.5555555555555556, \"#d8576b\"], [0.6666666666666666, \"#ed7953\"], [0.7777777777777778, \"#fb9f3a\"], [0.8888888888888888, \"#fdca26\"], [1.0, \"#f0f921\"]], \"type\": \"histogram2dcontour\"}], \"mesh3d\": [{\"colorbar\": {\"outlinewidth\": 0, \"ticks\": \"\"}, \"type\": \"mesh3d\"}], \"parcoords\": [{\"line\": {\"colorbar\": {\"outlinewidth\": 0, \"ticks\": \"\"}}, \"type\": \"parcoords\"}], \"pie\": [{\"automargin\": true, \"type\": \"pie\"}], \"scatter\": [{\"marker\": {\"colorbar\": {\"outlinewidth\": 0, \"ticks\": \"\"}}, \"type\": \"scatter\"}], \"scatter3d\": [{\"line\": {\"colorbar\": {\"outlinewidth\": 0, \"ticks\": \"\"}}, \"marker\": {\"colorbar\": {\"outlinewidth\": 0, \"ticks\": \"\"}}, \"type\": \"scatter3d\"}], \"scattercarpet\": [{\"marker\": {\"colorbar\": {\"outlinewidth\": 0, \"ticks\": \"\"}}, \"type\": \"scattercarpet\"}], \"scattergeo\": [{\"marker\": {\"colorbar\": {\"outlinewidth\": 0, \"ticks\": \"\"}}, \"type\": \"scattergeo\"}], \"scattergl\": [{\"marker\": {\"colorbar\": {\"outlinewidth\": 0, \"ticks\": \"\"}}, \"type\": \"scattergl\"}], \"scattermapbox\": [{\"marker\": {\"colorbar\": {\"outlinewidth\": 0, \"ticks\": \"\"}}, \"type\": \"scattermapbox\"}], \"scatterpolar\": [{\"marker\": {\"colorbar\": {\"outlinewidth\": 0, \"ticks\": \"\"}}, \"type\": \"scatterpolar\"}], \"scatterpolargl\": [{\"marker\": {\"colorbar\": {\"outlinewidth\": 0, \"ticks\": \"\"}}, \"type\": \"scatterpolargl\"}], \"scatterternary\": [{\"marker\": {\"colorbar\": {\"outlinewidth\": 0, \"ticks\": \"\"}}, \"type\": \"scatterternary\"}], \"surface\": [{\"colorbar\": {\"outlinewidth\": 0, \"ticks\": \"\"}, \"colorscale\": [[0.0, \"#0d0887\"], [0.1111111111111111, \"#46039f\"], [0.2222222222222222, \"#7201a8\"], [0.3333333333333333, \"#9c179e\"], [0.4444444444444444, \"#bd3786\"], [0.5555555555555556, \"#d8576b\"], [0.6666666666666666, \"#ed7953\"], [0.7777777777777778, \"#fb9f3a\"], [0.8888888888888888, \"#fdca26\"], [1.0, \"#f0f921\"]], \"type\": \"surface\"}], \"table\": [{\"cells\": {\"fill\": {\"color\": \"#EBF0F8\"}, \"line\": {\"color\": \"white\"}}, \"header\": {\"fill\": {\"color\": \"#C8D4E3\"}, \"line\": {\"color\": \"white\"}}, \"type\": \"table\"}]}, \"layout\": {\"annotationdefaults\": {\"arrowcolor\": \"#2a3f5f\", \"arrowhead\": 0, \"arrowwidth\": 1}, \"coloraxis\": {\"colorbar\": {\"outlinewidth\": 0, \"ticks\": \"\"}}, \"colorscale\": {\"diverging\": [[0, \"#8e0152\"], [0.1, \"#c51b7d\"], [0.2, \"#de77ae\"], [0.3, \"#f1b6da\"], [0.4, \"#fde0ef\"], [0.5, \"#f7f7f7\"], [0.6, \"#e6f5d0\"], [0.7, \"#b8e186\"], [0.8, \"#7fbc41\"], [0.9, \"#4d9221\"], [1, \"#276419\"]], \"sequential\": [[0.0, \"#0d0887\"], [0.1111111111111111, \"#46039f\"], [0.2222222222222222, \"#7201a8\"], [0.3333333333333333, \"#9c179e\"], [0.4444444444444444, \"#bd3786\"], [0.5555555555555556, \"#d8576b\"], [0.6666666666666666, \"#ed7953\"], [0.7777777777777778, \"#fb9f3a\"], [0.8888888888888888, \"#fdca26\"], [1.0, \"#f0f921\"]], \"sequentialminus\": [[0.0, \"#0d0887\"], [0.1111111111111111, \"#46039f\"], [0.2222222222222222, \"#7201a8\"], [0.3333333333333333, \"#9c179e\"], [0.4444444444444444, \"#bd3786\"], [0.5555555555555556, \"#d8576b\"], [0.6666666666666666, \"#ed7953\"], [0.7777777777777778, \"#fb9f3a\"], [0.8888888888888888, \"#fdca26\"], [1.0, \"#f0f921\"]]}, \"colorway\": [\"#636efa\", \"#EF553B\", \"#00cc96\", \"#ab63fa\", \"#FFA15A\", \"#19d3f3\", \"#FF6692\", \"#B6E880\", \"#FF97FF\", \"#FECB52\"], \"font\": {\"color\": \"#2a3f5f\"}, \"geo\": {\"bgcolor\": \"white\", \"lakecolor\": \"white\", \"landcolor\": \"#E5ECF6\", \"showlakes\": true, \"showland\": true, \"subunitcolor\": \"white\"}, \"hoverlabel\": {\"align\": \"left\"}, \"hovermode\": \"closest\", \"mapbox\": {\"style\": \"light\"}, \"paper_bgcolor\": \"white\", \"plot_bgcolor\": \"#E5ECF6\", \"polar\": {\"angularaxis\": {\"gridcolor\": \"white\", \"linecolor\": \"white\", \"ticks\": \"\"}, \"bgcolor\": \"#E5ECF6\", \"radialaxis\": {\"gridcolor\": \"white\", \"linecolor\": \"white\", \"ticks\": \"\"}}, \"scene\": {\"xaxis\": {\"backgroundcolor\": \"#E5ECF6\", \"gridcolor\": \"white\", \"gridwidth\": 2, \"linecolor\": \"white\", \"showbackground\": true, \"ticks\": \"\", \"zerolinecolor\": \"white\"}, \"yaxis\": {\"backgroundcolor\": \"#E5ECF6\", \"gridcolor\": \"white\", \"gridwidth\": 2, \"linecolor\": \"white\", \"showbackground\": true, \"ticks\": \"\", \"zerolinecolor\": \"white\"}, \"zaxis\": {\"backgroundcolor\": \"#E5ECF6\", \"gridcolor\": \"white\", \"gridwidth\": 2, \"linecolor\": \"white\", \"showbackground\": true, \"ticks\": \"\", \"zerolinecolor\": \"white\"}}, \"shapedefaults\": {\"line\": {\"color\": \"#2a3f5f\"}}, \"ternary\": {\"aaxis\": {\"gridcolor\": \"white\", \"linecolor\": \"white\", \"ticks\": \"\"}, \"baxis\": {\"gridcolor\": \"white\", \"linecolor\": \"white\", \"ticks\": \"\"}, \"bgcolor\": \"#E5ECF6\", \"caxis\": {\"gridcolor\": \"white\", \"linecolor\": \"white\", \"ticks\": \"\"}}, \"title\": {\"x\": 0.05}, \"xaxis\": {\"automargin\": true, \"gridcolor\": \"white\", \"linecolor\": \"white\", \"ticks\": \"\", \"title\": {\"standoff\": 15}, \"zerolinecolor\": \"white\", \"zerolinewidth\": 2}, \"yaxis\": {\"automargin\": true, \"gridcolor\": \"white\", \"linecolor\": \"white\", \"ticks\": \"\", \"title\": {\"standoff\": 15}, \"zerolinecolor\": \"white\", \"zerolinewidth\": 2}}}, \"title\": {\"text\": \" QuantileAD Plot for site MLA on flow direct and device Android\"}},                        {\"responsive\": true}                    ).then(function(){\n",
       "                            \n",
       "var gd = document.getElementById('55b5481a-8405-42ab-8035-1bccab42adc3');\n",
       "var x = new MutationObserver(function (mutations, observer) {{\n",
       "        var display = window.getComputedStyle(gd).display;\n",
       "        if (!display || display === 'none') {{\n",
       "            console.log([gd, 'removed!']);\n",
       "            Plotly.purge(gd);\n",
       "            observer.disconnect();\n",
       "        }}\n",
       "}});\n",
       "\n",
       "// Listen for the removal of the full notebook cells\n",
       "var notebookContainer = gd.closest('#notebook-container');\n",
       "if (notebookContainer) {{\n",
       "    x.observe(notebookContainer, {childList: true});\n",
       "}}\n",
       "\n",
       "// Listen for the clearing of the current output cell\n",
       "var outputEl = gd.closest('.output');\n",
       "if (outputEl) {{\n",
       "    x.observe(outputEl, {childList: true});\n",
       "}}\n",
       "\n",
       "                        })                };                });            </script>        </div>"
      ]
     },
     "metadata": {},
     "output_type": "display_data"
    },
    {
     "data": {
      "application/vnd.plotly.v1+json": {
       "config": {
        "plotlyServerURL": "https://plot.ly"
       },
       "data": [
        {
         "mode": "lines",
         "name": "TOTAL",
         "type": "scatter",
         "x": [
          "2019-03-01T00:00:00+00:00",
          "2019-03-02T00:00:00+00:00",
          "2019-03-03T00:00:00+00:00",
          "2019-03-04T00:00:00+00:00",
          "2019-03-05T00:00:00+00:00",
          "2019-03-06T00:00:00+00:00",
          "2019-03-07T00:00:00+00:00",
          "2019-03-08T00:00:00+00:00",
          "2019-03-09T00:00:00+00:00",
          "2019-03-10T00:00:00+00:00",
          "2019-03-11T00:00:00+00:00",
          "2019-03-12T00:00:00+00:00",
          "2019-03-13T00:00:00+00:00",
          "2019-03-14T00:00:00+00:00",
          "2019-03-15T00:00:00+00:00",
          "2019-03-16T00:00:00+00:00",
          "2019-03-17T00:00:00+00:00",
          "2019-03-18T00:00:00+00:00",
          "2019-03-19T00:00:00+00:00",
          "2019-03-20T00:00:00+00:00",
          "2019-03-21T00:00:00+00:00",
          "2019-03-22T00:00:00+00:00",
          "2019-03-23T00:00:00+00:00",
          "2019-03-24T00:00:00+00:00",
          "2019-03-25T00:00:00+00:00",
          "2019-03-26T00:00:00+00:00",
          "2019-03-27T00:00:00+00:00",
          "2019-03-28T00:00:00+00:00",
          "2019-03-29T00:00:00+00:00",
          "2019-03-30T00:00:00+00:00",
          "2019-03-31T00:00:00+00:00",
          "2019-04-01T00:00:00+00:00",
          "2019-04-02T00:00:00+00:00",
          "2019-04-03T00:00:00+00:00",
          "2019-04-04T00:00:00+00:00",
          "2019-04-05T00:00:00+00:00",
          "2019-04-06T00:00:00+00:00",
          "2019-04-07T00:00:00+00:00",
          "2019-04-08T00:00:00+00:00",
          "2019-04-09T00:00:00+00:00",
          "2019-04-10T00:00:00+00:00",
          "2019-04-11T00:00:00+00:00",
          "2019-04-12T00:00:00+00:00",
          "2019-04-13T00:00:00+00:00",
          "2019-04-14T00:00:00+00:00",
          "2019-04-15T00:00:00+00:00",
          "2019-04-16T00:00:00+00:00",
          "2019-04-17T00:00:00+00:00",
          "2019-04-18T00:00:00+00:00",
          "2019-04-19T00:00:00+00:00",
          "2019-04-20T00:00:00+00:00",
          "2019-04-21T00:00:00+00:00",
          "2019-04-22T00:00:00+00:00",
          "2019-04-23T00:00:00+00:00",
          "2019-04-24T00:00:00+00:00",
          "2019-04-25T00:00:00+00:00",
          "2019-04-26T00:00:00+00:00",
          "2019-04-27T00:00:00+00:00",
          "2019-04-28T00:00:00+00:00",
          "2019-04-29T00:00:00+00:00",
          "2019-04-30T00:00:00+00:00",
          "2019-05-01T00:00:00+00:00",
          "2019-05-02T00:00:00+00:00",
          "2019-05-03T00:00:00+00:00",
          "2019-05-04T00:00:00+00:00",
          "2019-05-05T00:00:00+00:00",
          "2019-05-06T00:00:00+00:00",
          "2019-05-07T00:00:00+00:00",
          "2019-05-08T00:00:00+00:00",
          "2019-05-09T00:00:00+00:00",
          "2019-05-10T00:00:00+00:00",
          "2019-05-11T00:00:00+00:00",
          "2019-05-12T00:00:00+00:00",
          "2019-05-13T00:00:00+00:00",
          "2019-05-14T00:00:00+00:00",
          "2019-05-15T00:00:00+00:00",
          "2019-05-16T00:00:00+00:00",
          "2019-05-17T00:00:00+00:00",
          "2019-05-18T00:00:00+00:00",
          "2019-05-19T00:00:00+00:00",
          "2019-05-20T00:00:00+00:00",
          "2019-05-21T00:00:00+00:00",
          "2019-05-22T00:00:00+00:00",
          "2019-05-23T00:00:00+00:00",
          "2019-05-24T00:00:00+00:00",
          "2019-05-25T00:00:00+00:00",
          "2019-05-26T00:00:00+00:00",
          "2019-05-27T00:00:00+00:00",
          "2019-05-28T00:00:00+00:00",
          "2019-05-29T00:00:00+00:00",
          "2019-05-30T00:00:00+00:00",
          "2019-05-31T00:00:00+00:00",
          "2019-06-01T00:00:00+00:00",
          "2019-06-02T00:00:00+00:00",
          "2019-06-03T00:00:00+00:00",
          "2019-06-04T00:00:00+00:00",
          "2019-06-05T00:00:00+00:00",
          "2019-06-06T00:00:00+00:00",
          "2019-06-07T00:00:00+00:00",
          "2019-06-08T00:00:00+00:00",
          "2019-06-09T00:00:00+00:00",
          "2019-06-10T00:00:00+00:00",
          "2019-06-11T00:00:00+00:00",
          "2019-06-12T00:00:00+00:00",
          "2019-06-13T00:00:00+00:00",
          "2019-06-14T00:00:00+00:00",
          "2019-06-15T00:00:00+00:00",
          "2019-06-16T00:00:00+00:00",
          "2019-06-17T00:00:00+00:00",
          "2019-06-18T00:00:00+00:00",
          "2019-06-19T00:00:00+00:00",
          "2019-06-20T00:00:00+00:00",
          "2019-06-21T00:00:00+00:00",
          "2019-06-22T00:00:00+00:00",
          "2019-06-23T00:00:00+00:00",
          "2019-06-24T00:00:00+00:00",
          "2019-06-25T00:00:00+00:00",
          "2019-06-26T00:00:00+00:00",
          "2019-06-27T00:00:00+00:00",
          "2019-06-28T00:00:00+00:00",
          "2019-06-29T00:00:00+00:00",
          "2019-06-30T00:00:00+00:00",
          "2019-07-01T00:00:00+00:00",
          "2019-07-02T00:00:00+00:00",
          "2019-07-03T00:00:00+00:00",
          "2019-07-04T00:00:00+00:00",
          "2019-07-05T00:00:00+00:00",
          "2019-07-06T00:00:00+00:00",
          "2019-07-07T00:00:00+00:00",
          "2019-07-08T00:00:00+00:00",
          "2019-07-09T00:00:00+00:00",
          "2019-07-10T00:00:00+00:00",
          "2019-07-11T00:00:00+00:00",
          "2019-07-12T00:00:00+00:00",
          "2019-07-13T00:00:00+00:00",
          "2019-07-14T00:00:00+00:00",
          "2019-07-15T00:00:00+00:00",
          "2019-07-16T00:00:00+00:00",
          "2019-07-17T00:00:00+00:00",
          "2019-07-18T00:00:00+00:00",
          "2019-07-19T00:00:00+00:00",
          "2019-07-20T00:00:00+00:00",
          "2019-07-21T00:00:00+00:00",
          "2019-07-22T00:00:00+00:00",
          "2019-07-23T00:00:00+00:00",
          "2019-07-24T00:00:00+00:00",
          "2019-07-25T00:00:00+00:00",
          "2019-07-26T00:00:00+00:00",
          "2019-07-27T00:00:00+00:00",
          "2019-07-28T00:00:00+00:00",
          "2019-07-29T00:00:00+00:00",
          "2019-07-30T00:00:00+00:00",
          "2019-07-31T00:00:00+00:00",
          "2019-08-01T00:00:00+00:00",
          "2019-08-02T00:00:00+00:00",
          "2019-08-03T00:00:00+00:00",
          "2019-08-04T00:00:00+00:00",
          "2019-08-05T00:00:00+00:00",
          "2019-08-06T00:00:00+00:00",
          "2019-08-07T00:00:00+00:00",
          "2019-08-08T00:00:00+00:00",
          "2019-08-09T00:00:00+00:00",
          "2019-08-10T00:00:00+00:00",
          "2019-08-11T00:00:00+00:00",
          "2019-08-12T00:00:00+00:00",
          "2019-08-13T00:00:00+00:00",
          "2019-08-14T00:00:00+00:00",
          "2019-08-15T00:00:00+00:00",
          "2019-08-16T00:00:00+00:00",
          "2019-08-17T00:00:00+00:00",
          "2019-08-18T00:00:00+00:00",
          "2019-08-19T00:00:00+00:00",
          "2019-08-20T00:00:00+00:00",
          "2019-08-21T00:00:00+00:00",
          "2019-08-22T00:00:00+00:00",
          "2019-08-23T00:00:00+00:00",
          "2019-08-24T00:00:00+00:00",
          "2019-08-25T00:00:00+00:00",
          "2019-08-26T00:00:00+00:00",
          "2019-08-27T00:00:00+00:00",
          "2019-08-28T00:00:00+00:00",
          "2019-08-29T00:00:00+00:00",
          "2019-08-30T00:00:00+00:00",
          "2019-08-31T00:00:00+00:00",
          "2019-09-01T00:00:00+00:00",
          "2019-09-02T00:00:00+00:00",
          "2019-09-03T00:00:00+00:00",
          "2019-09-04T00:00:00+00:00",
          "2019-09-05T00:00:00+00:00",
          "2019-09-06T00:00:00+00:00",
          "2019-09-07T00:00:00+00:00",
          "2019-09-08T00:00:00+00:00",
          "2019-09-09T00:00:00+00:00",
          "2019-09-10T00:00:00+00:00",
          "2019-09-11T00:00:00+00:00",
          "2019-09-12T00:00:00+00:00",
          "2019-09-13T00:00:00+00:00",
          "2019-09-14T00:00:00+00:00",
          "2019-09-15T00:00:00+00:00",
          "2019-09-16T00:00:00+00:00",
          "2019-09-17T00:00:00+00:00",
          "2019-09-18T00:00:00+00:00",
          "2019-09-19T00:00:00+00:00",
          "2019-09-20T00:00:00+00:00",
          "2019-09-21T00:00:00+00:00",
          "2019-09-22T00:00:00+00:00",
          "2019-09-23T00:00:00+00:00",
          "2019-09-24T00:00:00+00:00",
          "2019-09-25T00:00:00+00:00",
          "2019-09-26T00:00:00+00:00",
          "2019-09-27T00:00:00+00:00",
          "2019-09-28T00:00:00+00:00",
          "2019-09-29T00:00:00+00:00",
          "2019-09-30T00:00:00+00:00",
          "2019-10-01T00:00:00+00:00",
          "2019-10-02T00:00:00+00:00",
          "2019-10-03T00:00:00+00:00",
          "2019-10-04T00:00:00+00:00",
          "2019-10-05T00:00:00+00:00",
          "2019-10-06T00:00:00+00:00",
          "2019-10-07T00:00:00+00:00",
          "2019-10-08T00:00:00+00:00",
          "2019-10-09T00:00:00+00:00",
          "2019-10-10T00:00:00+00:00",
          "2019-10-11T00:00:00+00:00",
          "2019-10-12T00:00:00+00:00",
          "2019-10-13T00:00:00+00:00",
          "2019-10-14T00:00:00+00:00",
          "2019-10-15T00:00:00+00:00",
          "2019-10-16T00:00:00+00:00",
          "2019-10-17T00:00:00+00:00",
          "2019-10-18T00:00:00+00:00",
          "2019-10-19T00:00:00+00:00",
          "2019-10-20T00:00:00+00:00",
          "2019-10-21T00:00:00+00:00",
          "2019-10-22T00:00:00+00:00",
          "2019-10-23T00:00:00+00:00",
          "2019-10-24T00:00:00+00:00",
          "2019-10-25T00:00:00+00:00",
          "2019-10-26T00:00:00+00:00",
          "2019-10-27T00:00:00+00:00",
          "2019-10-28T00:00:00+00:00",
          "2019-10-29T00:00:00+00:00",
          "2019-10-30T00:00:00+00:00",
          "2019-10-31T00:00:00+00:00",
          "2019-11-01T00:00:00+00:00",
          "2019-11-02T00:00:00+00:00",
          "2019-11-03T00:00:00+00:00",
          "2019-11-04T00:00:00+00:00",
          "2019-11-05T00:00:00+00:00",
          "2019-11-06T00:00:00+00:00",
          "2019-11-07T00:00:00+00:00",
          "2019-11-08T00:00:00+00:00",
          "2019-11-09T00:00:00+00:00",
          "2019-11-10T00:00:00+00:00",
          "2019-11-11T00:00:00+00:00",
          "2019-11-12T00:00:00+00:00",
          "2019-11-13T00:00:00+00:00",
          "2019-11-14T00:00:00+00:00",
          "2019-11-15T00:00:00+00:00",
          "2019-11-16T00:00:00+00:00",
          "2019-11-17T00:00:00+00:00",
          "2019-11-18T00:00:00+00:00",
          "2019-11-19T00:00:00+00:00",
          "2019-11-20T00:00:00+00:00",
          "2019-11-21T00:00:00+00:00",
          "2019-11-22T00:00:00+00:00",
          "2019-11-23T00:00:00+00:00",
          "2019-11-24T00:00:00+00:00",
          "2019-11-25T00:00:00+00:00",
          "2019-11-26T00:00:00+00:00",
          "2019-11-27T00:00:00+00:00",
          "2019-11-28T00:00:00+00:00",
          "2019-11-29T00:00:00+00:00",
          "2019-11-30T00:00:00+00:00",
          "2019-12-01T00:00:00+00:00",
          "2019-12-02T00:00:00+00:00",
          "2019-12-03T00:00:00+00:00",
          "2019-12-04T00:00:00+00:00",
          "2019-12-05T00:00:00+00:00",
          "2019-12-06T00:00:00+00:00",
          "2019-12-07T00:00:00+00:00",
          "2019-12-08T00:00:00+00:00",
          "2019-12-09T00:00:00+00:00",
          "2019-12-10T00:00:00+00:00",
          "2019-12-11T00:00:00+00:00",
          "2019-12-12T00:00:00+00:00",
          "2019-12-13T00:00:00+00:00",
          "2019-12-14T00:00:00+00:00",
          "2019-12-15T00:00:00+00:00",
          "2019-12-16T00:00:00+00:00",
          "2019-12-17T00:00:00+00:00",
          "2019-12-18T00:00:00+00:00",
          "2019-12-19T00:00:00+00:00",
          "2019-12-20T00:00:00+00:00",
          "2019-12-21T00:00:00+00:00",
          "2019-12-22T00:00:00+00:00",
          "2019-12-23T00:00:00+00:00",
          "2019-12-24T00:00:00+00:00",
          "2019-12-25T00:00:00+00:00",
          "2019-12-26T00:00:00+00:00",
          "2019-12-27T00:00:00+00:00",
          "2019-12-28T00:00:00+00:00",
          "2019-12-29T00:00:00+00:00",
          "2019-12-30T00:00:00+00:00",
          "2019-12-31T00:00:00+00:00",
          "2020-01-01T00:00:00+00:00",
          "2020-01-02T00:00:00+00:00",
          "2020-01-03T00:00:00+00:00",
          "2020-01-04T00:00:00+00:00",
          "2020-01-05T00:00:00+00:00",
          "2020-01-06T00:00:00+00:00",
          "2020-01-07T00:00:00+00:00",
          "2020-01-08T00:00:00+00:00",
          "2020-01-09T00:00:00+00:00",
          "2020-01-10T00:00:00+00:00",
          "2020-01-11T00:00:00+00:00",
          "2020-01-12T00:00:00+00:00",
          "2020-01-13T00:00:00+00:00",
          "2020-01-14T00:00:00+00:00",
          "2020-01-15T00:00:00+00:00",
          "2020-01-16T00:00:00+00:00",
          "2020-01-17T00:00:00+00:00",
          "2020-01-18T00:00:00+00:00",
          "2020-01-19T00:00:00+00:00",
          "2020-01-20T00:00:00+00:00",
          "2020-01-21T00:00:00+00:00",
          "2020-01-22T00:00:00+00:00",
          "2020-01-23T00:00:00+00:00",
          "2020-01-24T00:00:00+00:00",
          "2020-01-25T00:00:00+00:00",
          "2020-01-26T00:00:00+00:00",
          "2020-01-27T00:00:00+00:00",
          "2020-01-28T00:00:00+00:00",
          "2020-01-29T00:00:00+00:00",
          "2020-01-30T00:00:00+00:00",
          "2020-01-31T00:00:00+00:00",
          "2020-02-01T00:00:00+00:00",
          "2020-02-02T00:00:00+00:00",
          "2020-02-03T00:00:00+00:00",
          "2020-02-04T00:00:00+00:00",
          "2020-02-05T00:00:00+00:00",
          "2020-02-06T00:00:00+00:00",
          "2020-02-07T00:00:00+00:00",
          "2020-02-08T00:00:00+00:00",
          "2020-02-09T00:00:00+00:00",
          "2020-02-10T00:00:00+00:00",
          "2020-02-11T00:00:00+00:00",
          "2020-02-12T00:00:00+00:00",
          "2020-02-13T00:00:00+00:00",
          "2020-02-14T00:00:00+00:00",
          "2020-02-15T00:00:00+00:00",
          "2020-02-16T00:00:00+00:00",
          "2020-02-17T00:00:00+00:00",
          "2020-02-18T00:00:00+00:00",
          "2020-02-19T00:00:00+00:00",
          "2020-02-20T00:00:00+00:00",
          "2020-02-21T00:00:00+00:00",
          "2020-02-22T00:00:00+00:00",
          "2020-02-23T00:00:00+00:00",
          "2020-02-24T00:00:00+00:00",
          "2020-02-25T00:00:00+00:00",
          "2020-02-26T00:00:00+00:00",
          "2020-02-27T00:00:00+00:00",
          "2020-02-28T00:00:00+00:00",
          "2020-02-29T00:00:00+00:00",
          "2020-03-01T00:00:00+00:00",
          "2020-03-02T00:00:00+00:00",
          "2020-03-03T00:00:00+00:00",
          "2020-03-04T00:00:00+00:00",
          "2020-03-05T00:00:00+00:00",
          "2020-03-06T00:00:00+00:00",
          "2020-03-07T00:00:00+00:00",
          "2020-03-08T00:00:00+00:00",
          "2020-03-09T00:00:00+00:00",
          "2020-03-10T00:00:00+00:00",
          "2020-03-11T00:00:00+00:00",
          "2020-03-12T00:00:00+00:00",
          "2020-03-13T00:00:00+00:00",
          "2020-03-14T00:00:00+00:00",
          "2020-03-15T00:00:00+00:00",
          "2020-03-16T00:00:00+00:00",
          "2020-03-17T00:00:00+00:00",
          "2020-03-18T00:00:00+00:00",
          "2020-03-19T00:00:00+00:00",
          "2020-03-20T00:00:00+00:00",
          "2020-03-21T00:00:00+00:00",
          "2020-03-22T00:00:00+00:00",
          "2020-03-23T00:00:00+00:00",
          "2020-03-24T00:00:00+00:00",
          "2020-03-25T00:00:00+00:00",
          "2020-03-26T00:00:00+00:00",
          "2020-03-27T00:00:00+00:00",
          "2020-03-28T00:00:00+00:00",
          "2020-03-29T00:00:00+00:00",
          "2020-03-30T00:00:00+00:00",
          "2020-03-31T00:00:00+00:00",
          "2020-04-01T00:00:00+00:00",
          "2020-04-02T00:00:00+00:00",
          "2020-04-03T00:00:00+00:00",
          "2020-04-04T00:00:00+00:00",
          "2020-04-05T00:00:00+00:00",
          "2020-04-06T00:00:00+00:00",
          "2020-04-07T00:00:00+00:00",
          "2020-04-08T00:00:00+00:00",
          "2020-04-09T00:00:00+00:00",
          "2020-04-10T00:00:00+00:00",
          "2020-04-11T00:00:00+00:00",
          "2020-04-12T00:00:00+00:00",
          "2020-04-13T00:00:00+00:00",
          "2020-04-14T00:00:00+00:00",
          "2020-04-15T00:00:00+00:00",
          "2020-04-16T00:00:00+00:00",
          "2020-04-17T00:00:00+00:00",
          "2020-04-18T00:00:00+00:00",
          "2020-04-19T00:00:00+00:00",
          "2020-04-20T00:00:00+00:00",
          "2020-04-21T00:00:00+00:00",
          "2020-04-22T00:00:00+00:00",
          "2020-04-23T00:00:00+00:00",
          "2020-04-24T00:00:00+00:00",
          "2020-04-25T00:00:00+00:00",
          "2020-04-26T00:00:00+00:00",
          "2020-04-27T00:00:00+00:00",
          "2020-04-28T00:00:00+00:00",
          "2020-04-29T00:00:00+00:00",
          "2020-04-30T00:00:00+00:00",
          "2020-05-01T00:00:00+00:00",
          "2020-05-02T00:00:00+00:00",
          "2020-05-03T00:00:00+00:00",
          "2020-05-04T00:00:00+00:00",
          "2020-05-05T00:00:00+00:00",
          "2020-05-06T00:00:00+00:00",
          "2020-05-07T00:00:00+00:00",
          "2020-05-08T00:00:00+00:00",
          "2020-05-09T00:00:00+00:00",
          "2020-05-10T00:00:00+00:00",
          "2020-05-11T00:00:00+00:00",
          "2020-05-12T00:00:00+00:00",
          "2020-05-13T00:00:00+00:00",
          "2020-05-14T00:00:00+00:00",
          "2020-05-15T00:00:00+00:00",
          "2020-05-16T00:00:00+00:00",
          "2020-05-17T00:00:00+00:00",
          "2020-05-18T00:00:00+00:00",
          "2020-05-19T00:00:00+00:00",
          "2020-05-20T00:00:00+00:00",
          "2020-05-21T00:00:00+00:00",
          "2020-05-22T00:00:00+00:00",
          "2020-05-23T00:00:00+00:00",
          "2020-05-24T00:00:00+00:00",
          "2020-05-25T00:00:00+00:00",
          "2020-05-26T00:00:00+00:00",
          "2020-05-27T00:00:00+00:00",
          "2020-05-28T00:00:00+00:00",
          "2020-05-29T00:00:00+00:00",
          "2020-05-30T00:00:00+00:00",
          "2020-05-31T00:00:00+00:00",
          "2020-06-01T00:00:00+00:00",
          "2020-06-02T00:00:00+00:00",
          "2020-06-03T00:00:00+00:00",
          "2020-06-04T00:00:00+00:00",
          "2020-06-05T00:00:00+00:00",
          "2020-06-06T00:00:00+00:00",
          "2020-06-07T00:00:00+00:00",
          "2020-06-08T00:00:00+00:00",
          "2020-06-09T00:00:00+00:00",
          "2020-06-10T00:00:00+00:00",
          "2020-06-11T00:00:00+00:00",
          "2020-06-12T00:00:00+00:00",
          "2020-06-13T00:00:00+00:00",
          "2020-06-14T00:00:00+00:00",
          "2020-06-15T00:00:00+00:00",
          "2020-06-16T00:00:00+00:00",
          "2020-06-17T00:00:00+00:00",
          "2020-06-18T00:00:00+00:00",
          "2020-06-19T00:00:00+00:00",
          "2020-06-20T00:00:00+00:00",
          "2020-06-21T00:00:00+00:00",
          "2020-06-22T00:00:00+00:00",
          "2020-06-23T00:00:00+00:00",
          "2020-06-24T00:00:00+00:00",
          "2020-06-25T00:00:00+00:00",
          "2020-06-26T00:00:00+00:00",
          "2020-06-27T00:00:00+00:00",
          "2020-06-28T00:00:00+00:00",
          "2020-06-29T00:00:00+00:00",
          "2020-06-30T00:00:00+00:00"
         ],
         "y": [
          0.551,
          0.493,
          0.442,
          0.465,
          0.487,
          0.5429999999999999,
          0.539,
          0.551,
          0.498,
          0.477,
          0.534,
          0.529,
          0.532,
          0.529,
          0.517,
          0.464,
          0.45,
          0.537,
          0.527,
          0.524,
          0.521,
          0.46,
          0.491,
          0.461,
          0.541,
          0.537,
          0.531,
          0.531,
          0.5379999999999999,
          0.499,
          0.471,
          0.545,
          0.493,
          0.544,
          0.531,
          0.535,
          0.5,
          0.479,
          0.552,
          0.536,
          0.5329999999999999,
          0.528,
          0.5329999999999999,
          0.486,
          0.456,
          0.5329999999999999,
          0.524,
          0.523,
          0.4920000000000001,
          0.45,
          0.472,
          0.446,
          0.508,
          0.502,
          0.501,
          0.511,
          0.519,
          0.474,
          0.458,
          0.52,
          0.503,
          0.456,
          0.528,
          0.53,
          0.491,
          0.458,
          0.534,
          0.608,
          0.5329999999999999,
          0.519,
          0.521,
          0.483,
          0.4370000000000001,
          0.459,
          0.4920000000000001,
          0.509,
          0.479,
          0.489,
          0.444,
          0.45,
          0.479,
          0.485,
          0.49,
          0.499,
          0.513,
          0.455,
          0.455,
          0.513,
          0.499,
          0.483,
          0.505,
          0.507,
          0.481,
          0.462,
          0.526,
          0.525,
          0.52,
          0.525,
          0.529,
          0.4920000000000001,
          0.468,
          0.5479999999999999,
          0.513,
          0.507,
          0.503,
          0.495,
          0.469,
          0.426,
          0.465,
          0.524,
          0.51,
          0.484,
          0.518,
          0.487,
          0.456,
          0.537,
          0.529,
          0.518,
          0.521,
          0.54,
          0.505,
          0.479,
          0.552,
          0.547,
          0.536,
          0.524,
          0.522,
          0.484,
          0.457,
          0.493,
          0.472,
          0.564,
          0.532,
          0.517,
          0.491,
          0.467,
          0.542,
          0.505,
          0.526,
          0.513,
          0.519,
          0.478,
          0.445,
          0.514,
          0.481,
          0.412,
          0.472,
          0.49,
          0.457,
          0.4370000000000001,
          0.472,
          0.468,
          0.477,
          0.505,
          0.507,
          0.464,
          0.448,
          0.522,
          0.462,
          0.483,
          0.496,
          0.4970000000000001,
          0.462,
          0.456,
          0.561,
          0.534,
          0.521,
          0.511,
          0.504,
          0.477,
          0.4320000000000001,
          0.469,
          0.501,
          0.488,
          0.482,
          0.499,
          0.466,
          0.442,
          0.512,
          0.419,
          0.506,
          0.491,
          0.503,
          0.475,
          0.471,
          0.523,
          0.481,
          0.5,
          0.484,
          0.51,
          0.482,
          0.457,
          0.516,
          0.514,
          0.487,
          0.499,
          0.502,
          0.461,
          0.441,
          0.518,
          0.506,
          0.504,
          0.501,
          0.511,
          0.474,
          0.466,
          0.515,
          0.473,
          0.498,
          0.507,
          0.516,
          0.474,
          0.462,
          0.504,
          0.519,
          0.51,
          0.516,
          0.517,
          0.488,
          0.46,
          0.535,
          0.517,
          0.518,
          0.525,
          0.506,
          0.461,
          0.443,
          0.481,
          0.517,
          0.505,
          0.519,
          0.499,
          0.485,
          0.438,
          0.519,
          0.512,
          0.508,
          0.509,
          0.5429999999999999,
          0.522,
          0.508,
          0.523,
          0.522,
          0.508,
          0.506,
          0.527,
          0.482,
          0.443,
          0.45,
          0.494,
          0.509,
          0.487,
          0.494,
          0.475,
          0.459,
          0.515,
          0.509,
          0.52,
          0.498,
          0.511,
          0.456,
          0.401,
          0.469,
          0.521,
          0.487,
          0.483,
          0.499,
          0.46,
          0.435,
          0.498,
          0.489,
          0.491,
          0.476,
          0.46,
          0.453,
          0.442,
          0.473,
          0.479,
          0.481,
          0.622,
          0.53,
          0.482,
          0.45,
          0.519,
          0.51,
          0.502,
          0.516,
          0.507,
          0.473,
          0.472,
          0.44,
          0.52,
          0.522,
          0.523,
          0.512,
          0.482,
          0.462,
          0.55,
          0.494,
          0.417,
          0.502,
          0.514,
          0.467,
          0.439,
          0.504,
          0.471,
          0.435,
          0.524,
          0.49,
          0.457,
          0.449,
          0.512,
          0.498,
          0.491,
          0.483,
          0.481,
          0.426,
          0.416,
          0.519,
          0.501,
          0.477,
          0.477,
          0.459,
          0.447,
          0.418,
          0.451,
          0.478,
          0.461,
          0.481,
          0.489,
          0.452,
          0.4270000000000001,
          0.505,
          0.482,
          0.477,
          0.481,
          0.483,
          0.461,
          0.44,
          0.515,
          0.505,
          0.4920000000000001,
          0.498,
          0.499,
          0.461,
          0.442,
          0.516,
          0.506,
          0.501,
          0.495,
          0.496,
          0.447,
          0.4270000000000001,
          0.493,
          0.489,
          0.481,
          0.481,
          0.487,
          0.442,
          0.408,
          0.428,
          0.459,
          0.512,
          0.489,
          0.495,
          0.469,
          0.45,
          0.495,
          0.505,
          0.5,
          0.501,
          0.501,
          0.465,
          0.449,
          0.496,
          0.506,
          0.491,
          0.501,
          0.494,
          0.453,
          0.446,
          0.508,
          0.489,
          0.483,
          0.48,
          0.388,
          0.355,
          0.343,
          0.369,
          0.3670000000000001,
          0.392,
          0.394,
          0.416,
          0.399,
          0.395,
          0.429,
          0.458,
          0.465,
          0.471,
          0.473,
          0.464,
          0.447,
          0.477,
          0.482,
          0.474,
          0.476,
          0.468,
          0.475,
          0.468,
          0.501,
          0.503,
          0.496,
          0.494,
          0.489,
          0.469,
          0.46,
          0.495,
          0.498,
          0.488,
          0.488,
          0.495,
          0.472,
          0.462,
          0.501,
          0.489,
          0.496,
          0.491,
          0.489,
          0.49,
          0.472,
          0.511,
          0.514,
          0.505,
          0.525,
          0.528,
          0.488,
          0.473,
          0.499,
          0.505,
          0.503,
          0.506,
          0.49,
          0.471,
          0.463,
          0.504,
          0.502,
          0.495,
          0.493,
          0.4920000000000001,
          0.466,
          0.442,
          0.481,
          0.515,
          0.507,
          0.507,
          0.521,
          0.489,
          0.483,
          0.531,
          0.528,
          0.52,
          0.532,
          0.52,
          0.4920000000000001,
          0.48,
          0.527,
          0.523,
          0.523,
          0.53,
          0.523,
          0.493,
          0.478,
          0.51,
          0.534,
          0.529,
          0.531,
          0.525,
          0.491,
          0.487,
          0.528,
          0.517,
          0.516,
          0.527,
          0.537,
          0.502,
          0.494,
          0.536,
          0.529
         ]
        },
        {
         "marker": {
          "color": "LightSkyBlue",
          "line": {
           "color": "red",
           "width": 2
          },
          "opacity": 0.5,
          "size": 6
         },
         "mode": "markers",
         "showlegend": false,
         "type": "scatter",
         "x": [
          "2019-03-01T00:00:00+00:00",
          "2019-03-03T00:00:00+00:00",
          "2019-03-06T00:00:00+00:00",
          "2019-03-07T00:00:00+00:00",
          "2019-03-08T00:00:00+00:00",
          "2019-03-11T00:00:00+00:00",
          "2019-03-13T00:00:00+00:00",
          "2019-03-17T00:00:00+00:00",
          "2019-03-18T00:00:00+00:00",
          "2019-03-25T00:00:00+00:00",
          "2019-03-26T00:00:00+00:00",
          "2019-03-29T00:00:00+00:00",
          "2019-04-01T00:00:00+00:00",
          "2019-04-03T00:00:00+00:00",
          "2019-04-05T00:00:00+00:00",
          "2019-04-08T00:00:00+00:00",
          "2019-04-09T00:00:00+00:00",
          "2019-04-10T00:00:00+00:00",
          "2019-04-12T00:00:00+00:00",
          "2019-04-14T00:00:00+00:00",
          "2019-04-15T00:00:00+00:00",
          "2019-04-19T00:00:00+00:00",
          "2019-04-21T00:00:00+00:00",
          "2019-05-01T00:00:00+00:00",
          "2019-05-06T00:00:00+00:00",
          "2019-05-07T00:00:00+00:00",
          "2019-05-08T00:00:00+00:00",
          "2019-05-12T00:00:00+00:00",
          "2019-05-18T00:00:00+00:00",
          "2019-05-19T00:00:00+00:00",
          "2019-05-25T00:00:00+00:00",
          "2019-05-26T00:00:00+00:00",
          "2019-06-10T00:00:00+00:00",
          "2019-06-16T00:00:00+00:00",
          "2019-06-23T00:00:00+00:00",
          "2019-06-24T00:00:00+00:00",
          "2019-06-28T00:00:00+00:00",
          "2019-07-01T00:00:00+00:00",
          "2019-07-02T00:00:00+00:00",
          "2019-07-03T00:00:00+00:00",
          "2019-07-07T00:00:00+00:00",
          "2019-07-10T00:00:00+00:00",
          "2019-07-11T00:00:00+00:00",
          "2019-07-15T00:00:00+00:00",
          "2019-07-21T00:00:00+00:00",
          "2019-07-24T00:00:00+00:00",
          "2019-07-27T00:00:00+00:00",
          "2019-07-28T00:00:00+00:00",
          "2019-08-04T00:00:00+00:00",
          "2019-08-11T00:00:00+00:00",
          "2019-08-12T00:00:00+00:00",
          "2019-08-13T00:00:00+00:00",
          "2019-08-18T00:00:00+00:00",
          "2019-08-25T00:00:00+00:00",
          "2019-08-27T00:00:00+00:00",
          "2019-09-08T00:00:00+00:00",
          "2019-09-15T00:00:00+00:00",
          "2019-10-07T00:00:00+00:00",
          "2019-10-13T00:00:00+00:00",
          "2019-10-20T00:00:00+00:00",
          "2019-10-25T00:00:00+00:00",
          "2019-11-03T00:00:00+00:00",
          "2019-11-04T00:00:00+00:00",
          "2019-11-16T00:00:00+00:00",
          "2019-11-17T00:00:00+00:00",
          "2019-11-24T00:00:00+00:00",
          "2019-11-30T00:00:00+00:00",
          "2019-12-01T00:00:00+00:00",
          "2019-12-05T00:00:00+00:00",
          "2019-12-08T00:00:00+00:00",
          "2019-12-16T00:00:00+00:00",
          "2019-12-23T00:00:00+00:00",
          "2019-12-25T00:00:00+00:00",
          "2019-12-29T00:00:00+00:00",
          "2020-01-01T00:00:00+00:00",
          "2020-01-04T00:00:00+00:00",
          "2020-01-05T00:00:00+00:00",
          "2020-01-11T00:00:00+00:00",
          "2020-01-12T00:00:00+00:00",
          "2020-01-18T00:00:00+00:00",
          "2020-01-19T00:00:00+00:00",
          "2020-01-20T00:00:00+00:00",
          "2020-01-25T00:00:00+00:00",
          "2020-01-26T00:00:00+00:00",
          "2020-02-02T00:00:00+00:00",
          "2020-02-09T00:00:00+00:00",
          "2020-02-15T00:00:00+00:00",
          "2020-02-16T00:00:00+00:00",
          "2020-02-22T00:00:00+00:00",
          "2020-02-23T00:00:00+00:00",
          "2020-02-24T00:00:00+00:00",
          "2020-03-01T00:00:00+00:00",
          "2020-03-08T00:00:00+00:00",
          "2020-03-14T00:00:00+00:00",
          "2020-03-15T00:00:00+00:00",
          "2020-03-20T00:00:00+00:00",
          "2020-03-21T00:00:00+00:00",
          "2020-03-22T00:00:00+00:00",
          "2020-03-23T00:00:00+00:00",
          "2020-03-24T00:00:00+00:00",
          "2020-03-25T00:00:00+00:00",
          "2020-03-26T00:00:00+00:00",
          "2020-03-27T00:00:00+00:00",
          "2020-03-28T00:00:00+00:00",
          "2020-03-29T00:00:00+00:00",
          "2020-03-30T00:00:00+00:00",
          "2020-04-05T00:00:00+00:00",
          "2020-05-24T00:00:00+00:00",
          "2020-06-04T00:00:00+00:00",
          "2020-06-16T00:00:00+00:00",
          "2020-06-26T00:00:00+00:00",
          "2020-06-29T00:00:00+00:00"
         ],
         "y": [
          0.551,
          0.442,
          0.5429999999999999,
          0.539,
          0.551,
          0.534,
          0.532,
          0.45,
          0.537,
          0.541,
          0.537,
          0.5379999999999999,
          0.545,
          0.544,
          0.535,
          0.552,
          0.536,
          0.5329999999999999,
          0.5329999999999999,
          0.456,
          0.5329999999999999,
          0.45,
          0.446,
          0.456,
          0.534,
          0.608,
          0.5329999999999999,
          0.4370000000000001,
          0.444,
          0.45,
          0.455,
          0.455,
          0.5479999999999999,
          0.426,
          0.456,
          0.537,
          0.54,
          0.552,
          0.547,
          0.536,
          0.457,
          0.564,
          0.532,
          0.542,
          0.445,
          0.412,
          0.457,
          0.4370000000000001,
          0.448,
          0.456,
          0.561,
          0.534,
          0.4320000000000001,
          0.442,
          0.419,
          0.457,
          0.441,
          0.535,
          0.443,
          0.438,
          0.5429999999999999,
          0.443,
          0.45,
          0.456,
          0.401,
          0.435,
          0.453,
          0.442,
          0.622,
          0.45,
          0.44,
          0.55,
          0.417,
          0.439,
          0.435,
          0.457,
          0.449,
          0.426,
          0.416,
          0.447,
          0.418,
          0.451,
          0.452,
          0.4270000000000001,
          0.44,
          0.442,
          0.447,
          0.4270000000000001,
          0.442,
          0.408,
          0.428,
          0.45,
          0.449,
          0.453,
          0.446,
          0.388,
          0.355,
          0.343,
          0.369,
          0.3670000000000001,
          0.392,
          0.394,
          0.416,
          0.399,
          0.395,
          0.429,
          0.447,
          0.442,
          0.532,
          0.534,
          0.537,
          0.536
         ]
        }
       ],
       "layout": {
        "template": {
         "data": {
          "bar": [
           {
            "error_x": {
             "color": "#2a3f5f"
            },
            "error_y": {
             "color": "#2a3f5f"
            },
            "marker": {
             "line": {
              "color": "#E5ECF6",
              "width": 0.5
             }
            },
            "type": "bar"
           }
          ],
          "barpolar": [
           {
            "marker": {
             "line": {
              "color": "#E5ECF6",
              "width": 0.5
             }
            },
            "type": "barpolar"
           }
          ],
          "carpet": [
           {
            "aaxis": {
             "endlinecolor": "#2a3f5f",
             "gridcolor": "white",
             "linecolor": "white",
             "minorgridcolor": "white",
             "startlinecolor": "#2a3f5f"
            },
            "baxis": {
             "endlinecolor": "#2a3f5f",
             "gridcolor": "white",
             "linecolor": "white",
             "minorgridcolor": "white",
             "startlinecolor": "#2a3f5f"
            },
            "type": "carpet"
           }
          ],
          "choropleth": [
           {
            "colorbar": {
             "outlinewidth": 0,
             "ticks": ""
            },
            "type": "choropleth"
           }
          ],
          "contour": [
           {
            "colorbar": {
             "outlinewidth": 0,
             "ticks": ""
            },
            "colorscale": [
             [
              0,
              "#0d0887"
             ],
             [
              0.1111111111111111,
              "#46039f"
             ],
             [
              0.2222222222222222,
              "#7201a8"
             ],
             [
              0.3333333333333333,
              "#9c179e"
             ],
             [
              0.4444444444444444,
              "#bd3786"
             ],
             [
              0.5555555555555556,
              "#d8576b"
             ],
             [
              0.6666666666666666,
              "#ed7953"
             ],
             [
              0.7777777777777778,
              "#fb9f3a"
             ],
             [
              0.8888888888888888,
              "#fdca26"
             ],
             [
              1,
              "#f0f921"
             ]
            ],
            "type": "contour"
           }
          ],
          "contourcarpet": [
           {
            "colorbar": {
             "outlinewidth": 0,
             "ticks": ""
            },
            "type": "contourcarpet"
           }
          ],
          "heatmap": [
           {
            "colorbar": {
             "outlinewidth": 0,
             "ticks": ""
            },
            "colorscale": [
             [
              0,
              "#0d0887"
             ],
             [
              0.1111111111111111,
              "#46039f"
             ],
             [
              0.2222222222222222,
              "#7201a8"
             ],
             [
              0.3333333333333333,
              "#9c179e"
             ],
             [
              0.4444444444444444,
              "#bd3786"
             ],
             [
              0.5555555555555556,
              "#d8576b"
             ],
             [
              0.6666666666666666,
              "#ed7953"
             ],
             [
              0.7777777777777778,
              "#fb9f3a"
             ],
             [
              0.8888888888888888,
              "#fdca26"
             ],
             [
              1,
              "#f0f921"
             ]
            ],
            "type": "heatmap"
           }
          ],
          "heatmapgl": [
           {
            "colorbar": {
             "outlinewidth": 0,
             "ticks": ""
            },
            "colorscale": [
             [
              0,
              "#0d0887"
             ],
             [
              0.1111111111111111,
              "#46039f"
             ],
             [
              0.2222222222222222,
              "#7201a8"
             ],
             [
              0.3333333333333333,
              "#9c179e"
             ],
             [
              0.4444444444444444,
              "#bd3786"
             ],
             [
              0.5555555555555556,
              "#d8576b"
             ],
             [
              0.6666666666666666,
              "#ed7953"
             ],
             [
              0.7777777777777778,
              "#fb9f3a"
             ],
             [
              0.8888888888888888,
              "#fdca26"
             ],
             [
              1,
              "#f0f921"
             ]
            ],
            "type": "heatmapgl"
           }
          ],
          "histogram": [
           {
            "marker": {
             "colorbar": {
              "outlinewidth": 0,
              "ticks": ""
             }
            },
            "type": "histogram"
           }
          ],
          "histogram2d": [
           {
            "colorbar": {
             "outlinewidth": 0,
             "ticks": ""
            },
            "colorscale": [
             [
              0,
              "#0d0887"
             ],
             [
              0.1111111111111111,
              "#46039f"
             ],
             [
              0.2222222222222222,
              "#7201a8"
             ],
             [
              0.3333333333333333,
              "#9c179e"
             ],
             [
              0.4444444444444444,
              "#bd3786"
             ],
             [
              0.5555555555555556,
              "#d8576b"
             ],
             [
              0.6666666666666666,
              "#ed7953"
             ],
             [
              0.7777777777777778,
              "#fb9f3a"
             ],
             [
              0.8888888888888888,
              "#fdca26"
             ],
             [
              1,
              "#f0f921"
             ]
            ],
            "type": "histogram2d"
           }
          ],
          "histogram2dcontour": [
           {
            "colorbar": {
             "outlinewidth": 0,
             "ticks": ""
            },
            "colorscale": [
             [
              0,
              "#0d0887"
             ],
             [
              0.1111111111111111,
              "#46039f"
             ],
             [
              0.2222222222222222,
              "#7201a8"
             ],
             [
              0.3333333333333333,
              "#9c179e"
             ],
             [
              0.4444444444444444,
              "#bd3786"
             ],
             [
              0.5555555555555556,
              "#d8576b"
             ],
             [
              0.6666666666666666,
              "#ed7953"
             ],
             [
              0.7777777777777778,
              "#fb9f3a"
             ],
             [
              0.8888888888888888,
              "#fdca26"
             ],
             [
              1,
              "#f0f921"
             ]
            ],
            "type": "histogram2dcontour"
           }
          ],
          "mesh3d": [
           {
            "colorbar": {
             "outlinewidth": 0,
             "ticks": ""
            },
            "type": "mesh3d"
           }
          ],
          "parcoords": [
           {
            "line": {
             "colorbar": {
              "outlinewidth": 0,
              "ticks": ""
             }
            },
            "type": "parcoords"
           }
          ],
          "pie": [
           {
            "automargin": true,
            "type": "pie"
           }
          ],
          "scatter": [
           {
            "marker": {
             "colorbar": {
              "outlinewidth": 0,
              "ticks": ""
             }
            },
            "type": "scatter"
           }
          ],
          "scatter3d": [
           {
            "line": {
             "colorbar": {
              "outlinewidth": 0,
              "ticks": ""
             }
            },
            "marker": {
             "colorbar": {
              "outlinewidth": 0,
              "ticks": ""
             }
            },
            "type": "scatter3d"
           }
          ],
          "scattercarpet": [
           {
            "marker": {
             "colorbar": {
              "outlinewidth": 0,
              "ticks": ""
             }
            },
            "type": "scattercarpet"
           }
          ],
          "scattergeo": [
           {
            "marker": {
             "colorbar": {
              "outlinewidth": 0,
              "ticks": ""
             }
            },
            "type": "scattergeo"
           }
          ],
          "scattergl": [
           {
            "marker": {
             "colorbar": {
              "outlinewidth": 0,
              "ticks": ""
             }
            },
            "type": "scattergl"
           }
          ],
          "scattermapbox": [
           {
            "marker": {
             "colorbar": {
              "outlinewidth": 0,
              "ticks": ""
             }
            },
            "type": "scattermapbox"
           }
          ],
          "scatterpolar": [
           {
            "marker": {
             "colorbar": {
              "outlinewidth": 0,
              "ticks": ""
             }
            },
            "type": "scatterpolar"
           }
          ],
          "scatterpolargl": [
           {
            "marker": {
             "colorbar": {
              "outlinewidth": 0,
              "ticks": ""
             }
            },
            "type": "scatterpolargl"
           }
          ],
          "scatterternary": [
           {
            "marker": {
             "colorbar": {
              "outlinewidth": 0,
              "ticks": ""
             }
            },
            "type": "scatterternary"
           }
          ],
          "surface": [
           {
            "colorbar": {
             "outlinewidth": 0,
             "ticks": ""
            },
            "colorscale": [
             [
              0,
              "#0d0887"
             ],
             [
              0.1111111111111111,
              "#46039f"
             ],
             [
              0.2222222222222222,
              "#7201a8"
             ],
             [
              0.3333333333333333,
              "#9c179e"
             ],
             [
              0.4444444444444444,
              "#bd3786"
             ],
             [
              0.5555555555555556,
              "#d8576b"
             ],
             [
              0.6666666666666666,
              "#ed7953"
             ],
             [
              0.7777777777777778,
              "#fb9f3a"
             ],
             [
              0.8888888888888888,
              "#fdca26"
             ],
             [
              1,
              "#f0f921"
             ]
            ],
            "type": "surface"
           }
          ],
          "table": [
           {
            "cells": {
             "fill": {
              "color": "#EBF0F8"
             },
             "line": {
              "color": "white"
             }
            },
            "header": {
             "fill": {
              "color": "#C8D4E3"
             },
             "line": {
              "color": "white"
             }
            },
            "type": "table"
           }
          ]
         },
         "layout": {
          "annotationdefaults": {
           "arrowcolor": "#2a3f5f",
           "arrowhead": 0,
           "arrowwidth": 1
          },
          "coloraxis": {
           "colorbar": {
            "outlinewidth": 0,
            "ticks": ""
           }
          },
          "colorscale": {
           "diverging": [
            [
             0,
             "#8e0152"
            ],
            [
             0.1,
             "#c51b7d"
            ],
            [
             0.2,
             "#de77ae"
            ],
            [
             0.3,
             "#f1b6da"
            ],
            [
             0.4,
             "#fde0ef"
            ],
            [
             0.5,
             "#f7f7f7"
            ],
            [
             0.6,
             "#e6f5d0"
            ],
            [
             0.7,
             "#b8e186"
            ],
            [
             0.8,
             "#7fbc41"
            ],
            [
             0.9,
             "#4d9221"
            ],
            [
             1,
             "#276419"
            ]
           ],
           "sequential": [
            [
             0,
             "#0d0887"
            ],
            [
             0.1111111111111111,
             "#46039f"
            ],
            [
             0.2222222222222222,
             "#7201a8"
            ],
            [
             0.3333333333333333,
             "#9c179e"
            ],
            [
             0.4444444444444444,
             "#bd3786"
            ],
            [
             0.5555555555555556,
             "#d8576b"
            ],
            [
             0.6666666666666666,
             "#ed7953"
            ],
            [
             0.7777777777777778,
             "#fb9f3a"
            ],
            [
             0.8888888888888888,
             "#fdca26"
            ],
            [
             1,
             "#f0f921"
            ]
           ],
           "sequentialminus": [
            [
             0,
             "#0d0887"
            ],
            [
             0.1111111111111111,
             "#46039f"
            ],
            [
             0.2222222222222222,
             "#7201a8"
            ],
            [
             0.3333333333333333,
             "#9c179e"
            ],
            [
             0.4444444444444444,
             "#bd3786"
            ],
            [
             0.5555555555555556,
             "#d8576b"
            ],
            [
             0.6666666666666666,
             "#ed7953"
            ],
            [
             0.7777777777777778,
             "#fb9f3a"
            ],
            [
             0.8888888888888888,
             "#fdca26"
            ],
            [
             1,
             "#f0f921"
            ]
           ]
          },
          "colorway": [
           "#636efa",
           "#EF553B",
           "#00cc96",
           "#ab63fa",
           "#FFA15A",
           "#19d3f3",
           "#FF6692",
           "#B6E880",
           "#FF97FF",
           "#FECB52"
          ],
          "font": {
           "color": "#2a3f5f"
          },
          "geo": {
           "bgcolor": "white",
           "lakecolor": "white",
           "landcolor": "#E5ECF6",
           "showlakes": true,
           "showland": true,
           "subunitcolor": "white"
          },
          "hoverlabel": {
           "align": "left"
          },
          "hovermode": "closest",
          "mapbox": {
           "style": "light"
          },
          "paper_bgcolor": "white",
          "plot_bgcolor": "#E5ECF6",
          "polar": {
           "angularaxis": {
            "gridcolor": "white",
            "linecolor": "white",
            "ticks": ""
           },
           "bgcolor": "#E5ECF6",
           "radialaxis": {
            "gridcolor": "white",
            "linecolor": "white",
            "ticks": ""
           }
          },
          "scene": {
           "xaxis": {
            "backgroundcolor": "#E5ECF6",
            "gridcolor": "white",
            "gridwidth": 2,
            "linecolor": "white",
            "showbackground": true,
            "ticks": "",
            "zerolinecolor": "white"
           },
           "yaxis": {
            "backgroundcolor": "#E5ECF6",
            "gridcolor": "white",
            "gridwidth": 2,
            "linecolor": "white",
            "showbackground": true,
            "ticks": "",
            "zerolinecolor": "white"
           },
           "zaxis": {
            "backgroundcolor": "#E5ECF6",
            "gridcolor": "white",
            "gridwidth": 2,
            "linecolor": "white",
            "showbackground": true,
            "ticks": "",
            "zerolinecolor": "white"
           }
          },
          "shapedefaults": {
           "line": {
            "color": "#2a3f5f"
           }
          },
          "ternary": {
           "aaxis": {
            "gridcolor": "white",
            "linecolor": "white",
            "ticks": ""
           },
           "baxis": {
            "gridcolor": "white",
            "linecolor": "white",
            "ticks": ""
           },
           "bgcolor": "#E5ECF6",
           "caxis": {
            "gridcolor": "white",
            "linecolor": "white",
            "ticks": ""
           }
          },
          "title": {
           "x": 0.05
          },
          "xaxis": {
           "automargin": true,
           "gridcolor": "white",
           "linecolor": "white",
           "ticks": "",
           "title": {
            "standoff": 15
           },
           "zerolinecolor": "white",
           "zerolinewidth": 2
          },
          "yaxis": {
           "automargin": true,
           "gridcolor": "white",
           "linecolor": "white",
           "ticks": "",
           "title": {
            "standoff": 15
           },
           "zerolinecolor": "white",
           "zerolinewidth": 2
          }
         }
        },
        "title": {
         "text": " OutlierDetector Plot for site MLA on flow direct and device Android"
        }
       }
      },
      "text/html": [
       "<div>                            <div id=\"d10cab2b-dcf1-469c-8bc9-7756f3eba528\" class=\"plotly-graph-div\" style=\"height:525px; width:100%;\"></div>            <script type=\"text/javascript\">                require([\"plotly\"], function(Plotly) {                    window.PLOTLYENV=window.PLOTLYENV || {};                                    if (document.getElementById(\"d10cab2b-dcf1-469c-8bc9-7756f3eba528\")) {                    Plotly.newPlot(                        \"d10cab2b-dcf1-469c-8bc9-7756f3eba528\",                        [{\"mode\": \"lines\", \"name\": \"TOTAL\", \"type\": \"scatter\", \"x\": [\"2019-03-01T00:00:00+00:00\", \"2019-03-02T00:00:00+00:00\", \"2019-03-03T00:00:00+00:00\", \"2019-03-04T00:00:00+00:00\", \"2019-03-05T00:00:00+00:00\", \"2019-03-06T00:00:00+00:00\", \"2019-03-07T00:00:00+00:00\", \"2019-03-08T00:00:00+00:00\", \"2019-03-09T00:00:00+00:00\", \"2019-03-10T00:00:00+00:00\", \"2019-03-11T00:00:00+00:00\", \"2019-03-12T00:00:00+00:00\", \"2019-03-13T00:00:00+00:00\", \"2019-03-14T00:00:00+00:00\", \"2019-03-15T00:00:00+00:00\", \"2019-03-16T00:00:00+00:00\", \"2019-03-17T00:00:00+00:00\", \"2019-03-18T00:00:00+00:00\", \"2019-03-19T00:00:00+00:00\", \"2019-03-20T00:00:00+00:00\", \"2019-03-21T00:00:00+00:00\", \"2019-03-22T00:00:00+00:00\", \"2019-03-23T00:00:00+00:00\", \"2019-03-24T00:00:00+00:00\", \"2019-03-25T00:00:00+00:00\", \"2019-03-26T00:00:00+00:00\", \"2019-03-27T00:00:00+00:00\", \"2019-03-28T00:00:00+00:00\", \"2019-03-29T00:00:00+00:00\", \"2019-03-30T00:00:00+00:00\", \"2019-03-31T00:00:00+00:00\", \"2019-04-01T00:00:00+00:00\", \"2019-04-02T00:00:00+00:00\", \"2019-04-03T00:00:00+00:00\", \"2019-04-04T00:00:00+00:00\", \"2019-04-05T00:00:00+00:00\", \"2019-04-06T00:00:00+00:00\", \"2019-04-07T00:00:00+00:00\", \"2019-04-08T00:00:00+00:00\", \"2019-04-09T00:00:00+00:00\", \"2019-04-10T00:00:00+00:00\", \"2019-04-11T00:00:00+00:00\", \"2019-04-12T00:00:00+00:00\", \"2019-04-13T00:00:00+00:00\", \"2019-04-14T00:00:00+00:00\", \"2019-04-15T00:00:00+00:00\", \"2019-04-16T00:00:00+00:00\", \"2019-04-17T00:00:00+00:00\", \"2019-04-18T00:00:00+00:00\", \"2019-04-19T00:00:00+00:00\", \"2019-04-20T00:00:00+00:00\", \"2019-04-21T00:00:00+00:00\", \"2019-04-22T00:00:00+00:00\", \"2019-04-23T00:00:00+00:00\", \"2019-04-24T00:00:00+00:00\", \"2019-04-25T00:00:00+00:00\", \"2019-04-26T00:00:00+00:00\", \"2019-04-27T00:00:00+00:00\", \"2019-04-28T00:00:00+00:00\", \"2019-04-29T00:00:00+00:00\", \"2019-04-30T00:00:00+00:00\", \"2019-05-01T00:00:00+00:00\", \"2019-05-02T00:00:00+00:00\", \"2019-05-03T00:00:00+00:00\", \"2019-05-04T00:00:00+00:00\", \"2019-05-05T00:00:00+00:00\", \"2019-05-06T00:00:00+00:00\", \"2019-05-07T00:00:00+00:00\", \"2019-05-08T00:00:00+00:00\", \"2019-05-09T00:00:00+00:00\", \"2019-05-10T00:00:00+00:00\", \"2019-05-11T00:00:00+00:00\", \"2019-05-12T00:00:00+00:00\", \"2019-05-13T00:00:00+00:00\", \"2019-05-14T00:00:00+00:00\", \"2019-05-15T00:00:00+00:00\", \"2019-05-16T00:00:00+00:00\", \"2019-05-17T00:00:00+00:00\", \"2019-05-18T00:00:00+00:00\", \"2019-05-19T00:00:00+00:00\", \"2019-05-20T00:00:00+00:00\", \"2019-05-21T00:00:00+00:00\", \"2019-05-22T00:00:00+00:00\", \"2019-05-23T00:00:00+00:00\", \"2019-05-24T00:00:00+00:00\", \"2019-05-25T00:00:00+00:00\", \"2019-05-26T00:00:00+00:00\", \"2019-05-27T00:00:00+00:00\", \"2019-05-28T00:00:00+00:00\", \"2019-05-29T00:00:00+00:00\", \"2019-05-30T00:00:00+00:00\", \"2019-05-31T00:00:00+00:00\", \"2019-06-01T00:00:00+00:00\", \"2019-06-02T00:00:00+00:00\", \"2019-06-03T00:00:00+00:00\", \"2019-06-04T00:00:00+00:00\", \"2019-06-05T00:00:00+00:00\", \"2019-06-06T00:00:00+00:00\", \"2019-06-07T00:00:00+00:00\", \"2019-06-08T00:00:00+00:00\", \"2019-06-09T00:00:00+00:00\", \"2019-06-10T00:00:00+00:00\", \"2019-06-11T00:00:00+00:00\", \"2019-06-12T00:00:00+00:00\", \"2019-06-13T00:00:00+00:00\", \"2019-06-14T00:00:00+00:00\", \"2019-06-15T00:00:00+00:00\", \"2019-06-16T00:00:00+00:00\", \"2019-06-17T00:00:00+00:00\", \"2019-06-18T00:00:00+00:00\", \"2019-06-19T00:00:00+00:00\", \"2019-06-20T00:00:00+00:00\", \"2019-06-21T00:00:00+00:00\", \"2019-06-22T00:00:00+00:00\", \"2019-06-23T00:00:00+00:00\", \"2019-06-24T00:00:00+00:00\", \"2019-06-25T00:00:00+00:00\", \"2019-06-26T00:00:00+00:00\", \"2019-06-27T00:00:00+00:00\", \"2019-06-28T00:00:00+00:00\", \"2019-06-29T00:00:00+00:00\", \"2019-06-30T00:00:00+00:00\", \"2019-07-01T00:00:00+00:00\", \"2019-07-02T00:00:00+00:00\", \"2019-07-03T00:00:00+00:00\", \"2019-07-04T00:00:00+00:00\", \"2019-07-05T00:00:00+00:00\", \"2019-07-06T00:00:00+00:00\", \"2019-07-07T00:00:00+00:00\", \"2019-07-08T00:00:00+00:00\", \"2019-07-09T00:00:00+00:00\", \"2019-07-10T00:00:00+00:00\", \"2019-07-11T00:00:00+00:00\", \"2019-07-12T00:00:00+00:00\", \"2019-07-13T00:00:00+00:00\", \"2019-07-14T00:00:00+00:00\", \"2019-07-15T00:00:00+00:00\", \"2019-07-16T00:00:00+00:00\", \"2019-07-17T00:00:00+00:00\", \"2019-07-18T00:00:00+00:00\", \"2019-07-19T00:00:00+00:00\", \"2019-07-20T00:00:00+00:00\", \"2019-07-21T00:00:00+00:00\", \"2019-07-22T00:00:00+00:00\", \"2019-07-23T00:00:00+00:00\", \"2019-07-24T00:00:00+00:00\", \"2019-07-25T00:00:00+00:00\", \"2019-07-26T00:00:00+00:00\", \"2019-07-27T00:00:00+00:00\", \"2019-07-28T00:00:00+00:00\", \"2019-07-29T00:00:00+00:00\", \"2019-07-30T00:00:00+00:00\", \"2019-07-31T00:00:00+00:00\", \"2019-08-01T00:00:00+00:00\", \"2019-08-02T00:00:00+00:00\", \"2019-08-03T00:00:00+00:00\", \"2019-08-04T00:00:00+00:00\", \"2019-08-05T00:00:00+00:00\", \"2019-08-06T00:00:00+00:00\", \"2019-08-07T00:00:00+00:00\", \"2019-08-08T00:00:00+00:00\", \"2019-08-09T00:00:00+00:00\", \"2019-08-10T00:00:00+00:00\", \"2019-08-11T00:00:00+00:00\", \"2019-08-12T00:00:00+00:00\", \"2019-08-13T00:00:00+00:00\", \"2019-08-14T00:00:00+00:00\", \"2019-08-15T00:00:00+00:00\", \"2019-08-16T00:00:00+00:00\", \"2019-08-17T00:00:00+00:00\", \"2019-08-18T00:00:00+00:00\", \"2019-08-19T00:00:00+00:00\", \"2019-08-20T00:00:00+00:00\", \"2019-08-21T00:00:00+00:00\", \"2019-08-22T00:00:00+00:00\", \"2019-08-23T00:00:00+00:00\", \"2019-08-24T00:00:00+00:00\", \"2019-08-25T00:00:00+00:00\", \"2019-08-26T00:00:00+00:00\", \"2019-08-27T00:00:00+00:00\", \"2019-08-28T00:00:00+00:00\", \"2019-08-29T00:00:00+00:00\", \"2019-08-30T00:00:00+00:00\", \"2019-08-31T00:00:00+00:00\", \"2019-09-01T00:00:00+00:00\", \"2019-09-02T00:00:00+00:00\", \"2019-09-03T00:00:00+00:00\", \"2019-09-04T00:00:00+00:00\", \"2019-09-05T00:00:00+00:00\", \"2019-09-06T00:00:00+00:00\", \"2019-09-07T00:00:00+00:00\", \"2019-09-08T00:00:00+00:00\", \"2019-09-09T00:00:00+00:00\", \"2019-09-10T00:00:00+00:00\", \"2019-09-11T00:00:00+00:00\", \"2019-09-12T00:00:00+00:00\", \"2019-09-13T00:00:00+00:00\", \"2019-09-14T00:00:00+00:00\", \"2019-09-15T00:00:00+00:00\", \"2019-09-16T00:00:00+00:00\", \"2019-09-17T00:00:00+00:00\", \"2019-09-18T00:00:00+00:00\", \"2019-09-19T00:00:00+00:00\", \"2019-09-20T00:00:00+00:00\", \"2019-09-21T00:00:00+00:00\", \"2019-09-22T00:00:00+00:00\", \"2019-09-23T00:00:00+00:00\", \"2019-09-24T00:00:00+00:00\", \"2019-09-25T00:00:00+00:00\", \"2019-09-26T00:00:00+00:00\", \"2019-09-27T00:00:00+00:00\", \"2019-09-28T00:00:00+00:00\", \"2019-09-29T00:00:00+00:00\", \"2019-09-30T00:00:00+00:00\", \"2019-10-01T00:00:00+00:00\", \"2019-10-02T00:00:00+00:00\", \"2019-10-03T00:00:00+00:00\", \"2019-10-04T00:00:00+00:00\", \"2019-10-05T00:00:00+00:00\", \"2019-10-06T00:00:00+00:00\", \"2019-10-07T00:00:00+00:00\", \"2019-10-08T00:00:00+00:00\", \"2019-10-09T00:00:00+00:00\", \"2019-10-10T00:00:00+00:00\", \"2019-10-11T00:00:00+00:00\", \"2019-10-12T00:00:00+00:00\", \"2019-10-13T00:00:00+00:00\", \"2019-10-14T00:00:00+00:00\", \"2019-10-15T00:00:00+00:00\", \"2019-10-16T00:00:00+00:00\", \"2019-10-17T00:00:00+00:00\", \"2019-10-18T00:00:00+00:00\", \"2019-10-19T00:00:00+00:00\", \"2019-10-20T00:00:00+00:00\", \"2019-10-21T00:00:00+00:00\", \"2019-10-22T00:00:00+00:00\", \"2019-10-23T00:00:00+00:00\", \"2019-10-24T00:00:00+00:00\", \"2019-10-25T00:00:00+00:00\", \"2019-10-26T00:00:00+00:00\", \"2019-10-27T00:00:00+00:00\", \"2019-10-28T00:00:00+00:00\", \"2019-10-29T00:00:00+00:00\", \"2019-10-30T00:00:00+00:00\", \"2019-10-31T00:00:00+00:00\", \"2019-11-01T00:00:00+00:00\", \"2019-11-02T00:00:00+00:00\", \"2019-11-03T00:00:00+00:00\", \"2019-11-04T00:00:00+00:00\", \"2019-11-05T00:00:00+00:00\", \"2019-11-06T00:00:00+00:00\", \"2019-11-07T00:00:00+00:00\", \"2019-11-08T00:00:00+00:00\", \"2019-11-09T00:00:00+00:00\", \"2019-11-10T00:00:00+00:00\", \"2019-11-11T00:00:00+00:00\", \"2019-11-12T00:00:00+00:00\", \"2019-11-13T00:00:00+00:00\", \"2019-11-14T00:00:00+00:00\", \"2019-11-15T00:00:00+00:00\", \"2019-11-16T00:00:00+00:00\", \"2019-11-17T00:00:00+00:00\", \"2019-11-18T00:00:00+00:00\", \"2019-11-19T00:00:00+00:00\", \"2019-11-20T00:00:00+00:00\", \"2019-11-21T00:00:00+00:00\", \"2019-11-22T00:00:00+00:00\", \"2019-11-23T00:00:00+00:00\", \"2019-11-24T00:00:00+00:00\", \"2019-11-25T00:00:00+00:00\", \"2019-11-26T00:00:00+00:00\", \"2019-11-27T00:00:00+00:00\", \"2019-11-28T00:00:00+00:00\", \"2019-11-29T00:00:00+00:00\", \"2019-11-30T00:00:00+00:00\", \"2019-12-01T00:00:00+00:00\", \"2019-12-02T00:00:00+00:00\", \"2019-12-03T00:00:00+00:00\", \"2019-12-04T00:00:00+00:00\", \"2019-12-05T00:00:00+00:00\", \"2019-12-06T00:00:00+00:00\", \"2019-12-07T00:00:00+00:00\", \"2019-12-08T00:00:00+00:00\", \"2019-12-09T00:00:00+00:00\", \"2019-12-10T00:00:00+00:00\", \"2019-12-11T00:00:00+00:00\", \"2019-12-12T00:00:00+00:00\", \"2019-12-13T00:00:00+00:00\", \"2019-12-14T00:00:00+00:00\", \"2019-12-15T00:00:00+00:00\", \"2019-12-16T00:00:00+00:00\", \"2019-12-17T00:00:00+00:00\", \"2019-12-18T00:00:00+00:00\", \"2019-12-19T00:00:00+00:00\", \"2019-12-20T00:00:00+00:00\", \"2019-12-21T00:00:00+00:00\", \"2019-12-22T00:00:00+00:00\", \"2019-12-23T00:00:00+00:00\", \"2019-12-24T00:00:00+00:00\", \"2019-12-25T00:00:00+00:00\", \"2019-12-26T00:00:00+00:00\", \"2019-12-27T00:00:00+00:00\", \"2019-12-28T00:00:00+00:00\", \"2019-12-29T00:00:00+00:00\", \"2019-12-30T00:00:00+00:00\", \"2019-12-31T00:00:00+00:00\", \"2020-01-01T00:00:00+00:00\", \"2020-01-02T00:00:00+00:00\", \"2020-01-03T00:00:00+00:00\", \"2020-01-04T00:00:00+00:00\", \"2020-01-05T00:00:00+00:00\", \"2020-01-06T00:00:00+00:00\", \"2020-01-07T00:00:00+00:00\", \"2020-01-08T00:00:00+00:00\", \"2020-01-09T00:00:00+00:00\", \"2020-01-10T00:00:00+00:00\", \"2020-01-11T00:00:00+00:00\", \"2020-01-12T00:00:00+00:00\", \"2020-01-13T00:00:00+00:00\", \"2020-01-14T00:00:00+00:00\", \"2020-01-15T00:00:00+00:00\", \"2020-01-16T00:00:00+00:00\", \"2020-01-17T00:00:00+00:00\", \"2020-01-18T00:00:00+00:00\", \"2020-01-19T00:00:00+00:00\", \"2020-01-20T00:00:00+00:00\", \"2020-01-21T00:00:00+00:00\", \"2020-01-22T00:00:00+00:00\", \"2020-01-23T00:00:00+00:00\", \"2020-01-24T00:00:00+00:00\", \"2020-01-25T00:00:00+00:00\", \"2020-01-26T00:00:00+00:00\", \"2020-01-27T00:00:00+00:00\", \"2020-01-28T00:00:00+00:00\", \"2020-01-29T00:00:00+00:00\", \"2020-01-30T00:00:00+00:00\", \"2020-01-31T00:00:00+00:00\", \"2020-02-01T00:00:00+00:00\", \"2020-02-02T00:00:00+00:00\", \"2020-02-03T00:00:00+00:00\", \"2020-02-04T00:00:00+00:00\", \"2020-02-05T00:00:00+00:00\", \"2020-02-06T00:00:00+00:00\", \"2020-02-07T00:00:00+00:00\", \"2020-02-08T00:00:00+00:00\", \"2020-02-09T00:00:00+00:00\", \"2020-02-10T00:00:00+00:00\", \"2020-02-11T00:00:00+00:00\", \"2020-02-12T00:00:00+00:00\", \"2020-02-13T00:00:00+00:00\", \"2020-02-14T00:00:00+00:00\", \"2020-02-15T00:00:00+00:00\", \"2020-02-16T00:00:00+00:00\", \"2020-02-17T00:00:00+00:00\", \"2020-02-18T00:00:00+00:00\", \"2020-02-19T00:00:00+00:00\", \"2020-02-20T00:00:00+00:00\", \"2020-02-21T00:00:00+00:00\", \"2020-02-22T00:00:00+00:00\", \"2020-02-23T00:00:00+00:00\", \"2020-02-24T00:00:00+00:00\", \"2020-02-25T00:00:00+00:00\", \"2020-02-26T00:00:00+00:00\", \"2020-02-27T00:00:00+00:00\", \"2020-02-28T00:00:00+00:00\", \"2020-02-29T00:00:00+00:00\", \"2020-03-01T00:00:00+00:00\", \"2020-03-02T00:00:00+00:00\", \"2020-03-03T00:00:00+00:00\", \"2020-03-04T00:00:00+00:00\", \"2020-03-05T00:00:00+00:00\", \"2020-03-06T00:00:00+00:00\", \"2020-03-07T00:00:00+00:00\", \"2020-03-08T00:00:00+00:00\", \"2020-03-09T00:00:00+00:00\", \"2020-03-10T00:00:00+00:00\", \"2020-03-11T00:00:00+00:00\", \"2020-03-12T00:00:00+00:00\", \"2020-03-13T00:00:00+00:00\", \"2020-03-14T00:00:00+00:00\", \"2020-03-15T00:00:00+00:00\", \"2020-03-16T00:00:00+00:00\", \"2020-03-17T00:00:00+00:00\", \"2020-03-18T00:00:00+00:00\", \"2020-03-19T00:00:00+00:00\", \"2020-03-20T00:00:00+00:00\", \"2020-03-21T00:00:00+00:00\", \"2020-03-22T00:00:00+00:00\", \"2020-03-23T00:00:00+00:00\", \"2020-03-24T00:00:00+00:00\", \"2020-03-25T00:00:00+00:00\", \"2020-03-26T00:00:00+00:00\", \"2020-03-27T00:00:00+00:00\", \"2020-03-28T00:00:00+00:00\", \"2020-03-29T00:00:00+00:00\", \"2020-03-30T00:00:00+00:00\", \"2020-03-31T00:00:00+00:00\", \"2020-04-01T00:00:00+00:00\", \"2020-04-02T00:00:00+00:00\", \"2020-04-03T00:00:00+00:00\", \"2020-04-04T00:00:00+00:00\", \"2020-04-05T00:00:00+00:00\", \"2020-04-06T00:00:00+00:00\", \"2020-04-07T00:00:00+00:00\", \"2020-04-08T00:00:00+00:00\", \"2020-04-09T00:00:00+00:00\", \"2020-04-10T00:00:00+00:00\", \"2020-04-11T00:00:00+00:00\", \"2020-04-12T00:00:00+00:00\", \"2020-04-13T00:00:00+00:00\", \"2020-04-14T00:00:00+00:00\", \"2020-04-15T00:00:00+00:00\", \"2020-04-16T00:00:00+00:00\", \"2020-04-17T00:00:00+00:00\", \"2020-04-18T00:00:00+00:00\", \"2020-04-19T00:00:00+00:00\", \"2020-04-20T00:00:00+00:00\", \"2020-04-21T00:00:00+00:00\", \"2020-04-22T00:00:00+00:00\", \"2020-04-23T00:00:00+00:00\", \"2020-04-24T00:00:00+00:00\", \"2020-04-25T00:00:00+00:00\", \"2020-04-26T00:00:00+00:00\", \"2020-04-27T00:00:00+00:00\", \"2020-04-28T00:00:00+00:00\", \"2020-04-29T00:00:00+00:00\", \"2020-04-30T00:00:00+00:00\", \"2020-05-01T00:00:00+00:00\", \"2020-05-02T00:00:00+00:00\", \"2020-05-03T00:00:00+00:00\", \"2020-05-04T00:00:00+00:00\", \"2020-05-05T00:00:00+00:00\", \"2020-05-06T00:00:00+00:00\", \"2020-05-07T00:00:00+00:00\", \"2020-05-08T00:00:00+00:00\", \"2020-05-09T00:00:00+00:00\", \"2020-05-10T00:00:00+00:00\", \"2020-05-11T00:00:00+00:00\", \"2020-05-12T00:00:00+00:00\", \"2020-05-13T00:00:00+00:00\", \"2020-05-14T00:00:00+00:00\", \"2020-05-15T00:00:00+00:00\", \"2020-05-16T00:00:00+00:00\", \"2020-05-17T00:00:00+00:00\", \"2020-05-18T00:00:00+00:00\", \"2020-05-19T00:00:00+00:00\", \"2020-05-20T00:00:00+00:00\", \"2020-05-21T00:00:00+00:00\", \"2020-05-22T00:00:00+00:00\", \"2020-05-23T00:00:00+00:00\", \"2020-05-24T00:00:00+00:00\", \"2020-05-25T00:00:00+00:00\", \"2020-05-26T00:00:00+00:00\", \"2020-05-27T00:00:00+00:00\", \"2020-05-28T00:00:00+00:00\", \"2020-05-29T00:00:00+00:00\", \"2020-05-30T00:00:00+00:00\", \"2020-05-31T00:00:00+00:00\", \"2020-06-01T00:00:00+00:00\", \"2020-06-02T00:00:00+00:00\", \"2020-06-03T00:00:00+00:00\", \"2020-06-04T00:00:00+00:00\", \"2020-06-05T00:00:00+00:00\", \"2020-06-06T00:00:00+00:00\", \"2020-06-07T00:00:00+00:00\", \"2020-06-08T00:00:00+00:00\", \"2020-06-09T00:00:00+00:00\", \"2020-06-10T00:00:00+00:00\", \"2020-06-11T00:00:00+00:00\", \"2020-06-12T00:00:00+00:00\", \"2020-06-13T00:00:00+00:00\", \"2020-06-14T00:00:00+00:00\", \"2020-06-15T00:00:00+00:00\", \"2020-06-16T00:00:00+00:00\", \"2020-06-17T00:00:00+00:00\", \"2020-06-18T00:00:00+00:00\", \"2020-06-19T00:00:00+00:00\", \"2020-06-20T00:00:00+00:00\", \"2020-06-21T00:00:00+00:00\", \"2020-06-22T00:00:00+00:00\", \"2020-06-23T00:00:00+00:00\", \"2020-06-24T00:00:00+00:00\", \"2020-06-25T00:00:00+00:00\", \"2020-06-26T00:00:00+00:00\", \"2020-06-27T00:00:00+00:00\", \"2020-06-28T00:00:00+00:00\", \"2020-06-29T00:00:00+00:00\", \"2020-06-30T00:00:00+00:00\"], \"y\": [0.551, 0.493, 0.442, 0.465, 0.487, 0.5429999999999999, 0.539, 0.551, 0.498, 0.477, 0.534, 0.529, 0.532, 0.529, 0.517, 0.464, 0.45, 0.537, 0.527, 0.524, 0.521, 0.46, 0.491, 0.461, 0.541, 0.537, 0.531, 0.531, 0.5379999999999999, 0.499, 0.471, 0.545, 0.493, 0.544, 0.531, 0.535, 0.5, 0.479, 0.552, 0.536, 0.5329999999999999, 0.528, 0.5329999999999999, 0.486, 0.456, 0.5329999999999999, 0.524, 0.523, 0.4920000000000001, 0.45, 0.472, 0.446, 0.508, 0.502, 0.501, 0.511, 0.519, 0.474, 0.458, 0.52, 0.503, 0.456, 0.528, 0.53, 0.491, 0.458, 0.534, 0.608, 0.5329999999999999, 0.519, 0.521, 0.483, 0.4370000000000001, 0.459, 0.4920000000000001, 0.509, 0.479, 0.489, 0.444, 0.45, 0.479, 0.485, 0.49, 0.499, 0.513, 0.455, 0.455, 0.513, 0.499, 0.483, 0.505, 0.507, 0.481, 0.462, 0.526, 0.525, 0.52, 0.525, 0.529, 0.4920000000000001, 0.468, 0.5479999999999999, 0.513, 0.507, 0.503, 0.495, 0.469, 0.426, 0.465, 0.524, 0.51, 0.484, 0.518, 0.487, 0.456, 0.537, 0.529, 0.518, 0.521, 0.54, 0.505, 0.479, 0.552, 0.547, 0.536, 0.524, 0.522, 0.484, 0.457, 0.493, 0.472, 0.564, 0.532, 0.517, 0.491, 0.467, 0.542, 0.505, 0.526, 0.513, 0.519, 0.478, 0.445, 0.514, 0.481, 0.412, 0.472, 0.49, 0.457, 0.4370000000000001, 0.472, 0.468, 0.477, 0.505, 0.507, 0.464, 0.448, 0.522, 0.462, 0.483, 0.496, 0.4970000000000001, 0.462, 0.456, 0.561, 0.534, 0.521, 0.511, 0.504, 0.477, 0.4320000000000001, 0.469, 0.501, 0.488, 0.482, 0.499, 0.466, 0.442, 0.512, 0.419, 0.506, 0.491, 0.503, 0.475, 0.471, 0.523, 0.481, 0.5, 0.484, 0.51, 0.482, 0.457, 0.516, 0.514, 0.487, 0.499, 0.502, 0.461, 0.441, 0.518, 0.506, 0.504, 0.501, 0.511, 0.474, 0.466, 0.515, 0.473, 0.498, 0.507, 0.516, 0.474, 0.462, 0.504, 0.519, 0.51, 0.516, 0.517, 0.488, 0.46, 0.535, 0.517, 0.518, 0.525, 0.506, 0.461, 0.443, 0.481, 0.517, 0.505, 0.519, 0.499, 0.485, 0.438, 0.519, 0.512, 0.508, 0.509, 0.5429999999999999, 0.522, 0.508, 0.523, 0.522, 0.508, 0.506, 0.527, 0.482, 0.443, 0.45, 0.494, 0.509, 0.487, 0.494, 0.475, 0.459, 0.515, 0.509, 0.52, 0.498, 0.511, 0.456, 0.401, 0.469, 0.521, 0.487, 0.483, 0.499, 0.46, 0.435, 0.498, 0.489, 0.491, 0.476, 0.46, 0.453, 0.442, 0.473, 0.479, 0.481, 0.622, 0.53, 0.482, 0.45, 0.519, 0.51, 0.502, 0.516, 0.507, 0.473, 0.472, 0.44, 0.52, 0.522, 0.523, 0.512, 0.482, 0.462, 0.55, 0.494, 0.417, 0.502, 0.514, 0.467, 0.439, 0.504, 0.471, 0.435, 0.524, 0.49, 0.457, 0.449, 0.512, 0.498, 0.491, 0.483, 0.481, 0.426, 0.416, 0.519, 0.501, 0.477, 0.477, 0.459, 0.447, 0.418, 0.451, 0.478, 0.461, 0.481, 0.489, 0.452, 0.4270000000000001, 0.505, 0.482, 0.477, 0.481, 0.483, 0.461, 0.44, 0.515, 0.505, 0.4920000000000001, 0.498, 0.499, 0.461, 0.442, 0.516, 0.506, 0.501, 0.495, 0.496, 0.447, 0.4270000000000001, 0.493, 0.489, 0.481, 0.481, 0.487, 0.442, 0.408, 0.428, 0.459, 0.512, 0.489, 0.495, 0.469, 0.45, 0.495, 0.505, 0.5, 0.501, 0.501, 0.465, 0.449, 0.496, 0.506, 0.491, 0.501, 0.494, 0.453, 0.446, 0.508, 0.489, 0.483, 0.48, 0.388, 0.355, 0.343, 0.369, 0.3670000000000001, 0.392, 0.394, 0.416, 0.399, 0.395, 0.429, 0.458, 0.465, 0.471, 0.473, 0.464, 0.447, 0.477, 0.482, 0.474, 0.476, 0.468, 0.475, 0.468, 0.501, 0.503, 0.496, 0.494, 0.489, 0.469, 0.46, 0.495, 0.498, 0.488, 0.488, 0.495, 0.472, 0.462, 0.501, 0.489, 0.496, 0.491, 0.489, 0.49, 0.472, 0.511, 0.514, 0.505, 0.525, 0.528, 0.488, 0.473, 0.499, 0.505, 0.503, 0.506, 0.49, 0.471, 0.463, 0.504, 0.502, 0.495, 0.493, 0.4920000000000001, 0.466, 0.442, 0.481, 0.515, 0.507, 0.507, 0.521, 0.489, 0.483, 0.531, 0.528, 0.52, 0.532, 0.52, 0.4920000000000001, 0.48, 0.527, 0.523, 0.523, 0.53, 0.523, 0.493, 0.478, 0.51, 0.534, 0.529, 0.531, 0.525, 0.491, 0.487, 0.528, 0.517, 0.516, 0.527, 0.537, 0.502, 0.494, 0.536, 0.529]}, {\"marker\": {\"color\": \"LightSkyBlue\", \"line\": {\"color\": \"red\", \"width\": 2}, \"opacity\": 0.5, \"size\": 6}, \"mode\": \"markers\", \"showlegend\": false, \"type\": \"scatter\", \"x\": [\"2019-03-01T00:00:00+00:00\", \"2019-03-03T00:00:00+00:00\", \"2019-03-06T00:00:00+00:00\", \"2019-03-07T00:00:00+00:00\", \"2019-03-08T00:00:00+00:00\", \"2019-03-11T00:00:00+00:00\", \"2019-03-13T00:00:00+00:00\", \"2019-03-17T00:00:00+00:00\", \"2019-03-18T00:00:00+00:00\", \"2019-03-25T00:00:00+00:00\", \"2019-03-26T00:00:00+00:00\", \"2019-03-29T00:00:00+00:00\", \"2019-04-01T00:00:00+00:00\", \"2019-04-03T00:00:00+00:00\", \"2019-04-05T00:00:00+00:00\", \"2019-04-08T00:00:00+00:00\", \"2019-04-09T00:00:00+00:00\", \"2019-04-10T00:00:00+00:00\", \"2019-04-12T00:00:00+00:00\", \"2019-04-14T00:00:00+00:00\", \"2019-04-15T00:00:00+00:00\", \"2019-04-19T00:00:00+00:00\", \"2019-04-21T00:00:00+00:00\", \"2019-05-01T00:00:00+00:00\", \"2019-05-06T00:00:00+00:00\", \"2019-05-07T00:00:00+00:00\", \"2019-05-08T00:00:00+00:00\", \"2019-05-12T00:00:00+00:00\", \"2019-05-18T00:00:00+00:00\", \"2019-05-19T00:00:00+00:00\", \"2019-05-25T00:00:00+00:00\", \"2019-05-26T00:00:00+00:00\", \"2019-06-10T00:00:00+00:00\", \"2019-06-16T00:00:00+00:00\", \"2019-06-23T00:00:00+00:00\", \"2019-06-24T00:00:00+00:00\", \"2019-06-28T00:00:00+00:00\", \"2019-07-01T00:00:00+00:00\", \"2019-07-02T00:00:00+00:00\", \"2019-07-03T00:00:00+00:00\", \"2019-07-07T00:00:00+00:00\", \"2019-07-10T00:00:00+00:00\", \"2019-07-11T00:00:00+00:00\", \"2019-07-15T00:00:00+00:00\", \"2019-07-21T00:00:00+00:00\", \"2019-07-24T00:00:00+00:00\", \"2019-07-27T00:00:00+00:00\", \"2019-07-28T00:00:00+00:00\", \"2019-08-04T00:00:00+00:00\", \"2019-08-11T00:00:00+00:00\", \"2019-08-12T00:00:00+00:00\", \"2019-08-13T00:00:00+00:00\", \"2019-08-18T00:00:00+00:00\", \"2019-08-25T00:00:00+00:00\", \"2019-08-27T00:00:00+00:00\", \"2019-09-08T00:00:00+00:00\", \"2019-09-15T00:00:00+00:00\", \"2019-10-07T00:00:00+00:00\", \"2019-10-13T00:00:00+00:00\", \"2019-10-20T00:00:00+00:00\", \"2019-10-25T00:00:00+00:00\", \"2019-11-03T00:00:00+00:00\", \"2019-11-04T00:00:00+00:00\", \"2019-11-16T00:00:00+00:00\", \"2019-11-17T00:00:00+00:00\", \"2019-11-24T00:00:00+00:00\", \"2019-11-30T00:00:00+00:00\", \"2019-12-01T00:00:00+00:00\", \"2019-12-05T00:00:00+00:00\", \"2019-12-08T00:00:00+00:00\", \"2019-12-16T00:00:00+00:00\", \"2019-12-23T00:00:00+00:00\", \"2019-12-25T00:00:00+00:00\", \"2019-12-29T00:00:00+00:00\", \"2020-01-01T00:00:00+00:00\", \"2020-01-04T00:00:00+00:00\", \"2020-01-05T00:00:00+00:00\", \"2020-01-11T00:00:00+00:00\", \"2020-01-12T00:00:00+00:00\", \"2020-01-18T00:00:00+00:00\", \"2020-01-19T00:00:00+00:00\", \"2020-01-20T00:00:00+00:00\", \"2020-01-25T00:00:00+00:00\", \"2020-01-26T00:00:00+00:00\", \"2020-02-02T00:00:00+00:00\", \"2020-02-09T00:00:00+00:00\", \"2020-02-15T00:00:00+00:00\", \"2020-02-16T00:00:00+00:00\", \"2020-02-22T00:00:00+00:00\", \"2020-02-23T00:00:00+00:00\", \"2020-02-24T00:00:00+00:00\", \"2020-03-01T00:00:00+00:00\", \"2020-03-08T00:00:00+00:00\", \"2020-03-14T00:00:00+00:00\", \"2020-03-15T00:00:00+00:00\", \"2020-03-20T00:00:00+00:00\", \"2020-03-21T00:00:00+00:00\", \"2020-03-22T00:00:00+00:00\", \"2020-03-23T00:00:00+00:00\", \"2020-03-24T00:00:00+00:00\", \"2020-03-25T00:00:00+00:00\", \"2020-03-26T00:00:00+00:00\", \"2020-03-27T00:00:00+00:00\", \"2020-03-28T00:00:00+00:00\", \"2020-03-29T00:00:00+00:00\", \"2020-03-30T00:00:00+00:00\", \"2020-04-05T00:00:00+00:00\", \"2020-05-24T00:00:00+00:00\", \"2020-06-04T00:00:00+00:00\", \"2020-06-16T00:00:00+00:00\", \"2020-06-26T00:00:00+00:00\", \"2020-06-29T00:00:00+00:00\"], \"y\": [0.551, 0.442, 0.5429999999999999, 0.539, 0.551, 0.534, 0.532, 0.45, 0.537, 0.541, 0.537, 0.5379999999999999, 0.545, 0.544, 0.535, 0.552, 0.536, 0.5329999999999999, 0.5329999999999999, 0.456, 0.5329999999999999, 0.45, 0.446, 0.456, 0.534, 0.608, 0.5329999999999999, 0.4370000000000001, 0.444, 0.45, 0.455, 0.455, 0.5479999999999999, 0.426, 0.456, 0.537, 0.54, 0.552, 0.547, 0.536, 0.457, 0.564, 0.532, 0.542, 0.445, 0.412, 0.457, 0.4370000000000001, 0.448, 0.456, 0.561, 0.534, 0.4320000000000001, 0.442, 0.419, 0.457, 0.441, 0.535, 0.443, 0.438, 0.5429999999999999, 0.443, 0.45, 0.456, 0.401, 0.435, 0.453, 0.442, 0.622, 0.45, 0.44, 0.55, 0.417, 0.439, 0.435, 0.457, 0.449, 0.426, 0.416, 0.447, 0.418, 0.451, 0.452, 0.4270000000000001, 0.44, 0.442, 0.447, 0.4270000000000001, 0.442, 0.408, 0.428, 0.45, 0.449, 0.453, 0.446, 0.388, 0.355, 0.343, 0.369, 0.3670000000000001, 0.392, 0.394, 0.416, 0.399, 0.395, 0.429, 0.447, 0.442, 0.532, 0.534, 0.537, 0.536]}],                        {\"template\": {\"data\": {\"bar\": [{\"error_x\": {\"color\": \"#2a3f5f\"}, \"error_y\": {\"color\": \"#2a3f5f\"}, \"marker\": {\"line\": {\"color\": \"#E5ECF6\", \"width\": 0.5}}, \"type\": \"bar\"}], \"barpolar\": [{\"marker\": {\"line\": {\"color\": \"#E5ECF6\", \"width\": 0.5}}, \"type\": \"barpolar\"}], \"carpet\": [{\"aaxis\": {\"endlinecolor\": \"#2a3f5f\", \"gridcolor\": \"white\", \"linecolor\": \"white\", \"minorgridcolor\": \"white\", \"startlinecolor\": \"#2a3f5f\"}, \"baxis\": {\"endlinecolor\": \"#2a3f5f\", \"gridcolor\": \"white\", \"linecolor\": \"white\", \"minorgridcolor\": \"white\", \"startlinecolor\": \"#2a3f5f\"}, \"type\": \"carpet\"}], \"choropleth\": [{\"colorbar\": {\"outlinewidth\": 0, \"ticks\": \"\"}, \"type\": \"choropleth\"}], \"contour\": [{\"colorbar\": {\"outlinewidth\": 0, \"ticks\": \"\"}, \"colorscale\": [[0.0, \"#0d0887\"], [0.1111111111111111, \"#46039f\"], [0.2222222222222222, \"#7201a8\"], [0.3333333333333333, \"#9c179e\"], [0.4444444444444444, \"#bd3786\"], [0.5555555555555556, \"#d8576b\"], [0.6666666666666666, \"#ed7953\"], [0.7777777777777778, \"#fb9f3a\"], [0.8888888888888888, \"#fdca26\"], [1.0, \"#f0f921\"]], \"type\": \"contour\"}], \"contourcarpet\": [{\"colorbar\": {\"outlinewidth\": 0, \"ticks\": \"\"}, \"type\": \"contourcarpet\"}], \"heatmap\": [{\"colorbar\": {\"outlinewidth\": 0, \"ticks\": \"\"}, \"colorscale\": [[0.0, \"#0d0887\"], [0.1111111111111111, \"#46039f\"], [0.2222222222222222, \"#7201a8\"], [0.3333333333333333, \"#9c179e\"], [0.4444444444444444, \"#bd3786\"], [0.5555555555555556, \"#d8576b\"], [0.6666666666666666, \"#ed7953\"], [0.7777777777777778, \"#fb9f3a\"], [0.8888888888888888, \"#fdca26\"], [1.0, \"#f0f921\"]], \"type\": \"heatmap\"}], \"heatmapgl\": [{\"colorbar\": {\"outlinewidth\": 0, \"ticks\": \"\"}, \"colorscale\": [[0.0, \"#0d0887\"], [0.1111111111111111, \"#46039f\"], [0.2222222222222222, \"#7201a8\"], [0.3333333333333333, \"#9c179e\"], [0.4444444444444444, \"#bd3786\"], [0.5555555555555556, \"#d8576b\"], [0.6666666666666666, \"#ed7953\"], [0.7777777777777778, \"#fb9f3a\"], [0.8888888888888888, \"#fdca26\"], [1.0, \"#f0f921\"]], \"type\": \"heatmapgl\"}], \"histogram\": [{\"marker\": {\"colorbar\": {\"outlinewidth\": 0, \"ticks\": \"\"}}, \"type\": \"histogram\"}], \"histogram2d\": [{\"colorbar\": {\"outlinewidth\": 0, \"ticks\": \"\"}, \"colorscale\": [[0.0, \"#0d0887\"], [0.1111111111111111, \"#46039f\"], [0.2222222222222222, \"#7201a8\"], [0.3333333333333333, \"#9c179e\"], [0.4444444444444444, \"#bd3786\"], [0.5555555555555556, \"#d8576b\"], [0.6666666666666666, \"#ed7953\"], [0.7777777777777778, \"#fb9f3a\"], [0.8888888888888888, \"#fdca26\"], [1.0, \"#f0f921\"]], \"type\": \"histogram2d\"}], \"histogram2dcontour\": [{\"colorbar\": {\"outlinewidth\": 0, \"ticks\": \"\"}, \"colorscale\": [[0.0, \"#0d0887\"], [0.1111111111111111, \"#46039f\"], [0.2222222222222222, \"#7201a8\"], [0.3333333333333333, \"#9c179e\"], [0.4444444444444444, \"#bd3786\"], [0.5555555555555556, \"#d8576b\"], [0.6666666666666666, \"#ed7953\"], [0.7777777777777778, \"#fb9f3a\"], [0.8888888888888888, \"#fdca26\"], [1.0, \"#f0f921\"]], \"type\": \"histogram2dcontour\"}], \"mesh3d\": [{\"colorbar\": {\"outlinewidth\": 0, \"ticks\": \"\"}, \"type\": \"mesh3d\"}], \"parcoords\": [{\"line\": {\"colorbar\": {\"outlinewidth\": 0, \"ticks\": \"\"}}, \"type\": \"parcoords\"}], \"pie\": [{\"automargin\": true, \"type\": \"pie\"}], \"scatter\": [{\"marker\": {\"colorbar\": {\"outlinewidth\": 0, \"ticks\": \"\"}}, \"type\": \"scatter\"}], \"scatter3d\": [{\"line\": {\"colorbar\": {\"outlinewidth\": 0, \"ticks\": \"\"}}, \"marker\": {\"colorbar\": {\"outlinewidth\": 0, \"ticks\": \"\"}}, \"type\": \"scatter3d\"}], \"scattercarpet\": [{\"marker\": {\"colorbar\": {\"outlinewidth\": 0, \"ticks\": \"\"}}, \"type\": \"scattercarpet\"}], \"scattergeo\": [{\"marker\": {\"colorbar\": {\"outlinewidth\": 0, \"ticks\": \"\"}}, \"type\": \"scattergeo\"}], \"scattergl\": [{\"marker\": {\"colorbar\": {\"outlinewidth\": 0, \"ticks\": \"\"}}, \"type\": \"scattergl\"}], \"scattermapbox\": [{\"marker\": {\"colorbar\": {\"outlinewidth\": 0, \"ticks\": \"\"}}, \"type\": \"scattermapbox\"}], \"scatterpolar\": [{\"marker\": {\"colorbar\": {\"outlinewidth\": 0, \"ticks\": \"\"}}, \"type\": \"scatterpolar\"}], \"scatterpolargl\": [{\"marker\": {\"colorbar\": {\"outlinewidth\": 0, \"ticks\": \"\"}}, \"type\": \"scatterpolargl\"}], \"scatterternary\": [{\"marker\": {\"colorbar\": {\"outlinewidth\": 0, \"ticks\": \"\"}}, \"type\": \"scatterternary\"}], \"surface\": [{\"colorbar\": {\"outlinewidth\": 0, \"ticks\": \"\"}, \"colorscale\": [[0.0, \"#0d0887\"], [0.1111111111111111, \"#46039f\"], [0.2222222222222222, \"#7201a8\"], [0.3333333333333333, \"#9c179e\"], [0.4444444444444444, \"#bd3786\"], [0.5555555555555556, \"#d8576b\"], [0.6666666666666666, \"#ed7953\"], [0.7777777777777778, \"#fb9f3a\"], [0.8888888888888888, \"#fdca26\"], [1.0, \"#f0f921\"]], \"type\": \"surface\"}], \"table\": [{\"cells\": {\"fill\": {\"color\": \"#EBF0F8\"}, \"line\": {\"color\": \"white\"}}, \"header\": {\"fill\": {\"color\": \"#C8D4E3\"}, \"line\": {\"color\": \"white\"}}, \"type\": \"table\"}]}, \"layout\": {\"annotationdefaults\": {\"arrowcolor\": \"#2a3f5f\", \"arrowhead\": 0, \"arrowwidth\": 1}, \"coloraxis\": {\"colorbar\": {\"outlinewidth\": 0, \"ticks\": \"\"}}, \"colorscale\": {\"diverging\": [[0, \"#8e0152\"], [0.1, \"#c51b7d\"], [0.2, \"#de77ae\"], [0.3, \"#f1b6da\"], [0.4, \"#fde0ef\"], [0.5, \"#f7f7f7\"], [0.6, \"#e6f5d0\"], [0.7, \"#b8e186\"], [0.8, \"#7fbc41\"], [0.9, \"#4d9221\"], [1, \"#276419\"]], \"sequential\": [[0.0, \"#0d0887\"], [0.1111111111111111, \"#46039f\"], [0.2222222222222222, \"#7201a8\"], [0.3333333333333333, \"#9c179e\"], [0.4444444444444444, \"#bd3786\"], [0.5555555555555556, \"#d8576b\"], [0.6666666666666666, \"#ed7953\"], [0.7777777777777778, \"#fb9f3a\"], [0.8888888888888888, \"#fdca26\"], [1.0, \"#f0f921\"]], \"sequentialminus\": [[0.0, \"#0d0887\"], [0.1111111111111111, \"#46039f\"], [0.2222222222222222, \"#7201a8\"], [0.3333333333333333, \"#9c179e\"], [0.4444444444444444, \"#bd3786\"], [0.5555555555555556, \"#d8576b\"], [0.6666666666666666, \"#ed7953\"], [0.7777777777777778, \"#fb9f3a\"], [0.8888888888888888, \"#fdca26\"], [1.0, \"#f0f921\"]]}, \"colorway\": [\"#636efa\", \"#EF553B\", \"#00cc96\", \"#ab63fa\", \"#FFA15A\", \"#19d3f3\", \"#FF6692\", \"#B6E880\", \"#FF97FF\", \"#FECB52\"], \"font\": {\"color\": \"#2a3f5f\"}, \"geo\": {\"bgcolor\": \"white\", \"lakecolor\": \"white\", \"landcolor\": \"#E5ECF6\", \"showlakes\": true, \"showland\": true, \"subunitcolor\": \"white\"}, \"hoverlabel\": {\"align\": \"left\"}, \"hovermode\": \"closest\", \"mapbox\": {\"style\": \"light\"}, \"paper_bgcolor\": \"white\", \"plot_bgcolor\": \"#E5ECF6\", \"polar\": {\"angularaxis\": {\"gridcolor\": \"white\", \"linecolor\": \"white\", \"ticks\": \"\"}, \"bgcolor\": \"#E5ECF6\", \"radialaxis\": {\"gridcolor\": \"white\", \"linecolor\": \"white\", \"ticks\": \"\"}}, \"scene\": {\"xaxis\": {\"backgroundcolor\": \"#E5ECF6\", \"gridcolor\": \"white\", \"gridwidth\": 2, \"linecolor\": \"white\", \"showbackground\": true, \"ticks\": \"\", \"zerolinecolor\": \"white\"}, \"yaxis\": {\"backgroundcolor\": \"#E5ECF6\", \"gridcolor\": \"white\", \"gridwidth\": 2, \"linecolor\": \"white\", \"showbackground\": true, \"ticks\": \"\", \"zerolinecolor\": \"white\"}, \"zaxis\": {\"backgroundcolor\": \"#E5ECF6\", \"gridcolor\": \"white\", \"gridwidth\": 2, \"linecolor\": \"white\", \"showbackground\": true, \"ticks\": \"\", \"zerolinecolor\": \"white\"}}, \"shapedefaults\": {\"line\": {\"color\": \"#2a3f5f\"}}, \"ternary\": {\"aaxis\": {\"gridcolor\": \"white\", \"linecolor\": \"white\", \"ticks\": \"\"}, \"baxis\": {\"gridcolor\": \"white\", \"linecolor\": \"white\", \"ticks\": \"\"}, \"bgcolor\": \"#E5ECF6\", \"caxis\": {\"gridcolor\": \"white\", \"linecolor\": \"white\", \"ticks\": \"\"}}, \"title\": {\"x\": 0.05}, \"xaxis\": {\"automargin\": true, \"gridcolor\": \"white\", \"linecolor\": \"white\", \"ticks\": \"\", \"title\": {\"standoff\": 15}, \"zerolinecolor\": \"white\", \"zerolinewidth\": 2}, \"yaxis\": {\"automargin\": true, \"gridcolor\": \"white\", \"linecolor\": \"white\", \"ticks\": \"\", \"title\": {\"standoff\": 15}, \"zerolinecolor\": \"white\", \"zerolinewidth\": 2}}}, \"title\": {\"text\": \" OutlierDetector Plot for site MLA on flow direct and device Android\"}},                        {\"responsive\": true}                    ).then(function(){\n",
       "                            \n",
       "var gd = document.getElementById('d10cab2b-dcf1-469c-8bc9-7756f3eba528');\n",
       "var x = new MutationObserver(function (mutations, observer) {{\n",
       "        var display = window.getComputedStyle(gd).display;\n",
       "        if (!display || display === 'none') {{\n",
       "            console.log([gd, 'removed!']);\n",
       "            Plotly.purge(gd);\n",
       "            observer.disconnect();\n",
       "        }}\n",
       "}});\n",
       "\n",
       "// Listen for the removal of the full notebook cells\n",
       "var notebookContainer = gd.closest('#notebook-container');\n",
       "if (notebookContainer) {{\n",
       "    x.observe(notebookContainer, {childList: true});\n",
       "}}\n",
       "\n",
       "// Listen for the clearing of the current output cell\n",
       "var outputEl = gd.closest('.output');\n",
       "if (outputEl) {{\n",
       "    x.observe(outputEl, {childList: true});\n",
       "}}\n",
       "\n",
       "                        })                };                });            </script>        </div>"
      ]
     },
     "metadata": {},
     "output_type": "display_data"
    },
    {
     "name": "stdout",
     "output_type": "stream",
     "text": [
      "[[436   0]\n",
      " [ 32  20]]\n"
     ]
    },
    {
     "data": {
      "image/png": "[encoded data removed]",
      "text/plain": [
       "<Figure size 432x432 with 2 Axes>"
      ]
     },
     "metadata": {},
     "output_type": "display_data"
    },
    {
     "name": "stdout",
     "output_type": "stream",
     "text": [
      "Precision                                   : 1.000\n",
      "Recall                                      : 0.385\n",
      "F1-Score                                    : 0.556\n",
      "\n",
      "Precision Recall F1-Score Support Per Class : \n",
      " (array([0.93162393, 1.        ]), array([1.        , 0.38461538]), array([0.96460177, 0.55555556]), array([436,  52], dtype=int64))\n",
      "\n",
      "Classification Report                       : \n",
      "              precision    recall  f1-score   support\n",
      "\n",
      "       False       0.93      1.00      0.96       436\n",
      "        True       1.00      0.38      0.56        52\n",
      "\n",
      "    accuracy                           0.93       488\n",
      "   macro avg       0.97      0.69      0.76       488\n",
      "weighted avg       0.94      0.93      0.92       488\n",
      "\n"
     ]
    }
   ],
   "source": [
    "sites: List[str] = list(df0[\"Site\"].unique())\n",
    "flows: List[str] = list(df0[\"flow\"].unique())\n",
    "devices: List[str] = list(df0[\"Device\"].unique())\n",
    "\n",
    "sites = [\"MLA\"]\n",
    "flows = [\"direct\"]\n",
    "devices= [\"Android\"]\n",
    "    \n",
    "print(sites)\n",
    "print(flows)\n",
    "print(devices)\n",
    "\n",
    "criteria = [\n",
    "    (site, flow, device) for site in sites for flow in flows for device in devices\n",
    "]\n",
    "\n",
    "for (site, flow, device) in criteria:\n",
    "    # print(f\"⚪ Finding missing dates for  '({site},{flow})' on '{device}' \")\n",
    "\n",
    "    result: pd.DataFrame = df0.query(\n",
    "        f\"\"\" Site == \"{site}\" and flow == '{flow}' and Device == '{device}' \"\"\"\n",
    "    )\n",
    "    if len(result.index) < 1:\n",
    "        # print(f\"🟢 No value found on '{site}' and flow '{flow}'\\n\")\n",
    "        continue\n",
    "        \n",
    "    serie = result.set_index([\"Fecha\"])\n",
    "    # Usaremos la conversion total como input\n",
    "    s = serie[\"TOTAL\"]\n",
    "    s = validate_series(s)\n",
    "\n",
    "    quantile_ad = QuantileAD(high=0.98, low=0.02)\n",
    "    anomalies = quantile_ad.fit_detect(s)\n",
    "    anomaly_plot(\n",
    "         s,\n",
    "         anomaly=anomalies,\n",
    "         anomaly_color=\"red\",\n",
    "         title=f\" QuantileAD Plot for site {site} on flow {flow} and device {device}\",\n",
    "    )\n",
    "       \n",
    "    # volatility_shift_ad = VolatilityShiftAD(c=2.5, side=\"both\", window=14)\n",
    "    # anomalies = volatility_shift_ad.fit_detect(s)\n",
    "    # anomaly_plot(s, anomaly=anomalies, anomaly_color=\"red\")\n",
    "\n",
    "    # try:\n",
    "    #    level_shift_ad = LevelShiftAD(c=3.0, side='both', window=14)\n",
    "    #    sad_anomalies = level_shift_ad.fit_detect(s)\n",
    "    #    anomaly_plot(\n",
    "    #       s,\n",
    "    #       anomaly=sad_anomalies,\n",
    "    #       anomaly_color=\"red\",\n",
    "    #       title=f\" Shift Anomaly Plot for site {site} on flow {flow} and device {device}\",\n",
    "    #   )   \n",
    "    # except:\n",
    "    #     print(\"An exception occurred\")\n",
    "    \n",
    "    # esd_ad = GeneralizedESDTestAD(alpha=0.05)\n",
    "    # esd_anomalies = esd_ad.fit_detect(s)\n",
    "    # anomaly_plot(s, anomaly=esd_anomalies, anomaly_color=\"red\")\n",
    "\n",
    "    #autoregression_ad = AutoregressionAD(n_steps=7 * 2, step_size=3, c=3.0)\n",
    "    #anomalies = autoregression_ad.fit_detect(s)\n",
    "    #anomaly_plot(s, anomaly=anomalies, anomaly_color=\"red\")\n",
    "\n",
    "    outlier_detector = OutlierDetector(LocalOutlierFactor(contamination=0.6))\n",
    "    outlier_detector = OutlierDetector(IsolationForest(contamination=0.35))\n",
    "    outlier_detector = OutlierDetector(EllipticEnvelope(contamination=0.23))\n",
    "\n",
    "    od_anomalies = outlier_detector.fit_detect(s.to_frame())\n",
    "    anomaly_plot(\n",
    "    s,\n",
    "        anomaly=od_anomalies,\n",
    "        anomaly_color=\"red\",\n",
    "        title=f\" OutlierDetector Plot for site {site} on flow {flow} and device {device}\",\n",
    "    )\n",
    "    \n",
    "    #min_cluster_detector = MinClusterDetector(KMeans(n_clusters=4))\n",
    "    #anomalies = min_cluster_detector.fit_detect(s.to_frame())\n",
    "    #anomaly_plot(s, anomaly=anomalies, anomaly_color=\"red\")\n",
    "\n",
    "    # seasonal_ad = SeasonalAD(c=3.0, side=\"both\")\n",
    "    # anomalies = seasonal_ad.fit_detect(s)\n",
    "    # anomaly_plot(s, anomaly=anomalies, anomaly_color=\"red\")\n",
    "\n",
    "    \n",
    "    Y_test = serie[\"anomaly\"]\n",
    "    Y_preds = anomalies\n",
    "\n",
    "    confusion_matrix_plot(Y_test, Y_preds)\n",
    "    print_report(Y_test, Y_preds)"
   ]
  },
  {
   "cell_type": "code",
   "execution_count": null,
   "metadata": {},
   "outputs": [],
   "source": []
  },
  {
   "cell_type": "code",
   "execution_count": null,
   "metadata": {},
   "outputs": [],
   "source": []
  },
  {
   "cell_type": "code",
   "execution_count": null,
   "metadata": {},
   "outputs": [],
   "source": []
  }
 ],
 "metadata": {
  "kernelspec": {
   "display_name": "Python [conda env:ddatos21_ment_tp3]",
   "language": "python",
   "name": "conda-env-ddatos21_ment_tp3-py"
  },
  "language_info": {
   "codemirror_mode": {
    "name": "ipython",
    "version": 3
   },
   "file_extension": ".py",
   "mimetype": "text/x-python",
   "name": "python",
   "nbconvert_exporter": "python",
   "pygments_lexer": "ipython3",
   "version": "3.7.9"
  }
 },
 "nbformat": 4,
 "nbformat_minor": 4
}
