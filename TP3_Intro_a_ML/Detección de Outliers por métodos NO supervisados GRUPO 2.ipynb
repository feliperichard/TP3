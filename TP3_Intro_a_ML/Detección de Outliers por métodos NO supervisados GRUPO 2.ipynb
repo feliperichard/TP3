{
 "cells": [
  {
   "cell_type": "markdown",
   "metadata": {},
   "source": [
    "Resumen:\n",
    "    \n",
    "En  este notebook hemos probado los siguientes modelos de detección de outliers con métodos no supervisados y comparado los resultados con los outliers marcados en el dataset provisto. \n",
    "\n",
    "Los siguientes modelos fueron probados con diferentes hiperparámetros y se escogió el óptimo en función de la detección de outliers\n",
    "\n",
    "    Outlier Detector\n",
    "    Quantile AD\n",
    "    Autoregression AD\n",
    "    Volatility Shift\n",
    "    min_cluster_detector\n",
    " \n",
    "    \n",
    "    \n",
    "El modelo que mejor ajusta a los outliers marcados es Quantile AD con las siguientes métricas\n",
    "\n",
    "    Precision                                   : 0.894\n",
    "    Recall                                      : 0.857\n",
    "    F1-Score                                    : 0.875\n",
    "    \n",
    "Más abajo se documentan los experimentos realizados\n",
    "\n"
   ]
  },
  {
   "cell_type": "markdown",
   "metadata": {},
   "source": [
    "## Set Up"
   ]
  },
  {
   "cell_type": "code",
   "execution_count": 96,
   "metadata": {},
   "outputs": [
    {
     "name": "stdout",
     "output_type": "stream",
     "text": [
      "pandas      1.1.3 \n",
      "numpy       1.19.2\n",
      "plotly      1.1.3 \n",
      "matplotlib  3.3.2 \n",
      "adtk        0.6.2 \n",
      "sklearn     0.23.2\n",
      "The autoreload extension is already loaded. To reload it, use:\n",
      "  %reload_ext autoreload\n"
     ]
    }
   ],
   "source": [
    "import pandas as pd\n",
    "\n",
    "print(f\"{'pandas':<11} {pd.__version__:<6}\")\n",
    "\n",
    "import numpy as np\n",
    "\n",
    "print(f\"{'numpy':<11} {np.__version__:<6}\")\n",
    "\n",
    "import plotly\n",
    "\n",
    "print(f\"{'plotly':<11} {pd.__version__:<6}\")\n",
    "\n",
    "import matplotlib\n",
    "import matplotlib.pyplot as plt\n",
    "print(f\"{'matplotlib':<11} {matplotlib.__version__:<6}\")\n",
    "\n",
    "import itertools\n",
    "\n",
    "from adtk import __version__ as adtk_version\n",
    "\n",
    "print(f\"{'adtk':<11} {adtk_version:<6}\")\n",
    "\n",
    "from adtk.data import validate_series\n",
    "from adtk.visualization import plot\n",
    "from adtk.detector import ThresholdAD\n",
    "from adtk.detector import QuantileAD\n",
    "from adtk.detector import InterQuartileRangeAD\n",
    "from adtk.detector import PersistAD\n",
    "from adtk.detector import LevelShiftAD\n",
    "from adtk.detector import VolatilityShiftAD\n",
    "from adtk.detector import SeasonalAD\n",
    "from adtk.detector import AutoregressionAD\n",
    "from adtk.detector import MinClusterDetector\n",
    "from adtk.detector import OutlierDetector\n",
    "from adtk.detector import PcaAD\n",
    "from adtk.detector import GeneralizedESDTestAD\n",
    "\n",
    "from adtk.data import validate_series\n",
    "from adtk.visualization import plot\n",
    "\n",
    "from sklearn import __version__ as sklearn_version\n",
    "\n",
    "print(f\"{'sklearn':<11} {sklearn_version:<6}\")\n",
    "from sklearn.neighbors import LocalOutlierFactor\n",
    "from sklearn.ensemble import IsolationForest\n",
    "from sklearn.covariance import EllipticEnvelope\n",
    "from sklearn.cluster import KMeans\n",
    "\n",
    "#from io import StringIO\n",
    "#from support.convertion import load_conversion_from\n",
    "#from support.parsers import p2f\n",
    "#from support.parsers import d2d\n",
    "from datetime import datetime, timedelta\n",
    "from typing import List, Dict\n",
    "\n",
    "# plt.rcParams[\"figure.figsize\"] = [14, 10]\n",
    "# plt.style.use(\"ggplot\")\n",
    "\n",
    "%matplotlib inline\n",
    "%load_ext autoreload\n",
    "%autoreload 2"
   ]
  },
  {
   "cell_type": "code",
   "execution_count": 97,
   "metadata": {},
   "outputs": [],
   "source": [
    "file_path =\"https://raw.githubusercontent.com/feliperichard/TP3/main/TP3_Intro_a_ML/datasets/traffic_AR_CL_UY%2Bfeatures%2Bcolumn_classifier.csv\"\n",
    "df0: pd.DataFrame = pd.read_csv(\n",
    "    file_path,\n",
    "    parse_dates=[\"Fecha\"]\n",
    ")\n",
    "df0[\"Fecha\"] = pd.to_datetime(df0[\"Fecha\"], utc=True)\n"
   ]
  },
  {
   "cell_type": "code",
   "execution_count": 98,
   "metadata": {},
   "outputs": [
    {
     "data": {
      "text/plain": [
       "<AxesSubplot:title={'center':'Dist'}>"
      ]
     },
     "execution_count": 98,
     "metadata": {},
     "output_type": "execute_result"
    },
    {
     "data": {
      "image/png": "[encoded data removed]",
      "text/plain": [
       "<Figure size 432x288 with 1 Axes>"
      ]
     },
     "metadata": {
      "needs_background": "light"
     },
     "output_type": "display_data"
    }
   ],
   "source": [
    "df0[\"anomaly\"].value_counts().plot(kind='bar', \n",
    "                                     title='Dist')"
   ]
  },
  {
   "cell_type": "code",
   "execution_count": 99,
   "metadata": {},
   "outputs": [],
   "source": [
    "import plotly.graph_objects as go\n",
    "\n",
    "\n",
    "def anomaly_plot(\n",
    "    ts=None, anomaly=None, anomaly_color: str = \"red\", mode: str = \"markers\", title=\"\"\n",
    "):\n",
    "\n",
    "    df: pd.DataFrame = None\n",
    "    anomalies: pd.DataFrame = None\n",
    "\n",
    "    if ts is not None:\n",
    "        # type check for ts\n",
    "        if isinstance(ts, pd.Series):\n",
    "            if ts.name is None:\n",
    "                df = ts.to_frame(\"Time Series\")\n",
    "            else:\n",
    "                df = ts.to_frame()\n",
    "        elif isinstance(ts, pd.DataFrame):\n",
    "            df = ts.copy()\n",
    "        else:\n",
    "            raise TypeError(\"Argument `ts` must be a pandas Series or DataFrame.\")\n",
    "\n",
    "        # check series index\n",
    "        if not isinstance(df.index, pd.DatetimeIndex):\n",
    "            raise TypeError(\n",
    "                \"Index of the input time series must be a pandas \"\n",
    "                \"DatetimeIndex object.\"\n",
    "            )\n",
    "\n",
    "        # check duplicated column names\n",
    "        if df.columns.duplicated().any():\n",
    "            raise ValueError(\"Input DataFrame must have unique column names.\")\n",
    "\n",
    "    else:  # no time series, just event\n",
    "        df = pd.DataFrame(dtype=int)\n",
    "\n",
    "    # plot anomaly\n",
    "    if anomaly is not None:\n",
    "        pass\n",
    "    else:\n",
    "        raise ValueError(\"Anomaly values should be provided\")\n",
    "\n",
    "    if isinstance(anomaly, pd.Series):\n",
    "\n",
    "        anomaly: pd.Series = anomaly\n",
    "        idx: pd.DatetimeIndex = anomaly[anomaly == True].index\n",
    "\n",
    "        if anomaly.name in df.columns:\n",
    "            anomalies: pd.DataFrame = df.loc[idx][anomaly.name].to_frame()\n",
    "        else:\n",
    "            anomalies: pd.DataFrame = df.loc[idx]\n",
    "    elif isinstance(anomaly, pd.DataFrame):\n",
    "        anomaly: pd.DataFrame = anomaly\n",
    "        anomalies: pd.DataFrame = pd.DataFrame(columns=df.columns)\n",
    "        for anomaly_name in anomaly.columns:\n",
    "            if anomaly_name in df.columns:\n",
    "                anomalies = pd.concat(anomalies, df.loc[anomaly[anomaly_name] == True])\n",
    "\n",
    "    fig = go.Figure()\n",
    "\n",
    "    for column_name in df.columns:\n",
    "        # Add scatter trace for line\n",
    "        fig.add_trace(\n",
    "            go.Scatter(x=df.index, y=df[column_name], mode=\"lines\", name=column_name)\n",
    "        )\n",
    "    for column_name in anomalies.columns:\n",
    "        fig.add_trace(\n",
    "            go.Scatter(\n",
    "                x=anomalies.index,\n",
    "                y=anomalies[column_name],\n",
    "                mode=\"markers\",\n",
    "                marker=dict(\n",
    "                    color=\"LightSkyBlue\",\n",
    "                    size=6,\n",
    "                    opacity=0.5,\n",
    "                    line=dict(color=\"red\", width=2),\n",
    "                ),\n",
    "                showlegend=False,\n",
    "            ),\n",
    "        )\n",
    "    fig.update_layout(\n",
    "        title={\"text\": title,}\n",
    "    )\n",
    "    fig.show()"
   ]
  },
  {
   "cell_type": "code",
   "execution_count": 100,
   "metadata": {},
   "outputs": [],
   "source": [
    "# Model Evaluation\n",
    "from sklearn.metrics import confusion_matrix\n",
    "\n",
    "def confusion_matrix_plot( Y_test, Y_preds ):\n",
    "\n",
    "    conf_mat = confusion_matrix(Y_test, Y_preds)\n",
    "    print(conf_mat)\n",
    "    with plt.style.context(('ggplot', 'seaborn')):\n",
    "        fig = plt.figure(figsize=(6,6), num=1)\n",
    "        plt.imshow(conf_mat, interpolation='nearest',cmap= plt.cm.Blues )\n",
    "        plt.xticks([0,1],[0,1])\n",
    "        plt.yticks([0,1],[0,1])\n",
    "        plt.xlabel('Predicted Label')\n",
    "        plt.ylabel('Actual Label')\n",
    "        for i, j in itertools.product(range(conf_mat.shape[0]), range(conf_mat.shape[1])):\n",
    "                    plt.text(j, i,conf_mat[i, j], horizontalalignment=\"center\",color=\"red\")\n",
    "        plt.grid(None)\n",
    "        plt.title('Confusion Matrix')\n",
    "        plt.colorbar()\n",
    "        plt.show()\n",
    "\n"
   ]
  },
  {
   "cell_type": "code",
   "execution_count": 101,
   "metadata": {},
   "outputs": [],
   "source": [
    "from sklearn.metrics import classification_report, precision_score, recall_score, f1_score, precision_recall_fscore_support\n",
    "\n",
    "def print_report( Y_test, Y_preds ):\n",
    "    print('Precision                                   : %.3f'%precision_score(Y_test, Y_preds))\n",
    "    print('Recall                                      : %.3f'%recall_score(Y_test, Y_preds))\n",
    "    print('F1-Score                                    : %.3f'%f1_score(Y_test, Y_preds))\n",
    "    print('\\nPrecision Recall F1-Score Support Per Class : \\n',precision_recall_fscore_support(Y_test, Y_preds))\n",
    "    print('\\nClassification Report                       : ')\n",
    "    print(classification_report(Y_test, Y_preds))"
   ]
  },
  {
   "cell_type": "markdown",
   "metadata": {},
   "source": [
    "Elegimos un el site MLA, Flow Direct y Device Desktop para hacer el análisis\n"
   ]
  },
  {
   "cell_type": "code",
   "execution_count": 102,
   "metadata": {
    "scrolled": false
   },
   "outputs": [
    {
     "name": "stdout",
     "output_type": "stream",
     "text": [
      "MLA\n",
      "direct\n",
      "Desktop\n"
     ]
    }
   ],
   "source": [
    "#sites = list(df0[\"Site\"].unique())\n",
    "#flows= list(df0[\"flow\"].unique())\n",
    "#devices= list(df0[\"Device\"].unique())\n",
    "\n",
    "sites=[\"MLA\"]\n",
    "flows=[\"direct\"]\n",
    "devices=[\"Desktop\"]\n",
    "\n",
    "#sites: List[str] = list(df0[\"Site\"].unique())\n",
    "#flows: List[str] = list(df0[\"flow\"].unique())\n",
    "#devices: List[str] = list(df0[\"Device\"].unique())\n",
    "    \n",
    "criteria = [\n",
    "    (site, flow, device) for site in sites for flow in flows for device in devices\n",
    "]\n",
    "\n",
    "for (site, flow, device) in criteria:\n",
    "     #print(f\"⚪ Finding missing dates for  '({site},{flow})' on '{device}' \")\n",
    "    print(site)\n",
    "    print(flow)\n",
    "    print(device)\n",
    "    \n",
    "    result: pd.DataFrame = df0.query(\n",
    "        f\"\"\" Site == \"{site}\" and flow == '{flow}' and Device == '{device}' \"\"\"\n",
    "    )\n",
    "    if len(result.index) < 1:\n",
    "        # print(f\"🟢 No value found on '{site}' and flow '{flow}'\\n\")\n",
    "        continue\n",
    "        \n",
    "    serie = result.set_index([\"Fecha\"])\n",
    "    # Usaremos la conversion total como input\n",
    "    s = serie[\"TOTAL\"]\n",
    "    s = validate_series(s)\n",
    "\n",
    "    #quantile_ad = QuantileAD(high=0.97, low=0.03)\n",
    "    #qad_anomalies = quantile_ad.fit_detect(s)\n",
    "    #anomaly_plot(\n",
    "    #     s,\n",
    "    #     anomaly=qad_anomalies,\n",
    "    #     anomaly_color=\"red\",\n",
    "    #     title=f\" QuantileAD Plot for site {site} on flow {flow} and device {device}\",\n",
    "    #)\n",
    "       \n",
    "    # volatility_shift_ad = VolatilityShiftAD(c=2.5, side=\"both\", window=14)\n",
    "    # anomalies = volatility_shift_ad.fit_detect(s)\n",
    "    # anomaly_plot(s, anomaly=anomalies, anomaly_color=\"red\")\n",
    "\n",
    "    # try:\n",
    "    #    level_shift_ad = LevelShiftAD(c=3.0, side='both', window=14)\n",
    "    #    sad_anomalies = level_shift_ad.fit_detect(s)\n",
    "    #    anomaly_plot(\n",
    "    #       s,\n",
    "    #       anomaly=sad_anomalies,\n",
    "    #       anomaly_color=\"red\",\n",
    "    #       title=f\" Shift Anomaly Plot for site {site} on flow {flow} and device {device}\",\n",
    "    #   )   \n",
    "    # except:\n",
    "    #     print(\"An exception occurred\")\n",
    "    \n",
    "    # esd_ad = GeneralizedESDTestAD(alpha=0.05)\n",
    "    # esd_anomalies = esd_ad.fit_detect(s)\n",
    "    # anomaly_plot(s, anomaly=esd_anomalies, anomaly_color=\"red\")\n",
    "\n",
    "    # autoregression_ad = AutoregressionAD(n_steps=7 * 2, step_size=3, c=3.0)\n",
    "    # anomalies = autoregression_ad.fit_detect(s)\n",
    "    # anomaly_plot(s, anomaly=anomalies, anomaly_color=\"red\")\n",
    "\n",
    "    #outlier_detector = OutlierDetector(LocalOutlierFactor(contamination=0.17))\n",
    "    # outlier_detector = OutlierDetector(IsolationForest(contamination=0.35))\n",
    "    # outlier_detector = OutlierDetector(EllipticEnvelope(contamination=0.23))\n",
    "\n",
    "    #od_anomalies = outlier_detector.fit_detect(s.to_frame())\n",
    "    #anomaly_plot(\n",
    "    #    s,\n",
    "    #    anomaly=od_anomalies,\n",
    "    #    anomaly_color=\"red\",\n",
    "    #    title=f\" OutlierDetector Plot for site {site} on flow {flow} and device {device}\",\n",
    "    #)\n",
    "    \n",
    "    #min_cluster_detector = MinClusterDetector(KMeans(n_clusters=8))\n",
    "    #anomalies = min_cluster_detector.fit_detect(s.to_frame())\n",
    "   \n",
    "     \n",
    "    #anomaly_plot(s, anomaly=anomalies, anomaly_color=\"red\")\n",
    "\n",
    "    # seasonal_ad = SeasonalAD(c=3.0, side=\"both\")\n",
    "    # anomalies = seasonal_ad.fit_detect(s)\n",
    "    # anomaly_plot(s, anomaly=anomalies, anomaly_color=\"red\")\n",
    "\n",
    "    \n",
    "    #Y_test = serie[\"anomaly\"]\n",
    "    #Y_preds = od_anomalies\n",
    "\n",
    "    #confusion_matrix_plot(Y_test, Y_preds)\n",
    "    #print_report(Y_test, Y_preds)"
   ]
  },
  {
   "cell_type": "code",
   "execution_count": 103,
   "metadata": {},
   "outputs": [
    {
     "data": {
      "text/html": [
       "<div>\n",
       "<style scoped>\n",
       "    .dataframe tbody tr th:only-of-type {\n",
       "        vertical-align: middle;\n",
       "    }\n",
       "\n",
       "    .dataframe tbody tr th {\n",
       "        vertical-align: top;\n",
       "    }\n",
       "\n",
       "    .dataframe thead th {\n",
       "        text-align: right;\n",
       "    }\n",
       "</style>\n",
       "<table border=\"1\" class=\"dataframe\">\n",
       "  <thead>\n",
       "    <tr style=\"text-align: right;\">\n",
       "      <th></th>\n",
       "      <th>Recall</th>\n",
       "      <th>Precision</th>\n",
       "    </tr>\n",
       "    <tr>\n",
       "      <th>Parametro</th>\n",
       "      <th></th>\n",
       "      <th></th>\n",
       "    </tr>\n",
       "  </thead>\n",
       "  <tbody>\n",
       "  </tbody>\n",
       "</table>\n",
       "</div>"
      ],
      "text/plain": [
       "Empty DataFrame\n",
       "Columns: [Recall, Precision]\n",
       "Index: []"
      ]
     },
     "execution_count": 103,
     "metadata": {},
     "output_type": "execute_result"
    }
   ],
   "source": [
    "from numpy.random import randint\n",
    "\n",
    "Results_OD = pd.DataFrame(columns=['Parametro', 'Recall', 'Precision'])\n",
    "Results_OD.set_index('Parametro')\n"
   ]
  },
  {
   "cell_type": "markdown",
   "metadata": {},
   "source": [
    "Probamos el Modelo Outlier Detector con varios parámetros de Contaminación e imprimimos Precision y Recall para ver los resultados."
   ]
  },
  {
   "cell_type": "code",
   "execution_count": 104,
   "metadata": {},
   "outputs": [],
   "source": [
    "#Outlier Detector: encontrar el mejor parametro de contaminación\n",
    "\n",
    "outlier_detector = OutlierDetector(LocalOutlierFactor(contamination=0.1))\n",
    "od_anomalies = outlier_detector.fit_detect(s.to_frame())\n",
    "Y_test = serie[\"anomaly\"]\n",
    "Y_preds = od_anomalies\n",
    "new_row = {'Parametro':'Contamination 0.1', 'Recall':recall_score(Y_test, Y_preds), 'Precision':precision_score(Y_test, Y_preds)}\n",
    "Results_OD = Results_OD.append(new_row, ignore_index=True)\n",
    "\n",
    "\n",
    "outlier_detector = OutlierDetector(LocalOutlierFactor(contamination=0.15))\n",
    "od_anomalies = outlier_detector.fit_detect(s.to_frame())\n",
    "Y_test = serie[\"anomaly\"]\n",
    "Y_preds = od_anomalies\n",
    "new_row = {'Parametro':'Contamination 0.15', 'Recall':recall_score(Y_test, Y_preds), 'Precision':precision_score(Y_test, Y_preds)}\n",
    "Results_OD = Results_OD.append(new_row, ignore_index=True)\n",
    "\n",
    "outlier_detector = OutlierDetector(LocalOutlierFactor(contamination=0.20))\n",
    "od_anomalies = outlier_detector.fit_detect(s.to_frame())\n",
    "Y_test = serie[\"anomaly\"]\n",
    "Y_preds = od_anomalies\n",
    "new_row = {'Parametro':'Contamination 0.2', 'Recall':recall_score(Y_test, Y_preds), 'Precision':precision_score(Y_test, Y_preds)}\n",
    "Results_OD = Results_OD.append(new_row, ignore_index=True)\n",
    "\n",
    "outlier_detector = OutlierDetector(LocalOutlierFactor(contamination=0.25))\n",
    "od_anomalies = outlier_detector.fit_detect(s.to_frame())\n",
    "Y_test = serie[\"anomaly\"]\n",
    "Y_preds = od_anomalies\n",
    "new_row = {'Parametro':'Contamination 0.25', 'Recall':recall_score(Y_test, Y_preds), 'Precision':precision_score(Y_test, Y_preds)}\n",
    "Results_OD = Results_OD.append(new_row, ignore_index=True)\n",
    "\n",
    "outlier_detector = OutlierDetector(LocalOutlierFactor(contamination=0.30))\n",
    "od_anomalies = outlier_detector.fit_detect(s.to_frame())\n",
    "Y_test = serie[\"anomaly\"]\n",
    "Y_preds = od_anomalies\n",
    "new_row = {'Parametro':'Contamination 0.30', 'Recall':recall_score(Y_test, Y_preds), 'Precision':precision_score(Y_test, Y_preds)}\n",
    "Results_OD = Results_OD.append(new_row, ignore_index=True)\n",
    "\n",
    "outlier_detector = OutlierDetector(LocalOutlierFactor(contamination=0.35))\n",
    "od_anomalies = outlier_detector.fit_detect(s.to_frame())\n",
    "Y_test = serie[\"anomaly\"]\n",
    "Y_preds = od_anomalies\n",
    "new_row = {'Parametro':'Contamination 0.35', 'Recall':recall_score(Y_test, Y_preds), 'Precision':precision_score(Y_test, Y_preds)}\n",
    "Results_OD = Results_OD.append(new_row, ignore_index=True)\n",
    "\n"
   ]
  },
  {
   "cell_type": "markdown",
   "metadata": {},
   "source": [
    "Como puede verse más abajo, para niveles bajos de contaminación los niveles de Recall son bajos y el modelo alcanza mayores niveles de precisión. Al subir los niveles de contaminanción (mayor cantidad de casos serán determinados como outliers), la métrica recall va mejorando y la precisión va empeorando.\n",
    "\n",
    "Notamos que el Recall mejora signifcativamente al pasar de 0.15 a 0.20 el contamination y el precision se mantiene constante. A partir de ese punto (0.25 en adelante) las bajas en Precision son significativas y el recall no mejora demasiado.\n"
   ]
  },
  {
   "cell_type": "markdown",
   "metadata": {},
   "source": [
    "\n"
   ]
  },
  {
   "cell_type": "code",
   "execution_count": 105,
   "metadata": {},
   "outputs": [
    {
     "data": {
      "text/plain": [
       "<AxesSubplot:xlabel='Parametro'>"
      ]
     },
     "execution_count": 105,
     "metadata": {},
     "output_type": "execute_result"
    },
    {
     "data": {
      "image/png": "[encoded data removed]",
      "text/plain": [
       "<Figure size 1080x504 with 1 Axes>"
      ]
     },
     "metadata": {
      "needs_background": "light"
     },
     "output_type": "display_data"
    }
   ],
   "source": [
    "Results_OD.plot(x=\"Parametro\",figsize = (15, 7))"
   ]
  },
  {
   "cell_type": "code",
   "execution_count": 106,
   "metadata": {},
   "outputs": [
    {
     "data": {
      "application/vnd.plotly.v1+json": {
       "config": {
        "plotlyServerURL": "https://plot.ly"
       },
       "data": [
        {
         "mode": "lines",
         "name": "TOTAL",
         "type": "scatter",
         "x": [
          "2019-03-01T00:00:00+00:00",
          "2019-03-02T00:00:00+00:00",
          "2019-03-03T00:00:00+00:00",
          "2019-03-04T00:00:00+00:00",
          "2019-03-05T00:00:00+00:00",
          "2019-03-06T00:00:00+00:00",
          "2019-03-07T00:00:00+00:00",
          "2019-03-08T00:00:00+00:00",
          "2019-03-09T00:00:00+00:00",
          "2019-03-10T00:00:00+00:00",
          "2019-03-11T00:00:00+00:00",
          "2019-03-12T00:00:00+00:00",
          "2019-03-13T00:00:00+00:00",
          "2019-03-14T00:00:00+00:00",
          "2019-03-15T00:00:00+00:00",
          "2019-03-16T00:00:00+00:00",
          "2019-03-17T00:00:00+00:00",
          "2019-03-18T00:00:00+00:00",
          "2019-03-19T00:00:00+00:00",
          "2019-03-20T00:00:00+00:00",
          "2019-03-21T00:00:00+00:00",
          "2019-03-22T00:00:00+00:00",
          "2019-03-23T00:00:00+00:00",
          "2019-03-24T00:00:00+00:00",
          "2019-03-25T00:00:00+00:00",
          "2019-03-26T00:00:00+00:00",
          "2019-03-27T00:00:00+00:00",
          "2019-03-28T00:00:00+00:00",
          "2019-03-29T00:00:00+00:00",
          "2019-03-30T00:00:00+00:00",
          "2019-03-31T00:00:00+00:00",
          "2019-04-01T00:00:00+00:00",
          "2019-04-02T00:00:00+00:00",
          "2019-04-03T00:00:00+00:00",
          "2019-04-04T00:00:00+00:00",
          "2019-04-05T00:00:00+00:00",
          "2019-04-06T00:00:00+00:00",
          "2019-04-07T00:00:00+00:00",
          "2019-04-08T00:00:00+00:00",
          "2019-04-09T00:00:00+00:00",
          "2019-04-10T00:00:00+00:00",
          "2019-04-11T00:00:00+00:00",
          "2019-04-12T00:00:00+00:00",
          "2019-04-13T00:00:00+00:00",
          "2019-04-14T00:00:00+00:00",
          "2019-04-15T00:00:00+00:00",
          "2019-04-16T00:00:00+00:00",
          "2019-04-17T00:00:00+00:00",
          "2019-04-18T00:00:00+00:00",
          "2019-04-19T00:00:00+00:00",
          "2019-04-20T00:00:00+00:00",
          "2019-04-21T00:00:00+00:00",
          "2019-04-22T00:00:00+00:00",
          "2019-04-23T00:00:00+00:00",
          "2019-04-24T00:00:00+00:00",
          "2019-04-25T00:00:00+00:00",
          "2019-04-26T00:00:00+00:00",
          "2019-04-27T00:00:00+00:00",
          "2019-04-28T00:00:00+00:00",
          "2019-04-29T00:00:00+00:00",
          "2019-04-30T00:00:00+00:00",
          "2019-05-01T00:00:00+00:00",
          "2019-05-02T00:00:00+00:00",
          "2019-05-03T00:00:00+00:00",
          "2019-05-04T00:00:00+00:00",
          "2019-05-05T00:00:00+00:00",
          "2019-05-06T00:00:00+00:00",
          "2019-05-07T00:00:00+00:00",
          "2019-05-08T00:00:00+00:00",
          "2019-05-09T00:00:00+00:00",
          "2019-05-10T00:00:00+00:00",
          "2019-05-11T00:00:00+00:00",
          "2019-05-12T00:00:00+00:00",
          "2019-05-13T00:00:00+00:00",
          "2019-05-14T00:00:00+00:00",
          "2019-05-15T00:00:00+00:00",
          "2019-05-16T00:00:00+00:00",
          "2019-05-17T00:00:00+00:00",
          "2019-05-18T00:00:00+00:00",
          "2019-05-19T00:00:00+00:00",
          "2019-05-20T00:00:00+00:00",
          "2019-05-21T00:00:00+00:00",
          "2019-05-22T00:00:00+00:00",
          "2019-05-23T00:00:00+00:00",
          "2019-05-24T00:00:00+00:00",
          "2019-05-25T00:00:00+00:00",
          "2019-05-26T00:00:00+00:00",
          "2019-05-27T00:00:00+00:00",
          "2019-05-28T00:00:00+00:00",
          "2019-05-29T00:00:00+00:00",
          "2019-05-30T00:00:00+00:00",
          "2019-05-31T00:00:00+00:00",
          "2019-06-01T00:00:00+00:00",
          "2019-06-02T00:00:00+00:00",
          "2019-06-03T00:00:00+00:00",
          "2019-06-04T00:00:00+00:00",
          "2019-06-05T00:00:00+00:00",
          "2019-06-06T00:00:00+00:00",
          "2019-06-07T00:00:00+00:00",
          "2019-06-08T00:00:00+00:00",
          "2019-06-09T00:00:00+00:00",
          "2019-06-10T00:00:00+00:00",
          "2019-06-11T00:00:00+00:00",
          "2019-06-12T00:00:00+00:00",
          "2019-06-13T00:00:00+00:00",
          "2019-06-14T00:00:00+00:00",
          "2019-06-15T00:00:00+00:00",
          "2019-06-16T00:00:00+00:00",
          "2019-06-17T00:00:00+00:00",
          "2019-06-18T00:00:00+00:00",
          "2019-06-19T00:00:00+00:00",
          "2019-06-20T00:00:00+00:00",
          "2019-06-21T00:00:00+00:00",
          "2019-06-22T00:00:00+00:00",
          "2019-06-23T00:00:00+00:00",
          "2019-06-24T00:00:00+00:00",
          "2019-06-25T00:00:00+00:00",
          "2019-06-26T00:00:00+00:00",
          "2019-06-27T00:00:00+00:00",
          "2019-06-28T00:00:00+00:00",
          "2019-06-29T00:00:00+00:00",
          "2019-06-30T00:00:00+00:00",
          "2019-07-01T00:00:00+00:00",
          "2019-07-02T00:00:00+00:00",
          "2019-07-03T00:00:00+00:00",
          "2019-07-04T00:00:00+00:00",
          "2019-07-05T00:00:00+00:00",
          "2019-07-06T00:00:00+00:00",
          "2019-07-07T00:00:00+00:00",
          "2019-07-08T00:00:00+00:00",
          "2019-07-09T00:00:00+00:00",
          "2019-07-10T00:00:00+00:00",
          "2019-07-11T00:00:00+00:00",
          "2019-07-12T00:00:00+00:00",
          "2019-07-13T00:00:00+00:00",
          "2019-07-14T00:00:00+00:00",
          "2019-07-15T00:00:00+00:00",
          "2019-07-16T00:00:00+00:00",
          "2019-07-17T00:00:00+00:00",
          "2019-07-18T00:00:00+00:00",
          "2019-07-19T00:00:00+00:00",
          "2019-07-20T00:00:00+00:00",
          "2019-07-21T00:00:00+00:00",
          "2019-07-22T00:00:00+00:00",
          "2019-07-23T00:00:00+00:00",
          "2019-07-24T00:00:00+00:00",
          "2019-07-25T00:00:00+00:00",
          "2019-07-26T00:00:00+00:00",
          "2019-07-27T00:00:00+00:00",
          "2019-07-28T00:00:00+00:00",
          "2019-07-29T00:00:00+00:00",
          "2019-07-30T00:00:00+00:00",
          "2019-07-31T00:00:00+00:00",
          "2019-08-01T00:00:00+00:00",
          "2019-08-02T00:00:00+00:00",
          "2019-08-03T00:00:00+00:00",
          "2019-08-04T00:00:00+00:00",
          "2019-08-05T00:00:00+00:00",
          "2019-08-06T00:00:00+00:00",
          "2019-08-07T00:00:00+00:00",
          "2019-08-08T00:00:00+00:00",
          "2019-08-09T00:00:00+00:00",
          "2019-08-10T00:00:00+00:00",
          "2019-08-11T00:00:00+00:00",
          "2019-08-12T00:00:00+00:00",
          "2019-08-13T00:00:00+00:00",
          "2019-08-14T00:00:00+00:00",
          "2019-08-15T00:00:00+00:00",
          "2019-08-16T00:00:00+00:00",
          "2019-08-17T00:00:00+00:00",
          "2019-08-18T00:00:00+00:00",
          "2019-08-19T00:00:00+00:00",
          "2019-08-20T00:00:00+00:00",
          "2019-08-21T00:00:00+00:00",
          "2019-08-22T00:00:00+00:00",
          "2019-08-23T00:00:00+00:00",
          "2019-08-24T00:00:00+00:00",
          "2019-08-25T00:00:00+00:00",
          "2019-08-26T00:00:00+00:00",
          "2019-08-27T00:00:00+00:00",
          "2019-08-28T00:00:00+00:00",
          "2019-08-29T00:00:00+00:00",
          "2019-08-30T00:00:00+00:00",
          "2019-08-31T00:00:00+00:00",
          "2019-09-01T00:00:00+00:00",
          "2019-09-02T00:00:00+00:00",
          "2019-09-03T00:00:00+00:00",
          "2019-09-04T00:00:00+00:00",
          "2019-09-05T00:00:00+00:00",
          "2019-09-06T00:00:00+00:00",
          "2019-09-07T00:00:00+00:00",
          "2019-09-08T00:00:00+00:00",
          "2019-09-09T00:00:00+00:00",
          "2019-09-10T00:00:00+00:00",
          "2019-09-11T00:00:00+00:00",
          "2019-09-12T00:00:00+00:00",
          "2019-09-13T00:00:00+00:00",
          "2019-09-14T00:00:00+00:00",
          "2019-09-15T00:00:00+00:00",
          "2019-09-16T00:00:00+00:00",
          "2019-09-17T00:00:00+00:00",
          "2019-09-18T00:00:00+00:00",
          "2019-09-19T00:00:00+00:00",
          "2019-09-20T00:00:00+00:00",
          "2019-09-21T00:00:00+00:00",
          "2019-09-22T00:00:00+00:00",
          "2019-09-23T00:00:00+00:00",
          "2019-09-24T00:00:00+00:00",
          "2019-09-25T00:00:00+00:00",
          "2019-09-26T00:00:00+00:00",
          "2019-09-27T00:00:00+00:00",
          "2019-09-28T00:00:00+00:00",
          "2019-09-29T00:00:00+00:00",
          "2019-09-30T00:00:00+00:00",
          "2019-10-01T00:00:00+00:00",
          "2019-10-02T00:00:00+00:00",
          "2019-10-03T00:00:00+00:00",
          "2019-10-04T00:00:00+00:00",
          "2019-10-05T00:00:00+00:00",
          "2019-10-06T00:00:00+00:00",
          "2019-10-07T00:00:00+00:00",
          "2019-10-08T00:00:00+00:00",
          "2019-10-09T00:00:00+00:00",
          "2019-10-10T00:00:00+00:00",
          "2019-10-11T00:00:00+00:00",
          "2019-10-12T00:00:00+00:00",
          "2019-10-13T00:00:00+00:00",
          "2019-10-14T00:00:00+00:00",
          "2019-10-15T00:00:00+00:00",
          "2019-10-16T00:00:00+00:00",
          "2019-10-17T00:00:00+00:00",
          "2019-10-18T00:00:00+00:00",
          "2019-10-19T00:00:00+00:00",
          "2019-10-20T00:00:00+00:00",
          "2019-10-21T00:00:00+00:00",
          "2019-10-22T00:00:00+00:00",
          "2019-10-23T00:00:00+00:00",
          "2019-10-24T00:00:00+00:00",
          "2019-10-25T00:00:00+00:00",
          "2019-10-26T00:00:00+00:00",
          "2019-10-27T00:00:00+00:00",
          "2019-10-28T00:00:00+00:00",
          "2019-10-29T00:00:00+00:00",
          "2019-10-30T00:00:00+00:00",
          "2019-10-31T00:00:00+00:00",
          "2019-11-01T00:00:00+00:00",
          "2019-11-02T00:00:00+00:00",
          "2019-11-03T00:00:00+00:00",
          "2019-11-04T00:00:00+00:00",
          "2019-11-05T00:00:00+00:00",
          "2019-11-06T00:00:00+00:00",
          "2019-11-07T00:00:00+00:00",
          "2019-11-08T00:00:00+00:00",
          "2019-11-09T00:00:00+00:00",
          "2019-11-10T00:00:00+00:00",
          "2019-11-11T00:00:00+00:00",
          "2019-11-12T00:00:00+00:00",
          "2019-11-13T00:00:00+00:00",
          "2019-11-14T00:00:00+00:00",
          "2019-11-15T00:00:00+00:00",
          "2019-11-16T00:00:00+00:00",
          "2019-11-17T00:00:00+00:00",
          "2019-11-18T00:00:00+00:00",
          "2019-11-19T00:00:00+00:00",
          "2019-11-20T00:00:00+00:00",
          "2019-11-21T00:00:00+00:00",
          "2019-11-22T00:00:00+00:00",
          "2019-11-23T00:00:00+00:00",
          "2019-11-24T00:00:00+00:00",
          "2019-11-25T00:00:00+00:00",
          "2019-11-26T00:00:00+00:00",
          "2019-11-27T00:00:00+00:00",
          "2019-11-28T00:00:00+00:00",
          "2019-11-29T00:00:00+00:00",
          "2019-11-30T00:00:00+00:00",
          "2019-12-01T00:00:00+00:00",
          "2019-12-02T00:00:00+00:00",
          "2019-12-03T00:00:00+00:00",
          "2019-12-04T00:00:00+00:00",
          "2019-12-05T00:00:00+00:00",
          "2019-12-06T00:00:00+00:00",
          "2019-12-07T00:00:00+00:00",
          "2019-12-08T00:00:00+00:00",
          "2019-12-09T00:00:00+00:00",
          "2019-12-10T00:00:00+00:00",
          "2019-12-11T00:00:00+00:00",
          "2019-12-12T00:00:00+00:00",
          "2019-12-13T00:00:00+00:00",
          "2019-12-14T00:00:00+00:00",
          "2019-12-15T00:00:00+00:00",
          "2019-12-16T00:00:00+00:00",
          "2019-12-17T00:00:00+00:00",
          "2019-12-18T00:00:00+00:00",
          "2019-12-19T00:00:00+00:00",
          "2019-12-20T00:00:00+00:00",
          "2019-12-21T00:00:00+00:00",
          "2019-12-22T00:00:00+00:00",
          "2019-12-23T00:00:00+00:00",
          "2019-12-24T00:00:00+00:00",
          "2019-12-25T00:00:00+00:00",
          "2019-12-26T00:00:00+00:00",
          "2019-12-27T00:00:00+00:00",
          "2019-12-28T00:00:00+00:00",
          "2019-12-29T00:00:00+00:00",
          "2019-12-30T00:00:00+00:00",
          "2019-12-31T00:00:00+00:00",
          "2020-01-01T00:00:00+00:00",
          "2020-01-02T00:00:00+00:00",
          "2020-01-03T00:00:00+00:00",
          "2020-01-04T00:00:00+00:00",
          "2020-01-05T00:00:00+00:00",
          "2020-01-06T00:00:00+00:00",
          "2020-01-07T00:00:00+00:00",
          "2020-01-08T00:00:00+00:00",
          "2020-01-09T00:00:00+00:00",
          "2020-01-10T00:00:00+00:00",
          "2020-01-11T00:00:00+00:00",
          "2020-01-12T00:00:00+00:00",
          "2020-01-13T00:00:00+00:00",
          "2020-01-14T00:00:00+00:00",
          "2020-01-15T00:00:00+00:00",
          "2020-01-16T00:00:00+00:00",
          "2020-01-17T00:00:00+00:00",
          "2020-01-18T00:00:00+00:00",
          "2020-01-19T00:00:00+00:00",
          "2020-01-20T00:00:00+00:00",
          "2020-01-21T00:00:00+00:00",
          "2020-01-22T00:00:00+00:00",
          "2020-01-23T00:00:00+00:00",
          "2020-01-24T00:00:00+00:00",
          "2020-01-25T00:00:00+00:00",
          "2020-01-26T00:00:00+00:00",
          "2020-01-27T00:00:00+00:00",
          "2020-01-28T00:00:00+00:00",
          "2020-01-29T00:00:00+00:00",
          "2020-01-30T00:00:00+00:00",
          "2020-01-31T00:00:00+00:00",
          "2020-02-01T00:00:00+00:00",
          "2020-02-02T00:00:00+00:00",
          "2020-02-03T00:00:00+00:00",
          "2020-02-04T00:00:00+00:00",
          "2020-02-05T00:00:00+00:00",
          "2020-02-06T00:00:00+00:00",
          "2020-02-07T00:00:00+00:00",
          "2020-02-08T00:00:00+00:00",
          "2020-02-09T00:00:00+00:00",
          "2020-02-10T00:00:00+00:00",
          "2020-02-11T00:00:00+00:00",
          "2020-02-12T00:00:00+00:00",
          "2020-02-13T00:00:00+00:00",
          "2020-02-14T00:00:00+00:00",
          "2020-02-15T00:00:00+00:00",
          "2020-02-16T00:00:00+00:00",
          "2020-02-17T00:00:00+00:00",
          "2020-02-18T00:00:00+00:00",
          "2020-02-19T00:00:00+00:00",
          "2020-02-20T00:00:00+00:00",
          "2020-02-21T00:00:00+00:00",
          "2020-02-22T00:00:00+00:00",
          "2020-02-23T00:00:00+00:00",
          "2020-02-24T00:00:00+00:00",
          "2020-02-25T00:00:00+00:00",
          "2020-02-26T00:00:00+00:00",
          "2020-02-27T00:00:00+00:00",
          "2020-02-28T00:00:00+00:00",
          "2020-02-29T00:00:00+00:00",
          "2020-03-01T00:00:00+00:00",
          "2020-03-02T00:00:00+00:00",
          "2020-03-03T00:00:00+00:00",
          "2020-03-04T00:00:00+00:00",
          "2020-03-05T00:00:00+00:00",
          "2020-03-06T00:00:00+00:00",
          "2020-03-07T00:00:00+00:00",
          "2020-03-08T00:00:00+00:00",
          "2020-03-09T00:00:00+00:00",
          "2020-03-10T00:00:00+00:00",
          "2020-03-11T00:00:00+00:00",
          "2020-03-12T00:00:00+00:00",
          "2020-03-13T00:00:00+00:00",
          "2020-03-14T00:00:00+00:00",
          "2020-03-15T00:00:00+00:00",
          "2020-03-16T00:00:00+00:00",
          "2020-03-17T00:00:00+00:00",
          "2020-03-18T00:00:00+00:00",
          "2020-03-19T00:00:00+00:00",
          "2020-03-20T00:00:00+00:00",
          "2020-03-21T00:00:00+00:00",
          "2020-03-22T00:00:00+00:00",
          "2020-03-23T00:00:00+00:00",
          "2020-03-24T00:00:00+00:00",
          "2020-03-25T00:00:00+00:00",
          "2020-03-26T00:00:00+00:00",
          "2020-03-27T00:00:00+00:00",
          "2020-03-28T00:00:00+00:00",
          "2020-03-29T00:00:00+00:00",
          "2020-03-30T00:00:00+00:00",
          "2020-03-31T00:00:00+00:00",
          "2020-04-01T00:00:00+00:00",
          "2020-04-02T00:00:00+00:00",
          "2020-04-03T00:00:00+00:00",
          "2020-04-04T00:00:00+00:00",
          "2020-04-05T00:00:00+00:00",
          "2020-04-06T00:00:00+00:00",
          "2020-04-07T00:00:00+00:00",
          "2020-04-08T00:00:00+00:00",
          "2020-04-09T00:00:00+00:00",
          "2020-04-10T00:00:00+00:00",
          "2020-04-11T00:00:00+00:00",
          "2020-04-12T00:00:00+00:00",
          "2020-04-13T00:00:00+00:00",
          "2020-04-14T00:00:00+00:00",
          "2020-04-15T00:00:00+00:00",
          "2020-04-16T00:00:00+00:00",
          "2020-04-17T00:00:00+00:00",
          "2020-04-18T00:00:00+00:00",
          "2020-04-19T00:00:00+00:00",
          "2020-04-20T00:00:00+00:00",
          "2020-04-21T00:00:00+00:00",
          "2020-04-22T00:00:00+00:00",
          "2020-04-23T00:00:00+00:00",
          "2020-04-24T00:00:00+00:00",
          "2020-04-25T00:00:00+00:00",
          "2020-04-26T00:00:00+00:00",
          "2020-04-27T00:00:00+00:00",
          "2020-04-28T00:00:00+00:00",
          "2020-04-29T00:00:00+00:00",
          "2020-04-30T00:00:00+00:00",
          "2020-05-01T00:00:00+00:00",
          "2020-05-02T00:00:00+00:00",
          "2020-05-03T00:00:00+00:00",
          "2020-05-04T00:00:00+00:00",
          "2020-05-05T00:00:00+00:00",
          "2020-05-06T00:00:00+00:00",
          "2020-05-07T00:00:00+00:00",
          "2020-05-08T00:00:00+00:00",
          "2020-05-09T00:00:00+00:00",
          "2020-05-10T00:00:00+00:00",
          "2020-05-11T00:00:00+00:00",
          "2020-05-12T00:00:00+00:00",
          "2020-05-13T00:00:00+00:00",
          "2020-05-14T00:00:00+00:00",
          "2020-05-15T00:00:00+00:00",
          "2020-05-16T00:00:00+00:00",
          "2020-05-17T00:00:00+00:00",
          "2020-05-18T00:00:00+00:00",
          "2020-05-19T00:00:00+00:00",
          "2020-05-20T00:00:00+00:00",
          "2020-05-21T00:00:00+00:00",
          "2020-05-22T00:00:00+00:00",
          "2020-05-23T00:00:00+00:00",
          "2020-05-24T00:00:00+00:00",
          "2020-05-25T00:00:00+00:00",
          "2020-05-26T00:00:00+00:00",
          "2020-05-27T00:00:00+00:00",
          "2020-05-28T00:00:00+00:00",
          "2020-05-29T00:00:00+00:00",
          "2020-05-30T00:00:00+00:00",
          "2020-05-31T00:00:00+00:00",
          "2020-06-01T00:00:00+00:00",
          "2020-06-02T00:00:00+00:00",
          "2020-06-03T00:00:00+00:00",
          "2020-06-04T00:00:00+00:00",
          "2020-06-05T00:00:00+00:00",
          "2020-06-06T00:00:00+00:00",
          "2020-06-07T00:00:00+00:00",
          "2020-06-08T00:00:00+00:00",
          "2020-06-09T00:00:00+00:00",
          "2020-06-10T00:00:00+00:00",
          "2020-06-11T00:00:00+00:00",
          "2020-06-12T00:00:00+00:00",
          "2020-06-13T00:00:00+00:00",
          "2020-06-14T00:00:00+00:00",
          "2020-06-15T00:00:00+00:00",
          "2020-06-16T00:00:00+00:00",
          "2020-06-17T00:00:00+00:00",
          "2020-06-18T00:00:00+00:00",
          "2020-06-19T00:00:00+00:00",
          "2020-06-20T00:00:00+00:00",
          "2020-06-21T00:00:00+00:00",
          "2020-06-22T00:00:00+00:00",
          "2020-06-23T00:00:00+00:00",
          "2020-06-24T00:00:00+00:00",
          "2020-06-25T00:00:00+00:00",
          "2020-06-26T00:00:00+00:00",
          "2020-06-27T00:00:00+00:00",
          "2020-06-28T00:00:00+00:00",
          "2020-06-29T00:00:00+00:00",
          "2020-06-30T00:00:00+00:00"
         ],
         "y": [
          0.6659999999999999,
          0.609,
          0.5720000000000001,
          0.588,
          0.622,
          0.665,
          0.665,
          0.6659999999999999,
          0.609,
          0.604,
          0.64,
          0.644,
          0.64,
          0.645,
          0.647,
          0.5710000000000001,
          0.584,
          0.653,
          0.645,
          0.632,
          0.643,
          0.66,
          0.61,
          0.6,
          0.6579999999999999,
          0.648,
          0.65,
          0.652,
          0.6659999999999999,
          0.61,
          0.605,
          0.664,
          0.619,
          0.6659999999999999,
          0.653,
          0.659,
          0.619,
          0.611,
          0.664,
          0.6579999999999999,
          0.653,
          0.637,
          0.647,
          0.596,
          0.5920000000000001,
          0.6579999999999999,
          0.648,
          0.648,
          0.614,
          0.58,
          0.5920000000000001,
          0.5920000000000001,
          0.638,
          0.634,
          0.632,
          0.632,
          0.647,
          0.594,
          0.5820000000000001,
          0.635,
          0.62,
          0.584,
          0.649,
          0.6509999999999999,
          0.602,
          0.594,
          0.6559999999999999,
          0.647,
          0.642,
          0.634,
          0.638,
          0.596,
          0.565,
          0.556,
          0.578,
          0.599,
          0.602,
          0.593,
          0.5589999999999999,
          0.573,
          0.61,
          0.62,
          0.62,
          0.621,
          0.648,
          0.594,
          0.595,
          0.6409999999999999,
          0.597,
          0.606,
          0.633,
          0.655,
          0.614,
          0.596,
          0.649,
          0.642,
          0.637,
          0.631,
          0.645,
          0.59,
          0.598,
          0.64,
          0.635,
          0.639,
          0.622,
          0.633,
          0.568,
          0.532,
          0.599,
          0.662,
          0.63,
          0.5870000000000001,
          0.65,
          0.597,
          0.5670000000000001,
          0.655,
          0.6459999999999999,
          0.631,
          0.633,
          0.6459999999999999,
          0.597,
          0.588,
          0.653,
          0.645,
          0.64,
          0.602,
          0.626,
          0.594,
          0.58,
          0.598,
          0.597,
          0.654,
          0.638,
          0.63,
          0.568,
          0.5770000000000001,
          0.638,
          0.638,
          0.628,
          0.625,
          0.626,
          0.573,
          0.563,
          0.61,
          0.612,
          0.589,
          0.584,
          0.624,
          0.5720000000000001,
          0.5710000000000001,
          0.614,
          0.596,
          0.605,
          0.636,
          0.617,
          0.581,
          0.5870000000000001,
          0.654,
          0.633,
          0.65,
          0.635,
          0.633,
          0.609,
          0.615,
          0.6709999999999999,
          0.659,
          0.648,
          0.578,
          0.62,
          0.602,
          0.5770000000000001,
          0.601,
          0.622,
          0.633,
          0.616,
          0.629,
          0.599,
          0.589,
          0.644,
          0.631,
          0.645,
          0.634,
          0.633,
          0.598,
          0.611,
          0.652,
          0.639,
          0.637,
          0.636,
          0.638,
          0.597,
          0.601,
          0.647,
          0.6459999999999999,
          0.6409999999999999,
          0.632,
          0.648,
          0.584,
          0.5870000000000001,
          0.636,
          0.6409999999999999,
          0.649,
          0.624,
          0.644,
          0.57,
          0.5820000000000001,
          0.639,
          0.634,
          0.638,
          0.633,
          0.652,
          0.603,
          0.597,
          0.653,
          0.648,
          0.654,
          0.649,
          0.645,
          0.603,
          0.618,
          0.6579999999999999,
          0.65,
          0.6509999999999999,
          0.65,
          0.642,
          0.594,
          0.594,
          0.615,
          0.655,
          0.649,
          0.637,
          0.632,
          0.608,
          0.585,
          0.632,
          0.625,
          0.644,
          0.647,
          0.6809999999999999,
          0.64,
          0.647,
          0.644,
          0.649,
          0.643,
          0.6409999999999999,
          0.653,
          0.589,
          0.5720000000000001,
          0.564,
          0.593,
          0.616,
          0.62,
          0.64,
          0.589,
          0.595,
          0.649,
          0.644,
          0.654,
          0.642,
          0.649,
          0.585,
          0.578,
          0.614,
          0.648,
          0.643,
          0.599,
          0.649,
          0.599,
          0.588,
          0.643,
          0.6409999999999999,
          0.638,
          0.625,
          0.625,
          0.589,
          0.596,
          0.645,
          0.643,
          0.018000000000000002,
          0.209,
          0.309,
          0.5760000000000001,
          0.605,
          0.669,
          0.669,
          0.655,
          0.647,
          0.665,
          0.62,
          0.635,
          0.606,
          0.6659999999999999,
          0.669,
          0.67,
          0.6659999999999999,
          0.633,
          0.62,
          0.674,
          0.629,
          0.588,
          0.653,
          0.6559999999999999,
          0.617,
          0.613,
          0.659,
          0.632,
          0.599,
          0.659,
          0.63,
          0.618,
          0.599,
          0.662,
          0.6509999999999999,
          0.6559999999999999,
          0.653,
          0.65,
          0.599,
          0.6,
          0.6629999999999999,
          0.652,
          0.647,
          0.642,
          0.647,
          0.597,
          0.583,
          0.648,
          0.639,
          0.636,
          0.63,
          0.654,
          0.601,
          0.593,
          0.648,
          0.644,
          0.634,
          0.636,
          0.6559999999999999,
          0.611,
          0.606,
          0.6659999999999999,
          0.66,
          0.6559999999999999,
          0.653,
          0.648,
          0.608,
          0.601,
          0.662,
          0.6579999999999999,
          0.6559999999999999,
          0.649,
          0.653,
          0.602,
          0.598,
          0.65,
          0.649,
          0.647,
          0.638,
          0.648,
          0.589,
          0.57,
          0.59,
          0.621,
          0.665,
          0.6509999999999999,
          0.653,
          0.617,
          0.619,
          0.66,
          0.659,
          0.66,
          0.652,
          0.6509999999999999,
          0.615,
          0.606,
          0.653,
          0.6559999999999999,
          0.65,
          0.655,
          0.659,
          0.601,
          0.598,
          0.654,
          0.6409999999999999,
          0.64,
          0.631,
          0.541,
          0.515,
          0.512,
          0.529,
          0.522,
          0.5539999999999999,
          0.547,
          0.564,
          0.557,
          0.5529999999999999,
          0.5870000000000001,
          0.594,
          0.607,
          0.611,
          0.617,
          0.591,
          0.588,
          0.611,
          0.605,
          0.596,
          0.598,
          0.6,
          0.596,
          0.6,
          0.629,
          0.634,
          0.623,
          0.624,
          0.625,
          0.593,
          0.595,
          0.627,
          0.624,
          0.617,
          0.616,
          0.633,
          0.5920000000000001,
          0.594,
          0.625,
          0.616,
          0.622,
          0.617,
          0.612,
          0.615,
          0.607,
          0.637,
          0.637,
          0.634,
          0.563,
          0.648,
          0.607,
          0.604,
          0.633,
          0.629,
          0.628,
          0.581,
          0.623,
          0.593,
          0.6,
          0.628,
          0.623,
          0.625,
          0.618,
          0.629,
          0.5920000000000001,
          0.584,
          0.615,
          0.638,
          0.638,
          0.639,
          0.657,
          0.617,
          0.621,
          0.649,
          0.655,
          0.635,
          0.655,
          0.647,
          0.62,
          0.617,
          0.631,
          0.65,
          0.649,
          0.653,
          0.654,
          0.623,
          0.616,
          0.645,
          0.664,
          0.6609999999999999,
          0.662,
          0.6579999999999999,
          0.618,
          0.622,
          0.657,
          0.649,
          0.645,
          0.654,
          0.662,
          0.627,
          0.628,
          0.662,
          0.655
         ]
        },
        {
         "marker": {
          "color": "LightSkyBlue",
          "line": {
           "color": "red",
           "width": 2
          },
          "opacity": 0.5,
          "size": 6
         },
         "mode": "markers",
         "showlegend": false,
         "type": "scatter",
         "x": [
          "2019-03-01T00:00:00+00:00",
          "2019-03-08T00:00:00+00:00",
          "2019-03-10T00:00:00+00:00",
          "2019-03-25T00:00:00+00:00",
          "2019-03-29T00:00:00+00:00",
          "2019-04-03T00:00:00+00:00",
          "2019-04-09T00:00:00+00:00",
          "2019-04-13T00:00:00+00:00",
          "2019-04-15T00:00:00+00:00",
          "2019-04-29T00:00:00+00:00",
          "2019-05-06T00:00:00+00:00",
          "2019-05-11T00:00:00+00:00",
          "2019-05-13T00:00:00+00:00",
          "2019-05-14T00:00:00+00:00",
          "2019-05-18T00:00:00+00:00",
          "2019-05-27T00:00:00+00:00",
          "2019-06-02T00:00:00+00:00",
          "2019-06-06T00:00:00+00:00",
          "2019-06-11T00:00:00+00:00",
          "2019-06-16T00:00:00+00:00",
          "2019-06-19T00:00:00+00:00",
          "2019-06-25T00:00:00+00:00",
          "2019-06-26T00:00:00+00:00",
          "2019-06-28T00:00:00+00:00",
          "2019-07-12T00:00:00+00:00",
          "2019-07-21T00:00:00+00:00",
          "2019-07-23T00:00:00+00:00",
          "2019-07-30T00:00:00+00:00",
          "2019-08-01T00:00:00+00:00",
          "2019-08-08T00:00:00+00:00",
          "2019-08-12T00:00:00+00:00",
          "2019-08-15T00:00:00+00:00",
          "2019-08-19T00:00:00+00:00",
          "2019-08-27T00:00:00+00:00",
          "2019-09-05T00:00:00+00:00",
          "2019-09-08T00:00:00+00:00",
          "2019-09-10T00:00:00+00:00",
          "2019-09-11T00:00:00+00:00",
          "2019-09-16T00:00:00+00:00",
          "2019-09-17T00:00:00+00:00",
          "2019-10-07T00:00:00+00:00",
          "2019-10-25T00:00:00+00:00",
          "2019-10-31T00:00:00+00:00",
          "2019-11-17T00:00:00+00:00",
          "2019-11-26T00:00:00+00:00",
          "2019-12-01T00:00:00+00:00",
          "2019-12-04T00:00:00+00:00",
          "2019-12-05T00:00:00+00:00",
          "2019-12-06T00:00:00+00:00",
          "2019-12-09T00:00:00+00:00",
          "2019-12-10T00:00:00+00:00",
          "2019-12-15T00:00:00+00:00",
          "2019-12-17T00:00:00+00:00",
          "2019-12-18T00:00:00+00:00",
          "2019-12-19T00:00:00+00:00",
          "2019-12-20T00:00:00+00:00",
          "2019-12-23T00:00:00+00:00",
          "2019-12-27T00:00:00+00:00",
          "2020-01-03T00:00:00+00:00",
          "2020-01-08T00:00:00+00:00",
          "2020-01-22T00:00:00+00:00",
          "2020-01-23T00:00:00+00:00",
          "2020-01-25T00:00:00+00:00",
          "2020-01-30T00:00:00+00:00",
          "2020-01-31T00:00:00+00:00",
          "2020-02-03T00:00:00+00:00",
          "2020-02-05T00:00:00+00:00",
          "2020-02-09T00:00:00+00:00",
          "2020-02-11T00:00:00+00:00",
          "2020-02-12T00:00:00+00:00",
          "2020-03-10T00:00:00+00:00",
          "2020-03-14T00:00:00+00:00",
          "2020-03-17T00:00:00+00:00",
          "2020-03-19T00:00:00+00:00",
          "2020-03-20T00:00:00+00:00",
          "2020-03-21T00:00:00+00:00",
          "2020-03-22T00:00:00+00:00",
          "2020-03-23T00:00:00+00:00",
          "2020-03-24T00:00:00+00:00",
          "2020-03-25T00:00:00+00:00",
          "2020-03-26T00:00:00+00:00",
          "2020-03-28T00:00:00+00:00",
          "2020-03-29T00:00:00+00:00",
          "2020-04-08T00:00:00+00:00",
          "2020-04-11T00:00:00+00:00",
          "2020-04-20T00:00:00+00:00",
          "2020-05-01T00:00:00+00:00",
          "2020-05-07T00:00:00+00:00",
          "2020-05-10T00:00:00+00:00",
          "2020-05-29T00:00:00+00:00",
          "2020-06-03T00:00:00+00:00",
          "2020-06-08T00:00:00+00:00",
          "2020-06-17T00:00:00+00:00",
          "2020-06-19T00:00:00+00:00",
          "2020-06-22T00:00:00+00:00",
          "2020-06-27T00:00:00+00:00"
         ],
         "y": [
          0.6659999999999999,
          0.6659999999999999,
          0.604,
          0.6579999999999999,
          0.6659999999999999,
          0.6659999999999999,
          0.6579999999999999,
          0.596,
          0.6579999999999999,
          0.635,
          0.6559999999999999,
          0.596,
          0.556,
          0.578,
          0.5589999999999999,
          0.6409999999999999,
          0.596,
          0.631,
          0.635,
          0.532,
          0.63,
          0.6459999999999999,
          0.631,
          0.6459999999999999,
          0.63,
          0.563,
          0.612,
          0.596,
          0.636,
          0.635,
          0.6709999999999999,
          0.578,
          0.601,
          0.631,
          0.636,
          0.601,
          0.6459999999999999,
          0.6409999999999999,
          0.636,
          0.6409999999999999,
          0.6579999999999999,
          0.6809999999999999,
          0.6409999999999999,
          0.578,
          0.6409999999999999,
          0.596,
          0.018000000000000002,
          0.209,
          0.309,
          0.669,
          0.669,
          0.635,
          0.6659999999999999,
          0.669,
          0.67,
          0.6659999999999999,
          0.674,
          0.6559999999999999,
          0.63,
          0.6559999999999999,
          0.636,
          0.63,
          0.601,
          0.636,
          0.6559999999999999,
          0.6659999999999999,
          0.6559999999999999,
          0.601,
          0.6579999999999999,
          0.6559999999999999,
          0.6559999999999999,
          0.601,
          0.6409999999999999,
          0.631,
          0.541,
          0.515,
          0.512,
          0.529,
          0.522,
          0.5539999999999999,
          0.547,
          0.557,
          0.5529999999999999,
          0.596,
          0.596,
          0.627,
          0.612,
          0.563,
          0.604,
          0.657,
          0.635,
          0.631,
          0.6609999999999999,
          0.6579999999999999,
          0.657,
          0.627
         ]
        }
       ],
       "layout": {
        "template": {
         "data": {
          "bar": [
           {
            "error_x": {
             "color": "#2a3f5f"
            },
            "error_y": {
             "color": "#2a3f5f"
            },
            "marker": {
             "line": {
              "color": "#E5ECF6",
              "width": 0.5
             },
             "pattern": {
              "fillmode": "overlay",
              "size": 10,
              "solidity": 0.2
             }
            },
            "type": "bar"
           }
          ],
          "barpolar": [
           {
            "marker": {
             "line": {
              "color": "#E5ECF6",
              "width": 0.5
             },
             "pattern": {
              "fillmode": "overlay",
              "size": 10,
              "solidity": 0.2
             }
            },
            "type": "barpolar"
           }
          ],
          "carpet": [
           {
            "aaxis": {
             "endlinecolor": "#2a3f5f",
             "gridcolor": "white",
             "linecolor": "white",
             "minorgridcolor": "white",
             "startlinecolor": "#2a3f5f"
            },
            "baxis": {
             "endlinecolor": "#2a3f5f",
             "gridcolor": "white",
             "linecolor": "white",
             "minorgridcolor": "white",
             "startlinecolor": "#2a3f5f"
            },
            "type": "carpet"
           }
          ],
          "choropleth": [
           {
            "colorbar": {
             "outlinewidth": 0,
             "ticks": ""
            },
            "type": "choropleth"
           }
          ],
          "contour": [
           {
            "colorbar": {
             "outlinewidth": 0,
             "ticks": ""
            },
            "colorscale": [
             [
              0,
              "#0d0887"
             ],
             [
              0.1111111111111111,
              "#46039f"
             ],
             [
              0.2222222222222222,
              "#7201a8"
             ],
             [
              0.3333333333333333,
              "#9c179e"
             ],
             [
              0.4444444444444444,
              "#bd3786"
             ],
             [
              0.5555555555555556,
              "#d8576b"
             ],
             [
              0.6666666666666666,
              "#ed7953"
             ],
             [
              0.7777777777777778,
              "#fb9f3a"
             ],
             [
              0.8888888888888888,
              "#fdca26"
             ],
             [
              1,
              "#f0f921"
             ]
            ],
            "type": "contour"
           }
          ],
          "contourcarpet": [
           {
            "colorbar": {
             "outlinewidth": 0,
             "ticks": ""
            },
            "type": "contourcarpet"
           }
          ],
          "heatmap": [
           {
            "colorbar": {
             "outlinewidth": 0,
             "ticks": ""
            },
            "colorscale": [
             [
              0,
              "#0d0887"
             ],
             [
              0.1111111111111111,
              "#46039f"
             ],
             [
              0.2222222222222222,
              "#7201a8"
             ],
             [
              0.3333333333333333,
              "#9c179e"
             ],
             [
              0.4444444444444444,
              "#bd3786"
             ],
             [
              0.5555555555555556,
              "#d8576b"
             ],
             [
              0.6666666666666666,
              "#ed7953"
             ],
             [
              0.7777777777777778,
              "#fb9f3a"
             ],
             [
              0.8888888888888888,
              "#fdca26"
             ],
             [
              1,
              "#f0f921"
             ]
            ],
            "type": "heatmap"
           }
          ],
          "heatmapgl": [
           {
            "colorbar": {
             "outlinewidth": 0,
             "ticks": ""
            },
            "colorscale": [
             [
              0,
              "#0d0887"
             ],
             [
              0.1111111111111111,
              "#46039f"
             ],
             [
              0.2222222222222222,
              "#7201a8"
             ],
             [
              0.3333333333333333,
              "#9c179e"
             ],
             [
              0.4444444444444444,
              "#bd3786"
             ],
             [
              0.5555555555555556,
              "#d8576b"
             ],
             [
              0.6666666666666666,
              "#ed7953"
             ],
             [
              0.7777777777777778,
              "#fb9f3a"
             ],
             [
              0.8888888888888888,
              "#fdca26"
             ],
             [
              1,
              "#f0f921"
             ]
            ],
            "type": "heatmapgl"
           }
          ],
          "histogram": [
           {
            "marker": {
             "pattern": {
              "fillmode": "overlay",
              "size": 10,
              "solidity": 0.2
             }
            },
            "type": "histogram"
           }
          ],
          "histogram2d": [
           {
            "colorbar": {
             "outlinewidth": 0,
             "ticks": ""
            },
            "colorscale": [
             [
              0,
              "#0d0887"
             ],
             [
              0.1111111111111111,
              "#46039f"
             ],
             [
              0.2222222222222222,
              "#7201a8"
             ],
             [
              0.3333333333333333,
              "#9c179e"
             ],
             [
              0.4444444444444444,
              "#bd3786"
             ],
             [
              0.5555555555555556,
              "#d8576b"
             ],
             [
              0.6666666666666666,
              "#ed7953"
             ],
             [
              0.7777777777777778,
              "#fb9f3a"
             ],
             [
              0.8888888888888888,
              "#fdca26"
             ],
             [
              1,
              "#f0f921"
             ]
            ],
            "type": "histogram2d"
           }
          ],
          "histogram2dcontour": [
           {
            "colorbar": {
             "outlinewidth": 0,
             "ticks": ""
            },
            "colorscale": [
             [
              0,
              "#0d0887"
             ],
             [
              0.1111111111111111,
              "#46039f"
             ],
             [
              0.2222222222222222,
              "#7201a8"
             ],
             [
              0.3333333333333333,
              "#9c179e"
             ],
             [
              0.4444444444444444,
              "#bd3786"
             ],
             [
              0.5555555555555556,
              "#d8576b"
             ],
             [
              0.6666666666666666,
              "#ed7953"
             ],
             [
              0.7777777777777778,
              "#fb9f3a"
             ],
             [
              0.8888888888888888,
              "#fdca26"
             ],
             [
              1,
              "#f0f921"
             ]
            ],
            "type": "histogram2dcontour"
           }
          ],
          "mesh3d": [
           {
            "colorbar": {
             "outlinewidth": 0,
             "ticks": ""
            },
            "type": "mesh3d"
           }
          ],
          "parcoords": [
           {
            "line": {
             "colorbar": {
              "outlinewidth": 0,
              "ticks": ""
             }
            },
            "type": "parcoords"
           }
          ],
          "pie": [
           {
            "automargin": true,
            "type": "pie"
           }
          ],
          "scatter": [
           {
            "marker": {
             "colorbar": {
              "outlinewidth": 0,
              "ticks": ""
             }
            },
            "type": "scatter"
           }
          ],
          "scatter3d": [
           {
            "line": {
             "colorbar": {
              "outlinewidth": 0,
              "ticks": ""
             }
            },
            "marker": {
             "colorbar": {
              "outlinewidth": 0,
              "ticks": ""
             }
            },
            "type": "scatter3d"
           }
          ],
          "scattercarpet": [
           {
            "marker": {
             "colorbar": {
              "outlinewidth": 0,
              "ticks": ""
             }
            },
            "type": "scattercarpet"
           }
          ],
          "scattergeo": [
           {
            "marker": {
             "colorbar": {
              "outlinewidth": 0,
              "ticks": ""
             }
            },
            "type": "scattergeo"
           }
          ],
          "scattergl": [
           {
            "marker": {
             "colorbar": {
              "outlinewidth": 0,
              "ticks": ""
             }
            },
            "type": "scattergl"
           }
          ],
          "scattermapbox": [
           {
            "marker": {
             "colorbar": {
              "outlinewidth": 0,
              "ticks": ""
             }
            },
            "type": "scattermapbox"
           }
          ],
          "scatterpolar": [
           {
            "marker": {
             "colorbar": {
              "outlinewidth": 0,
              "ticks": ""
             }
            },
            "type": "scatterpolar"
           }
          ],
          "scatterpolargl": [
           {
            "marker": {
             "colorbar": {
              "outlinewidth": 0,
              "ticks": ""
             }
            },
            "type": "scatterpolargl"
           }
          ],
          "scatterternary": [
           {
            "marker": {
             "colorbar": {
              "outlinewidth": 0,
              "ticks": ""
             }
            },
            "type": "scatterternary"
           }
          ],
          "surface": [
           {
            "colorbar": {
             "outlinewidth": 0,
             "ticks": ""
            },
            "colorscale": [
             [
              0,
              "#0d0887"
             ],
             [
              0.1111111111111111,
              "#46039f"
             ],
             [
              0.2222222222222222,
              "#7201a8"
             ],
             [
              0.3333333333333333,
              "#9c179e"
             ],
             [
              0.4444444444444444,
              "#bd3786"
             ],
             [
              0.5555555555555556,
              "#d8576b"
             ],
             [
              0.6666666666666666,
              "#ed7953"
             ],
             [
              0.7777777777777778,
              "#fb9f3a"
             ],
             [
              0.8888888888888888,
              "#fdca26"
             ],
             [
              1,
              "#f0f921"
             ]
            ],
            "type": "surface"
           }
          ],
          "table": [
           {
            "cells": {
             "fill": {
              "color": "#EBF0F8"
             },
             "line": {
              "color": "white"
             }
            },
            "header": {
             "fill": {
              "color": "#C8D4E3"
             },
             "line": {
              "color": "white"
             }
            },
            "type": "table"
           }
          ]
         },
         "layout": {
          "annotationdefaults": {
           "arrowcolor": "#2a3f5f",
           "arrowhead": 0,
           "arrowwidth": 1
          },
          "autotypenumbers": "strict",
          "coloraxis": {
           "colorbar": {
            "outlinewidth": 0,
            "ticks": ""
           }
          },
          "colorscale": {
           "diverging": [
            [
             0,
             "#8e0152"
            ],
            [
             0.1,
             "#c51b7d"
            ],
            [
             0.2,
             "#de77ae"
            ],
            [
             0.3,
             "#f1b6da"
            ],
            [
             0.4,
             "#fde0ef"
            ],
            [
             0.5,
             "#f7f7f7"
            ],
            [
             0.6,
             "#e6f5d0"
            ],
            [
             0.7,
             "#b8e186"
            ],
            [
             0.8,
             "#7fbc41"
            ],
            [
             0.9,
             "#4d9221"
            ],
            [
             1,
             "#276419"
            ]
           ],
           "sequential": [
            [
             0,
             "#0d0887"
            ],
            [
             0.1111111111111111,
             "#46039f"
            ],
            [
             0.2222222222222222,
             "#7201a8"
            ],
            [
             0.3333333333333333,
             "#9c179e"
            ],
            [
             0.4444444444444444,
             "#bd3786"
            ],
            [
             0.5555555555555556,
             "#d8576b"
            ],
            [
             0.6666666666666666,
             "#ed7953"
            ],
            [
             0.7777777777777778,
             "#fb9f3a"
            ],
            [
             0.8888888888888888,
             "#fdca26"
            ],
            [
             1,
             "#f0f921"
            ]
           ],
           "sequentialminus": [
            [
             0,
             "#0d0887"
            ],
            [
             0.1111111111111111,
             "#46039f"
            ],
            [
             0.2222222222222222,
             "#7201a8"
            ],
            [
             0.3333333333333333,
             "#9c179e"
            ],
            [
             0.4444444444444444,
             "#bd3786"
            ],
            [
             0.5555555555555556,
             "#d8576b"
            ],
            [
             0.6666666666666666,
             "#ed7953"
            ],
            [
             0.7777777777777778,
             "#fb9f3a"
            ],
            [
             0.8888888888888888,
             "#fdca26"
            ],
            [
             1,
             "#f0f921"
            ]
           ]
          },
          "colorway": [
           "#636efa",
           "#EF553B",
           "#00cc96",
           "#ab63fa",
           "#FFA15A",
           "#19d3f3",
           "#FF6692",
           "#B6E880",
           "#FF97FF",
           "#FECB52"
          ],
          "font": {
           "color": "#2a3f5f"
          },
          "geo": {
           "bgcolor": "white",
           "lakecolor": "white",
           "landcolor": "#E5ECF6",
           "showlakes": true,
           "showland": true,
           "subunitcolor": "white"
          },
          "hoverlabel": {
           "align": "left"
          },
          "hovermode": "closest",
          "mapbox": {
           "style": "light"
          },
          "paper_bgcolor": "white",
          "plot_bgcolor": "#E5ECF6",
          "polar": {
           "angularaxis": {
            "gridcolor": "white",
            "linecolor": "white",
            "ticks": ""
           },
           "bgcolor": "#E5ECF6",
           "radialaxis": {
            "gridcolor": "white",
            "linecolor": "white",
            "ticks": ""
           }
          },
          "scene": {
           "xaxis": {
            "backgroundcolor": "#E5ECF6",
            "gridcolor": "white",
            "gridwidth": 2,
            "linecolor": "white",
            "showbackground": true,
            "ticks": "",
            "zerolinecolor": "white"
           },
           "yaxis": {
            "backgroundcolor": "#E5ECF6",
            "gridcolor": "white",
            "gridwidth": 2,
            "linecolor": "white",
            "showbackground": true,
            "ticks": "",
            "zerolinecolor": "white"
           },
           "zaxis": {
            "backgroundcolor": "#E5ECF6",
            "gridcolor": "white",
            "gridwidth": 2,
            "linecolor": "white",
            "showbackground": true,
            "ticks": "",
            "zerolinecolor": "white"
           }
          },
          "shapedefaults": {
           "line": {
            "color": "#2a3f5f"
           }
          },
          "ternary": {
           "aaxis": {
            "gridcolor": "white",
            "linecolor": "white",
            "ticks": ""
           },
           "baxis": {
            "gridcolor": "white",
            "linecolor": "white",
            "ticks": ""
           },
           "bgcolor": "#E5ECF6",
           "caxis": {
            "gridcolor": "white",
            "linecolor": "white",
            "ticks": ""
           }
          },
          "title": {
           "x": 0.05
          },
          "xaxis": {
           "automargin": true,
           "gridcolor": "white",
           "linecolor": "white",
           "ticks": "",
           "title": {
            "standoff": 15
           },
           "zerolinecolor": "white",
           "zerolinewidth": 2
          },
          "yaxis": {
           "automargin": true,
           "gridcolor": "white",
           "linecolor": "white",
           "ticks": "",
           "title": {
            "standoff": 15
           },
           "zerolinecolor": "white",
           "zerolinewidth": 2
          }
         }
        },
        "title": {
         "text": " OutlierDetector Plot for site MLA on flow direct and device Desktop Contamination 0.3"
        }
       }
      },
      "text/html": [
       "<div>                            <div id=\"004b3b8f-3651-409d-afea-0efc206bf317\" class=\"plotly-graph-div\" style=\"height:525px; width:100%;\"></div>            <script type=\"text/javascript\">                require([\"plotly\"], function(Plotly) {                    window.PLOTLYENV=window.PLOTLYENV || {};                                    if (document.getElementById(\"004b3b8f-3651-409d-afea-0efc206bf317\")) {                    Plotly.newPlot(                        \"004b3b8f-3651-409d-afea-0efc206bf317\",                        [{\"mode\":\"lines\",\"name\":\"TOTAL\",\"type\":\"scatter\",\"x\":[\"2019-03-01T00:00:00+00:00\",\"2019-03-02T00:00:00+00:00\",\"2019-03-03T00:00:00+00:00\",\"2019-03-04T00:00:00+00:00\",\"2019-03-05T00:00:00+00:00\",\"2019-03-06T00:00:00+00:00\",\"2019-03-07T00:00:00+00:00\",\"2019-03-08T00:00:00+00:00\",\"2019-03-09T00:00:00+00:00\",\"2019-03-10T00:00:00+00:00\",\"2019-03-11T00:00:00+00:00\",\"2019-03-12T00:00:00+00:00\",\"2019-03-13T00:00:00+00:00\",\"2019-03-14T00:00:00+00:00\",\"2019-03-15T00:00:00+00:00\",\"2019-03-16T00:00:00+00:00\",\"2019-03-17T00:00:00+00:00\",\"2019-03-18T00:00:00+00:00\",\"2019-03-19T00:00:00+00:00\",\"2019-03-20T00:00:00+00:00\",\"2019-03-21T00:00:00+00:00\",\"2019-03-22T00:00:00+00:00\",\"2019-03-23T00:00:00+00:00\",\"2019-03-24T00:00:00+00:00\",\"2019-03-25T00:00:00+00:00\",\"2019-03-26T00:00:00+00:00\",\"2019-03-27T00:00:00+00:00\",\"2019-03-28T00:00:00+00:00\",\"2019-03-29T00:00:00+00:00\",\"2019-03-30T00:00:00+00:00\",\"2019-03-31T00:00:00+00:00\",\"2019-04-01T00:00:00+00:00\",\"2019-04-02T00:00:00+00:00\",\"2019-04-03T00:00:00+00:00\",\"2019-04-04T00:00:00+00:00\",\"2019-04-05T00:00:00+00:00\",\"2019-04-06T00:00:00+00:00\",\"2019-04-07T00:00:00+00:00\",\"2019-04-08T00:00:00+00:00\",\"2019-04-09T00:00:00+00:00\",\"2019-04-10T00:00:00+00:00\",\"2019-04-11T00:00:00+00:00\",\"2019-04-12T00:00:00+00:00\",\"2019-04-13T00:00:00+00:00\",\"2019-04-14T00:00:00+00:00\",\"2019-04-15T00:00:00+00:00\",\"2019-04-16T00:00:00+00:00\",\"2019-04-17T00:00:00+00:00\",\"2019-04-18T00:00:00+00:00\",\"2019-04-19T00:00:00+00:00\",\"2019-04-20T00:00:00+00:00\",\"2019-04-21T00:00:00+00:00\",\"2019-04-22T00:00:00+00:00\",\"2019-04-23T00:00:00+00:00\",\"2019-04-24T00:00:00+00:00\",\"2019-04-25T00:00:00+00:00\",\"2019-04-26T00:00:00+00:00\",\"2019-04-27T00:00:00+00:00\",\"2019-04-28T00:00:00+00:00\",\"2019-04-29T00:00:00+00:00\",\"2019-04-30T00:00:00+00:00\",\"2019-05-01T00:00:00+00:00\",\"2019-05-02T00:00:00+00:00\",\"2019-05-03T00:00:00+00:00\",\"2019-05-04T00:00:00+00:00\",\"2019-05-05T00:00:00+00:00\",\"2019-05-06T00:00:00+00:00\",\"2019-05-07T00:00:00+00:00\",\"2019-05-08T00:00:00+00:00\",\"2019-05-09T00:00:00+00:00\",\"2019-05-10T00:00:00+00:00\",\"2019-05-11T00:00:00+00:00\",\"2019-05-12T00:00:00+00:00\",\"2019-05-13T00:00:00+00:00\",\"2019-05-14T00:00:00+00:00\",\"2019-05-15T00:00:00+00:00\",\"2019-05-16T00:00:00+00:00\",\"2019-05-17T00:00:00+00:00\",\"2019-05-18T00:00:00+00:00\",\"2019-05-19T00:00:00+00:00\",\"2019-05-20T00:00:00+00:00\",\"2019-05-21T00:00:00+00:00\",\"2019-05-22T00:00:00+00:00\",\"2019-05-23T00:00:00+00:00\",\"2019-05-24T00:00:00+00:00\",\"2019-05-25T00:00:00+00:00\",\"2019-05-26T00:00:00+00:00\",\"2019-05-27T00:00:00+00:00\",\"2019-05-28T00:00:00+00:00\",\"2019-05-29T00:00:00+00:00\",\"2019-05-30T00:00:00+00:00\",\"2019-05-31T00:00:00+00:00\",\"2019-06-01T00:00:00+00:00\",\"2019-06-02T00:00:00+00:00\",\"2019-06-03T00:00:00+00:00\",\"2019-06-04T00:00:00+00:00\",\"2019-06-05T00:00:00+00:00\",\"2019-06-06T00:00:00+00:00\",\"2019-06-07T00:00:00+00:00\",\"2019-06-08T00:00:00+00:00\",\"2019-06-09T00:00:00+00:00\",\"2019-06-10T00:00:00+00:00\",\"2019-06-11T00:00:00+00:00\",\"2019-06-12T00:00:00+00:00\",\"2019-06-13T00:00:00+00:00\",\"2019-06-14T00:00:00+00:00\",\"2019-06-15T00:00:00+00:00\",\"2019-06-16T00:00:00+00:00\",\"2019-06-17T00:00:00+00:00\",\"2019-06-18T00:00:00+00:00\",\"2019-06-19T00:00:00+00:00\",\"2019-06-20T00:00:00+00:00\",\"2019-06-21T00:00:00+00:00\",\"2019-06-22T00:00:00+00:00\",\"2019-06-23T00:00:00+00:00\",\"2019-06-24T00:00:00+00:00\",\"2019-06-25T00:00:00+00:00\",\"2019-06-26T00:00:00+00:00\",\"2019-06-27T00:00:00+00:00\",\"2019-06-28T00:00:00+00:00\",\"2019-06-29T00:00:00+00:00\",\"2019-06-30T00:00:00+00:00\",\"2019-07-01T00:00:00+00:00\",\"2019-07-02T00:00:00+00:00\",\"2019-07-03T00:00:00+00:00\",\"2019-07-04T00:00:00+00:00\",\"2019-07-05T00:00:00+00:00\",\"2019-07-06T00:00:00+00:00\",\"2019-07-07T00:00:00+00:00\",\"2019-07-08T00:00:00+00:00\",\"2019-07-09T00:00:00+00:00\",\"2019-07-10T00:00:00+00:00\",\"2019-07-11T00:00:00+00:00\",\"2019-07-12T00:00:00+00:00\",\"2019-07-13T00:00:00+00:00\",\"2019-07-14T00:00:00+00:00\",\"2019-07-15T00:00:00+00:00\",\"2019-07-16T00:00:00+00:00\",\"2019-07-17T00:00:00+00:00\",\"2019-07-18T00:00:00+00:00\",\"2019-07-19T00:00:00+00:00\",\"2019-07-20T00:00:00+00:00\",\"2019-07-21T00:00:00+00:00\",\"2019-07-22T00:00:00+00:00\",\"2019-07-23T00:00:00+00:00\",\"2019-07-24T00:00:00+00:00\",\"2019-07-25T00:00:00+00:00\",\"2019-07-26T00:00:00+00:00\",\"2019-07-27T00:00:00+00:00\",\"2019-07-28T00:00:00+00:00\",\"2019-07-29T00:00:00+00:00\",\"2019-07-30T00:00:00+00:00\",\"2019-07-31T00:00:00+00:00\",\"2019-08-01T00:00:00+00:00\",\"2019-08-02T00:00:00+00:00\",\"2019-08-03T00:00:00+00:00\",\"2019-08-04T00:00:00+00:00\",\"2019-08-05T00:00:00+00:00\",\"2019-08-06T00:00:00+00:00\",\"2019-08-07T00:00:00+00:00\",\"2019-08-08T00:00:00+00:00\",\"2019-08-09T00:00:00+00:00\",\"2019-08-10T00:00:00+00:00\",\"2019-08-11T00:00:00+00:00\",\"2019-08-12T00:00:00+00:00\",\"2019-08-13T00:00:00+00:00\",\"2019-08-14T00:00:00+00:00\",\"2019-08-15T00:00:00+00:00\",\"2019-08-16T00:00:00+00:00\",\"2019-08-17T00:00:00+00:00\",\"2019-08-18T00:00:00+00:00\",\"2019-08-19T00:00:00+00:00\",\"2019-08-20T00:00:00+00:00\",\"2019-08-21T00:00:00+00:00\",\"2019-08-22T00:00:00+00:00\",\"2019-08-23T00:00:00+00:00\",\"2019-08-24T00:00:00+00:00\",\"2019-08-25T00:00:00+00:00\",\"2019-08-26T00:00:00+00:00\",\"2019-08-27T00:00:00+00:00\",\"2019-08-28T00:00:00+00:00\",\"2019-08-29T00:00:00+00:00\",\"2019-08-30T00:00:00+00:00\",\"2019-08-31T00:00:00+00:00\",\"2019-09-01T00:00:00+00:00\",\"2019-09-02T00:00:00+00:00\",\"2019-09-03T00:00:00+00:00\",\"2019-09-04T00:00:00+00:00\",\"2019-09-05T00:00:00+00:00\",\"2019-09-06T00:00:00+00:00\",\"2019-09-07T00:00:00+00:00\",\"2019-09-08T00:00:00+00:00\",\"2019-09-09T00:00:00+00:00\",\"2019-09-10T00:00:00+00:00\",\"2019-09-11T00:00:00+00:00\",\"2019-09-12T00:00:00+00:00\",\"2019-09-13T00:00:00+00:00\",\"2019-09-14T00:00:00+00:00\",\"2019-09-15T00:00:00+00:00\",\"2019-09-16T00:00:00+00:00\",\"2019-09-17T00:00:00+00:00\",\"2019-09-18T00:00:00+00:00\",\"2019-09-19T00:00:00+00:00\",\"2019-09-20T00:00:00+00:00\",\"2019-09-21T00:00:00+00:00\",\"2019-09-22T00:00:00+00:00\",\"2019-09-23T00:00:00+00:00\",\"2019-09-24T00:00:00+00:00\",\"2019-09-25T00:00:00+00:00\",\"2019-09-26T00:00:00+00:00\",\"2019-09-27T00:00:00+00:00\",\"2019-09-28T00:00:00+00:00\",\"2019-09-29T00:00:00+00:00\",\"2019-09-30T00:00:00+00:00\",\"2019-10-01T00:00:00+00:00\",\"2019-10-02T00:00:00+00:00\",\"2019-10-03T00:00:00+00:00\",\"2019-10-04T00:00:00+00:00\",\"2019-10-05T00:00:00+00:00\",\"2019-10-06T00:00:00+00:00\",\"2019-10-07T00:00:00+00:00\",\"2019-10-08T00:00:00+00:00\",\"2019-10-09T00:00:00+00:00\",\"2019-10-10T00:00:00+00:00\",\"2019-10-11T00:00:00+00:00\",\"2019-10-12T00:00:00+00:00\",\"2019-10-13T00:00:00+00:00\",\"2019-10-14T00:00:00+00:00\",\"2019-10-15T00:00:00+00:00\",\"2019-10-16T00:00:00+00:00\",\"2019-10-17T00:00:00+00:00\",\"2019-10-18T00:00:00+00:00\",\"2019-10-19T00:00:00+00:00\",\"2019-10-20T00:00:00+00:00\",\"2019-10-21T00:00:00+00:00\",\"2019-10-22T00:00:00+00:00\",\"2019-10-23T00:00:00+00:00\",\"2019-10-24T00:00:00+00:00\",\"2019-10-25T00:00:00+00:00\",\"2019-10-26T00:00:00+00:00\",\"2019-10-27T00:00:00+00:00\",\"2019-10-28T00:00:00+00:00\",\"2019-10-29T00:00:00+00:00\",\"2019-10-30T00:00:00+00:00\",\"2019-10-31T00:00:00+00:00\",\"2019-11-01T00:00:00+00:00\",\"2019-11-02T00:00:00+00:00\",\"2019-11-03T00:00:00+00:00\",\"2019-11-04T00:00:00+00:00\",\"2019-11-05T00:00:00+00:00\",\"2019-11-06T00:00:00+00:00\",\"2019-11-07T00:00:00+00:00\",\"2019-11-08T00:00:00+00:00\",\"2019-11-09T00:00:00+00:00\",\"2019-11-10T00:00:00+00:00\",\"2019-11-11T00:00:00+00:00\",\"2019-11-12T00:00:00+00:00\",\"2019-11-13T00:00:00+00:00\",\"2019-11-14T00:00:00+00:00\",\"2019-11-15T00:00:00+00:00\",\"2019-11-16T00:00:00+00:00\",\"2019-11-17T00:00:00+00:00\",\"2019-11-18T00:00:00+00:00\",\"2019-11-19T00:00:00+00:00\",\"2019-11-20T00:00:00+00:00\",\"2019-11-21T00:00:00+00:00\",\"2019-11-22T00:00:00+00:00\",\"2019-11-23T00:00:00+00:00\",\"2019-11-24T00:00:00+00:00\",\"2019-11-25T00:00:00+00:00\",\"2019-11-26T00:00:00+00:00\",\"2019-11-27T00:00:00+00:00\",\"2019-11-28T00:00:00+00:00\",\"2019-11-29T00:00:00+00:00\",\"2019-11-30T00:00:00+00:00\",\"2019-12-01T00:00:00+00:00\",\"2019-12-02T00:00:00+00:00\",\"2019-12-03T00:00:00+00:00\",\"2019-12-04T00:00:00+00:00\",\"2019-12-05T00:00:00+00:00\",\"2019-12-06T00:00:00+00:00\",\"2019-12-07T00:00:00+00:00\",\"2019-12-08T00:00:00+00:00\",\"2019-12-09T00:00:00+00:00\",\"2019-12-10T00:00:00+00:00\",\"2019-12-11T00:00:00+00:00\",\"2019-12-12T00:00:00+00:00\",\"2019-12-13T00:00:00+00:00\",\"2019-12-14T00:00:00+00:00\",\"2019-12-15T00:00:00+00:00\",\"2019-12-16T00:00:00+00:00\",\"2019-12-17T00:00:00+00:00\",\"2019-12-18T00:00:00+00:00\",\"2019-12-19T00:00:00+00:00\",\"2019-12-20T00:00:00+00:00\",\"2019-12-21T00:00:00+00:00\",\"2019-12-22T00:00:00+00:00\",\"2019-12-23T00:00:00+00:00\",\"2019-12-24T00:00:00+00:00\",\"2019-12-25T00:00:00+00:00\",\"2019-12-26T00:00:00+00:00\",\"2019-12-27T00:00:00+00:00\",\"2019-12-28T00:00:00+00:00\",\"2019-12-29T00:00:00+00:00\",\"2019-12-30T00:00:00+00:00\",\"2019-12-31T00:00:00+00:00\",\"2020-01-01T00:00:00+00:00\",\"2020-01-02T00:00:00+00:00\",\"2020-01-03T00:00:00+00:00\",\"2020-01-04T00:00:00+00:00\",\"2020-01-05T00:00:00+00:00\",\"2020-01-06T00:00:00+00:00\",\"2020-01-07T00:00:00+00:00\",\"2020-01-08T00:00:00+00:00\",\"2020-01-09T00:00:00+00:00\",\"2020-01-10T00:00:00+00:00\",\"2020-01-11T00:00:00+00:00\",\"2020-01-12T00:00:00+00:00\",\"2020-01-13T00:00:00+00:00\",\"2020-01-14T00:00:00+00:00\",\"2020-01-15T00:00:00+00:00\",\"2020-01-16T00:00:00+00:00\",\"2020-01-17T00:00:00+00:00\",\"2020-01-18T00:00:00+00:00\",\"2020-01-19T00:00:00+00:00\",\"2020-01-20T00:00:00+00:00\",\"2020-01-21T00:00:00+00:00\",\"2020-01-22T00:00:00+00:00\",\"2020-01-23T00:00:00+00:00\",\"2020-01-24T00:00:00+00:00\",\"2020-01-25T00:00:00+00:00\",\"2020-01-26T00:00:00+00:00\",\"2020-01-27T00:00:00+00:00\",\"2020-01-28T00:00:00+00:00\",\"2020-01-29T00:00:00+00:00\",\"2020-01-30T00:00:00+00:00\",\"2020-01-31T00:00:00+00:00\",\"2020-02-01T00:00:00+00:00\",\"2020-02-02T00:00:00+00:00\",\"2020-02-03T00:00:00+00:00\",\"2020-02-04T00:00:00+00:00\",\"2020-02-05T00:00:00+00:00\",\"2020-02-06T00:00:00+00:00\",\"2020-02-07T00:00:00+00:00\",\"2020-02-08T00:00:00+00:00\",\"2020-02-09T00:00:00+00:00\",\"2020-02-10T00:00:00+00:00\",\"2020-02-11T00:00:00+00:00\",\"2020-02-12T00:00:00+00:00\",\"2020-02-13T00:00:00+00:00\",\"2020-02-14T00:00:00+00:00\",\"2020-02-15T00:00:00+00:00\",\"2020-02-16T00:00:00+00:00\",\"2020-02-17T00:00:00+00:00\",\"2020-02-18T00:00:00+00:00\",\"2020-02-19T00:00:00+00:00\",\"2020-02-20T00:00:00+00:00\",\"2020-02-21T00:00:00+00:00\",\"2020-02-22T00:00:00+00:00\",\"2020-02-23T00:00:00+00:00\",\"2020-02-24T00:00:00+00:00\",\"2020-02-25T00:00:00+00:00\",\"2020-02-26T00:00:00+00:00\",\"2020-02-27T00:00:00+00:00\",\"2020-02-28T00:00:00+00:00\",\"2020-02-29T00:00:00+00:00\",\"2020-03-01T00:00:00+00:00\",\"2020-03-02T00:00:00+00:00\",\"2020-03-03T00:00:00+00:00\",\"2020-03-04T00:00:00+00:00\",\"2020-03-05T00:00:00+00:00\",\"2020-03-06T00:00:00+00:00\",\"2020-03-07T00:00:00+00:00\",\"2020-03-08T00:00:00+00:00\",\"2020-03-09T00:00:00+00:00\",\"2020-03-10T00:00:00+00:00\",\"2020-03-11T00:00:00+00:00\",\"2020-03-12T00:00:00+00:00\",\"2020-03-13T00:00:00+00:00\",\"2020-03-14T00:00:00+00:00\",\"2020-03-15T00:00:00+00:00\",\"2020-03-16T00:00:00+00:00\",\"2020-03-17T00:00:00+00:00\",\"2020-03-18T00:00:00+00:00\",\"2020-03-19T00:00:00+00:00\",\"2020-03-20T00:00:00+00:00\",\"2020-03-21T00:00:00+00:00\",\"2020-03-22T00:00:00+00:00\",\"2020-03-23T00:00:00+00:00\",\"2020-03-24T00:00:00+00:00\",\"2020-03-25T00:00:00+00:00\",\"2020-03-26T00:00:00+00:00\",\"2020-03-27T00:00:00+00:00\",\"2020-03-28T00:00:00+00:00\",\"2020-03-29T00:00:00+00:00\",\"2020-03-30T00:00:00+00:00\",\"2020-03-31T00:00:00+00:00\",\"2020-04-01T00:00:00+00:00\",\"2020-04-02T00:00:00+00:00\",\"2020-04-03T00:00:00+00:00\",\"2020-04-04T00:00:00+00:00\",\"2020-04-05T00:00:00+00:00\",\"2020-04-06T00:00:00+00:00\",\"2020-04-07T00:00:00+00:00\",\"2020-04-08T00:00:00+00:00\",\"2020-04-09T00:00:00+00:00\",\"2020-04-10T00:00:00+00:00\",\"2020-04-11T00:00:00+00:00\",\"2020-04-12T00:00:00+00:00\",\"2020-04-13T00:00:00+00:00\",\"2020-04-14T00:00:00+00:00\",\"2020-04-15T00:00:00+00:00\",\"2020-04-16T00:00:00+00:00\",\"2020-04-17T00:00:00+00:00\",\"2020-04-18T00:00:00+00:00\",\"2020-04-19T00:00:00+00:00\",\"2020-04-20T00:00:00+00:00\",\"2020-04-21T00:00:00+00:00\",\"2020-04-22T00:00:00+00:00\",\"2020-04-23T00:00:00+00:00\",\"2020-04-24T00:00:00+00:00\",\"2020-04-25T00:00:00+00:00\",\"2020-04-26T00:00:00+00:00\",\"2020-04-27T00:00:00+00:00\",\"2020-04-28T00:00:00+00:00\",\"2020-04-29T00:00:00+00:00\",\"2020-04-30T00:00:00+00:00\",\"2020-05-01T00:00:00+00:00\",\"2020-05-02T00:00:00+00:00\",\"2020-05-03T00:00:00+00:00\",\"2020-05-04T00:00:00+00:00\",\"2020-05-05T00:00:00+00:00\",\"2020-05-06T00:00:00+00:00\",\"2020-05-07T00:00:00+00:00\",\"2020-05-08T00:00:00+00:00\",\"2020-05-09T00:00:00+00:00\",\"2020-05-10T00:00:00+00:00\",\"2020-05-11T00:00:00+00:00\",\"2020-05-12T00:00:00+00:00\",\"2020-05-13T00:00:00+00:00\",\"2020-05-14T00:00:00+00:00\",\"2020-05-15T00:00:00+00:00\",\"2020-05-16T00:00:00+00:00\",\"2020-05-17T00:00:00+00:00\",\"2020-05-18T00:00:00+00:00\",\"2020-05-19T00:00:00+00:00\",\"2020-05-20T00:00:00+00:00\",\"2020-05-21T00:00:00+00:00\",\"2020-05-22T00:00:00+00:00\",\"2020-05-23T00:00:00+00:00\",\"2020-05-24T00:00:00+00:00\",\"2020-05-25T00:00:00+00:00\",\"2020-05-26T00:00:00+00:00\",\"2020-05-27T00:00:00+00:00\",\"2020-05-28T00:00:00+00:00\",\"2020-05-29T00:00:00+00:00\",\"2020-05-30T00:00:00+00:00\",\"2020-05-31T00:00:00+00:00\",\"2020-06-01T00:00:00+00:00\",\"2020-06-02T00:00:00+00:00\",\"2020-06-03T00:00:00+00:00\",\"2020-06-04T00:00:00+00:00\",\"2020-06-05T00:00:00+00:00\",\"2020-06-06T00:00:00+00:00\",\"2020-06-07T00:00:00+00:00\",\"2020-06-08T00:00:00+00:00\",\"2020-06-09T00:00:00+00:00\",\"2020-06-10T00:00:00+00:00\",\"2020-06-11T00:00:00+00:00\",\"2020-06-12T00:00:00+00:00\",\"2020-06-13T00:00:00+00:00\",\"2020-06-14T00:00:00+00:00\",\"2020-06-15T00:00:00+00:00\",\"2020-06-16T00:00:00+00:00\",\"2020-06-17T00:00:00+00:00\",\"2020-06-18T00:00:00+00:00\",\"2020-06-19T00:00:00+00:00\",\"2020-06-20T00:00:00+00:00\",\"2020-06-21T00:00:00+00:00\",\"2020-06-22T00:00:00+00:00\",\"2020-06-23T00:00:00+00:00\",\"2020-06-24T00:00:00+00:00\",\"2020-06-25T00:00:00+00:00\",\"2020-06-26T00:00:00+00:00\",\"2020-06-27T00:00:00+00:00\",\"2020-06-28T00:00:00+00:00\",\"2020-06-29T00:00:00+00:00\",\"2020-06-30T00:00:00+00:00\"],\"y\":[0.6659999999999999,0.609,0.5720000000000001,0.588,0.622,0.665,0.665,0.6659999999999999,0.609,0.604,0.64,0.644,0.64,0.645,0.647,0.5710000000000001,0.584,0.653,0.645,0.632,0.643,0.66,0.61,0.6,0.6579999999999999,0.648,0.65,0.652,0.6659999999999999,0.61,0.605,0.664,0.619,0.6659999999999999,0.653,0.659,0.619,0.611,0.664,0.6579999999999999,0.653,0.637,0.647,0.596,0.5920000000000001,0.6579999999999999,0.648,0.648,0.614,0.58,0.5920000000000001,0.5920000000000001,0.638,0.634,0.632,0.632,0.647,0.594,0.5820000000000001,0.635,0.62,0.584,0.649,0.6509999999999999,0.602,0.594,0.6559999999999999,0.647,0.642,0.634,0.638,0.596,0.565,0.556,0.578,0.599,0.602,0.593,0.5589999999999999,0.573,0.61,0.62,0.62,0.621,0.648,0.594,0.595,0.6409999999999999,0.597,0.606,0.633,0.655,0.614,0.596,0.649,0.642,0.637,0.631,0.645,0.59,0.598,0.64,0.635,0.639,0.622,0.633,0.568,0.532,0.599,0.662,0.63,0.5870000000000001,0.65,0.597,0.5670000000000001,0.655,0.6459999999999999,0.631,0.633,0.6459999999999999,0.597,0.588,0.653,0.645,0.64,0.602,0.626,0.594,0.58,0.598,0.597,0.654,0.638,0.63,0.568,0.5770000000000001,0.638,0.638,0.628,0.625,0.626,0.573,0.563,0.61,0.612,0.589,0.584,0.624,0.5720000000000001,0.5710000000000001,0.614,0.596,0.605,0.636,0.617,0.581,0.5870000000000001,0.654,0.633,0.65,0.635,0.633,0.609,0.615,0.6709999999999999,0.659,0.648,0.578,0.62,0.602,0.5770000000000001,0.601,0.622,0.633,0.616,0.629,0.599,0.589,0.644,0.631,0.645,0.634,0.633,0.598,0.611,0.652,0.639,0.637,0.636,0.638,0.597,0.601,0.647,0.6459999999999999,0.6409999999999999,0.632,0.648,0.584,0.5870000000000001,0.636,0.6409999999999999,0.649,0.624,0.644,0.57,0.5820000000000001,0.639,0.634,0.638,0.633,0.652,0.603,0.597,0.653,0.648,0.654,0.649,0.645,0.603,0.618,0.6579999999999999,0.65,0.6509999999999999,0.65,0.642,0.594,0.594,0.615,0.655,0.649,0.637,0.632,0.608,0.585,0.632,0.625,0.644,0.647,0.6809999999999999,0.64,0.647,0.644,0.649,0.643,0.6409999999999999,0.653,0.589,0.5720000000000001,0.564,0.593,0.616,0.62,0.64,0.589,0.595,0.649,0.644,0.654,0.642,0.649,0.585,0.578,0.614,0.648,0.643,0.599,0.649,0.599,0.588,0.643,0.6409999999999999,0.638,0.625,0.625,0.589,0.596,0.645,0.643,0.018000000000000002,0.209,0.309,0.5760000000000001,0.605,0.669,0.669,0.655,0.647,0.665,0.62,0.635,0.606,0.6659999999999999,0.669,0.67,0.6659999999999999,0.633,0.62,0.674,0.629,0.588,0.653,0.6559999999999999,0.617,0.613,0.659,0.632,0.599,0.659,0.63,0.618,0.599,0.662,0.6509999999999999,0.6559999999999999,0.653,0.65,0.599,0.6,0.6629999999999999,0.652,0.647,0.642,0.647,0.597,0.583,0.648,0.639,0.636,0.63,0.654,0.601,0.593,0.648,0.644,0.634,0.636,0.6559999999999999,0.611,0.606,0.6659999999999999,0.66,0.6559999999999999,0.653,0.648,0.608,0.601,0.662,0.6579999999999999,0.6559999999999999,0.649,0.653,0.602,0.598,0.65,0.649,0.647,0.638,0.648,0.589,0.57,0.59,0.621,0.665,0.6509999999999999,0.653,0.617,0.619,0.66,0.659,0.66,0.652,0.6509999999999999,0.615,0.606,0.653,0.6559999999999999,0.65,0.655,0.659,0.601,0.598,0.654,0.6409999999999999,0.64,0.631,0.541,0.515,0.512,0.529,0.522,0.5539999999999999,0.547,0.564,0.557,0.5529999999999999,0.5870000000000001,0.594,0.607,0.611,0.617,0.591,0.588,0.611,0.605,0.596,0.598,0.6,0.596,0.6,0.629,0.634,0.623,0.624,0.625,0.593,0.595,0.627,0.624,0.617,0.616,0.633,0.5920000000000001,0.594,0.625,0.616,0.622,0.617,0.612,0.615,0.607,0.637,0.637,0.634,0.563,0.648,0.607,0.604,0.633,0.629,0.628,0.581,0.623,0.593,0.6,0.628,0.623,0.625,0.618,0.629,0.5920000000000001,0.584,0.615,0.638,0.638,0.639,0.657,0.617,0.621,0.649,0.655,0.635,0.655,0.647,0.62,0.617,0.631,0.65,0.649,0.653,0.654,0.623,0.616,0.645,0.664,0.6609999999999999,0.662,0.6579999999999999,0.618,0.622,0.657,0.649,0.645,0.654,0.662,0.627,0.628,0.662,0.655]},{\"marker\":{\"color\":\"LightSkyBlue\",\"line\":{\"color\":\"red\",\"width\":2},\"opacity\":0.5,\"size\":6},\"mode\":\"markers\",\"showlegend\":false,\"type\":\"scatter\",\"x\":[\"2019-03-01T00:00:00+00:00\",\"2019-03-08T00:00:00+00:00\",\"2019-03-10T00:00:00+00:00\",\"2019-03-25T00:00:00+00:00\",\"2019-03-29T00:00:00+00:00\",\"2019-04-03T00:00:00+00:00\",\"2019-04-09T00:00:00+00:00\",\"2019-04-13T00:00:00+00:00\",\"2019-04-15T00:00:00+00:00\",\"2019-04-29T00:00:00+00:00\",\"2019-05-06T00:00:00+00:00\",\"2019-05-11T00:00:00+00:00\",\"2019-05-13T00:00:00+00:00\",\"2019-05-14T00:00:00+00:00\",\"2019-05-18T00:00:00+00:00\",\"2019-05-27T00:00:00+00:00\",\"2019-06-02T00:00:00+00:00\",\"2019-06-06T00:00:00+00:00\",\"2019-06-11T00:00:00+00:00\",\"2019-06-16T00:00:00+00:00\",\"2019-06-19T00:00:00+00:00\",\"2019-06-25T00:00:00+00:00\",\"2019-06-26T00:00:00+00:00\",\"2019-06-28T00:00:00+00:00\",\"2019-07-12T00:00:00+00:00\",\"2019-07-21T00:00:00+00:00\",\"2019-07-23T00:00:00+00:00\",\"2019-07-30T00:00:00+00:00\",\"2019-08-01T00:00:00+00:00\",\"2019-08-08T00:00:00+00:00\",\"2019-08-12T00:00:00+00:00\",\"2019-08-15T00:00:00+00:00\",\"2019-08-19T00:00:00+00:00\",\"2019-08-27T00:00:00+00:00\",\"2019-09-05T00:00:00+00:00\",\"2019-09-08T00:00:00+00:00\",\"2019-09-10T00:00:00+00:00\",\"2019-09-11T00:00:00+00:00\",\"2019-09-16T00:00:00+00:00\",\"2019-09-17T00:00:00+00:00\",\"2019-10-07T00:00:00+00:00\",\"2019-10-25T00:00:00+00:00\",\"2019-10-31T00:00:00+00:00\",\"2019-11-17T00:00:00+00:00\",\"2019-11-26T00:00:00+00:00\",\"2019-12-01T00:00:00+00:00\",\"2019-12-04T00:00:00+00:00\",\"2019-12-05T00:00:00+00:00\",\"2019-12-06T00:00:00+00:00\",\"2019-12-09T00:00:00+00:00\",\"2019-12-10T00:00:00+00:00\",\"2019-12-15T00:00:00+00:00\",\"2019-12-17T00:00:00+00:00\",\"2019-12-18T00:00:00+00:00\",\"2019-12-19T00:00:00+00:00\",\"2019-12-20T00:00:00+00:00\",\"2019-12-23T00:00:00+00:00\",\"2019-12-27T00:00:00+00:00\",\"2020-01-03T00:00:00+00:00\",\"2020-01-08T00:00:00+00:00\",\"2020-01-22T00:00:00+00:00\",\"2020-01-23T00:00:00+00:00\",\"2020-01-25T00:00:00+00:00\",\"2020-01-30T00:00:00+00:00\",\"2020-01-31T00:00:00+00:00\",\"2020-02-03T00:00:00+00:00\",\"2020-02-05T00:00:00+00:00\",\"2020-02-09T00:00:00+00:00\",\"2020-02-11T00:00:00+00:00\",\"2020-02-12T00:00:00+00:00\",\"2020-03-10T00:00:00+00:00\",\"2020-03-14T00:00:00+00:00\",\"2020-03-17T00:00:00+00:00\",\"2020-03-19T00:00:00+00:00\",\"2020-03-20T00:00:00+00:00\",\"2020-03-21T00:00:00+00:00\",\"2020-03-22T00:00:00+00:00\",\"2020-03-23T00:00:00+00:00\",\"2020-03-24T00:00:00+00:00\",\"2020-03-25T00:00:00+00:00\",\"2020-03-26T00:00:00+00:00\",\"2020-03-28T00:00:00+00:00\",\"2020-03-29T00:00:00+00:00\",\"2020-04-08T00:00:00+00:00\",\"2020-04-11T00:00:00+00:00\",\"2020-04-20T00:00:00+00:00\",\"2020-05-01T00:00:00+00:00\",\"2020-05-07T00:00:00+00:00\",\"2020-05-10T00:00:00+00:00\",\"2020-05-29T00:00:00+00:00\",\"2020-06-03T00:00:00+00:00\",\"2020-06-08T00:00:00+00:00\",\"2020-06-17T00:00:00+00:00\",\"2020-06-19T00:00:00+00:00\",\"2020-06-22T00:00:00+00:00\",\"2020-06-27T00:00:00+00:00\"],\"y\":[0.6659999999999999,0.6659999999999999,0.604,0.6579999999999999,0.6659999999999999,0.6659999999999999,0.6579999999999999,0.596,0.6579999999999999,0.635,0.6559999999999999,0.596,0.556,0.578,0.5589999999999999,0.6409999999999999,0.596,0.631,0.635,0.532,0.63,0.6459999999999999,0.631,0.6459999999999999,0.63,0.563,0.612,0.596,0.636,0.635,0.6709999999999999,0.578,0.601,0.631,0.636,0.601,0.6459999999999999,0.6409999999999999,0.636,0.6409999999999999,0.6579999999999999,0.6809999999999999,0.6409999999999999,0.578,0.6409999999999999,0.596,0.018000000000000002,0.209,0.309,0.669,0.669,0.635,0.6659999999999999,0.669,0.67,0.6659999999999999,0.674,0.6559999999999999,0.63,0.6559999999999999,0.636,0.63,0.601,0.636,0.6559999999999999,0.6659999999999999,0.6559999999999999,0.601,0.6579999999999999,0.6559999999999999,0.6559999999999999,0.601,0.6409999999999999,0.631,0.541,0.515,0.512,0.529,0.522,0.5539999999999999,0.547,0.557,0.5529999999999999,0.596,0.596,0.627,0.612,0.563,0.604,0.657,0.635,0.631,0.6609999999999999,0.6579999999999999,0.657,0.627]}],                        {\"template\":{\"data\":{\"bar\":[{\"error_x\":{\"color\":\"#2a3f5f\"},\"error_y\":{\"color\":\"#2a3f5f\"},\"marker\":{\"line\":{\"color\":\"#E5ECF6\",\"width\":0.5},\"pattern\":{\"fillmode\":\"overlay\",\"size\":10,\"solidity\":0.2}},\"type\":\"bar\"}],\"barpolar\":[{\"marker\":{\"line\":{\"color\":\"#E5ECF6\",\"width\":0.5},\"pattern\":{\"fillmode\":\"overlay\",\"size\":10,\"solidity\":0.2}},\"type\":\"barpolar\"}],\"carpet\":[{\"aaxis\":{\"endlinecolor\":\"#2a3f5f\",\"gridcolor\":\"white\",\"linecolor\":\"white\",\"minorgridcolor\":\"white\",\"startlinecolor\":\"#2a3f5f\"},\"baxis\":{\"endlinecolor\":\"#2a3f5f\",\"gridcolor\":\"white\",\"linecolor\":\"white\",\"minorgridcolor\":\"white\",\"startlinecolor\":\"#2a3f5f\"},\"type\":\"carpet\"}],\"choropleth\":[{\"colorbar\":{\"outlinewidth\":0,\"ticks\":\"\"},\"type\":\"choropleth\"}],\"contour\":[{\"colorbar\":{\"outlinewidth\":0,\"ticks\":\"\"},\"colorscale\":[[0.0,\"#0d0887\"],[0.1111111111111111,\"#46039f\"],[0.2222222222222222,\"#7201a8\"],[0.3333333333333333,\"#9c179e\"],[0.4444444444444444,\"#bd3786\"],[0.5555555555555556,\"#d8576b\"],[0.6666666666666666,\"#ed7953\"],[0.7777777777777778,\"#fb9f3a\"],[0.8888888888888888,\"#fdca26\"],[1.0,\"#f0f921\"]],\"type\":\"contour\"}],\"contourcarpet\":[{\"colorbar\":{\"outlinewidth\":0,\"ticks\":\"\"},\"type\":\"contourcarpet\"}],\"heatmap\":[{\"colorbar\":{\"outlinewidth\":0,\"ticks\":\"\"},\"colorscale\":[[0.0,\"#0d0887\"],[0.1111111111111111,\"#46039f\"],[0.2222222222222222,\"#7201a8\"],[0.3333333333333333,\"#9c179e\"],[0.4444444444444444,\"#bd3786\"],[0.5555555555555556,\"#d8576b\"],[0.6666666666666666,\"#ed7953\"],[0.7777777777777778,\"#fb9f3a\"],[0.8888888888888888,\"#fdca26\"],[1.0,\"#f0f921\"]],\"type\":\"heatmap\"}],\"heatmapgl\":[{\"colorbar\":{\"outlinewidth\":0,\"ticks\":\"\"},\"colorscale\":[[0.0,\"#0d0887\"],[0.1111111111111111,\"#46039f\"],[0.2222222222222222,\"#7201a8\"],[0.3333333333333333,\"#9c179e\"],[0.4444444444444444,\"#bd3786\"],[0.5555555555555556,\"#d8576b\"],[0.6666666666666666,\"#ed7953\"],[0.7777777777777778,\"#fb9f3a\"],[0.8888888888888888,\"#fdca26\"],[1.0,\"#f0f921\"]],\"type\":\"heatmapgl\"}],\"histogram\":[{\"marker\":{\"pattern\":{\"fillmode\":\"overlay\",\"size\":10,\"solidity\":0.2}},\"type\":\"histogram\"}],\"histogram2d\":[{\"colorbar\":{\"outlinewidth\":0,\"ticks\":\"\"},\"colorscale\":[[0.0,\"#0d0887\"],[0.1111111111111111,\"#46039f\"],[0.2222222222222222,\"#7201a8\"],[0.3333333333333333,\"#9c179e\"],[0.4444444444444444,\"#bd3786\"],[0.5555555555555556,\"#d8576b\"],[0.6666666666666666,\"#ed7953\"],[0.7777777777777778,\"#fb9f3a\"],[0.8888888888888888,\"#fdca26\"],[1.0,\"#f0f921\"]],\"type\":\"histogram2d\"}],\"histogram2dcontour\":[{\"colorbar\":{\"outlinewidth\":0,\"ticks\":\"\"},\"colorscale\":[[0.0,\"#0d0887\"],[0.1111111111111111,\"#46039f\"],[0.2222222222222222,\"#7201a8\"],[0.3333333333333333,\"#9c179e\"],[0.4444444444444444,\"#bd3786\"],[0.5555555555555556,\"#d8576b\"],[0.6666666666666666,\"#ed7953\"],[0.7777777777777778,\"#fb9f3a\"],[0.8888888888888888,\"#fdca26\"],[1.0,\"#f0f921\"]],\"type\":\"histogram2dcontour\"}],\"mesh3d\":[{\"colorbar\":{\"outlinewidth\":0,\"ticks\":\"\"},\"type\":\"mesh3d\"}],\"parcoords\":[{\"line\":{\"colorbar\":{\"outlinewidth\":0,\"ticks\":\"\"}},\"type\":\"parcoords\"}],\"pie\":[{\"automargin\":true,\"type\":\"pie\"}],\"scatter\":[{\"marker\":{\"colorbar\":{\"outlinewidth\":0,\"ticks\":\"\"}},\"type\":\"scatter\"}],\"scatter3d\":[{\"line\":{\"colorbar\":{\"outlinewidth\":0,\"ticks\":\"\"}},\"marker\":{\"colorbar\":{\"outlinewidth\":0,\"ticks\":\"\"}},\"type\":\"scatter3d\"}],\"scattercarpet\":[{\"marker\":{\"colorbar\":{\"outlinewidth\":0,\"ticks\":\"\"}},\"type\":\"scattercarpet\"}],\"scattergeo\":[{\"marker\":{\"colorbar\":{\"outlinewidth\":0,\"ticks\":\"\"}},\"type\":\"scattergeo\"}],\"scattergl\":[{\"marker\":{\"colorbar\":{\"outlinewidth\":0,\"ticks\":\"\"}},\"type\":\"scattergl\"}],\"scattermapbox\":[{\"marker\":{\"colorbar\":{\"outlinewidth\":0,\"ticks\":\"\"}},\"type\":\"scattermapbox\"}],\"scatterpolar\":[{\"marker\":{\"colorbar\":{\"outlinewidth\":0,\"ticks\":\"\"}},\"type\":\"scatterpolar\"}],\"scatterpolargl\":[{\"marker\":{\"colorbar\":{\"outlinewidth\":0,\"ticks\":\"\"}},\"type\":\"scatterpolargl\"}],\"scatterternary\":[{\"marker\":{\"colorbar\":{\"outlinewidth\":0,\"ticks\":\"\"}},\"type\":\"scatterternary\"}],\"surface\":[{\"colorbar\":{\"outlinewidth\":0,\"ticks\":\"\"},\"colorscale\":[[0.0,\"#0d0887\"],[0.1111111111111111,\"#46039f\"],[0.2222222222222222,\"#7201a8\"],[0.3333333333333333,\"#9c179e\"],[0.4444444444444444,\"#bd3786\"],[0.5555555555555556,\"#d8576b\"],[0.6666666666666666,\"#ed7953\"],[0.7777777777777778,\"#fb9f3a\"],[0.8888888888888888,\"#fdca26\"],[1.0,\"#f0f921\"]],\"type\":\"surface\"}],\"table\":[{\"cells\":{\"fill\":{\"color\":\"#EBF0F8\"},\"line\":{\"color\":\"white\"}},\"header\":{\"fill\":{\"color\":\"#C8D4E3\"},\"line\":{\"color\":\"white\"}},\"type\":\"table\"}]},\"layout\":{\"annotationdefaults\":{\"arrowcolor\":\"#2a3f5f\",\"arrowhead\":0,\"arrowwidth\":1},\"autotypenumbers\":\"strict\",\"coloraxis\":{\"colorbar\":{\"outlinewidth\":0,\"ticks\":\"\"}},\"colorscale\":{\"diverging\":[[0,\"#8e0152\"],[0.1,\"#c51b7d\"],[0.2,\"#de77ae\"],[0.3,\"#f1b6da\"],[0.4,\"#fde0ef\"],[0.5,\"#f7f7f7\"],[0.6,\"#e6f5d0\"],[0.7,\"#b8e186\"],[0.8,\"#7fbc41\"],[0.9,\"#4d9221\"],[1,\"#276419\"]],\"sequential\":[[0.0,\"#0d0887\"],[0.1111111111111111,\"#46039f\"],[0.2222222222222222,\"#7201a8\"],[0.3333333333333333,\"#9c179e\"],[0.4444444444444444,\"#bd3786\"],[0.5555555555555556,\"#d8576b\"],[0.6666666666666666,\"#ed7953\"],[0.7777777777777778,\"#fb9f3a\"],[0.8888888888888888,\"#fdca26\"],[1.0,\"#f0f921\"]],\"sequentialminus\":[[0.0,\"#0d0887\"],[0.1111111111111111,\"#46039f\"],[0.2222222222222222,\"#7201a8\"],[0.3333333333333333,\"#9c179e\"],[0.4444444444444444,\"#bd3786\"],[0.5555555555555556,\"#d8576b\"],[0.6666666666666666,\"#ed7953\"],[0.7777777777777778,\"#fb9f3a\"],[0.8888888888888888,\"#fdca26\"],[1.0,\"#f0f921\"]]},\"colorway\":[\"#636efa\",\"#EF553B\",\"#00cc96\",\"#ab63fa\",\"#FFA15A\",\"#19d3f3\",\"#FF6692\",\"#B6E880\",\"#FF97FF\",\"#FECB52\"],\"font\":{\"color\":\"#2a3f5f\"},\"geo\":{\"bgcolor\":\"white\",\"lakecolor\":\"white\",\"landcolor\":\"#E5ECF6\",\"showlakes\":true,\"showland\":true,\"subunitcolor\":\"white\"},\"hoverlabel\":{\"align\":\"left\"},\"hovermode\":\"closest\",\"mapbox\":{\"style\":\"light\"},\"paper_bgcolor\":\"white\",\"plot_bgcolor\":\"#E5ECF6\",\"polar\":{\"angularaxis\":{\"gridcolor\":\"white\",\"linecolor\":\"white\",\"ticks\":\"\"},\"bgcolor\":\"#E5ECF6\",\"radialaxis\":{\"gridcolor\":\"white\",\"linecolor\":\"white\",\"ticks\":\"\"}},\"scene\":{\"xaxis\":{\"backgroundcolor\":\"#E5ECF6\",\"gridcolor\":\"white\",\"gridwidth\":2,\"linecolor\":\"white\",\"showbackground\":true,\"ticks\":\"\",\"zerolinecolor\":\"white\"},\"yaxis\":{\"backgroundcolor\":\"#E5ECF6\",\"gridcolor\":\"white\",\"gridwidth\":2,\"linecolor\":\"white\",\"showbackground\":true,\"ticks\":\"\",\"zerolinecolor\":\"white\"},\"zaxis\":{\"backgroundcolor\":\"#E5ECF6\",\"gridcolor\":\"white\",\"gridwidth\":2,\"linecolor\":\"white\",\"showbackground\":true,\"ticks\":\"\",\"zerolinecolor\":\"white\"}},\"shapedefaults\":{\"line\":{\"color\":\"#2a3f5f\"}},\"ternary\":{\"aaxis\":{\"gridcolor\":\"white\",\"linecolor\":\"white\",\"ticks\":\"\"},\"baxis\":{\"gridcolor\":\"white\",\"linecolor\":\"white\",\"ticks\":\"\"},\"bgcolor\":\"#E5ECF6\",\"caxis\":{\"gridcolor\":\"white\",\"linecolor\":\"white\",\"ticks\":\"\"}},\"title\":{\"x\":0.05},\"xaxis\":{\"automargin\":true,\"gridcolor\":\"white\",\"linecolor\":\"white\",\"ticks\":\"\",\"title\":{\"standoff\":15},\"zerolinecolor\":\"white\",\"zerolinewidth\":2},\"yaxis\":{\"automargin\":true,\"gridcolor\":\"white\",\"linecolor\":\"white\",\"ticks\":\"\",\"title\":{\"standoff\":15},\"zerolinecolor\":\"white\",\"zerolinewidth\":2}}},\"title\":{\"text\":\" OutlierDetector Plot for site MLA on flow direct and device Desktop Contamination 0.3\"}},                        {\"responsive\": true}                    ).then(function(){\n",
       "                            \n",
       "var gd = document.getElementById('004b3b8f-3651-409d-afea-0efc206bf317');\n",
       "var x = new MutationObserver(function (mutations, observer) {{\n",
       "        var display = window.getComputedStyle(gd).display;\n",
       "        if (!display || display === 'none') {{\n",
       "            console.log([gd, 'removed!']);\n",
       "            Plotly.purge(gd);\n",
       "            observer.disconnect();\n",
       "        }}\n",
       "}});\n",
       "\n",
       "// Listen for the removal of the full notebook cells\n",
       "var notebookContainer = gd.closest('#notebook-container');\n",
       "if (notebookContainer) {{\n",
       "    x.observe(notebookContainer, {childList: true});\n",
       "}}\n",
       "\n",
       "// Listen for the clearing of the current output cell\n",
       "var outputEl = gd.closest('.output');\n",
       "if (outputEl) {{\n",
       "    x.observe(outputEl, {childList: true});\n",
       "}}\n",
       "\n",
       "                        })                };                });            </script>        </div>"
      ]
     },
     "metadata": {},
     "output_type": "display_data"
    },
    {
     "name": "stdout",
     "output_type": "stream",
     "text": [
      "[[377  62]\n",
      " [ 15  34]]\n"
     ]
    },
    {
     "data": {
      "image/png": "[encoded data removed]",
      "text/plain": [
       "<Figure size 432x432 with 2 Axes>"
      ]
     },
     "metadata": {},
     "output_type": "display_data"
    },
    {
     "name": "stdout",
     "output_type": "stream",
     "text": [
      "Precision                                   : 0.354\n",
      "Recall                                      : 0.694\n",
      "F1-Score                                    : 0.469\n",
      "\n",
      "Precision Recall F1-Score Support Per Class : \n",
      " (array([0.96173469, 0.35416667]), array([0.85876993, 0.69387755]), array([0.90734055, 0.46896552]), array([439,  49], dtype=int64))\n",
      "\n",
      "Classification Report                       : \n",
      "              precision    recall  f1-score   support\n",
      "\n",
      "       False       0.96      0.86      0.91       439\n",
      "        True       0.35      0.69      0.47        49\n",
      "\n",
      "    accuracy                           0.84       488\n",
      "   macro avg       0.66      0.78      0.69       488\n",
      "weighted avg       0.90      0.84      0.86       488\n",
      "\n"
     ]
    }
   ],
   "source": [
    "#Outlier Detector\n",
    "outlier_detector = OutlierDetector(LocalOutlierFactor(contamination=0.20))\n",
    "od_anomalies = outlier_detector.fit_detect(s.to_frame())\n",
    "anomaly_plot(\n",
    "s,\n",
    "anomaly=od_anomalies,\n",
    "anomaly_color=\"red\",\n",
    "title=f\" OutlierDetector Plot for site {site} on flow {flow} and device {device} Contamination 0.3\",\n",
    ")\n",
    "    \n",
    "Y_test = serie[\"anomaly\"]\n",
    "Y_preds = od_anomalies\n",
    "\n",
    "confusion_matrix_plot(Y_test, Y_preds)\n",
    "print_report(Y_test, Y_preds) "
   ]
  },
  {
   "cell_type": "markdown",
   "metadata": {},
   "source": [
    "Ahora vamos a utilizar el modelo Quantile_Ad que lo que hace es determinar como outliers aquellos puntos que estan por encima o debajo del Quantile pasado como parpametro.\n",
    "\n",
    "A continuación ejecutamos el modelo con varios parámetros para ver cual tiene mejor perfomance"
   ]
  },
  {
   "cell_type": "code",
   "execution_count": 107,
   "metadata": {},
   "outputs": [
    {
     "data": {
      "text/html": [
       "<div>\n",
       "<style scoped>\n",
       "    .dataframe tbody tr th:only-of-type {\n",
       "        vertical-align: middle;\n",
       "    }\n",
       "\n",
       "    .dataframe tbody tr th {\n",
       "        vertical-align: top;\n",
       "    }\n",
       "\n",
       "    .dataframe thead th {\n",
       "        text-align: right;\n",
       "    }\n",
       "</style>\n",
       "<table border=\"1\" class=\"dataframe\">\n",
       "  <thead>\n",
       "    <tr style=\"text-align: right;\">\n",
       "      <th></th>\n",
       "      <th>Recall</th>\n",
       "      <th>Precision</th>\n",
       "    </tr>\n",
       "    <tr>\n",
       "      <th>Parametro</th>\n",
       "      <th></th>\n",
       "      <th></th>\n",
       "    </tr>\n",
       "  </thead>\n",
       "  <tbody>\n",
       "  </tbody>\n",
       "</table>\n",
       "</div>"
      ],
      "text/plain": [
       "Empty DataFrame\n",
       "Columns: [Recall, Precision]\n",
       "Index: []"
      ]
     },
     "execution_count": 107,
     "metadata": {},
     "output_type": "execute_result"
    }
   ],
   "source": [
    "Results_Quantile = pd.DataFrame(columns=['Parametro', 'Recall', 'Precision'])\n",
    "Results_Quantile.set_index('Parametro')\n"
   ]
  },
  {
   "cell_type": "code",
   "execution_count": 108,
   "metadata": {},
   "outputs": [],
   "source": [
    "#Eleccion de parametros para Quantile Ad\n",
    "\n",
    "quantile_ad = QuantileAD(high=0.90, low=0.10)\n",
    "qad_anomalies = quantile_ad.fit_detect(s)\n",
    "Y_test = serie[\"anomaly\"]\n",
    "Y_preds = qad_anomalies\n",
    "new_row = {'Parametro':'high=0.90, low=0.10', 'Recall':recall_score(Y_test, Y_preds), 'Precision':precision_score(Y_test, Y_preds)}\n",
    "Results_Quantile = Results_Quantile.append(new_row, ignore_index=True)\n",
    "\n",
    "quantile_ad = QuantileAD(high=0.93, low=0.07)\n",
    "qad_anomalies = quantile_ad.fit_detect(s)\n",
    "Y_test = serie[\"anomaly\"]\n",
    "Y_preds = qad_anomalies\n",
    "new_row = {'Parametro':'high=0.93, low=0.07', 'Recall':recall_score(Y_test, Y_preds), 'Precision':precision_score(Y_test, Y_preds)}\n",
    "Results_Quantile = Results_Quantile.append(new_row, ignore_index=True)\n",
    "\n",
    "\n",
    "quantile_ad = QuantileAD(high=0.95, low=0.05)\n",
    "qad_anomalies = quantile_ad.fit_detect(s)\n",
    "Y_test = serie[\"anomaly\"]\n",
    "Y_preds = qad_anomalies\n",
    "new_row = {'Parametro':'high=0.95, low=0.05', 'Recall':recall_score(Y_test, Y_preds), 'Precision':precision_score(Y_test, Y_preds)}\n",
    "Results_Quantile = Results_Quantile.append(new_row, ignore_index=True)\n",
    "\n",
    "quantile_ad = QuantileAD(high=0.97, low=0.03)\n",
    "qad_anomalies = quantile_ad.fit_detect(s)\n",
    "Y_test = serie[\"anomaly\"]\n",
    "Y_preds = qad_anomalies\n",
    "new_row = {'Parametro':'high=0.97, low=0.03', 'Recall':recall_score(Y_test, Y_preds), 'Precision':precision_score(Y_test, Y_preds)}\n",
    "Results_Quantile = Results_Quantile.append(new_row, ignore_index=True)\n",
    "\n",
    "\n",
    "quantile_ad = QuantileAD(high=0.99, low=0.01)\n",
    "qad_anomalies = quantile_ad.fit_detect(s)\n",
    "Y_test = serie[\"anomaly\"]\n",
    "Y_preds = qad_anomalies\n",
    "new_row = {'Parametro':'high=0.99, low=0.01', 'Recall':recall_score(Y_test, Y_preds), 'Precision':precision_score(Y_test, Y_preds)}\n",
    "Results_Quantile = Results_Quantile.append(new_row, ignore_index=True)\n"
   ]
  },
  {
   "cell_type": "markdown",
   "metadata": {},
   "source": [
    "Como puede verse abajo, a medida que subimos los quantiles la precisión mejora y el recall empeora. En otras palabras, si nos ponemos más restrictivos para considerar un punto como outlier nos aseguramos de que los outliers detectados realmente lo sean. Sin embargo, el costo es que muchos puntos que son outliers no son detectados por el modelo.\n",
    "\n",
    "A partir del parámetro High = 0.95% , Low = 0.05% podemos ver que el recall empeora significativamente pero la ganancia por precisión no es muy singnificativa. Por esa razón elegimos estos hiperparámetros"
   ]
  },
  {
   "cell_type": "code",
   "execution_count": 109,
   "metadata": {},
   "outputs": [
    {
     "data": {
      "text/plain": [
       "<AxesSubplot:xlabel='Parametro'>"
      ]
     },
     "execution_count": 109,
     "metadata": {},
     "output_type": "execute_result"
    },
    {
     "data": {
      "image/png": "[encoded data removed]",
      "text/plain": [
       "<Figure size 1080x504 with 1 Axes>"
      ]
     },
     "metadata": {
      "needs_background": "light"
     },
     "output_type": "display_data"
    }
   ],
   "source": [
    "Results_Quantile.plot(x=\"Parametro\",figsize = (15, 7))\n"
   ]
  },
  {
   "cell_type": "markdown",
   "metadata": {},
   "source": [
    "Abajo pueden verse los puntos detecatdos como outliers y los resultados de las metricas."
   ]
  },
  {
   "cell_type": "code",
   "execution_count": 110,
   "metadata": {},
   "outputs": [
    {
     "data": {
      "application/vnd.plotly.v1+json": {
       "config": {
        "plotlyServerURL": "https://plot.ly"
       },
       "data": [
        {
         "mode": "lines",
         "name": "TOTAL",
         "type": "scatter",
         "x": [
          "2019-03-01T00:00:00+00:00",
          "2019-03-02T00:00:00+00:00",
          "2019-03-03T00:00:00+00:00",
          "2019-03-04T00:00:00+00:00",
          "2019-03-05T00:00:00+00:00",
          "2019-03-06T00:00:00+00:00",
          "2019-03-07T00:00:00+00:00",
          "2019-03-08T00:00:00+00:00",
          "2019-03-09T00:00:00+00:00",
          "2019-03-10T00:00:00+00:00",
          "2019-03-11T00:00:00+00:00",
          "2019-03-12T00:00:00+00:00",
          "2019-03-13T00:00:00+00:00",
          "2019-03-14T00:00:00+00:00",
          "2019-03-15T00:00:00+00:00",
          "2019-03-16T00:00:00+00:00",
          "2019-03-17T00:00:00+00:00",
          "2019-03-18T00:00:00+00:00",
          "2019-03-19T00:00:00+00:00",
          "2019-03-20T00:00:00+00:00",
          "2019-03-21T00:00:00+00:00",
          "2019-03-22T00:00:00+00:00",
          "2019-03-23T00:00:00+00:00",
          "2019-03-24T00:00:00+00:00",
          "2019-03-25T00:00:00+00:00",
          "2019-03-26T00:00:00+00:00",
          "2019-03-27T00:00:00+00:00",
          "2019-03-28T00:00:00+00:00",
          "2019-03-29T00:00:00+00:00",
          "2019-03-30T00:00:00+00:00",
          "2019-03-31T00:00:00+00:00",
          "2019-04-01T00:00:00+00:00",
          "2019-04-02T00:00:00+00:00",
          "2019-04-03T00:00:00+00:00",
          "2019-04-04T00:00:00+00:00",
          "2019-04-05T00:00:00+00:00",
          "2019-04-06T00:00:00+00:00",
          "2019-04-07T00:00:00+00:00",
          "2019-04-08T00:00:00+00:00",
          "2019-04-09T00:00:00+00:00",
          "2019-04-10T00:00:00+00:00",
          "2019-04-11T00:00:00+00:00",
          "2019-04-12T00:00:00+00:00",
          "2019-04-13T00:00:00+00:00",
          "2019-04-14T00:00:00+00:00",
          "2019-04-15T00:00:00+00:00",
          "2019-04-16T00:00:00+00:00",
          "2019-04-17T00:00:00+00:00",
          "2019-04-18T00:00:00+00:00",
          "2019-04-19T00:00:00+00:00",
          "2019-04-20T00:00:00+00:00",
          "2019-04-21T00:00:00+00:00",
          "2019-04-22T00:00:00+00:00",
          "2019-04-23T00:00:00+00:00",
          "2019-04-24T00:00:00+00:00",
          "2019-04-25T00:00:00+00:00",
          "2019-04-26T00:00:00+00:00",
          "2019-04-27T00:00:00+00:00",
          "2019-04-28T00:00:00+00:00",
          "2019-04-29T00:00:00+00:00",
          "2019-04-30T00:00:00+00:00",
          "2019-05-01T00:00:00+00:00",
          "2019-05-02T00:00:00+00:00",
          "2019-05-03T00:00:00+00:00",
          "2019-05-04T00:00:00+00:00",
          "2019-05-05T00:00:00+00:00",
          "2019-05-06T00:00:00+00:00",
          "2019-05-07T00:00:00+00:00",
          "2019-05-08T00:00:00+00:00",
          "2019-05-09T00:00:00+00:00",
          "2019-05-10T00:00:00+00:00",
          "2019-05-11T00:00:00+00:00",
          "2019-05-12T00:00:00+00:00",
          "2019-05-13T00:00:00+00:00",
          "2019-05-14T00:00:00+00:00",
          "2019-05-15T00:00:00+00:00",
          "2019-05-16T00:00:00+00:00",
          "2019-05-17T00:00:00+00:00",
          "2019-05-18T00:00:00+00:00",
          "2019-05-19T00:00:00+00:00",
          "2019-05-20T00:00:00+00:00",
          "2019-05-21T00:00:00+00:00",
          "2019-05-22T00:00:00+00:00",
          "2019-05-23T00:00:00+00:00",
          "2019-05-24T00:00:00+00:00",
          "2019-05-25T00:00:00+00:00",
          "2019-05-26T00:00:00+00:00",
          "2019-05-27T00:00:00+00:00",
          "2019-05-28T00:00:00+00:00",
          "2019-05-29T00:00:00+00:00",
          "2019-05-30T00:00:00+00:00",
          "2019-05-31T00:00:00+00:00",
          "2019-06-01T00:00:00+00:00",
          "2019-06-02T00:00:00+00:00",
          "2019-06-03T00:00:00+00:00",
          "2019-06-04T00:00:00+00:00",
          "2019-06-05T00:00:00+00:00",
          "2019-06-06T00:00:00+00:00",
          "2019-06-07T00:00:00+00:00",
          "2019-06-08T00:00:00+00:00",
          "2019-06-09T00:00:00+00:00",
          "2019-06-10T00:00:00+00:00",
          "2019-06-11T00:00:00+00:00",
          "2019-06-12T00:00:00+00:00",
          "2019-06-13T00:00:00+00:00",
          "2019-06-14T00:00:00+00:00",
          "2019-06-15T00:00:00+00:00",
          "2019-06-16T00:00:00+00:00",
          "2019-06-17T00:00:00+00:00",
          "2019-06-18T00:00:00+00:00",
          "2019-06-19T00:00:00+00:00",
          "2019-06-20T00:00:00+00:00",
          "2019-06-21T00:00:00+00:00",
          "2019-06-22T00:00:00+00:00",
          "2019-06-23T00:00:00+00:00",
          "2019-06-24T00:00:00+00:00",
          "2019-06-25T00:00:00+00:00",
          "2019-06-26T00:00:00+00:00",
          "2019-06-27T00:00:00+00:00",
          "2019-06-28T00:00:00+00:00",
          "2019-06-29T00:00:00+00:00",
          "2019-06-30T00:00:00+00:00",
          "2019-07-01T00:00:00+00:00",
          "2019-07-02T00:00:00+00:00",
          "2019-07-03T00:00:00+00:00",
          "2019-07-04T00:00:00+00:00",
          "2019-07-05T00:00:00+00:00",
          "2019-07-06T00:00:00+00:00",
          "2019-07-07T00:00:00+00:00",
          "2019-07-08T00:00:00+00:00",
          "2019-07-09T00:00:00+00:00",
          "2019-07-10T00:00:00+00:00",
          "2019-07-11T00:00:00+00:00",
          "2019-07-12T00:00:00+00:00",
          "2019-07-13T00:00:00+00:00",
          "2019-07-14T00:00:00+00:00",
          "2019-07-15T00:00:00+00:00",
          "2019-07-16T00:00:00+00:00",
          "2019-07-17T00:00:00+00:00",
          "2019-07-18T00:00:00+00:00",
          "2019-07-19T00:00:00+00:00",
          "2019-07-20T00:00:00+00:00",
          "2019-07-21T00:00:00+00:00",
          "2019-07-22T00:00:00+00:00",
          "2019-07-23T00:00:00+00:00",
          "2019-07-24T00:00:00+00:00",
          "2019-07-25T00:00:00+00:00",
          "2019-07-26T00:00:00+00:00",
          "2019-07-27T00:00:00+00:00",
          "2019-07-28T00:00:00+00:00",
          "2019-07-29T00:00:00+00:00",
          "2019-07-30T00:00:00+00:00",
          "2019-07-31T00:00:00+00:00",
          "2019-08-01T00:00:00+00:00",
          "2019-08-02T00:00:00+00:00",
          "2019-08-03T00:00:00+00:00",
          "2019-08-04T00:00:00+00:00",
          "2019-08-05T00:00:00+00:00",
          "2019-08-06T00:00:00+00:00",
          "2019-08-07T00:00:00+00:00",
          "2019-08-08T00:00:00+00:00",
          "2019-08-09T00:00:00+00:00",
          "2019-08-10T00:00:00+00:00",
          "2019-08-11T00:00:00+00:00",
          "2019-08-12T00:00:00+00:00",
          "2019-08-13T00:00:00+00:00",
          "2019-08-14T00:00:00+00:00",
          "2019-08-15T00:00:00+00:00",
          "2019-08-16T00:00:00+00:00",
          "2019-08-17T00:00:00+00:00",
          "2019-08-18T00:00:00+00:00",
          "2019-08-19T00:00:00+00:00",
          "2019-08-20T00:00:00+00:00",
          "2019-08-21T00:00:00+00:00",
          "2019-08-22T00:00:00+00:00",
          "2019-08-23T00:00:00+00:00",
          "2019-08-24T00:00:00+00:00",
          "2019-08-25T00:00:00+00:00",
          "2019-08-26T00:00:00+00:00",
          "2019-08-27T00:00:00+00:00",
          "2019-08-28T00:00:00+00:00",
          "2019-08-29T00:00:00+00:00",
          "2019-08-30T00:00:00+00:00",
          "2019-08-31T00:00:00+00:00",
          "2019-09-01T00:00:00+00:00",
          "2019-09-02T00:00:00+00:00",
          "2019-09-03T00:00:00+00:00",
          "2019-09-04T00:00:00+00:00",
          "2019-09-05T00:00:00+00:00",
          "2019-09-06T00:00:00+00:00",
          "2019-09-07T00:00:00+00:00",
          "2019-09-08T00:00:00+00:00",
          "2019-09-09T00:00:00+00:00",
          "2019-09-10T00:00:00+00:00",
          "2019-09-11T00:00:00+00:00",
          "2019-09-12T00:00:00+00:00",
          "2019-09-13T00:00:00+00:00",
          "2019-09-14T00:00:00+00:00",
          "2019-09-15T00:00:00+00:00",
          "2019-09-16T00:00:00+00:00",
          "2019-09-17T00:00:00+00:00",
          "2019-09-18T00:00:00+00:00",
          "2019-09-19T00:00:00+00:00",
          "2019-09-20T00:00:00+00:00",
          "2019-09-21T00:00:00+00:00",
          "2019-09-22T00:00:00+00:00",
          "2019-09-23T00:00:00+00:00",
          "2019-09-24T00:00:00+00:00",
          "2019-09-25T00:00:00+00:00",
          "2019-09-26T00:00:00+00:00",
          "2019-09-27T00:00:00+00:00",
          "2019-09-28T00:00:00+00:00",
          "2019-09-29T00:00:00+00:00",
          "2019-09-30T00:00:00+00:00",
          "2019-10-01T00:00:00+00:00",
          "2019-10-02T00:00:00+00:00",
          "2019-10-03T00:00:00+00:00",
          "2019-10-04T00:00:00+00:00",
          "2019-10-05T00:00:00+00:00",
          "2019-10-06T00:00:00+00:00",
          "2019-10-07T00:00:00+00:00",
          "2019-10-08T00:00:00+00:00",
          "2019-10-09T00:00:00+00:00",
          "2019-10-10T00:00:00+00:00",
          "2019-10-11T00:00:00+00:00",
          "2019-10-12T00:00:00+00:00",
          "2019-10-13T00:00:00+00:00",
          "2019-10-14T00:00:00+00:00",
          "2019-10-15T00:00:00+00:00",
          "2019-10-16T00:00:00+00:00",
          "2019-10-17T00:00:00+00:00",
          "2019-10-18T00:00:00+00:00",
          "2019-10-19T00:00:00+00:00",
          "2019-10-20T00:00:00+00:00",
          "2019-10-21T00:00:00+00:00",
          "2019-10-22T00:00:00+00:00",
          "2019-10-23T00:00:00+00:00",
          "2019-10-24T00:00:00+00:00",
          "2019-10-25T00:00:00+00:00",
          "2019-10-26T00:00:00+00:00",
          "2019-10-27T00:00:00+00:00",
          "2019-10-28T00:00:00+00:00",
          "2019-10-29T00:00:00+00:00",
          "2019-10-30T00:00:00+00:00",
          "2019-10-31T00:00:00+00:00",
          "2019-11-01T00:00:00+00:00",
          "2019-11-02T00:00:00+00:00",
          "2019-11-03T00:00:00+00:00",
          "2019-11-04T00:00:00+00:00",
          "2019-11-05T00:00:00+00:00",
          "2019-11-06T00:00:00+00:00",
          "2019-11-07T00:00:00+00:00",
          "2019-11-08T00:00:00+00:00",
          "2019-11-09T00:00:00+00:00",
          "2019-11-10T00:00:00+00:00",
          "2019-11-11T00:00:00+00:00",
          "2019-11-12T00:00:00+00:00",
          "2019-11-13T00:00:00+00:00",
          "2019-11-14T00:00:00+00:00",
          "2019-11-15T00:00:00+00:00",
          "2019-11-16T00:00:00+00:00",
          "2019-11-17T00:00:00+00:00",
          "2019-11-18T00:00:00+00:00",
          "2019-11-19T00:00:00+00:00",
          "2019-11-20T00:00:00+00:00",
          "2019-11-21T00:00:00+00:00",
          "2019-11-22T00:00:00+00:00",
          "2019-11-23T00:00:00+00:00",
          "2019-11-24T00:00:00+00:00",
          "2019-11-25T00:00:00+00:00",
          "2019-11-26T00:00:00+00:00",
          "2019-11-27T00:00:00+00:00",
          "2019-11-28T00:00:00+00:00",
          "2019-11-29T00:00:00+00:00",
          "2019-11-30T00:00:00+00:00",
          "2019-12-01T00:00:00+00:00",
          "2019-12-02T00:00:00+00:00",
          "2019-12-03T00:00:00+00:00",
          "2019-12-04T00:00:00+00:00",
          "2019-12-05T00:00:00+00:00",
          "2019-12-06T00:00:00+00:00",
          "2019-12-07T00:00:00+00:00",
          "2019-12-08T00:00:00+00:00",
          "2019-12-09T00:00:00+00:00",
          "2019-12-10T00:00:00+00:00",
          "2019-12-11T00:00:00+00:00",
          "2019-12-12T00:00:00+00:00",
          "2019-12-13T00:00:00+00:00",
          "2019-12-14T00:00:00+00:00",
          "2019-12-15T00:00:00+00:00",
          "2019-12-16T00:00:00+00:00",
          "2019-12-17T00:00:00+00:00",
          "2019-12-18T00:00:00+00:00",
          "2019-12-19T00:00:00+00:00",
          "2019-12-20T00:00:00+00:00",
          "2019-12-21T00:00:00+00:00",
          "2019-12-22T00:00:00+00:00",
          "2019-12-23T00:00:00+00:00",
          "2019-12-24T00:00:00+00:00",
          "2019-12-25T00:00:00+00:00",
          "2019-12-26T00:00:00+00:00",
          "2019-12-27T00:00:00+00:00",
          "2019-12-28T00:00:00+00:00",
          "2019-12-29T00:00:00+00:00",
          "2019-12-30T00:00:00+00:00",
          "2019-12-31T00:00:00+00:00",
          "2020-01-01T00:00:00+00:00",
          "2020-01-02T00:00:00+00:00",
          "2020-01-03T00:00:00+00:00",
          "2020-01-04T00:00:00+00:00",
          "2020-01-05T00:00:00+00:00",
          "2020-01-06T00:00:00+00:00",
          "2020-01-07T00:00:00+00:00",
          "2020-01-08T00:00:00+00:00",
          "2020-01-09T00:00:00+00:00",
          "2020-01-10T00:00:00+00:00",
          "2020-01-11T00:00:00+00:00",
          "2020-01-12T00:00:00+00:00",
          "2020-01-13T00:00:00+00:00",
          "2020-01-14T00:00:00+00:00",
          "2020-01-15T00:00:00+00:00",
          "2020-01-16T00:00:00+00:00",
          "2020-01-17T00:00:00+00:00",
          "2020-01-18T00:00:00+00:00",
          "2020-01-19T00:00:00+00:00",
          "2020-01-20T00:00:00+00:00",
          "2020-01-21T00:00:00+00:00",
          "2020-01-22T00:00:00+00:00",
          "2020-01-23T00:00:00+00:00",
          "2020-01-24T00:00:00+00:00",
          "2020-01-25T00:00:00+00:00",
          "2020-01-26T00:00:00+00:00",
          "2020-01-27T00:00:00+00:00",
          "2020-01-28T00:00:00+00:00",
          "2020-01-29T00:00:00+00:00",
          "2020-01-30T00:00:00+00:00",
          "2020-01-31T00:00:00+00:00",
          "2020-02-01T00:00:00+00:00",
          "2020-02-02T00:00:00+00:00",
          "2020-02-03T00:00:00+00:00",
          "2020-02-04T00:00:00+00:00",
          "2020-02-05T00:00:00+00:00",
          "2020-02-06T00:00:00+00:00",
          "2020-02-07T00:00:00+00:00",
          "2020-02-08T00:00:00+00:00",
          "2020-02-09T00:00:00+00:00",
          "2020-02-10T00:00:00+00:00",
          "2020-02-11T00:00:00+00:00",
          "2020-02-12T00:00:00+00:00",
          "2020-02-13T00:00:00+00:00",
          "2020-02-14T00:00:00+00:00",
          "2020-02-15T00:00:00+00:00",
          "2020-02-16T00:00:00+00:00",
          "2020-02-17T00:00:00+00:00",
          "2020-02-18T00:00:00+00:00",
          "2020-02-19T00:00:00+00:00",
          "2020-02-20T00:00:00+00:00",
          "2020-02-21T00:00:00+00:00",
          "2020-02-22T00:00:00+00:00",
          "2020-02-23T00:00:00+00:00",
          "2020-02-24T00:00:00+00:00",
          "2020-02-25T00:00:00+00:00",
          "2020-02-26T00:00:00+00:00",
          "2020-02-27T00:00:00+00:00",
          "2020-02-28T00:00:00+00:00",
          "2020-02-29T00:00:00+00:00",
          "2020-03-01T00:00:00+00:00",
          "2020-03-02T00:00:00+00:00",
          "2020-03-03T00:00:00+00:00",
          "2020-03-04T00:00:00+00:00",
          "2020-03-05T00:00:00+00:00",
          "2020-03-06T00:00:00+00:00",
          "2020-03-07T00:00:00+00:00",
          "2020-03-08T00:00:00+00:00",
          "2020-03-09T00:00:00+00:00",
          "2020-03-10T00:00:00+00:00",
          "2020-03-11T00:00:00+00:00",
          "2020-03-12T00:00:00+00:00",
          "2020-03-13T00:00:00+00:00",
          "2020-03-14T00:00:00+00:00",
          "2020-03-15T00:00:00+00:00",
          "2020-03-16T00:00:00+00:00",
          "2020-03-17T00:00:00+00:00",
          "2020-03-18T00:00:00+00:00",
          "2020-03-19T00:00:00+00:00",
          "2020-03-20T00:00:00+00:00",
          "2020-03-21T00:00:00+00:00",
          "2020-03-22T00:00:00+00:00",
          "2020-03-23T00:00:00+00:00",
          "2020-03-24T00:00:00+00:00",
          "2020-03-25T00:00:00+00:00",
          "2020-03-26T00:00:00+00:00",
          "2020-03-27T00:00:00+00:00",
          "2020-03-28T00:00:00+00:00",
          "2020-03-29T00:00:00+00:00",
          "2020-03-30T00:00:00+00:00",
          "2020-03-31T00:00:00+00:00",
          "2020-04-01T00:00:00+00:00",
          "2020-04-02T00:00:00+00:00",
          "2020-04-03T00:00:00+00:00",
          "2020-04-04T00:00:00+00:00",
          "2020-04-05T00:00:00+00:00",
          "2020-04-06T00:00:00+00:00",
          "2020-04-07T00:00:00+00:00",
          "2020-04-08T00:00:00+00:00",
          "2020-04-09T00:00:00+00:00",
          "2020-04-10T00:00:00+00:00",
          "2020-04-11T00:00:00+00:00",
          "2020-04-12T00:00:00+00:00",
          "2020-04-13T00:00:00+00:00",
          "2020-04-14T00:00:00+00:00",
          "2020-04-15T00:00:00+00:00",
          "2020-04-16T00:00:00+00:00",
          "2020-04-17T00:00:00+00:00",
          "2020-04-18T00:00:00+00:00",
          "2020-04-19T00:00:00+00:00",
          "2020-04-20T00:00:00+00:00",
          "2020-04-21T00:00:00+00:00",
          "2020-04-22T00:00:00+00:00",
          "2020-04-23T00:00:00+00:00",
          "2020-04-24T00:00:00+00:00",
          "2020-04-25T00:00:00+00:00",
          "2020-04-26T00:00:00+00:00",
          "2020-04-27T00:00:00+00:00",
          "2020-04-28T00:00:00+00:00",
          "2020-04-29T00:00:00+00:00",
          "2020-04-30T00:00:00+00:00",
          "2020-05-01T00:00:00+00:00",
          "2020-05-02T00:00:00+00:00",
          "2020-05-03T00:00:00+00:00",
          "2020-05-04T00:00:00+00:00",
          "2020-05-05T00:00:00+00:00",
          "2020-05-06T00:00:00+00:00",
          "2020-05-07T00:00:00+00:00",
          "2020-05-08T00:00:00+00:00",
          "2020-05-09T00:00:00+00:00",
          "2020-05-10T00:00:00+00:00",
          "2020-05-11T00:00:00+00:00",
          "2020-05-12T00:00:00+00:00",
          "2020-05-13T00:00:00+00:00",
          "2020-05-14T00:00:00+00:00",
          "2020-05-15T00:00:00+00:00",
          "2020-05-16T00:00:00+00:00",
          "2020-05-17T00:00:00+00:00",
          "2020-05-18T00:00:00+00:00",
          "2020-05-19T00:00:00+00:00",
          "2020-05-20T00:00:00+00:00",
          "2020-05-21T00:00:00+00:00",
          "2020-05-22T00:00:00+00:00",
          "2020-05-23T00:00:00+00:00",
          "2020-05-24T00:00:00+00:00",
          "2020-05-25T00:00:00+00:00",
          "2020-05-26T00:00:00+00:00",
          "2020-05-27T00:00:00+00:00",
          "2020-05-28T00:00:00+00:00",
          "2020-05-29T00:00:00+00:00",
          "2020-05-30T00:00:00+00:00",
          "2020-05-31T00:00:00+00:00",
          "2020-06-01T00:00:00+00:00",
          "2020-06-02T00:00:00+00:00",
          "2020-06-03T00:00:00+00:00",
          "2020-06-04T00:00:00+00:00",
          "2020-06-05T00:00:00+00:00",
          "2020-06-06T00:00:00+00:00",
          "2020-06-07T00:00:00+00:00",
          "2020-06-08T00:00:00+00:00",
          "2020-06-09T00:00:00+00:00",
          "2020-06-10T00:00:00+00:00",
          "2020-06-11T00:00:00+00:00",
          "2020-06-12T00:00:00+00:00",
          "2020-06-13T00:00:00+00:00",
          "2020-06-14T00:00:00+00:00",
          "2020-06-15T00:00:00+00:00",
          "2020-06-16T00:00:00+00:00",
          "2020-06-17T00:00:00+00:00",
          "2020-06-18T00:00:00+00:00",
          "2020-06-19T00:00:00+00:00",
          "2020-06-20T00:00:00+00:00",
          "2020-06-21T00:00:00+00:00",
          "2020-06-22T00:00:00+00:00",
          "2020-06-23T00:00:00+00:00",
          "2020-06-24T00:00:00+00:00",
          "2020-06-25T00:00:00+00:00",
          "2020-06-26T00:00:00+00:00",
          "2020-06-27T00:00:00+00:00",
          "2020-06-28T00:00:00+00:00",
          "2020-06-29T00:00:00+00:00",
          "2020-06-30T00:00:00+00:00"
         ],
         "y": [
          0.6659999999999999,
          0.609,
          0.5720000000000001,
          0.588,
          0.622,
          0.665,
          0.665,
          0.6659999999999999,
          0.609,
          0.604,
          0.64,
          0.644,
          0.64,
          0.645,
          0.647,
          0.5710000000000001,
          0.584,
          0.653,
          0.645,
          0.632,
          0.643,
          0.66,
          0.61,
          0.6,
          0.6579999999999999,
          0.648,
          0.65,
          0.652,
          0.6659999999999999,
          0.61,
          0.605,
          0.664,
          0.619,
          0.6659999999999999,
          0.653,
          0.659,
          0.619,
          0.611,
          0.664,
          0.6579999999999999,
          0.653,
          0.637,
          0.647,
          0.596,
          0.5920000000000001,
          0.6579999999999999,
          0.648,
          0.648,
          0.614,
          0.58,
          0.5920000000000001,
          0.5920000000000001,
          0.638,
          0.634,
          0.632,
          0.632,
          0.647,
          0.594,
          0.5820000000000001,
          0.635,
          0.62,
          0.584,
          0.649,
          0.6509999999999999,
          0.602,
          0.594,
          0.6559999999999999,
          0.647,
          0.642,
          0.634,
          0.638,
          0.596,
          0.565,
          0.556,
          0.578,
          0.599,
          0.602,
          0.593,
          0.5589999999999999,
          0.573,
          0.61,
          0.62,
          0.62,
          0.621,
          0.648,
          0.594,
          0.595,
          0.6409999999999999,
          0.597,
          0.606,
          0.633,
          0.655,
          0.614,
          0.596,
          0.649,
          0.642,
          0.637,
          0.631,
          0.645,
          0.59,
          0.598,
          0.64,
          0.635,
          0.639,
          0.622,
          0.633,
          0.568,
          0.532,
          0.599,
          0.662,
          0.63,
          0.5870000000000001,
          0.65,
          0.597,
          0.5670000000000001,
          0.655,
          0.6459999999999999,
          0.631,
          0.633,
          0.6459999999999999,
          0.597,
          0.588,
          0.653,
          0.645,
          0.64,
          0.602,
          0.626,
          0.594,
          0.58,
          0.598,
          0.597,
          0.654,
          0.638,
          0.63,
          0.568,
          0.5770000000000001,
          0.638,
          0.638,
          0.628,
          0.625,
          0.626,
          0.573,
          0.563,
          0.61,
          0.612,
          0.589,
          0.584,
          0.624,
          0.5720000000000001,
          0.5710000000000001,
          0.614,
          0.596,
          0.605,
          0.636,
          0.617,
          0.581,
          0.5870000000000001,
          0.654,
          0.633,
          0.65,
          0.635,
          0.633,
          0.609,
          0.615,
          0.6709999999999999,
          0.659,
          0.648,
          0.578,
          0.62,
          0.602,
          0.5770000000000001,
          0.601,
          0.622,
          0.633,
          0.616,
          0.629,
          0.599,
          0.589,
          0.644,
          0.631,
          0.645,
          0.634,
          0.633,
          0.598,
          0.611,
          0.652,
          0.639,
          0.637,
          0.636,
          0.638,
          0.597,
          0.601,
          0.647,
          0.6459999999999999,
          0.6409999999999999,
          0.632,
          0.648,
          0.584,
          0.5870000000000001,
          0.636,
          0.6409999999999999,
          0.649,
          0.624,
          0.644,
          0.57,
          0.5820000000000001,
          0.639,
          0.634,
          0.638,
          0.633,
          0.652,
          0.603,
          0.597,
          0.653,
          0.648,
          0.654,
          0.649,
          0.645,
          0.603,
          0.618,
          0.6579999999999999,
          0.65,
          0.6509999999999999,
          0.65,
          0.642,
          0.594,
          0.594,
          0.615,
          0.655,
          0.649,
          0.637,
          0.632,
          0.608,
          0.585,
          0.632,
          0.625,
          0.644,
          0.647,
          0.6809999999999999,
          0.64,
          0.647,
          0.644,
          0.649,
          0.643,
          0.6409999999999999,
          0.653,
          0.589,
          0.5720000000000001,
          0.564,
          0.593,
          0.616,
          0.62,
          0.64,
          0.589,
          0.595,
          0.649,
          0.644,
          0.654,
          0.642,
          0.649,
          0.585,
          0.578,
          0.614,
          0.648,
          0.643,
          0.599,
          0.649,
          0.599,
          0.588,
          0.643,
          0.6409999999999999,
          0.638,
          0.625,
          0.625,
          0.589,
          0.596,
          0.645,
          0.643,
          0.018000000000000002,
          0.209,
          0.309,
          0.5760000000000001,
          0.605,
          0.669,
          0.669,
          0.655,
          0.647,
          0.665,
          0.62,
          0.635,
          0.606,
          0.6659999999999999,
          0.669,
          0.67,
          0.6659999999999999,
          0.633,
          0.62,
          0.674,
          0.629,
          0.588,
          0.653,
          0.6559999999999999,
          0.617,
          0.613,
          0.659,
          0.632,
          0.599,
          0.659,
          0.63,
          0.618,
          0.599,
          0.662,
          0.6509999999999999,
          0.6559999999999999,
          0.653,
          0.65,
          0.599,
          0.6,
          0.6629999999999999,
          0.652,
          0.647,
          0.642,
          0.647,
          0.597,
          0.583,
          0.648,
          0.639,
          0.636,
          0.63,
          0.654,
          0.601,
          0.593,
          0.648,
          0.644,
          0.634,
          0.636,
          0.6559999999999999,
          0.611,
          0.606,
          0.6659999999999999,
          0.66,
          0.6559999999999999,
          0.653,
          0.648,
          0.608,
          0.601,
          0.662,
          0.6579999999999999,
          0.6559999999999999,
          0.649,
          0.653,
          0.602,
          0.598,
          0.65,
          0.649,
          0.647,
          0.638,
          0.648,
          0.589,
          0.57,
          0.59,
          0.621,
          0.665,
          0.6509999999999999,
          0.653,
          0.617,
          0.619,
          0.66,
          0.659,
          0.66,
          0.652,
          0.6509999999999999,
          0.615,
          0.606,
          0.653,
          0.6559999999999999,
          0.65,
          0.655,
          0.659,
          0.601,
          0.598,
          0.654,
          0.6409999999999999,
          0.64,
          0.631,
          0.541,
          0.515,
          0.512,
          0.529,
          0.522,
          0.5539999999999999,
          0.547,
          0.564,
          0.557,
          0.5529999999999999,
          0.5870000000000001,
          0.594,
          0.607,
          0.611,
          0.617,
          0.591,
          0.588,
          0.611,
          0.605,
          0.596,
          0.598,
          0.6,
          0.596,
          0.6,
          0.629,
          0.634,
          0.623,
          0.624,
          0.625,
          0.593,
          0.595,
          0.627,
          0.624,
          0.617,
          0.616,
          0.633,
          0.5920000000000001,
          0.594,
          0.625,
          0.616,
          0.622,
          0.617,
          0.612,
          0.615,
          0.607,
          0.637,
          0.637,
          0.634,
          0.563,
          0.648,
          0.607,
          0.604,
          0.633,
          0.629,
          0.628,
          0.581,
          0.623,
          0.593,
          0.6,
          0.628,
          0.623,
          0.625,
          0.618,
          0.629,
          0.5920000000000001,
          0.584,
          0.615,
          0.638,
          0.638,
          0.639,
          0.657,
          0.617,
          0.621,
          0.649,
          0.655,
          0.635,
          0.655,
          0.647,
          0.62,
          0.617,
          0.631,
          0.65,
          0.649,
          0.653,
          0.654,
          0.623,
          0.616,
          0.645,
          0.664,
          0.6609999999999999,
          0.662,
          0.6579999999999999,
          0.618,
          0.622,
          0.657,
          0.649,
          0.645,
          0.654,
          0.662,
          0.627,
          0.628,
          0.662,
          0.655
         ]
        },
        {
         "marker": {
          "color": "LightSkyBlue",
          "line": {
           "color": "red",
           "width": 2
          },
          "opacity": 0.5,
          "size": 6
         },
         "mode": "markers",
         "showlegend": false,
         "type": "scatter",
         "x": [
          "2019-03-01T00:00:00+00:00",
          "2019-03-06T00:00:00+00:00",
          "2019-03-07T00:00:00+00:00",
          "2019-03-08T00:00:00+00:00",
          "2019-03-29T00:00:00+00:00",
          "2019-04-01T00:00:00+00:00",
          "2019-04-03T00:00:00+00:00",
          "2019-04-08T00:00:00+00:00",
          "2019-05-12T00:00:00+00:00",
          "2019-05-13T00:00:00+00:00",
          "2019-05-18T00:00:00+00:00",
          "2019-06-15T00:00:00+00:00",
          "2019-06-16T00:00:00+00:00",
          "2019-06-23T00:00:00+00:00",
          "2019-07-13T00:00:00+00:00",
          "2019-07-21T00:00:00+00:00",
          "2019-08-12T00:00:00+00:00",
          "2019-09-21T00:00:00+00:00",
          "2019-10-25T00:00:00+00:00",
          "2019-11-04T00:00:00+00:00",
          "2019-12-04T00:00:00+00:00",
          "2019-12-05T00:00:00+00:00",
          "2019-12-06T00:00:00+00:00",
          "2019-12-09T00:00:00+00:00",
          "2019-12-10T00:00:00+00:00",
          "2019-12-13T00:00:00+00:00",
          "2019-12-17T00:00:00+00:00",
          "2019-12-18T00:00:00+00:00",
          "2019-12-19T00:00:00+00:00",
          "2019-12-20T00:00:00+00:00",
          "2019-12-23T00:00:00+00:00",
          "2020-01-13T00:00:00+00:00",
          "2020-02-03T00:00:00+00:00",
          "2020-02-23T00:00:00+00:00",
          "2020-02-26T00:00:00+00:00",
          "2020-03-20T00:00:00+00:00",
          "2020-03-21T00:00:00+00:00",
          "2020-03-22T00:00:00+00:00",
          "2020-03-23T00:00:00+00:00",
          "2020-03-24T00:00:00+00:00",
          "2020-03-25T00:00:00+00:00",
          "2020-03-26T00:00:00+00:00",
          "2020-03-27T00:00:00+00:00",
          "2020-03-28T00:00:00+00:00",
          "2020-03-29T00:00:00+00:00",
          "2020-05-07T00:00:00+00:00",
          "2020-06-16T00:00:00+00:00"
         ],
         "y": [
          0.6659999999999999,
          0.665,
          0.665,
          0.6659999999999999,
          0.6659999999999999,
          0.664,
          0.6659999999999999,
          0.664,
          0.565,
          0.556,
          0.5589999999999999,
          0.568,
          0.532,
          0.5670000000000001,
          0.568,
          0.563,
          0.6709999999999999,
          0.57,
          0.6809999999999999,
          0.564,
          0.018000000000000002,
          0.209,
          0.309,
          0.669,
          0.669,
          0.665,
          0.6659999999999999,
          0.669,
          0.67,
          0.6659999999999999,
          0.674,
          0.6629999999999999,
          0.6659999999999999,
          0.57,
          0.665,
          0.541,
          0.515,
          0.512,
          0.529,
          0.522,
          0.5539999999999999,
          0.547,
          0.564,
          0.557,
          0.5529999999999999,
          0.563,
          0.664
         ]
        }
       ],
       "layout": {
        "template": {
         "data": {
          "bar": [
           {
            "error_x": {
             "color": "#2a3f5f"
            },
            "error_y": {
             "color": "#2a3f5f"
            },
            "marker": {
             "line": {
              "color": "#E5ECF6",
              "width": 0.5
             },
             "pattern": {
              "fillmode": "overlay",
              "size": 10,
              "solidity": 0.2
             }
            },
            "type": "bar"
           }
          ],
          "barpolar": [
           {
            "marker": {
             "line": {
              "color": "#E5ECF6",
              "width": 0.5
             },
             "pattern": {
              "fillmode": "overlay",
              "size": 10,
              "solidity": 0.2
             }
            },
            "type": "barpolar"
           }
          ],
          "carpet": [
           {
            "aaxis": {
             "endlinecolor": "#2a3f5f",
             "gridcolor": "white",
             "linecolor": "white",
             "minorgridcolor": "white",
             "startlinecolor": "#2a3f5f"
            },
            "baxis": {
             "endlinecolor": "#2a3f5f",
             "gridcolor": "white",
             "linecolor": "white",
             "minorgridcolor": "white",
             "startlinecolor": "#2a3f5f"
            },
            "type": "carpet"
           }
          ],
          "choropleth": [
           {
            "colorbar": {
             "outlinewidth": 0,
             "ticks": ""
            },
            "type": "choropleth"
           }
          ],
          "contour": [
           {
            "colorbar": {
             "outlinewidth": 0,
             "ticks": ""
            },
            "colorscale": [
             [
              0,
              "#0d0887"
             ],
             [
              0.1111111111111111,
              "#46039f"
             ],
             [
              0.2222222222222222,
              "#7201a8"
             ],
             [
              0.3333333333333333,
              "#9c179e"
             ],
             [
              0.4444444444444444,
              "#bd3786"
             ],
             [
              0.5555555555555556,
              "#d8576b"
             ],
             [
              0.6666666666666666,
              "#ed7953"
             ],
             [
              0.7777777777777778,
              "#fb9f3a"
             ],
             [
              0.8888888888888888,
              "#fdca26"
             ],
             [
              1,
              "#f0f921"
             ]
            ],
            "type": "contour"
           }
          ],
          "contourcarpet": [
           {
            "colorbar": {
             "outlinewidth": 0,
             "ticks": ""
            },
            "type": "contourcarpet"
           }
          ],
          "heatmap": [
           {
            "colorbar": {
             "outlinewidth": 0,
             "ticks": ""
            },
            "colorscale": [
             [
              0,
              "#0d0887"
             ],
             [
              0.1111111111111111,
              "#46039f"
             ],
             [
              0.2222222222222222,
              "#7201a8"
             ],
             [
              0.3333333333333333,
              "#9c179e"
             ],
             [
              0.4444444444444444,
              "#bd3786"
             ],
             [
              0.5555555555555556,
              "#d8576b"
             ],
             [
              0.6666666666666666,
              "#ed7953"
             ],
             [
              0.7777777777777778,
              "#fb9f3a"
             ],
             [
              0.8888888888888888,
              "#fdca26"
             ],
             [
              1,
              "#f0f921"
             ]
            ],
            "type": "heatmap"
           }
          ],
          "heatmapgl": [
           {
            "colorbar": {
             "outlinewidth": 0,
             "ticks": ""
            },
            "colorscale": [
             [
              0,
              "#0d0887"
             ],
             [
              0.1111111111111111,
              "#46039f"
             ],
             [
              0.2222222222222222,
              "#7201a8"
             ],
             [
              0.3333333333333333,
              "#9c179e"
             ],
             [
              0.4444444444444444,
              "#bd3786"
             ],
             [
              0.5555555555555556,
              "#d8576b"
             ],
             [
              0.6666666666666666,
              "#ed7953"
             ],
             [
              0.7777777777777778,
              "#fb9f3a"
             ],
             [
              0.8888888888888888,
              "#fdca26"
             ],
             [
              1,
              "#f0f921"
             ]
            ],
            "type": "heatmapgl"
           }
          ],
          "histogram": [
           {
            "marker": {
             "pattern": {
              "fillmode": "overlay",
              "size": 10,
              "solidity": 0.2
             }
            },
            "type": "histogram"
           }
          ],
          "histogram2d": [
           {
            "colorbar": {
             "outlinewidth": 0,
             "ticks": ""
            },
            "colorscale": [
             [
              0,
              "#0d0887"
             ],
             [
              0.1111111111111111,
              "#46039f"
             ],
             [
              0.2222222222222222,
              "#7201a8"
             ],
             [
              0.3333333333333333,
              "#9c179e"
             ],
             [
              0.4444444444444444,
              "#bd3786"
             ],
             [
              0.5555555555555556,
              "#d8576b"
             ],
             [
              0.6666666666666666,
              "#ed7953"
             ],
             [
              0.7777777777777778,
              "#fb9f3a"
             ],
             [
              0.8888888888888888,
              "#fdca26"
             ],
             [
              1,
              "#f0f921"
             ]
            ],
            "type": "histogram2d"
           }
          ],
          "histogram2dcontour": [
           {
            "colorbar": {
             "outlinewidth": 0,
             "ticks": ""
            },
            "colorscale": [
             [
              0,
              "#0d0887"
             ],
             [
              0.1111111111111111,
              "#46039f"
             ],
             [
              0.2222222222222222,
              "#7201a8"
             ],
             [
              0.3333333333333333,
              "#9c179e"
             ],
             [
              0.4444444444444444,
              "#bd3786"
             ],
             [
              0.5555555555555556,
              "#d8576b"
             ],
             [
              0.6666666666666666,
              "#ed7953"
             ],
             [
              0.7777777777777778,
              "#fb9f3a"
             ],
             [
              0.8888888888888888,
              "#fdca26"
             ],
             [
              1,
              "#f0f921"
             ]
            ],
            "type": "histogram2dcontour"
           }
          ],
          "mesh3d": [
           {
            "colorbar": {
             "outlinewidth": 0,
             "ticks": ""
            },
            "type": "mesh3d"
           }
          ],
          "parcoords": [
           {
            "line": {
             "colorbar": {
              "outlinewidth": 0,
              "ticks": ""
             }
            },
            "type": "parcoords"
           }
          ],
          "pie": [
           {
            "automargin": true,
            "type": "pie"
           }
          ],
          "scatter": [
           {
            "marker": {
             "colorbar": {
              "outlinewidth": 0,
              "ticks": ""
             }
            },
            "type": "scatter"
           }
          ],
          "scatter3d": [
           {
            "line": {
             "colorbar": {
              "outlinewidth": 0,
              "ticks": ""
             }
            },
            "marker": {
             "colorbar": {
              "outlinewidth": 0,
              "ticks": ""
             }
            },
            "type": "scatter3d"
           }
          ],
          "scattercarpet": [
           {
            "marker": {
             "colorbar": {
              "outlinewidth": 0,
              "ticks": ""
             }
            },
            "type": "scattercarpet"
           }
          ],
          "scattergeo": [
           {
            "marker": {
             "colorbar": {
              "outlinewidth": 0,
              "ticks": ""
             }
            },
            "type": "scattergeo"
           }
          ],
          "scattergl": [
           {
            "marker": {
             "colorbar": {
              "outlinewidth": 0,
              "ticks": ""
             }
            },
            "type": "scattergl"
           }
          ],
          "scattermapbox": [
           {
            "marker": {
             "colorbar": {
              "outlinewidth": 0,
              "ticks": ""
             }
            },
            "type": "scattermapbox"
           }
          ],
          "scatterpolar": [
           {
            "marker": {
             "colorbar": {
              "outlinewidth": 0,
              "ticks": ""
             }
            },
            "type": "scatterpolar"
           }
          ],
          "scatterpolargl": [
           {
            "marker": {
             "colorbar": {
              "outlinewidth": 0,
              "ticks": ""
             }
            },
            "type": "scatterpolargl"
           }
          ],
          "scatterternary": [
           {
            "marker": {
             "colorbar": {
              "outlinewidth": 0,
              "ticks": ""
             }
            },
            "type": "scatterternary"
           }
          ],
          "surface": [
           {
            "colorbar": {
             "outlinewidth": 0,
             "ticks": ""
            },
            "colorscale": [
             [
              0,
              "#0d0887"
             ],
             [
              0.1111111111111111,
              "#46039f"
             ],
             [
              0.2222222222222222,
              "#7201a8"
             ],
             [
              0.3333333333333333,
              "#9c179e"
             ],
             [
              0.4444444444444444,
              "#bd3786"
             ],
             [
              0.5555555555555556,
              "#d8576b"
             ],
             [
              0.6666666666666666,
              "#ed7953"
             ],
             [
              0.7777777777777778,
              "#fb9f3a"
             ],
             [
              0.8888888888888888,
              "#fdca26"
             ],
             [
              1,
              "#f0f921"
             ]
            ],
            "type": "surface"
           }
          ],
          "table": [
           {
            "cells": {
             "fill": {
              "color": "#EBF0F8"
             },
             "line": {
              "color": "white"
             }
            },
            "header": {
             "fill": {
              "color": "#C8D4E3"
             },
             "line": {
              "color": "white"
             }
            },
            "type": "table"
           }
          ]
         },
         "layout": {
          "annotationdefaults": {
           "arrowcolor": "#2a3f5f",
           "arrowhead": 0,
           "arrowwidth": 1
          },
          "autotypenumbers": "strict",
          "coloraxis": {
           "colorbar": {
            "outlinewidth": 0,
            "ticks": ""
           }
          },
          "colorscale": {
           "diverging": [
            [
             0,
             "#8e0152"
            ],
            [
             0.1,
             "#c51b7d"
            ],
            [
             0.2,
             "#de77ae"
            ],
            [
             0.3,
             "#f1b6da"
            ],
            [
             0.4,
             "#fde0ef"
            ],
            [
             0.5,
             "#f7f7f7"
            ],
            [
             0.6,
             "#e6f5d0"
            ],
            [
             0.7,
             "#b8e186"
            ],
            [
             0.8,
             "#7fbc41"
            ],
            [
             0.9,
             "#4d9221"
            ],
            [
             1,
             "#276419"
            ]
           ],
           "sequential": [
            [
             0,
             "#0d0887"
            ],
            [
             0.1111111111111111,
             "#46039f"
            ],
            [
             0.2222222222222222,
             "#7201a8"
            ],
            [
             0.3333333333333333,
             "#9c179e"
            ],
            [
             0.4444444444444444,
             "#bd3786"
            ],
            [
             0.5555555555555556,
             "#d8576b"
            ],
            [
             0.6666666666666666,
             "#ed7953"
            ],
            [
             0.7777777777777778,
             "#fb9f3a"
            ],
            [
             0.8888888888888888,
             "#fdca26"
            ],
            [
             1,
             "#f0f921"
            ]
           ],
           "sequentialminus": [
            [
             0,
             "#0d0887"
            ],
            [
             0.1111111111111111,
             "#46039f"
            ],
            [
             0.2222222222222222,
             "#7201a8"
            ],
            [
             0.3333333333333333,
             "#9c179e"
            ],
            [
             0.4444444444444444,
             "#bd3786"
            ],
            [
             0.5555555555555556,
             "#d8576b"
            ],
            [
             0.6666666666666666,
             "#ed7953"
            ],
            [
             0.7777777777777778,
             "#fb9f3a"
            ],
            [
             0.8888888888888888,
             "#fdca26"
            ],
            [
             1,
             "#f0f921"
            ]
           ]
          },
          "colorway": [
           "#636efa",
           "#EF553B",
           "#00cc96",
           "#ab63fa",
           "#FFA15A",
           "#19d3f3",
           "#FF6692",
           "#B6E880",
           "#FF97FF",
           "#FECB52"
          ],
          "font": {
           "color": "#2a3f5f"
          },
          "geo": {
           "bgcolor": "white",
           "lakecolor": "white",
           "landcolor": "#E5ECF6",
           "showlakes": true,
           "showland": true,
           "subunitcolor": "white"
          },
          "hoverlabel": {
           "align": "left"
          },
          "hovermode": "closest",
          "mapbox": {
           "style": "light"
          },
          "paper_bgcolor": "white",
          "plot_bgcolor": "#E5ECF6",
          "polar": {
           "angularaxis": {
            "gridcolor": "white",
            "linecolor": "white",
            "ticks": ""
           },
           "bgcolor": "#E5ECF6",
           "radialaxis": {
            "gridcolor": "white",
            "linecolor": "white",
            "ticks": ""
           }
          },
          "scene": {
           "xaxis": {
            "backgroundcolor": "#E5ECF6",
            "gridcolor": "white",
            "gridwidth": 2,
            "linecolor": "white",
            "showbackground": true,
            "ticks": "",
            "zerolinecolor": "white"
           },
           "yaxis": {
            "backgroundcolor": "#E5ECF6",
            "gridcolor": "white",
            "gridwidth": 2,
            "linecolor": "white",
            "showbackground": true,
            "ticks": "",
            "zerolinecolor": "white"
           },
           "zaxis": {
            "backgroundcolor": "#E5ECF6",
            "gridcolor": "white",
            "gridwidth": 2,
            "linecolor": "white",
            "showbackground": true,
            "ticks": "",
            "zerolinecolor": "white"
           }
          },
          "shapedefaults": {
           "line": {
            "color": "#2a3f5f"
           }
          },
          "ternary": {
           "aaxis": {
            "gridcolor": "white",
            "linecolor": "white",
            "ticks": ""
           },
           "baxis": {
            "gridcolor": "white",
            "linecolor": "white",
            "ticks": ""
           },
           "bgcolor": "#E5ECF6",
           "caxis": {
            "gridcolor": "white",
            "linecolor": "white",
            "ticks": ""
           }
          },
          "title": {
           "x": 0.05
          },
          "xaxis": {
           "automargin": true,
           "gridcolor": "white",
           "linecolor": "white",
           "ticks": "",
           "title": {
            "standoff": 15
           },
           "zerolinecolor": "white",
           "zerolinewidth": 2
          },
          "yaxis": {
           "automargin": true,
           "gridcolor": "white",
           "linecolor": "white",
           "ticks": "",
           "title": {
            "standoff": 15
           },
           "zerolinecolor": "white",
           "zerolinewidth": 2
          }
         }
        },
        "title": {
         "text": " QuantileAD Plot for site MLA on flow direct and device Desktop"
        }
       }
      },
      "text/html": [
       "<div>                            <div id=\"28c332d9-c074-4cfb-9fbb-118985294eb4\" class=\"plotly-graph-div\" style=\"height:525px; width:100%;\"></div>            <script type=\"text/javascript\">                require([\"plotly\"], function(Plotly) {                    window.PLOTLYENV=window.PLOTLYENV || {};                                    if (document.getElementById(\"28c332d9-c074-4cfb-9fbb-118985294eb4\")) {                    Plotly.newPlot(                        \"28c332d9-c074-4cfb-9fbb-118985294eb4\",                        [{\"mode\":\"lines\",\"name\":\"TOTAL\",\"type\":\"scatter\",\"x\":[\"2019-03-01T00:00:00+00:00\",\"2019-03-02T00:00:00+00:00\",\"2019-03-03T00:00:00+00:00\",\"2019-03-04T00:00:00+00:00\",\"2019-03-05T00:00:00+00:00\",\"2019-03-06T00:00:00+00:00\",\"2019-03-07T00:00:00+00:00\",\"2019-03-08T00:00:00+00:00\",\"2019-03-09T00:00:00+00:00\",\"2019-03-10T00:00:00+00:00\",\"2019-03-11T00:00:00+00:00\",\"2019-03-12T00:00:00+00:00\",\"2019-03-13T00:00:00+00:00\",\"2019-03-14T00:00:00+00:00\",\"2019-03-15T00:00:00+00:00\",\"2019-03-16T00:00:00+00:00\",\"2019-03-17T00:00:00+00:00\",\"2019-03-18T00:00:00+00:00\",\"2019-03-19T00:00:00+00:00\",\"2019-03-20T00:00:00+00:00\",\"2019-03-21T00:00:00+00:00\",\"2019-03-22T00:00:00+00:00\",\"2019-03-23T00:00:00+00:00\",\"2019-03-24T00:00:00+00:00\",\"2019-03-25T00:00:00+00:00\",\"2019-03-26T00:00:00+00:00\",\"2019-03-27T00:00:00+00:00\",\"2019-03-28T00:00:00+00:00\",\"2019-03-29T00:00:00+00:00\",\"2019-03-30T00:00:00+00:00\",\"2019-03-31T00:00:00+00:00\",\"2019-04-01T00:00:00+00:00\",\"2019-04-02T00:00:00+00:00\",\"2019-04-03T00:00:00+00:00\",\"2019-04-04T00:00:00+00:00\",\"2019-04-05T00:00:00+00:00\",\"2019-04-06T00:00:00+00:00\",\"2019-04-07T00:00:00+00:00\",\"2019-04-08T00:00:00+00:00\",\"2019-04-09T00:00:00+00:00\",\"2019-04-10T00:00:00+00:00\",\"2019-04-11T00:00:00+00:00\",\"2019-04-12T00:00:00+00:00\",\"2019-04-13T00:00:00+00:00\",\"2019-04-14T00:00:00+00:00\",\"2019-04-15T00:00:00+00:00\",\"2019-04-16T00:00:00+00:00\",\"2019-04-17T00:00:00+00:00\",\"2019-04-18T00:00:00+00:00\",\"2019-04-19T00:00:00+00:00\",\"2019-04-20T00:00:00+00:00\",\"2019-04-21T00:00:00+00:00\",\"2019-04-22T00:00:00+00:00\",\"2019-04-23T00:00:00+00:00\",\"2019-04-24T00:00:00+00:00\",\"2019-04-25T00:00:00+00:00\",\"2019-04-26T00:00:00+00:00\",\"2019-04-27T00:00:00+00:00\",\"2019-04-28T00:00:00+00:00\",\"2019-04-29T00:00:00+00:00\",\"2019-04-30T00:00:00+00:00\",\"2019-05-01T00:00:00+00:00\",\"2019-05-02T00:00:00+00:00\",\"2019-05-03T00:00:00+00:00\",\"2019-05-04T00:00:00+00:00\",\"2019-05-05T00:00:00+00:00\",\"2019-05-06T00:00:00+00:00\",\"2019-05-07T00:00:00+00:00\",\"2019-05-08T00:00:00+00:00\",\"2019-05-09T00:00:00+00:00\",\"2019-05-10T00:00:00+00:00\",\"2019-05-11T00:00:00+00:00\",\"2019-05-12T00:00:00+00:00\",\"2019-05-13T00:00:00+00:00\",\"2019-05-14T00:00:00+00:00\",\"2019-05-15T00:00:00+00:00\",\"2019-05-16T00:00:00+00:00\",\"2019-05-17T00:00:00+00:00\",\"2019-05-18T00:00:00+00:00\",\"2019-05-19T00:00:00+00:00\",\"2019-05-20T00:00:00+00:00\",\"2019-05-21T00:00:00+00:00\",\"2019-05-22T00:00:00+00:00\",\"2019-05-23T00:00:00+00:00\",\"2019-05-24T00:00:00+00:00\",\"2019-05-25T00:00:00+00:00\",\"2019-05-26T00:00:00+00:00\",\"2019-05-27T00:00:00+00:00\",\"2019-05-28T00:00:00+00:00\",\"2019-05-29T00:00:00+00:00\",\"2019-05-30T00:00:00+00:00\",\"2019-05-31T00:00:00+00:00\",\"2019-06-01T00:00:00+00:00\",\"2019-06-02T00:00:00+00:00\",\"2019-06-03T00:00:00+00:00\",\"2019-06-04T00:00:00+00:00\",\"2019-06-05T00:00:00+00:00\",\"2019-06-06T00:00:00+00:00\",\"2019-06-07T00:00:00+00:00\",\"2019-06-08T00:00:00+00:00\",\"2019-06-09T00:00:00+00:00\",\"2019-06-10T00:00:00+00:00\",\"2019-06-11T00:00:00+00:00\",\"2019-06-12T00:00:00+00:00\",\"2019-06-13T00:00:00+00:00\",\"2019-06-14T00:00:00+00:00\",\"2019-06-15T00:00:00+00:00\",\"2019-06-16T00:00:00+00:00\",\"2019-06-17T00:00:00+00:00\",\"2019-06-18T00:00:00+00:00\",\"2019-06-19T00:00:00+00:00\",\"2019-06-20T00:00:00+00:00\",\"2019-06-21T00:00:00+00:00\",\"2019-06-22T00:00:00+00:00\",\"2019-06-23T00:00:00+00:00\",\"2019-06-24T00:00:00+00:00\",\"2019-06-25T00:00:00+00:00\",\"2019-06-26T00:00:00+00:00\",\"2019-06-27T00:00:00+00:00\",\"2019-06-28T00:00:00+00:00\",\"2019-06-29T00:00:00+00:00\",\"2019-06-30T00:00:00+00:00\",\"2019-07-01T00:00:00+00:00\",\"2019-07-02T00:00:00+00:00\",\"2019-07-03T00:00:00+00:00\",\"2019-07-04T00:00:00+00:00\",\"2019-07-05T00:00:00+00:00\",\"2019-07-06T00:00:00+00:00\",\"2019-07-07T00:00:00+00:00\",\"2019-07-08T00:00:00+00:00\",\"2019-07-09T00:00:00+00:00\",\"2019-07-10T00:00:00+00:00\",\"2019-07-11T00:00:00+00:00\",\"2019-07-12T00:00:00+00:00\",\"2019-07-13T00:00:00+00:00\",\"2019-07-14T00:00:00+00:00\",\"2019-07-15T00:00:00+00:00\",\"2019-07-16T00:00:00+00:00\",\"2019-07-17T00:00:00+00:00\",\"2019-07-18T00:00:00+00:00\",\"2019-07-19T00:00:00+00:00\",\"2019-07-20T00:00:00+00:00\",\"2019-07-21T00:00:00+00:00\",\"2019-07-22T00:00:00+00:00\",\"2019-07-23T00:00:00+00:00\",\"2019-07-24T00:00:00+00:00\",\"2019-07-25T00:00:00+00:00\",\"2019-07-26T00:00:00+00:00\",\"2019-07-27T00:00:00+00:00\",\"2019-07-28T00:00:00+00:00\",\"2019-07-29T00:00:00+00:00\",\"2019-07-30T00:00:00+00:00\",\"2019-07-31T00:00:00+00:00\",\"2019-08-01T00:00:00+00:00\",\"2019-08-02T00:00:00+00:00\",\"2019-08-03T00:00:00+00:00\",\"2019-08-04T00:00:00+00:00\",\"2019-08-05T00:00:00+00:00\",\"2019-08-06T00:00:00+00:00\",\"2019-08-07T00:00:00+00:00\",\"2019-08-08T00:00:00+00:00\",\"2019-08-09T00:00:00+00:00\",\"2019-08-10T00:00:00+00:00\",\"2019-08-11T00:00:00+00:00\",\"2019-08-12T00:00:00+00:00\",\"2019-08-13T00:00:00+00:00\",\"2019-08-14T00:00:00+00:00\",\"2019-08-15T00:00:00+00:00\",\"2019-08-16T00:00:00+00:00\",\"2019-08-17T00:00:00+00:00\",\"2019-08-18T00:00:00+00:00\",\"2019-08-19T00:00:00+00:00\",\"2019-08-20T00:00:00+00:00\",\"2019-08-21T00:00:00+00:00\",\"2019-08-22T00:00:00+00:00\",\"2019-08-23T00:00:00+00:00\",\"2019-08-24T00:00:00+00:00\",\"2019-08-25T00:00:00+00:00\",\"2019-08-26T00:00:00+00:00\",\"2019-08-27T00:00:00+00:00\",\"2019-08-28T00:00:00+00:00\",\"2019-08-29T00:00:00+00:00\",\"2019-08-30T00:00:00+00:00\",\"2019-08-31T00:00:00+00:00\",\"2019-09-01T00:00:00+00:00\",\"2019-09-02T00:00:00+00:00\",\"2019-09-03T00:00:00+00:00\",\"2019-09-04T00:00:00+00:00\",\"2019-09-05T00:00:00+00:00\",\"2019-09-06T00:00:00+00:00\",\"2019-09-07T00:00:00+00:00\",\"2019-09-08T00:00:00+00:00\",\"2019-09-09T00:00:00+00:00\",\"2019-09-10T00:00:00+00:00\",\"2019-09-11T00:00:00+00:00\",\"2019-09-12T00:00:00+00:00\",\"2019-09-13T00:00:00+00:00\",\"2019-09-14T00:00:00+00:00\",\"2019-09-15T00:00:00+00:00\",\"2019-09-16T00:00:00+00:00\",\"2019-09-17T00:00:00+00:00\",\"2019-09-18T00:00:00+00:00\",\"2019-09-19T00:00:00+00:00\",\"2019-09-20T00:00:00+00:00\",\"2019-09-21T00:00:00+00:00\",\"2019-09-22T00:00:00+00:00\",\"2019-09-23T00:00:00+00:00\",\"2019-09-24T00:00:00+00:00\",\"2019-09-25T00:00:00+00:00\",\"2019-09-26T00:00:00+00:00\",\"2019-09-27T00:00:00+00:00\",\"2019-09-28T00:00:00+00:00\",\"2019-09-29T00:00:00+00:00\",\"2019-09-30T00:00:00+00:00\",\"2019-10-01T00:00:00+00:00\",\"2019-10-02T00:00:00+00:00\",\"2019-10-03T00:00:00+00:00\",\"2019-10-04T00:00:00+00:00\",\"2019-10-05T00:00:00+00:00\",\"2019-10-06T00:00:00+00:00\",\"2019-10-07T00:00:00+00:00\",\"2019-10-08T00:00:00+00:00\",\"2019-10-09T00:00:00+00:00\",\"2019-10-10T00:00:00+00:00\",\"2019-10-11T00:00:00+00:00\",\"2019-10-12T00:00:00+00:00\",\"2019-10-13T00:00:00+00:00\",\"2019-10-14T00:00:00+00:00\",\"2019-10-15T00:00:00+00:00\",\"2019-10-16T00:00:00+00:00\",\"2019-10-17T00:00:00+00:00\",\"2019-10-18T00:00:00+00:00\",\"2019-10-19T00:00:00+00:00\",\"2019-10-20T00:00:00+00:00\",\"2019-10-21T00:00:00+00:00\",\"2019-10-22T00:00:00+00:00\",\"2019-10-23T00:00:00+00:00\",\"2019-10-24T00:00:00+00:00\",\"2019-10-25T00:00:00+00:00\",\"2019-10-26T00:00:00+00:00\",\"2019-10-27T00:00:00+00:00\",\"2019-10-28T00:00:00+00:00\",\"2019-10-29T00:00:00+00:00\",\"2019-10-30T00:00:00+00:00\",\"2019-10-31T00:00:00+00:00\",\"2019-11-01T00:00:00+00:00\",\"2019-11-02T00:00:00+00:00\",\"2019-11-03T00:00:00+00:00\",\"2019-11-04T00:00:00+00:00\",\"2019-11-05T00:00:00+00:00\",\"2019-11-06T00:00:00+00:00\",\"2019-11-07T00:00:00+00:00\",\"2019-11-08T00:00:00+00:00\",\"2019-11-09T00:00:00+00:00\",\"2019-11-10T00:00:00+00:00\",\"2019-11-11T00:00:00+00:00\",\"2019-11-12T00:00:00+00:00\",\"2019-11-13T00:00:00+00:00\",\"2019-11-14T00:00:00+00:00\",\"2019-11-15T00:00:00+00:00\",\"2019-11-16T00:00:00+00:00\",\"2019-11-17T00:00:00+00:00\",\"2019-11-18T00:00:00+00:00\",\"2019-11-19T00:00:00+00:00\",\"2019-11-20T00:00:00+00:00\",\"2019-11-21T00:00:00+00:00\",\"2019-11-22T00:00:00+00:00\",\"2019-11-23T00:00:00+00:00\",\"2019-11-24T00:00:00+00:00\",\"2019-11-25T00:00:00+00:00\",\"2019-11-26T00:00:00+00:00\",\"2019-11-27T00:00:00+00:00\",\"2019-11-28T00:00:00+00:00\",\"2019-11-29T00:00:00+00:00\",\"2019-11-30T00:00:00+00:00\",\"2019-12-01T00:00:00+00:00\",\"2019-12-02T00:00:00+00:00\",\"2019-12-03T00:00:00+00:00\",\"2019-12-04T00:00:00+00:00\",\"2019-12-05T00:00:00+00:00\",\"2019-12-06T00:00:00+00:00\",\"2019-12-07T00:00:00+00:00\",\"2019-12-08T00:00:00+00:00\",\"2019-12-09T00:00:00+00:00\",\"2019-12-10T00:00:00+00:00\",\"2019-12-11T00:00:00+00:00\",\"2019-12-12T00:00:00+00:00\",\"2019-12-13T00:00:00+00:00\",\"2019-12-14T00:00:00+00:00\",\"2019-12-15T00:00:00+00:00\",\"2019-12-16T00:00:00+00:00\",\"2019-12-17T00:00:00+00:00\",\"2019-12-18T00:00:00+00:00\",\"2019-12-19T00:00:00+00:00\",\"2019-12-20T00:00:00+00:00\",\"2019-12-21T00:00:00+00:00\",\"2019-12-22T00:00:00+00:00\",\"2019-12-23T00:00:00+00:00\",\"2019-12-24T00:00:00+00:00\",\"2019-12-25T00:00:00+00:00\",\"2019-12-26T00:00:00+00:00\",\"2019-12-27T00:00:00+00:00\",\"2019-12-28T00:00:00+00:00\",\"2019-12-29T00:00:00+00:00\",\"2019-12-30T00:00:00+00:00\",\"2019-12-31T00:00:00+00:00\",\"2020-01-01T00:00:00+00:00\",\"2020-01-02T00:00:00+00:00\",\"2020-01-03T00:00:00+00:00\",\"2020-01-04T00:00:00+00:00\",\"2020-01-05T00:00:00+00:00\",\"2020-01-06T00:00:00+00:00\",\"2020-01-07T00:00:00+00:00\",\"2020-01-08T00:00:00+00:00\",\"2020-01-09T00:00:00+00:00\",\"2020-01-10T00:00:00+00:00\",\"2020-01-11T00:00:00+00:00\",\"2020-01-12T00:00:00+00:00\",\"2020-01-13T00:00:00+00:00\",\"2020-01-14T00:00:00+00:00\",\"2020-01-15T00:00:00+00:00\",\"2020-01-16T00:00:00+00:00\",\"2020-01-17T00:00:00+00:00\",\"2020-01-18T00:00:00+00:00\",\"2020-01-19T00:00:00+00:00\",\"2020-01-20T00:00:00+00:00\",\"2020-01-21T00:00:00+00:00\",\"2020-01-22T00:00:00+00:00\",\"2020-01-23T00:00:00+00:00\",\"2020-01-24T00:00:00+00:00\",\"2020-01-25T00:00:00+00:00\",\"2020-01-26T00:00:00+00:00\",\"2020-01-27T00:00:00+00:00\",\"2020-01-28T00:00:00+00:00\",\"2020-01-29T00:00:00+00:00\",\"2020-01-30T00:00:00+00:00\",\"2020-01-31T00:00:00+00:00\",\"2020-02-01T00:00:00+00:00\",\"2020-02-02T00:00:00+00:00\",\"2020-02-03T00:00:00+00:00\",\"2020-02-04T00:00:00+00:00\",\"2020-02-05T00:00:00+00:00\",\"2020-02-06T00:00:00+00:00\",\"2020-02-07T00:00:00+00:00\",\"2020-02-08T00:00:00+00:00\",\"2020-02-09T00:00:00+00:00\",\"2020-02-10T00:00:00+00:00\",\"2020-02-11T00:00:00+00:00\",\"2020-02-12T00:00:00+00:00\",\"2020-02-13T00:00:00+00:00\",\"2020-02-14T00:00:00+00:00\",\"2020-02-15T00:00:00+00:00\",\"2020-02-16T00:00:00+00:00\",\"2020-02-17T00:00:00+00:00\",\"2020-02-18T00:00:00+00:00\",\"2020-02-19T00:00:00+00:00\",\"2020-02-20T00:00:00+00:00\",\"2020-02-21T00:00:00+00:00\",\"2020-02-22T00:00:00+00:00\",\"2020-02-23T00:00:00+00:00\",\"2020-02-24T00:00:00+00:00\",\"2020-02-25T00:00:00+00:00\",\"2020-02-26T00:00:00+00:00\",\"2020-02-27T00:00:00+00:00\",\"2020-02-28T00:00:00+00:00\",\"2020-02-29T00:00:00+00:00\",\"2020-03-01T00:00:00+00:00\",\"2020-03-02T00:00:00+00:00\",\"2020-03-03T00:00:00+00:00\",\"2020-03-04T00:00:00+00:00\",\"2020-03-05T00:00:00+00:00\",\"2020-03-06T00:00:00+00:00\",\"2020-03-07T00:00:00+00:00\",\"2020-03-08T00:00:00+00:00\",\"2020-03-09T00:00:00+00:00\",\"2020-03-10T00:00:00+00:00\",\"2020-03-11T00:00:00+00:00\",\"2020-03-12T00:00:00+00:00\",\"2020-03-13T00:00:00+00:00\",\"2020-03-14T00:00:00+00:00\",\"2020-03-15T00:00:00+00:00\",\"2020-03-16T00:00:00+00:00\",\"2020-03-17T00:00:00+00:00\",\"2020-03-18T00:00:00+00:00\",\"2020-03-19T00:00:00+00:00\",\"2020-03-20T00:00:00+00:00\",\"2020-03-21T00:00:00+00:00\",\"2020-03-22T00:00:00+00:00\",\"2020-03-23T00:00:00+00:00\",\"2020-03-24T00:00:00+00:00\",\"2020-03-25T00:00:00+00:00\",\"2020-03-26T00:00:00+00:00\",\"2020-03-27T00:00:00+00:00\",\"2020-03-28T00:00:00+00:00\",\"2020-03-29T00:00:00+00:00\",\"2020-03-30T00:00:00+00:00\",\"2020-03-31T00:00:00+00:00\",\"2020-04-01T00:00:00+00:00\",\"2020-04-02T00:00:00+00:00\",\"2020-04-03T00:00:00+00:00\",\"2020-04-04T00:00:00+00:00\",\"2020-04-05T00:00:00+00:00\",\"2020-04-06T00:00:00+00:00\",\"2020-04-07T00:00:00+00:00\",\"2020-04-08T00:00:00+00:00\",\"2020-04-09T00:00:00+00:00\",\"2020-04-10T00:00:00+00:00\",\"2020-04-11T00:00:00+00:00\",\"2020-04-12T00:00:00+00:00\",\"2020-04-13T00:00:00+00:00\",\"2020-04-14T00:00:00+00:00\",\"2020-04-15T00:00:00+00:00\",\"2020-04-16T00:00:00+00:00\",\"2020-04-17T00:00:00+00:00\",\"2020-04-18T00:00:00+00:00\",\"2020-04-19T00:00:00+00:00\",\"2020-04-20T00:00:00+00:00\",\"2020-04-21T00:00:00+00:00\",\"2020-04-22T00:00:00+00:00\",\"2020-04-23T00:00:00+00:00\",\"2020-04-24T00:00:00+00:00\",\"2020-04-25T00:00:00+00:00\",\"2020-04-26T00:00:00+00:00\",\"2020-04-27T00:00:00+00:00\",\"2020-04-28T00:00:00+00:00\",\"2020-04-29T00:00:00+00:00\",\"2020-04-30T00:00:00+00:00\",\"2020-05-01T00:00:00+00:00\",\"2020-05-02T00:00:00+00:00\",\"2020-05-03T00:00:00+00:00\",\"2020-05-04T00:00:00+00:00\",\"2020-05-05T00:00:00+00:00\",\"2020-05-06T00:00:00+00:00\",\"2020-05-07T00:00:00+00:00\",\"2020-05-08T00:00:00+00:00\",\"2020-05-09T00:00:00+00:00\",\"2020-05-10T00:00:00+00:00\",\"2020-05-11T00:00:00+00:00\",\"2020-05-12T00:00:00+00:00\",\"2020-05-13T00:00:00+00:00\",\"2020-05-14T00:00:00+00:00\",\"2020-05-15T00:00:00+00:00\",\"2020-05-16T00:00:00+00:00\",\"2020-05-17T00:00:00+00:00\",\"2020-05-18T00:00:00+00:00\",\"2020-05-19T00:00:00+00:00\",\"2020-05-20T00:00:00+00:00\",\"2020-05-21T00:00:00+00:00\",\"2020-05-22T00:00:00+00:00\",\"2020-05-23T00:00:00+00:00\",\"2020-05-24T00:00:00+00:00\",\"2020-05-25T00:00:00+00:00\",\"2020-05-26T00:00:00+00:00\",\"2020-05-27T00:00:00+00:00\",\"2020-05-28T00:00:00+00:00\",\"2020-05-29T00:00:00+00:00\",\"2020-05-30T00:00:00+00:00\",\"2020-05-31T00:00:00+00:00\",\"2020-06-01T00:00:00+00:00\",\"2020-06-02T00:00:00+00:00\",\"2020-06-03T00:00:00+00:00\",\"2020-06-04T00:00:00+00:00\",\"2020-06-05T00:00:00+00:00\",\"2020-06-06T00:00:00+00:00\",\"2020-06-07T00:00:00+00:00\",\"2020-06-08T00:00:00+00:00\",\"2020-06-09T00:00:00+00:00\",\"2020-06-10T00:00:00+00:00\",\"2020-06-11T00:00:00+00:00\",\"2020-06-12T00:00:00+00:00\",\"2020-06-13T00:00:00+00:00\",\"2020-06-14T00:00:00+00:00\",\"2020-06-15T00:00:00+00:00\",\"2020-06-16T00:00:00+00:00\",\"2020-06-17T00:00:00+00:00\",\"2020-06-18T00:00:00+00:00\",\"2020-06-19T00:00:00+00:00\",\"2020-06-20T00:00:00+00:00\",\"2020-06-21T00:00:00+00:00\",\"2020-06-22T00:00:00+00:00\",\"2020-06-23T00:00:00+00:00\",\"2020-06-24T00:00:00+00:00\",\"2020-06-25T00:00:00+00:00\",\"2020-06-26T00:00:00+00:00\",\"2020-06-27T00:00:00+00:00\",\"2020-06-28T00:00:00+00:00\",\"2020-06-29T00:00:00+00:00\",\"2020-06-30T00:00:00+00:00\"],\"y\":[0.6659999999999999,0.609,0.5720000000000001,0.588,0.622,0.665,0.665,0.6659999999999999,0.609,0.604,0.64,0.644,0.64,0.645,0.647,0.5710000000000001,0.584,0.653,0.645,0.632,0.643,0.66,0.61,0.6,0.6579999999999999,0.648,0.65,0.652,0.6659999999999999,0.61,0.605,0.664,0.619,0.6659999999999999,0.653,0.659,0.619,0.611,0.664,0.6579999999999999,0.653,0.637,0.647,0.596,0.5920000000000001,0.6579999999999999,0.648,0.648,0.614,0.58,0.5920000000000001,0.5920000000000001,0.638,0.634,0.632,0.632,0.647,0.594,0.5820000000000001,0.635,0.62,0.584,0.649,0.6509999999999999,0.602,0.594,0.6559999999999999,0.647,0.642,0.634,0.638,0.596,0.565,0.556,0.578,0.599,0.602,0.593,0.5589999999999999,0.573,0.61,0.62,0.62,0.621,0.648,0.594,0.595,0.6409999999999999,0.597,0.606,0.633,0.655,0.614,0.596,0.649,0.642,0.637,0.631,0.645,0.59,0.598,0.64,0.635,0.639,0.622,0.633,0.568,0.532,0.599,0.662,0.63,0.5870000000000001,0.65,0.597,0.5670000000000001,0.655,0.6459999999999999,0.631,0.633,0.6459999999999999,0.597,0.588,0.653,0.645,0.64,0.602,0.626,0.594,0.58,0.598,0.597,0.654,0.638,0.63,0.568,0.5770000000000001,0.638,0.638,0.628,0.625,0.626,0.573,0.563,0.61,0.612,0.589,0.584,0.624,0.5720000000000001,0.5710000000000001,0.614,0.596,0.605,0.636,0.617,0.581,0.5870000000000001,0.654,0.633,0.65,0.635,0.633,0.609,0.615,0.6709999999999999,0.659,0.648,0.578,0.62,0.602,0.5770000000000001,0.601,0.622,0.633,0.616,0.629,0.599,0.589,0.644,0.631,0.645,0.634,0.633,0.598,0.611,0.652,0.639,0.637,0.636,0.638,0.597,0.601,0.647,0.6459999999999999,0.6409999999999999,0.632,0.648,0.584,0.5870000000000001,0.636,0.6409999999999999,0.649,0.624,0.644,0.57,0.5820000000000001,0.639,0.634,0.638,0.633,0.652,0.603,0.597,0.653,0.648,0.654,0.649,0.645,0.603,0.618,0.6579999999999999,0.65,0.6509999999999999,0.65,0.642,0.594,0.594,0.615,0.655,0.649,0.637,0.632,0.608,0.585,0.632,0.625,0.644,0.647,0.6809999999999999,0.64,0.647,0.644,0.649,0.643,0.6409999999999999,0.653,0.589,0.5720000000000001,0.564,0.593,0.616,0.62,0.64,0.589,0.595,0.649,0.644,0.654,0.642,0.649,0.585,0.578,0.614,0.648,0.643,0.599,0.649,0.599,0.588,0.643,0.6409999999999999,0.638,0.625,0.625,0.589,0.596,0.645,0.643,0.018000000000000002,0.209,0.309,0.5760000000000001,0.605,0.669,0.669,0.655,0.647,0.665,0.62,0.635,0.606,0.6659999999999999,0.669,0.67,0.6659999999999999,0.633,0.62,0.674,0.629,0.588,0.653,0.6559999999999999,0.617,0.613,0.659,0.632,0.599,0.659,0.63,0.618,0.599,0.662,0.6509999999999999,0.6559999999999999,0.653,0.65,0.599,0.6,0.6629999999999999,0.652,0.647,0.642,0.647,0.597,0.583,0.648,0.639,0.636,0.63,0.654,0.601,0.593,0.648,0.644,0.634,0.636,0.6559999999999999,0.611,0.606,0.6659999999999999,0.66,0.6559999999999999,0.653,0.648,0.608,0.601,0.662,0.6579999999999999,0.6559999999999999,0.649,0.653,0.602,0.598,0.65,0.649,0.647,0.638,0.648,0.589,0.57,0.59,0.621,0.665,0.6509999999999999,0.653,0.617,0.619,0.66,0.659,0.66,0.652,0.6509999999999999,0.615,0.606,0.653,0.6559999999999999,0.65,0.655,0.659,0.601,0.598,0.654,0.6409999999999999,0.64,0.631,0.541,0.515,0.512,0.529,0.522,0.5539999999999999,0.547,0.564,0.557,0.5529999999999999,0.5870000000000001,0.594,0.607,0.611,0.617,0.591,0.588,0.611,0.605,0.596,0.598,0.6,0.596,0.6,0.629,0.634,0.623,0.624,0.625,0.593,0.595,0.627,0.624,0.617,0.616,0.633,0.5920000000000001,0.594,0.625,0.616,0.622,0.617,0.612,0.615,0.607,0.637,0.637,0.634,0.563,0.648,0.607,0.604,0.633,0.629,0.628,0.581,0.623,0.593,0.6,0.628,0.623,0.625,0.618,0.629,0.5920000000000001,0.584,0.615,0.638,0.638,0.639,0.657,0.617,0.621,0.649,0.655,0.635,0.655,0.647,0.62,0.617,0.631,0.65,0.649,0.653,0.654,0.623,0.616,0.645,0.664,0.6609999999999999,0.662,0.6579999999999999,0.618,0.622,0.657,0.649,0.645,0.654,0.662,0.627,0.628,0.662,0.655]},{\"marker\":{\"color\":\"LightSkyBlue\",\"line\":{\"color\":\"red\",\"width\":2},\"opacity\":0.5,\"size\":6},\"mode\":\"markers\",\"showlegend\":false,\"type\":\"scatter\",\"x\":[\"2019-03-01T00:00:00+00:00\",\"2019-03-06T00:00:00+00:00\",\"2019-03-07T00:00:00+00:00\",\"2019-03-08T00:00:00+00:00\",\"2019-03-29T00:00:00+00:00\",\"2019-04-01T00:00:00+00:00\",\"2019-04-03T00:00:00+00:00\",\"2019-04-08T00:00:00+00:00\",\"2019-05-12T00:00:00+00:00\",\"2019-05-13T00:00:00+00:00\",\"2019-05-18T00:00:00+00:00\",\"2019-06-15T00:00:00+00:00\",\"2019-06-16T00:00:00+00:00\",\"2019-06-23T00:00:00+00:00\",\"2019-07-13T00:00:00+00:00\",\"2019-07-21T00:00:00+00:00\",\"2019-08-12T00:00:00+00:00\",\"2019-09-21T00:00:00+00:00\",\"2019-10-25T00:00:00+00:00\",\"2019-11-04T00:00:00+00:00\",\"2019-12-04T00:00:00+00:00\",\"2019-12-05T00:00:00+00:00\",\"2019-12-06T00:00:00+00:00\",\"2019-12-09T00:00:00+00:00\",\"2019-12-10T00:00:00+00:00\",\"2019-12-13T00:00:00+00:00\",\"2019-12-17T00:00:00+00:00\",\"2019-12-18T00:00:00+00:00\",\"2019-12-19T00:00:00+00:00\",\"2019-12-20T00:00:00+00:00\",\"2019-12-23T00:00:00+00:00\",\"2020-01-13T00:00:00+00:00\",\"2020-02-03T00:00:00+00:00\",\"2020-02-23T00:00:00+00:00\",\"2020-02-26T00:00:00+00:00\",\"2020-03-20T00:00:00+00:00\",\"2020-03-21T00:00:00+00:00\",\"2020-03-22T00:00:00+00:00\",\"2020-03-23T00:00:00+00:00\",\"2020-03-24T00:00:00+00:00\",\"2020-03-25T00:00:00+00:00\",\"2020-03-26T00:00:00+00:00\",\"2020-03-27T00:00:00+00:00\",\"2020-03-28T00:00:00+00:00\",\"2020-03-29T00:00:00+00:00\",\"2020-05-07T00:00:00+00:00\",\"2020-06-16T00:00:00+00:00\"],\"y\":[0.6659999999999999,0.665,0.665,0.6659999999999999,0.6659999999999999,0.664,0.6659999999999999,0.664,0.565,0.556,0.5589999999999999,0.568,0.532,0.5670000000000001,0.568,0.563,0.6709999999999999,0.57,0.6809999999999999,0.564,0.018000000000000002,0.209,0.309,0.669,0.669,0.665,0.6659999999999999,0.669,0.67,0.6659999999999999,0.674,0.6629999999999999,0.6659999999999999,0.57,0.665,0.541,0.515,0.512,0.529,0.522,0.5539999999999999,0.547,0.564,0.557,0.5529999999999999,0.563,0.664]}],                        {\"template\":{\"data\":{\"bar\":[{\"error_x\":{\"color\":\"#2a3f5f\"},\"error_y\":{\"color\":\"#2a3f5f\"},\"marker\":{\"line\":{\"color\":\"#E5ECF6\",\"width\":0.5},\"pattern\":{\"fillmode\":\"overlay\",\"size\":10,\"solidity\":0.2}},\"type\":\"bar\"}],\"barpolar\":[{\"marker\":{\"line\":{\"color\":\"#E5ECF6\",\"width\":0.5},\"pattern\":{\"fillmode\":\"overlay\",\"size\":10,\"solidity\":0.2}},\"type\":\"barpolar\"}],\"carpet\":[{\"aaxis\":{\"endlinecolor\":\"#2a3f5f\",\"gridcolor\":\"white\",\"linecolor\":\"white\",\"minorgridcolor\":\"white\",\"startlinecolor\":\"#2a3f5f\"},\"baxis\":{\"endlinecolor\":\"#2a3f5f\",\"gridcolor\":\"white\",\"linecolor\":\"white\",\"minorgridcolor\":\"white\",\"startlinecolor\":\"#2a3f5f\"},\"type\":\"carpet\"}],\"choropleth\":[{\"colorbar\":{\"outlinewidth\":0,\"ticks\":\"\"},\"type\":\"choropleth\"}],\"contour\":[{\"colorbar\":{\"outlinewidth\":0,\"ticks\":\"\"},\"colorscale\":[[0.0,\"#0d0887\"],[0.1111111111111111,\"#46039f\"],[0.2222222222222222,\"#7201a8\"],[0.3333333333333333,\"#9c179e\"],[0.4444444444444444,\"#bd3786\"],[0.5555555555555556,\"#d8576b\"],[0.6666666666666666,\"#ed7953\"],[0.7777777777777778,\"#fb9f3a\"],[0.8888888888888888,\"#fdca26\"],[1.0,\"#f0f921\"]],\"type\":\"contour\"}],\"contourcarpet\":[{\"colorbar\":{\"outlinewidth\":0,\"ticks\":\"\"},\"type\":\"contourcarpet\"}],\"heatmap\":[{\"colorbar\":{\"outlinewidth\":0,\"ticks\":\"\"},\"colorscale\":[[0.0,\"#0d0887\"],[0.1111111111111111,\"#46039f\"],[0.2222222222222222,\"#7201a8\"],[0.3333333333333333,\"#9c179e\"],[0.4444444444444444,\"#bd3786\"],[0.5555555555555556,\"#d8576b\"],[0.6666666666666666,\"#ed7953\"],[0.7777777777777778,\"#fb9f3a\"],[0.8888888888888888,\"#fdca26\"],[1.0,\"#f0f921\"]],\"type\":\"heatmap\"}],\"heatmapgl\":[{\"colorbar\":{\"outlinewidth\":0,\"ticks\":\"\"},\"colorscale\":[[0.0,\"#0d0887\"],[0.1111111111111111,\"#46039f\"],[0.2222222222222222,\"#7201a8\"],[0.3333333333333333,\"#9c179e\"],[0.4444444444444444,\"#bd3786\"],[0.5555555555555556,\"#d8576b\"],[0.6666666666666666,\"#ed7953\"],[0.7777777777777778,\"#fb9f3a\"],[0.8888888888888888,\"#fdca26\"],[1.0,\"#f0f921\"]],\"type\":\"heatmapgl\"}],\"histogram\":[{\"marker\":{\"pattern\":{\"fillmode\":\"overlay\",\"size\":10,\"solidity\":0.2}},\"type\":\"histogram\"}],\"histogram2d\":[{\"colorbar\":{\"outlinewidth\":0,\"ticks\":\"\"},\"colorscale\":[[0.0,\"#0d0887\"],[0.1111111111111111,\"#46039f\"],[0.2222222222222222,\"#7201a8\"],[0.3333333333333333,\"#9c179e\"],[0.4444444444444444,\"#bd3786\"],[0.5555555555555556,\"#d8576b\"],[0.6666666666666666,\"#ed7953\"],[0.7777777777777778,\"#fb9f3a\"],[0.8888888888888888,\"#fdca26\"],[1.0,\"#f0f921\"]],\"type\":\"histogram2d\"}],\"histogram2dcontour\":[{\"colorbar\":{\"outlinewidth\":0,\"ticks\":\"\"},\"colorscale\":[[0.0,\"#0d0887\"],[0.1111111111111111,\"#46039f\"],[0.2222222222222222,\"#7201a8\"],[0.3333333333333333,\"#9c179e\"],[0.4444444444444444,\"#bd3786\"],[0.5555555555555556,\"#d8576b\"],[0.6666666666666666,\"#ed7953\"],[0.7777777777777778,\"#fb9f3a\"],[0.8888888888888888,\"#fdca26\"],[1.0,\"#f0f921\"]],\"type\":\"histogram2dcontour\"}],\"mesh3d\":[{\"colorbar\":{\"outlinewidth\":0,\"ticks\":\"\"},\"type\":\"mesh3d\"}],\"parcoords\":[{\"line\":{\"colorbar\":{\"outlinewidth\":0,\"ticks\":\"\"}},\"type\":\"parcoords\"}],\"pie\":[{\"automargin\":true,\"type\":\"pie\"}],\"scatter\":[{\"marker\":{\"colorbar\":{\"outlinewidth\":0,\"ticks\":\"\"}},\"type\":\"scatter\"}],\"scatter3d\":[{\"line\":{\"colorbar\":{\"outlinewidth\":0,\"ticks\":\"\"}},\"marker\":{\"colorbar\":{\"outlinewidth\":0,\"ticks\":\"\"}},\"type\":\"scatter3d\"}],\"scattercarpet\":[{\"marker\":{\"colorbar\":{\"outlinewidth\":0,\"ticks\":\"\"}},\"type\":\"scattercarpet\"}],\"scattergeo\":[{\"marker\":{\"colorbar\":{\"outlinewidth\":0,\"ticks\":\"\"}},\"type\":\"scattergeo\"}],\"scattergl\":[{\"marker\":{\"colorbar\":{\"outlinewidth\":0,\"ticks\":\"\"}},\"type\":\"scattergl\"}],\"scattermapbox\":[{\"marker\":{\"colorbar\":{\"outlinewidth\":0,\"ticks\":\"\"}},\"type\":\"scattermapbox\"}],\"scatterpolar\":[{\"marker\":{\"colorbar\":{\"outlinewidth\":0,\"ticks\":\"\"}},\"type\":\"scatterpolar\"}],\"scatterpolargl\":[{\"marker\":{\"colorbar\":{\"outlinewidth\":0,\"ticks\":\"\"}},\"type\":\"scatterpolargl\"}],\"scatterternary\":[{\"marker\":{\"colorbar\":{\"outlinewidth\":0,\"ticks\":\"\"}},\"type\":\"scatterternary\"}],\"surface\":[{\"colorbar\":{\"outlinewidth\":0,\"ticks\":\"\"},\"colorscale\":[[0.0,\"#0d0887\"],[0.1111111111111111,\"#46039f\"],[0.2222222222222222,\"#7201a8\"],[0.3333333333333333,\"#9c179e\"],[0.4444444444444444,\"#bd3786\"],[0.5555555555555556,\"#d8576b\"],[0.6666666666666666,\"#ed7953\"],[0.7777777777777778,\"#fb9f3a\"],[0.8888888888888888,\"#fdca26\"],[1.0,\"#f0f921\"]],\"type\":\"surface\"}],\"table\":[{\"cells\":{\"fill\":{\"color\":\"#EBF0F8\"},\"line\":{\"color\":\"white\"}},\"header\":{\"fill\":{\"color\":\"#C8D4E3\"},\"line\":{\"color\":\"white\"}},\"type\":\"table\"}]},\"layout\":{\"annotationdefaults\":{\"arrowcolor\":\"#2a3f5f\",\"arrowhead\":0,\"arrowwidth\":1},\"autotypenumbers\":\"strict\",\"coloraxis\":{\"colorbar\":{\"outlinewidth\":0,\"ticks\":\"\"}},\"colorscale\":{\"diverging\":[[0,\"#8e0152\"],[0.1,\"#c51b7d\"],[0.2,\"#de77ae\"],[0.3,\"#f1b6da\"],[0.4,\"#fde0ef\"],[0.5,\"#f7f7f7\"],[0.6,\"#e6f5d0\"],[0.7,\"#b8e186\"],[0.8,\"#7fbc41\"],[0.9,\"#4d9221\"],[1,\"#276419\"]],\"sequential\":[[0.0,\"#0d0887\"],[0.1111111111111111,\"#46039f\"],[0.2222222222222222,\"#7201a8\"],[0.3333333333333333,\"#9c179e\"],[0.4444444444444444,\"#bd3786\"],[0.5555555555555556,\"#d8576b\"],[0.6666666666666666,\"#ed7953\"],[0.7777777777777778,\"#fb9f3a\"],[0.8888888888888888,\"#fdca26\"],[1.0,\"#f0f921\"]],\"sequentialminus\":[[0.0,\"#0d0887\"],[0.1111111111111111,\"#46039f\"],[0.2222222222222222,\"#7201a8\"],[0.3333333333333333,\"#9c179e\"],[0.4444444444444444,\"#bd3786\"],[0.5555555555555556,\"#d8576b\"],[0.6666666666666666,\"#ed7953\"],[0.7777777777777778,\"#fb9f3a\"],[0.8888888888888888,\"#fdca26\"],[1.0,\"#f0f921\"]]},\"colorway\":[\"#636efa\",\"#EF553B\",\"#00cc96\",\"#ab63fa\",\"#FFA15A\",\"#19d3f3\",\"#FF6692\",\"#B6E880\",\"#FF97FF\",\"#FECB52\"],\"font\":{\"color\":\"#2a3f5f\"},\"geo\":{\"bgcolor\":\"white\",\"lakecolor\":\"white\",\"landcolor\":\"#E5ECF6\",\"showlakes\":true,\"showland\":true,\"subunitcolor\":\"white\"},\"hoverlabel\":{\"align\":\"left\"},\"hovermode\":\"closest\",\"mapbox\":{\"style\":\"light\"},\"paper_bgcolor\":\"white\",\"plot_bgcolor\":\"#E5ECF6\",\"polar\":{\"angularaxis\":{\"gridcolor\":\"white\",\"linecolor\":\"white\",\"ticks\":\"\"},\"bgcolor\":\"#E5ECF6\",\"radialaxis\":{\"gridcolor\":\"white\",\"linecolor\":\"white\",\"ticks\":\"\"}},\"scene\":{\"xaxis\":{\"backgroundcolor\":\"#E5ECF6\",\"gridcolor\":\"white\",\"gridwidth\":2,\"linecolor\":\"white\",\"showbackground\":true,\"ticks\":\"\",\"zerolinecolor\":\"white\"},\"yaxis\":{\"backgroundcolor\":\"#E5ECF6\",\"gridcolor\":\"white\",\"gridwidth\":2,\"linecolor\":\"white\",\"showbackground\":true,\"ticks\":\"\",\"zerolinecolor\":\"white\"},\"zaxis\":{\"backgroundcolor\":\"#E5ECF6\",\"gridcolor\":\"white\",\"gridwidth\":2,\"linecolor\":\"white\",\"showbackground\":true,\"ticks\":\"\",\"zerolinecolor\":\"white\"}},\"shapedefaults\":{\"line\":{\"color\":\"#2a3f5f\"}},\"ternary\":{\"aaxis\":{\"gridcolor\":\"white\",\"linecolor\":\"white\",\"ticks\":\"\"},\"baxis\":{\"gridcolor\":\"white\",\"linecolor\":\"white\",\"ticks\":\"\"},\"bgcolor\":\"#E5ECF6\",\"caxis\":{\"gridcolor\":\"white\",\"linecolor\":\"white\",\"ticks\":\"\"}},\"title\":{\"x\":0.05},\"xaxis\":{\"automargin\":true,\"gridcolor\":\"white\",\"linecolor\":\"white\",\"ticks\":\"\",\"title\":{\"standoff\":15},\"zerolinecolor\":\"white\",\"zerolinewidth\":2},\"yaxis\":{\"automargin\":true,\"gridcolor\":\"white\",\"linecolor\":\"white\",\"ticks\":\"\",\"title\":{\"standoff\":15},\"zerolinecolor\":\"white\",\"zerolinewidth\":2}}},\"title\":{\"text\":\" QuantileAD Plot for site MLA on flow direct and device Desktop\"}},                        {\"responsive\": true}                    ).then(function(){\n",
       "                            \n",
       "var gd = document.getElementById('28c332d9-c074-4cfb-9fbb-118985294eb4');\n",
       "var x = new MutationObserver(function (mutations, observer) {{\n",
       "        var display = window.getComputedStyle(gd).display;\n",
       "        if (!display || display === 'none') {{\n",
       "            console.log([gd, 'removed!']);\n",
       "            Plotly.purge(gd);\n",
       "            observer.disconnect();\n",
       "        }}\n",
       "}});\n",
       "\n",
       "// Listen for the removal of the full notebook cells\n",
       "var notebookContainer = gd.closest('#notebook-container');\n",
       "if (notebookContainer) {{\n",
       "    x.observe(notebookContainer, {childList: true});\n",
       "}}\n",
       "\n",
       "// Listen for the clearing of the current output cell\n",
       "var outputEl = gd.closest('.output');\n",
       "if (outputEl) {{\n",
       "    x.observe(outputEl, {childList: true});\n",
       "}}\n",
       "\n",
       "                        })                };                });            </script>        </div>"
      ]
     },
     "metadata": {},
     "output_type": "display_data"
    },
    {
     "name": "stdout",
     "output_type": "stream",
     "text": [
      "[[434   5]\n",
      " [  7  42]]\n"
     ]
    },
    {
     "data": {
      "image/png": "[encoded data removed]",
      "text/plain": [
       "<Figure size 432x432 with 2 Axes>"
      ]
     },
     "metadata": {},
     "output_type": "display_data"
    },
    {
     "name": "stdout",
     "output_type": "stream",
     "text": [
      "Precision                                   : 0.894\n",
      "Recall                                      : 0.857\n",
      "F1-Score                                    : 0.875\n",
      "\n",
      "Precision Recall F1-Score Support Per Class : \n",
      " (array([0.98412698, 0.89361702]), array([0.98861048, 0.85714286]), array([0.98636364, 0.875     ]), array([439,  49], dtype=int64))\n",
      "\n",
      "Classification Report                       : \n",
      "              precision    recall  f1-score   support\n",
      "\n",
      "       False       0.98      0.99      0.99       439\n",
      "        True       0.89      0.86      0.88        49\n",
      "\n",
      "    accuracy                           0.98       488\n",
      "   macro avg       0.94      0.92      0.93       488\n",
      "weighted avg       0.98      0.98      0.98       488\n",
      "\n"
     ]
    }
   ],
   "source": [
    "#quantile_ad\n",
    "quantile_ad = QuantileAD(high=0.95, low=0.05)\n",
    "qad_anomalies = quantile_ad.fit_detect(s)\n",
    "anomaly_plot(\n",
    "s,\n",
    "anomaly=qad_anomalies,\n",
    "anomaly_color=\"red\",\n",
    "title=f\" QuantileAD Plot for site {site} on flow {flow} and device {device}\",\n",
    ")\n",
    "    \n",
    "Y_test = serie[\"anomaly\"]\n",
    "Y_preds = qad_anomalies\n",
    "\n",
    "confusion_matrix_plot(Y_test, Y_preds)\n",
    "print_report(Y_test, Y_preds) \n",
    "    "
   ]
  },
  {
   "cell_type": "markdown",
   "metadata": {},
   "source": [
    "Autoregresssion_AD detecta cambios anómalos en la regresión. Lo probamos con varios hiperparámetros pero no logramos detectar una cantidad significativa de outliers"
   ]
  },
  {
   "cell_type": "code",
   "execution_count": 111,
   "metadata": {},
   "outputs": [
    {
     "data": {
      "application/vnd.plotly.v1+json": {
       "config": {
        "plotlyServerURL": "https://plot.ly"
       },
       "data": [
        {
         "mode": "lines",
         "name": "TOTAL",
         "type": "scatter",
         "x": [
          "2019-03-01T00:00:00+00:00",
          "2019-03-02T00:00:00+00:00",
          "2019-03-03T00:00:00+00:00",
          "2019-03-04T00:00:00+00:00",
          "2019-03-05T00:00:00+00:00",
          "2019-03-06T00:00:00+00:00",
          "2019-03-07T00:00:00+00:00",
          "2019-03-08T00:00:00+00:00",
          "2019-03-09T00:00:00+00:00",
          "2019-03-10T00:00:00+00:00",
          "2019-03-11T00:00:00+00:00",
          "2019-03-12T00:00:00+00:00",
          "2019-03-13T00:00:00+00:00",
          "2019-03-14T00:00:00+00:00",
          "2019-03-15T00:00:00+00:00",
          "2019-03-16T00:00:00+00:00",
          "2019-03-17T00:00:00+00:00",
          "2019-03-18T00:00:00+00:00",
          "2019-03-19T00:00:00+00:00",
          "2019-03-20T00:00:00+00:00",
          "2019-03-21T00:00:00+00:00",
          "2019-03-22T00:00:00+00:00",
          "2019-03-23T00:00:00+00:00",
          "2019-03-24T00:00:00+00:00",
          "2019-03-25T00:00:00+00:00",
          "2019-03-26T00:00:00+00:00",
          "2019-03-27T00:00:00+00:00",
          "2019-03-28T00:00:00+00:00",
          "2019-03-29T00:00:00+00:00",
          "2019-03-30T00:00:00+00:00",
          "2019-03-31T00:00:00+00:00",
          "2019-04-01T00:00:00+00:00",
          "2019-04-02T00:00:00+00:00",
          "2019-04-03T00:00:00+00:00",
          "2019-04-04T00:00:00+00:00",
          "2019-04-05T00:00:00+00:00",
          "2019-04-06T00:00:00+00:00",
          "2019-04-07T00:00:00+00:00",
          "2019-04-08T00:00:00+00:00",
          "2019-04-09T00:00:00+00:00",
          "2019-04-10T00:00:00+00:00",
          "2019-04-11T00:00:00+00:00",
          "2019-04-12T00:00:00+00:00",
          "2019-04-13T00:00:00+00:00",
          "2019-04-14T00:00:00+00:00",
          "2019-04-15T00:00:00+00:00",
          "2019-04-16T00:00:00+00:00",
          "2019-04-17T00:00:00+00:00",
          "2019-04-18T00:00:00+00:00",
          "2019-04-19T00:00:00+00:00",
          "2019-04-20T00:00:00+00:00",
          "2019-04-21T00:00:00+00:00",
          "2019-04-22T00:00:00+00:00",
          "2019-04-23T00:00:00+00:00",
          "2019-04-24T00:00:00+00:00",
          "2019-04-25T00:00:00+00:00",
          "2019-04-26T00:00:00+00:00",
          "2019-04-27T00:00:00+00:00",
          "2019-04-28T00:00:00+00:00",
          "2019-04-29T00:00:00+00:00",
          "2019-04-30T00:00:00+00:00",
          "2019-05-01T00:00:00+00:00",
          "2019-05-02T00:00:00+00:00",
          "2019-05-03T00:00:00+00:00",
          "2019-05-04T00:00:00+00:00",
          "2019-05-05T00:00:00+00:00",
          "2019-05-06T00:00:00+00:00",
          "2019-05-07T00:00:00+00:00",
          "2019-05-08T00:00:00+00:00",
          "2019-05-09T00:00:00+00:00",
          "2019-05-10T00:00:00+00:00",
          "2019-05-11T00:00:00+00:00",
          "2019-05-12T00:00:00+00:00",
          "2019-05-13T00:00:00+00:00",
          "2019-05-14T00:00:00+00:00",
          "2019-05-15T00:00:00+00:00",
          "2019-05-16T00:00:00+00:00",
          "2019-05-17T00:00:00+00:00",
          "2019-05-18T00:00:00+00:00",
          "2019-05-19T00:00:00+00:00",
          "2019-05-20T00:00:00+00:00",
          "2019-05-21T00:00:00+00:00",
          "2019-05-22T00:00:00+00:00",
          "2019-05-23T00:00:00+00:00",
          "2019-05-24T00:00:00+00:00",
          "2019-05-25T00:00:00+00:00",
          "2019-05-26T00:00:00+00:00",
          "2019-05-27T00:00:00+00:00",
          "2019-05-28T00:00:00+00:00",
          "2019-05-29T00:00:00+00:00",
          "2019-05-30T00:00:00+00:00",
          "2019-05-31T00:00:00+00:00",
          "2019-06-01T00:00:00+00:00",
          "2019-06-02T00:00:00+00:00",
          "2019-06-03T00:00:00+00:00",
          "2019-06-04T00:00:00+00:00",
          "2019-06-05T00:00:00+00:00",
          "2019-06-06T00:00:00+00:00",
          "2019-06-07T00:00:00+00:00",
          "2019-06-08T00:00:00+00:00",
          "2019-06-09T00:00:00+00:00",
          "2019-06-10T00:00:00+00:00",
          "2019-06-11T00:00:00+00:00",
          "2019-06-12T00:00:00+00:00",
          "2019-06-13T00:00:00+00:00",
          "2019-06-14T00:00:00+00:00",
          "2019-06-15T00:00:00+00:00",
          "2019-06-16T00:00:00+00:00",
          "2019-06-17T00:00:00+00:00",
          "2019-06-18T00:00:00+00:00",
          "2019-06-19T00:00:00+00:00",
          "2019-06-20T00:00:00+00:00",
          "2019-06-21T00:00:00+00:00",
          "2019-06-22T00:00:00+00:00",
          "2019-06-23T00:00:00+00:00",
          "2019-06-24T00:00:00+00:00",
          "2019-06-25T00:00:00+00:00",
          "2019-06-26T00:00:00+00:00",
          "2019-06-27T00:00:00+00:00",
          "2019-06-28T00:00:00+00:00",
          "2019-06-29T00:00:00+00:00",
          "2019-06-30T00:00:00+00:00",
          "2019-07-01T00:00:00+00:00",
          "2019-07-02T00:00:00+00:00",
          "2019-07-03T00:00:00+00:00",
          "2019-07-04T00:00:00+00:00",
          "2019-07-05T00:00:00+00:00",
          "2019-07-06T00:00:00+00:00",
          "2019-07-07T00:00:00+00:00",
          "2019-07-08T00:00:00+00:00",
          "2019-07-09T00:00:00+00:00",
          "2019-07-10T00:00:00+00:00",
          "2019-07-11T00:00:00+00:00",
          "2019-07-12T00:00:00+00:00",
          "2019-07-13T00:00:00+00:00",
          "2019-07-14T00:00:00+00:00",
          "2019-07-15T00:00:00+00:00",
          "2019-07-16T00:00:00+00:00",
          "2019-07-17T00:00:00+00:00",
          "2019-07-18T00:00:00+00:00",
          "2019-07-19T00:00:00+00:00",
          "2019-07-20T00:00:00+00:00",
          "2019-07-21T00:00:00+00:00",
          "2019-07-22T00:00:00+00:00",
          "2019-07-23T00:00:00+00:00",
          "2019-07-24T00:00:00+00:00",
          "2019-07-25T00:00:00+00:00",
          "2019-07-26T00:00:00+00:00",
          "2019-07-27T00:00:00+00:00",
          "2019-07-28T00:00:00+00:00",
          "2019-07-29T00:00:00+00:00",
          "2019-07-30T00:00:00+00:00",
          "2019-07-31T00:00:00+00:00",
          "2019-08-01T00:00:00+00:00",
          "2019-08-02T00:00:00+00:00",
          "2019-08-03T00:00:00+00:00",
          "2019-08-04T00:00:00+00:00",
          "2019-08-05T00:00:00+00:00",
          "2019-08-06T00:00:00+00:00",
          "2019-08-07T00:00:00+00:00",
          "2019-08-08T00:00:00+00:00",
          "2019-08-09T00:00:00+00:00",
          "2019-08-10T00:00:00+00:00",
          "2019-08-11T00:00:00+00:00",
          "2019-08-12T00:00:00+00:00",
          "2019-08-13T00:00:00+00:00",
          "2019-08-14T00:00:00+00:00",
          "2019-08-15T00:00:00+00:00",
          "2019-08-16T00:00:00+00:00",
          "2019-08-17T00:00:00+00:00",
          "2019-08-18T00:00:00+00:00",
          "2019-08-19T00:00:00+00:00",
          "2019-08-20T00:00:00+00:00",
          "2019-08-21T00:00:00+00:00",
          "2019-08-22T00:00:00+00:00",
          "2019-08-23T00:00:00+00:00",
          "2019-08-24T00:00:00+00:00",
          "2019-08-25T00:00:00+00:00",
          "2019-08-26T00:00:00+00:00",
          "2019-08-27T00:00:00+00:00",
          "2019-08-28T00:00:00+00:00",
          "2019-08-29T00:00:00+00:00",
          "2019-08-30T00:00:00+00:00",
          "2019-08-31T00:00:00+00:00",
          "2019-09-01T00:00:00+00:00",
          "2019-09-02T00:00:00+00:00",
          "2019-09-03T00:00:00+00:00",
          "2019-09-04T00:00:00+00:00",
          "2019-09-05T00:00:00+00:00",
          "2019-09-06T00:00:00+00:00",
          "2019-09-07T00:00:00+00:00",
          "2019-09-08T00:00:00+00:00",
          "2019-09-09T00:00:00+00:00",
          "2019-09-10T00:00:00+00:00",
          "2019-09-11T00:00:00+00:00",
          "2019-09-12T00:00:00+00:00",
          "2019-09-13T00:00:00+00:00",
          "2019-09-14T00:00:00+00:00",
          "2019-09-15T00:00:00+00:00",
          "2019-09-16T00:00:00+00:00",
          "2019-09-17T00:00:00+00:00",
          "2019-09-18T00:00:00+00:00",
          "2019-09-19T00:00:00+00:00",
          "2019-09-20T00:00:00+00:00",
          "2019-09-21T00:00:00+00:00",
          "2019-09-22T00:00:00+00:00",
          "2019-09-23T00:00:00+00:00",
          "2019-09-24T00:00:00+00:00",
          "2019-09-25T00:00:00+00:00",
          "2019-09-26T00:00:00+00:00",
          "2019-09-27T00:00:00+00:00",
          "2019-09-28T00:00:00+00:00",
          "2019-09-29T00:00:00+00:00",
          "2019-09-30T00:00:00+00:00",
          "2019-10-01T00:00:00+00:00",
          "2019-10-02T00:00:00+00:00",
          "2019-10-03T00:00:00+00:00",
          "2019-10-04T00:00:00+00:00",
          "2019-10-05T00:00:00+00:00",
          "2019-10-06T00:00:00+00:00",
          "2019-10-07T00:00:00+00:00",
          "2019-10-08T00:00:00+00:00",
          "2019-10-09T00:00:00+00:00",
          "2019-10-10T00:00:00+00:00",
          "2019-10-11T00:00:00+00:00",
          "2019-10-12T00:00:00+00:00",
          "2019-10-13T00:00:00+00:00",
          "2019-10-14T00:00:00+00:00",
          "2019-10-15T00:00:00+00:00",
          "2019-10-16T00:00:00+00:00",
          "2019-10-17T00:00:00+00:00",
          "2019-10-18T00:00:00+00:00",
          "2019-10-19T00:00:00+00:00",
          "2019-10-20T00:00:00+00:00",
          "2019-10-21T00:00:00+00:00",
          "2019-10-22T00:00:00+00:00",
          "2019-10-23T00:00:00+00:00",
          "2019-10-24T00:00:00+00:00",
          "2019-10-25T00:00:00+00:00",
          "2019-10-26T00:00:00+00:00",
          "2019-10-27T00:00:00+00:00",
          "2019-10-28T00:00:00+00:00",
          "2019-10-29T00:00:00+00:00",
          "2019-10-30T00:00:00+00:00",
          "2019-10-31T00:00:00+00:00",
          "2019-11-01T00:00:00+00:00",
          "2019-11-02T00:00:00+00:00",
          "2019-11-03T00:00:00+00:00",
          "2019-11-04T00:00:00+00:00",
          "2019-11-05T00:00:00+00:00",
          "2019-11-06T00:00:00+00:00",
          "2019-11-07T00:00:00+00:00",
          "2019-11-08T00:00:00+00:00",
          "2019-11-09T00:00:00+00:00",
          "2019-11-10T00:00:00+00:00",
          "2019-11-11T00:00:00+00:00",
          "2019-11-12T00:00:00+00:00",
          "2019-11-13T00:00:00+00:00",
          "2019-11-14T00:00:00+00:00",
          "2019-11-15T00:00:00+00:00",
          "2019-11-16T00:00:00+00:00",
          "2019-11-17T00:00:00+00:00",
          "2019-11-18T00:00:00+00:00",
          "2019-11-19T00:00:00+00:00",
          "2019-11-20T00:00:00+00:00",
          "2019-11-21T00:00:00+00:00",
          "2019-11-22T00:00:00+00:00",
          "2019-11-23T00:00:00+00:00",
          "2019-11-24T00:00:00+00:00",
          "2019-11-25T00:00:00+00:00",
          "2019-11-26T00:00:00+00:00",
          "2019-11-27T00:00:00+00:00",
          "2019-11-28T00:00:00+00:00",
          "2019-11-29T00:00:00+00:00",
          "2019-11-30T00:00:00+00:00",
          "2019-12-01T00:00:00+00:00",
          "2019-12-02T00:00:00+00:00",
          "2019-12-03T00:00:00+00:00",
          "2019-12-04T00:00:00+00:00",
          "2019-12-05T00:00:00+00:00",
          "2019-12-06T00:00:00+00:00",
          "2019-12-07T00:00:00+00:00",
          "2019-12-08T00:00:00+00:00",
          "2019-12-09T00:00:00+00:00",
          "2019-12-10T00:00:00+00:00",
          "2019-12-11T00:00:00+00:00",
          "2019-12-12T00:00:00+00:00",
          "2019-12-13T00:00:00+00:00",
          "2019-12-14T00:00:00+00:00",
          "2019-12-15T00:00:00+00:00",
          "2019-12-16T00:00:00+00:00",
          "2019-12-17T00:00:00+00:00",
          "2019-12-18T00:00:00+00:00",
          "2019-12-19T00:00:00+00:00",
          "2019-12-20T00:00:00+00:00",
          "2019-12-21T00:00:00+00:00",
          "2019-12-22T00:00:00+00:00",
          "2019-12-23T00:00:00+00:00",
          "2019-12-24T00:00:00+00:00",
          "2019-12-25T00:00:00+00:00",
          "2019-12-26T00:00:00+00:00",
          "2019-12-27T00:00:00+00:00",
          "2019-12-28T00:00:00+00:00",
          "2019-12-29T00:00:00+00:00",
          "2019-12-30T00:00:00+00:00",
          "2019-12-31T00:00:00+00:00",
          "2020-01-01T00:00:00+00:00",
          "2020-01-02T00:00:00+00:00",
          "2020-01-03T00:00:00+00:00",
          "2020-01-04T00:00:00+00:00",
          "2020-01-05T00:00:00+00:00",
          "2020-01-06T00:00:00+00:00",
          "2020-01-07T00:00:00+00:00",
          "2020-01-08T00:00:00+00:00",
          "2020-01-09T00:00:00+00:00",
          "2020-01-10T00:00:00+00:00",
          "2020-01-11T00:00:00+00:00",
          "2020-01-12T00:00:00+00:00",
          "2020-01-13T00:00:00+00:00",
          "2020-01-14T00:00:00+00:00",
          "2020-01-15T00:00:00+00:00",
          "2020-01-16T00:00:00+00:00",
          "2020-01-17T00:00:00+00:00",
          "2020-01-18T00:00:00+00:00",
          "2020-01-19T00:00:00+00:00",
          "2020-01-20T00:00:00+00:00",
          "2020-01-21T00:00:00+00:00",
          "2020-01-22T00:00:00+00:00",
          "2020-01-23T00:00:00+00:00",
          "2020-01-24T00:00:00+00:00",
          "2020-01-25T00:00:00+00:00",
          "2020-01-26T00:00:00+00:00",
          "2020-01-27T00:00:00+00:00",
          "2020-01-28T00:00:00+00:00",
          "2020-01-29T00:00:00+00:00",
          "2020-01-30T00:00:00+00:00",
          "2020-01-31T00:00:00+00:00",
          "2020-02-01T00:00:00+00:00",
          "2020-02-02T00:00:00+00:00",
          "2020-02-03T00:00:00+00:00",
          "2020-02-04T00:00:00+00:00",
          "2020-02-05T00:00:00+00:00",
          "2020-02-06T00:00:00+00:00",
          "2020-02-07T00:00:00+00:00",
          "2020-02-08T00:00:00+00:00",
          "2020-02-09T00:00:00+00:00",
          "2020-02-10T00:00:00+00:00",
          "2020-02-11T00:00:00+00:00",
          "2020-02-12T00:00:00+00:00",
          "2020-02-13T00:00:00+00:00",
          "2020-02-14T00:00:00+00:00",
          "2020-02-15T00:00:00+00:00",
          "2020-02-16T00:00:00+00:00",
          "2020-02-17T00:00:00+00:00",
          "2020-02-18T00:00:00+00:00",
          "2020-02-19T00:00:00+00:00",
          "2020-02-20T00:00:00+00:00",
          "2020-02-21T00:00:00+00:00",
          "2020-02-22T00:00:00+00:00",
          "2020-02-23T00:00:00+00:00",
          "2020-02-24T00:00:00+00:00",
          "2020-02-25T00:00:00+00:00",
          "2020-02-26T00:00:00+00:00",
          "2020-02-27T00:00:00+00:00",
          "2020-02-28T00:00:00+00:00",
          "2020-02-29T00:00:00+00:00",
          "2020-03-01T00:00:00+00:00",
          "2020-03-02T00:00:00+00:00",
          "2020-03-03T00:00:00+00:00",
          "2020-03-04T00:00:00+00:00",
          "2020-03-05T00:00:00+00:00",
          "2020-03-06T00:00:00+00:00",
          "2020-03-07T00:00:00+00:00",
          "2020-03-08T00:00:00+00:00",
          "2020-03-09T00:00:00+00:00",
          "2020-03-10T00:00:00+00:00",
          "2020-03-11T00:00:00+00:00",
          "2020-03-12T00:00:00+00:00",
          "2020-03-13T00:00:00+00:00",
          "2020-03-14T00:00:00+00:00",
          "2020-03-15T00:00:00+00:00",
          "2020-03-16T00:00:00+00:00",
          "2020-03-17T00:00:00+00:00",
          "2020-03-18T00:00:00+00:00",
          "2020-03-19T00:00:00+00:00",
          "2020-03-20T00:00:00+00:00",
          "2020-03-21T00:00:00+00:00",
          "2020-03-22T00:00:00+00:00",
          "2020-03-23T00:00:00+00:00",
          "2020-03-24T00:00:00+00:00",
          "2020-03-25T00:00:00+00:00",
          "2020-03-26T00:00:00+00:00",
          "2020-03-27T00:00:00+00:00",
          "2020-03-28T00:00:00+00:00",
          "2020-03-29T00:00:00+00:00",
          "2020-03-30T00:00:00+00:00",
          "2020-03-31T00:00:00+00:00",
          "2020-04-01T00:00:00+00:00",
          "2020-04-02T00:00:00+00:00",
          "2020-04-03T00:00:00+00:00",
          "2020-04-04T00:00:00+00:00",
          "2020-04-05T00:00:00+00:00",
          "2020-04-06T00:00:00+00:00",
          "2020-04-07T00:00:00+00:00",
          "2020-04-08T00:00:00+00:00",
          "2020-04-09T00:00:00+00:00",
          "2020-04-10T00:00:00+00:00",
          "2020-04-11T00:00:00+00:00",
          "2020-04-12T00:00:00+00:00",
          "2020-04-13T00:00:00+00:00",
          "2020-04-14T00:00:00+00:00",
          "2020-04-15T00:00:00+00:00",
          "2020-04-16T00:00:00+00:00",
          "2020-04-17T00:00:00+00:00",
          "2020-04-18T00:00:00+00:00",
          "2020-04-19T00:00:00+00:00",
          "2020-04-20T00:00:00+00:00",
          "2020-04-21T00:00:00+00:00",
          "2020-04-22T00:00:00+00:00",
          "2020-04-23T00:00:00+00:00",
          "2020-04-24T00:00:00+00:00",
          "2020-04-25T00:00:00+00:00",
          "2020-04-26T00:00:00+00:00",
          "2020-04-27T00:00:00+00:00",
          "2020-04-28T00:00:00+00:00",
          "2020-04-29T00:00:00+00:00",
          "2020-04-30T00:00:00+00:00",
          "2020-05-01T00:00:00+00:00",
          "2020-05-02T00:00:00+00:00",
          "2020-05-03T00:00:00+00:00",
          "2020-05-04T00:00:00+00:00",
          "2020-05-05T00:00:00+00:00",
          "2020-05-06T00:00:00+00:00",
          "2020-05-07T00:00:00+00:00",
          "2020-05-08T00:00:00+00:00",
          "2020-05-09T00:00:00+00:00",
          "2020-05-10T00:00:00+00:00",
          "2020-05-11T00:00:00+00:00",
          "2020-05-12T00:00:00+00:00",
          "2020-05-13T00:00:00+00:00",
          "2020-05-14T00:00:00+00:00",
          "2020-05-15T00:00:00+00:00",
          "2020-05-16T00:00:00+00:00",
          "2020-05-17T00:00:00+00:00",
          "2020-05-18T00:00:00+00:00",
          "2020-05-19T00:00:00+00:00",
          "2020-05-20T00:00:00+00:00",
          "2020-05-21T00:00:00+00:00",
          "2020-05-22T00:00:00+00:00",
          "2020-05-23T00:00:00+00:00",
          "2020-05-24T00:00:00+00:00",
          "2020-05-25T00:00:00+00:00",
          "2020-05-26T00:00:00+00:00",
          "2020-05-27T00:00:00+00:00",
          "2020-05-28T00:00:00+00:00",
          "2020-05-29T00:00:00+00:00",
          "2020-05-30T00:00:00+00:00",
          "2020-05-31T00:00:00+00:00",
          "2020-06-01T00:00:00+00:00",
          "2020-06-02T00:00:00+00:00",
          "2020-06-03T00:00:00+00:00",
          "2020-06-04T00:00:00+00:00",
          "2020-06-05T00:00:00+00:00",
          "2020-06-06T00:00:00+00:00",
          "2020-06-07T00:00:00+00:00",
          "2020-06-08T00:00:00+00:00",
          "2020-06-09T00:00:00+00:00",
          "2020-06-10T00:00:00+00:00",
          "2020-06-11T00:00:00+00:00",
          "2020-06-12T00:00:00+00:00",
          "2020-06-13T00:00:00+00:00",
          "2020-06-14T00:00:00+00:00",
          "2020-06-15T00:00:00+00:00",
          "2020-06-16T00:00:00+00:00",
          "2020-06-17T00:00:00+00:00",
          "2020-06-18T00:00:00+00:00",
          "2020-06-19T00:00:00+00:00",
          "2020-06-20T00:00:00+00:00",
          "2020-06-21T00:00:00+00:00",
          "2020-06-22T00:00:00+00:00",
          "2020-06-23T00:00:00+00:00",
          "2020-06-24T00:00:00+00:00",
          "2020-06-25T00:00:00+00:00",
          "2020-06-26T00:00:00+00:00",
          "2020-06-27T00:00:00+00:00",
          "2020-06-28T00:00:00+00:00",
          "2020-06-29T00:00:00+00:00",
          "2020-06-30T00:00:00+00:00"
         ],
         "y": [
          0.6659999999999999,
          0.609,
          0.5720000000000001,
          0.588,
          0.622,
          0.665,
          0.665,
          0.6659999999999999,
          0.609,
          0.604,
          0.64,
          0.644,
          0.64,
          0.645,
          0.647,
          0.5710000000000001,
          0.584,
          0.653,
          0.645,
          0.632,
          0.643,
          0.66,
          0.61,
          0.6,
          0.6579999999999999,
          0.648,
          0.65,
          0.652,
          0.6659999999999999,
          0.61,
          0.605,
          0.664,
          0.619,
          0.6659999999999999,
          0.653,
          0.659,
          0.619,
          0.611,
          0.664,
          0.6579999999999999,
          0.653,
          0.637,
          0.647,
          0.596,
          0.5920000000000001,
          0.6579999999999999,
          0.648,
          0.648,
          0.614,
          0.58,
          0.5920000000000001,
          0.5920000000000001,
          0.638,
          0.634,
          0.632,
          0.632,
          0.647,
          0.594,
          0.5820000000000001,
          0.635,
          0.62,
          0.584,
          0.649,
          0.6509999999999999,
          0.602,
          0.594,
          0.6559999999999999,
          0.647,
          0.642,
          0.634,
          0.638,
          0.596,
          0.565,
          0.556,
          0.578,
          0.599,
          0.602,
          0.593,
          0.5589999999999999,
          0.573,
          0.61,
          0.62,
          0.62,
          0.621,
          0.648,
          0.594,
          0.595,
          0.6409999999999999,
          0.597,
          0.606,
          0.633,
          0.655,
          0.614,
          0.596,
          0.649,
          0.642,
          0.637,
          0.631,
          0.645,
          0.59,
          0.598,
          0.64,
          0.635,
          0.639,
          0.622,
          0.633,
          0.568,
          0.532,
          0.599,
          0.662,
          0.63,
          0.5870000000000001,
          0.65,
          0.597,
          0.5670000000000001,
          0.655,
          0.6459999999999999,
          0.631,
          0.633,
          0.6459999999999999,
          0.597,
          0.588,
          0.653,
          0.645,
          0.64,
          0.602,
          0.626,
          0.594,
          0.58,
          0.598,
          0.597,
          0.654,
          0.638,
          0.63,
          0.568,
          0.5770000000000001,
          0.638,
          0.638,
          0.628,
          0.625,
          0.626,
          0.573,
          0.563,
          0.61,
          0.612,
          0.589,
          0.584,
          0.624,
          0.5720000000000001,
          0.5710000000000001,
          0.614,
          0.596,
          0.605,
          0.636,
          0.617,
          0.581,
          0.5870000000000001,
          0.654,
          0.633,
          0.65,
          0.635,
          0.633,
          0.609,
          0.615,
          0.6709999999999999,
          0.659,
          0.648,
          0.578,
          0.62,
          0.602,
          0.5770000000000001,
          0.601,
          0.622,
          0.633,
          0.616,
          0.629,
          0.599,
          0.589,
          0.644,
          0.631,
          0.645,
          0.634,
          0.633,
          0.598,
          0.611,
          0.652,
          0.639,
          0.637,
          0.636,
          0.638,
          0.597,
          0.601,
          0.647,
          0.6459999999999999,
          0.6409999999999999,
          0.632,
          0.648,
          0.584,
          0.5870000000000001,
          0.636,
          0.6409999999999999,
          0.649,
          0.624,
          0.644,
          0.57,
          0.5820000000000001,
          0.639,
          0.634,
          0.638,
          0.633,
          0.652,
          0.603,
          0.597,
          0.653,
          0.648,
          0.654,
          0.649,
          0.645,
          0.603,
          0.618,
          0.6579999999999999,
          0.65,
          0.6509999999999999,
          0.65,
          0.642,
          0.594,
          0.594,
          0.615,
          0.655,
          0.649,
          0.637,
          0.632,
          0.608,
          0.585,
          0.632,
          0.625,
          0.644,
          0.647,
          0.6809999999999999,
          0.64,
          0.647,
          0.644,
          0.649,
          0.643,
          0.6409999999999999,
          0.653,
          0.589,
          0.5720000000000001,
          0.564,
          0.593,
          0.616,
          0.62,
          0.64,
          0.589,
          0.595,
          0.649,
          0.644,
          0.654,
          0.642,
          0.649,
          0.585,
          0.578,
          0.614,
          0.648,
          0.643,
          0.599,
          0.649,
          0.599,
          0.588,
          0.643,
          0.6409999999999999,
          0.638,
          0.625,
          0.625,
          0.589,
          0.596,
          0.645,
          0.643,
          0.018000000000000002,
          0.209,
          0.309,
          0.5760000000000001,
          0.605,
          0.669,
          0.669,
          0.655,
          0.647,
          0.665,
          0.62,
          0.635,
          0.606,
          0.6659999999999999,
          0.669,
          0.67,
          0.6659999999999999,
          0.633,
          0.62,
          0.674,
          0.629,
          0.588,
          0.653,
          0.6559999999999999,
          0.617,
          0.613,
          0.659,
          0.632,
          0.599,
          0.659,
          0.63,
          0.618,
          0.599,
          0.662,
          0.6509999999999999,
          0.6559999999999999,
          0.653,
          0.65,
          0.599,
          0.6,
          0.6629999999999999,
          0.652,
          0.647,
          0.642,
          0.647,
          0.597,
          0.583,
          0.648,
          0.639,
          0.636,
          0.63,
          0.654,
          0.601,
          0.593,
          0.648,
          0.644,
          0.634,
          0.636,
          0.6559999999999999,
          0.611,
          0.606,
          0.6659999999999999,
          0.66,
          0.6559999999999999,
          0.653,
          0.648,
          0.608,
          0.601,
          0.662,
          0.6579999999999999,
          0.6559999999999999,
          0.649,
          0.653,
          0.602,
          0.598,
          0.65,
          0.649,
          0.647,
          0.638,
          0.648,
          0.589,
          0.57,
          0.59,
          0.621,
          0.665,
          0.6509999999999999,
          0.653,
          0.617,
          0.619,
          0.66,
          0.659,
          0.66,
          0.652,
          0.6509999999999999,
          0.615,
          0.606,
          0.653,
          0.6559999999999999,
          0.65,
          0.655,
          0.659,
          0.601,
          0.598,
          0.654,
          0.6409999999999999,
          0.64,
          0.631,
          0.541,
          0.515,
          0.512,
          0.529,
          0.522,
          0.5539999999999999,
          0.547,
          0.564,
          0.557,
          0.5529999999999999,
          0.5870000000000001,
          0.594,
          0.607,
          0.611,
          0.617,
          0.591,
          0.588,
          0.611,
          0.605,
          0.596,
          0.598,
          0.6,
          0.596,
          0.6,
          0.629,
          0.634,
          0.623,
          0.624,
          0.625,
          0.593,
          0.595,
          0.627,
          0.624,
          0.617,
          0.616,
          0.633,
          0.5920000000000001,
          0.594,
          0.625,
          0.616,
          0.622,
          0.617,
          0.612,
          0.615,
          0.607,
          0.637,
          0.637,
          0.634,
          0.563,
          0.648,
          0.607,
          0.604,
          0.633,
          0.629,
          0.628,
          0.581,
          0.623,
          0.593,
          0.6,
          0.628,
          0.623,
          0.625,
          0.618,
          0.629,
          0.5920000000000001,
          0.584,
          0.615,
          0.638,
          0.638,
          0.639,
          0.657,
          0.617,
          0.621,
          0.649,
          0.655,
          0.635,
          0.655,
          0.647,
          0.62,
          0.617,
          0.631,
          0.65,
          0.649,
          0.653,
          0.654,
          0.623,
          0.616,
          0.645,
          0.664,
          0.6609999999999999,
          0.662,
          0.6579999999999999,
          0.618,
          0.622,
          0.657,
          0.649,
          0.645,
          0.654,
          0.662,
          0.627,
          0.628,
          0.662,
          0.655
         ]
        },
        {
         "marker": {
          "color": "LightSkyBlue",
          "line": {
           "color": "red",
           "width": 2
          },
          "opacity": 0.5,
          "size": 6
         },
         "mode": "markers",
         "showlegend": false,
         "type": "scatter",
         "x": [
          "2019-12-04T00:00:00+00:00",
          "2019-12-05T00:00:00+00:00"
         ],
         "y": [
          0.018000000000000002,
          0.209
         ]
        }
       ],
       "layout": {
        "template": {
         "data": {
          "bar": [
           {
            "error_x": {
             "color": "#2a3f5f"
            },
            "error_y": {
             "color": "#2a3f5f"
            },
            "marker": {
             "line": {
              "color": "#E5ECF6",
              "width": 0.5
             },
             "pattern": {
              "fillmode": "overlay",
              "size": 10,
              "solidity": 0.2
             }
            },
            "type": "bar"
           }
          ],
          "barpolar": [
           {
            "marker": {
             "line": {
              "color": "#E5ECF6",
              "width": 0.5
             },
             "pattern": {
              "fillmode": "overlay",
              "size": 10,
              "solidity": 0.2
             }
            },
            "type": "barpolar"
           }
          ],
          "carpet": [
           {
            "aaxis": {
             "endlinecolor": "#2a3f5f",
             "gridcolor": "white",
             "linecolor": "white",
             "minorgridcolor": "white",
             "startlinecolor": "#2a3f5f"
            },
            "baxis": {
             "endlinecolor": "#2a3f5f",
             "gridcolor": "white",
             "linecolor": "white",
             "minorgridcolor": "white",
             "startlinecolor": "#2a3f5f"
            },
            "type": "carpet"
           }
          ],
          "choropleth": [
           {
            "colorbar": {
             "outlinewidth": 0,
             "ticks": ""
            },
            "type": "choropleth"
           }
          ],
          "contour": [
           {
            "colorbar": {
             "outlinewidth": 0,
             "ticks": ""
            },
            "colorscale": [
             [
              0,
              "#0d0887"
             ],
             [
              0.1111111111111111,
              "#46039f"
             ],
             [
              0.2222222222222222,
              "#7201a8"
             ],
             [
              0.3333333333333333,
              "#9c179e"
             ],
             [
              0.4444444444444444,
              "#bd3786"
             ],
             [
              0.5555555555555556,
              "#d8576b"
             ],
             [
              0.6666666666666666,
              "#ed7953"
             ],
             [
              0.7777777777777778,
              "#fb9f3a"
             ],
             [
              0.8888888888888888,
              "#fdca26"
             ],
             [
              1,
              "#f0f921"
             ]
            ],
            "type": "contour"
           }
          ],
          "contourcarpet": [
           {
            "colorbar": {
             "outlinewidth": 0,
             "ticks": ""
            },
            "type": "contourcarpet"
           }
          ],
          "heatmap": [
           {
            "colorbar": {
             "outlinewidth": 0,
             "ticks": ""
            },
            "colorscale": [
             [
              0,
              "#0d0887"
             ],
             [
              0.1111111111111111,
              "#46039f"
             ],
             [
              0.2222222222222222,
              "#7201a8"
             ],
             [
              0.3333333333333333,
              "#9c179e"
             ],
             [
              0.4444444444444444,
              "#bd3786"
             ],
             [
              0.5555555555555556,
              "#d8576b"
             ],
             [
              0.6666666666666666,
              "#ed7953"
             ],
             [
              0.7777777777777778,
              "#fb9f3a"
             ],
             [
              0.8888888888888888,
              "#fdca26"
             ],
             [
              1,
              "#f0f921"
             ]
            ],
            "type": "heatmap"
           }
          ],
          "heatmapgl": [
           {
            "colorbar": {
             "outlinewidth": 0,
             "ticks": ""
            },
            "colorscale": [
             [
              0,
              "#0d0887"
             ],
             [
              0.1111111111111111,
              "#46039f"
             ],
             [
              0.2222222222222222,
              "#7201a8"
             ],
             [
              0.3333333333333333,
              "#9c179e"
             ],
             [
              0.4444444444444444,
              "#bd3786"
             ],
             [
              0.5555555555555556,
              "#d8576b"
             ],
             [
              0.6666666666666666,
              "#ed7953"
             ],
             [
              0.7777777777777778,
              "#fb9f3a"
             ],
             [
              0.8888888888888888,
              "#fdca26"
             ],
             [
              1,
              "#f0f921"
             ]
            ],
            "type": "heatmapgl"
           }
          ],
          "histogram": [
           {
            "marker": {
             "pattern": {
              "fillmode": "overlay",
              "size": 10,
              "solidity": 0.2
             }
            },
            "type": "histogram"
           }
          ],
          "histogram2d": [
           {
            "colorbar": {
             "outlinewidth": 0,
             "ticks": ""
            },
            "colorscale": [
             [
              0,
              "#0d0887"
             ],
             [
              0.1111111111111111,
              "#46039f"
             ],
             [
              0.2222222222222222,
              "#7201a8"
             ],
             [
              0.3333333333333333,
              "#9c179e"
             ],
             [
              0.4444444444444444,
              "#bd3786"
             ],
             [
              0.5555555555555556,
              "#d8576b"
             ],
             [
              0.6666666666666666,
              "#ed7953"
             ],
             [
              0.7777777777777778,
              "#fb9f3a"
             ],
             [
              0.8888888888888888,
              "#fdca26"
             ],
             [
              1,
              "#f0f921"
             ]
            ],
            "type": "histogram2d"
           }
          ],
          "histogram2dcontour": [
           {
            "colorbar": {
             "outlinewidth": 0,
             "ticks": ""
            },
            "colorscale": [
             [
              0,
              "#0d0887"
             ],
             [
              0.1111111111111111,
              "#46039f"
             ],
             [
              0.2222222222222222,
              "#7201a8"
             ],
             [
              0.3333333333333333,
              "#9c179e"
             ],
             [
              0.4444444444444444,
              "#bd3786"
             ],
             [
              0.5555555555555556,
              "#d8576b"
             ],
             [
              0.6666666666666666,
              "#ed7953"
             ],
             [
              0.7777777777777778,
              "#fb9f3a"
             ],
             [
              0.8888888888888888,
              "#fdca26"
             ],
             [
              1,
              "#f0f921"
             ]
            ],
            "type": "histogram2dcontour"
           }
          ],
          "mesh3d": [
           {
            "colorbar": {
             "outlinewidth": 0,
             "ticks": ""
            },
            "type": "mesh3d"
           }
          ],
          "parcoords": [
           {
            "line": {
             "colorbar": {
              "outlinewidth": 0,
              "ticks": ""
             }
            },
            "type": "parcoords"
           }
          ],
          "pie": [
           {
            "automargin": true,
            "type": "pie"
           }
          ],
          "scatter": [
           {
            "marker": {
             "colorbar": {
              "outlinewidth": 0,
              "ticks": ""
             }
            },
            "type": "scatter"
           }
          ],
          "scatter3d": [
           {
            "line": {
             "colorbar": {
              "outlinewidth": 0,
              "ticks": ""
             }
            },
            "marker": {
             "colorbar": {
              "outlinewidth": 0,
              "ticks": ""
             }
            },
            "type": "scatter3d"
           }
          ],
          "scattercarpet": [
           {
            "marker": {
             "colorbar": {
              "outlinewidth": 0,
              "ticks": ""
             }
            },
            "type": "scattercarpet"
           }
          ],
          "scattergeo": [
           {
            "marker": {
             "colorbar": {
              "outlinewidth": 0,
              "ticks": ""
             }
            },
            "type": "scattergeo"
           }
          ],
          "scattergl": [
           {
            "marker": {
             "colorbar": {
              "outlinewidth": 0,
              "ticks": ""
             }
            },
            "type": "scattergl"
           }
          ],
          "scattermapbox": [
           {
            "marker": {
             "colorbar": {
              "outlinewidth": 0,
              "ticks": ""
             }
            },
            "type": "scattermapbox"
           }
          ],
          "scatterpolar": [
           {
            "marker": {
             "colorbar": {
              "outlinewidth": 0,
              "ticks": ""
             }
            },
            "type": "scatterpolar"
           }
          ],
          "scatterpolargl": [
           {
            "marker": {
             "colorbar": {
              "outlinewidth": 0,
              "ticks": ""
             }
            },
            "type": "scatterpolargl"
           }
          ],
          "scatterternary": [
           {
            "marker": {
             "colorbar": {
              "outlinewidth": 0,
              "ticks": ""
             }
            },
            "type": "scatterternary"
           }
          ],
          "surface": [
           {
            "colorbar": {
             "outlinewidth": 0,
             "ticks": ""
            },
            "colorscale": [
             [
              0,
              "#0d0887"
             ],
             [
              0.1111111111111111,
              "#46039f"
             ],
             [
              0.2222222222222222,
              "#7201a8"
             ],
             [
              0.3333333333333333,
              "#9c179e"
             ],
             [
              0.4444444444444444,
              "#bd3786"
             ],
             [
              0.5555555555555556,
              "#d8576b"
             ],
             [
              0.6666666666666666,
              "#ed7953"
             ],
             [
              0.7777777777777778,
              "#fb9f3a"
             ],
             [
              0.8888888888888888,
              "#fdca26"
             ],
             [
              1,
              "#f0f921"
             ]
            ],
            "type": "surface"
           }
          ],
          "table": [
           {
            "cells": {
             "fill": {
              "color": "#EBF0F8"
             },
             "line": {
              "color": "white"
             }
            },
            "header": {
             "fill": {
              "color": "#C8D4E3"
             },
             "line": {
              "color": "white"
             }
            },
            "type": "table"
           }
          ]
         },
         "layout": {
          "annotationdefaults": {
           "arrowcolor": "#2a3f5f",
           "arrowhead": 0,
           "arrowwidth": 1
          },
          "autotypenumbers": "strict",
          "coloraxis": {
           "colorbar": {
            "outlinewidth": 0,
            "ticks": ""
           }
          },
          "colorscale": {
           "diverging": [
            [
             0,
             "#8e0152"
            ],
            [
             0.1,
             "#c51b7d"
            ],
            [
             0.2,
             "#de77ae"
            ],
            [
             0.3,
             "#f1b6da"
            ],
            [
             0.4,
             "#fde0ef"
            ],
            [
             0.5,
             "#f7f7f7"
            ],
            [
             0.6,
             "#e6f5d0"
            ],
            [
             0.7,
             "#b8e186"
            ],
            [
             0.8,
             "#7fbc41"
            ],
            [
             0.9,
             "#4d9221"
            ],
            [
             1,
             "#276419"
            ]
           ],
           "sequential": [
            [
             0,
             "#0d0887"
            ],
            [
             0.1111111111111111,
             "#46039f"
            ],
            [
             0.2222222222222222,
             "#7201a8"
            ],
            [
             0.3333333333333333,
             "#9c179e"
            ],
            [
             0.4444444444444444,
             "#bd3786"
            ],
            [
             0.5555555555555556,
             "#d8576b"
            ],
            [
             0.6666666666666666,
             "#ed7953"
            ],
            [
             0.7777777777777778,
             "#fb9f3a"
            ],
            [
             0.8888888888888888,
             "#fdca26"
            ],
            [
             1,
             "#f0f921"
            ]
           ],
           "sequentialminus": [
            [
             0,
             "#0d0887"
            ],
            [
             0.1111111111111111,
             "#46039f"
            ],
            [
             0.2222222222222222,
             "#7201a8"
            ],
            [
             0.3333333333333333,
             "#9c179e"
            ],
            [
             0.4444444444444444,
             "#bd3786"
            ],
            [
             0.5555555555555556,
             "#d8576b"
            ],
            [
             0.6666666666666666,
             "#ed7953"
            ],
            [
             0.7777777777777778,
             "#fb9f3a"
            ],
            [
             0.8888888888888888,
             "#fdca26"
            ],
            [
             1,
             "#f0f921"
            ]
           ]
          },
          "colorway": [
           "#636efa",
           "#EF553B",
           "#00cc96",
           "#ab63fa",
           "#FFA15A",
           "#19d3f3",
           "#FF6692",
           "#B6E880",
           "#FF97FF",
           "#FECB52"
          ],
          "font": {
           "color": "#2a3f5f"
          },
          "geo": {
           "bgcolor": "white",
           "lakecolor": "white",
           "landcolor": "#E5ECF6",
           "showlakes": true,
           "showland": true,
           "subunitcolor": "white"
          },
          "hoverlabel": {
           "align": "left"
          },
          "hovermode": "closest",
          "mapbox": {
           "style": "light"
          },
          "paper_bgcolor": "white",
          "plot_bgcolor": "#E5ECF6",
          "polar": {
           "angularaxis": {
            "gridcolor": "white",
            "linecolor": "white",
            "ticks": ""
           },
           "bgcolor": "#E5ECF6",
           "radialaxis": {
            "gridcolor": "white",
            "linecolor": "white",
            "ticks": ""
           }
          },
          "scene": {
           "xaxis": {
            "backgroundcolor": "#E5ECF6",
            "gridcolor": "white",
            "gridwidth": 2,
            "linecolor": "white",
            "showbackground": true,
            "ticks": "",
            "zerolinecolor": "white"
           },
           "yaxis": {
            "backgroundcolor": "#E5ECF6",
            "gridcolor": "white",
            "gridwidth": 2,
            "linecolor": "white",
            "showbackground": true,
            "ticks": "",
            "zerolinecolor": "white"
           },
           "zaxis": {
            "backgroundcolor": "#E5ECF6",
            "gridcolor": "white",
            "gridwidth": 2,
            "linecolor": "white",
            "showbackground": true,
            "ticks": "",
            "zerolinecolor": "white"
           }
          },
          "shapedefaults": {
           "line": {
            "color": "#2a3f5f"
           }
          },
          "ternary": {
           "aaxis": {
            "gridcolor": "white",
            "linecolor": "white",
            "ticks": ""
           },
           "baxis": {
            "gridcolor": "white",
            "linecolor": "white",
            "ticks": ""
           },
           "bgcolor": "#E5ECF6",
           "caxis": {
            "gridcolor": "white",
            "linecolor": "white",
            "ticks": ""
           }
          },
          "title": {
           "x": 0.05
          },
          "xaxis": {
           "automargin": true,
           "gridcolor": "white",
           "linecolor": "white",
           "ticks": "",
           "title": {
            "standoff": 15
           },
           "zerolinecolor": "white",
           "zerolinewidth": 2
          },
          "yaxis": {
           "automargin": true,
           "gridcolor": "white",
           "linecolor": "white",
           "ticks": "",
           "title": {
            "standoff": 15
           },
           "zerolinecolor": "white",
           "zerolinewidth": 2
          }
         }
        },
        "title": {
         "text": " Autoregression Plot for site MLA on flow direct and device Desktop"
        }
       }
      },
      "text/html": [
       "<div>                            <div id=\"e2b9d232-4557-4660-88dc-69291096dfa5\" class=\"plotly-graph-div\" style=\"height:525px; width:100%;\"></div>            <script type=\"text/javascript\">                require([\"plotly\"], function(Plotly) {                    window.PLOTLYENV=window.PLOTLYENV || {};                                    if (document.getElementById(\"e2b9d232-4557-4660-88dc-69291096dfa5\")) {                    Plotly.newPlot(                        \"e2b9d232-4557-4660-88dc-69291096dfa5\",                        [{\"mode\":\"lines\",\"name\":\"TOTAL\",\"type\":\"scatter\",\"x\":[\"2019-03-01T00:00:00+00:00\",\"2019-03-02T00:00:00+00:00\",\"2019-03-03T00:00:00+00:00\",\"2019-03-04T00:00:00+00:00\",\"2019-03-05T00:00:00+00:00\",\"2019-03-06T00:00:00+00:00\",\"2019-03-07T00:00:00+00:00\",\"2019-03-08T00:00:00+00:00\",\"2019-03-09T00:00:00+00:00\",\"2019-03-10T00:00:00+00:00\",\"2019-03-11T00:00:00+00:00\",\"2019-03-12T00:00:00+00:00\",\"2019-03-13T00:00:00+00:00\",\"2019-03-14T00:00:00+00:00\",\"2019-03-15T00:00:00+00:00\",\"2019-03-16T00:00:00+00:00\",\"2019-03-17T00:00:00+00:00\",\"2019-03-18T00:00:00+00:00\",\"2019-03-19T00:00:00+00:00\",\"2019-03-20T00:00:00+00:00\",\"2019-03-21T00:00:00+00:00\",\"2019-03-22T00:00:00+00:00\",\"2019-03-23T00:00:00+00:00\",\"2019-03-24T00:00:00+00:00\",\"2019-03-25T00:00:00+00:00\",\"2019-03-26T00:00:00+00:00\",\"2019-03-27T00:00:00+00:00\",\"2019-03-28T00:00:00+00:00\",\"2019-03-29T00:00:00+00:00\",\"2019-03-30T00:00:00+00:00\",\"2019-03-31T00:00:00+00:00\",\"2019-04-01T00:00:00+00:00\",\"2019-04-02T00:00:00+00:00\",\"2019-04-03T00:00:00+00:00\",\"2019-04-04T00:00:00+00:00\",\"2019-04-05T00:00:00+00:00\",\"2019-04-06T00:00:00+00:00\",\"2019-04-07T00:00:00+00:00\",\"2019-04-08T00:00:00+00:00\",\"2019-04-09T00:00:00+00:00\",\"2019-04-10T00:00:00+00:00\",\"2019-04-11T00:00:00+00:00\",\"2019-04-12T00:00:00+00:00\",\"2019-04-13T00:00:00+00:00\",\"2019-04-14T00:00:00+00:00\",\"2019-04-15T00:00:00+00:00\",\"2019-04-16T00:00:00+00:00\",\"2019-04-17T00:00:00+00:00\",\"2019-04-18T00:00:00+00:00\",\"2019-04-19T00:00:00+00:00\",\"2019-04-20T00:00:00+00:00\",\"2019-04-21T00:00:00+00:00\",\"2019-04-22T00:00:00+00:00\",\"2019-04-23T00:00:00+00:00\",\"2019-04-24T00:00:00+00:00\",\"2019-04-25T00:00:00+00:00\",\"2019-04-26T00:00:00+00:00\",\"2019-04-27T00:00:00+00:00\",\"2019-04-28T00:00:00+00:00\",\"2019-04-29T00:00:00+00:00\",\"2019-04-30T00:00:00+00:00\",\"2019-05-01T00:00:00+00:00\",\"2019-05-02T00:00:00+00:00\",\"2019-05-03T00:00:00+00:00\",\"2019-05-04T00:00:00+00:00\",\"2019-05-05T00:00:00+00:00\",\"2019-05-06T00:00:00+00:00\",\"2019-05-07T00:00:00+00:00\",\"2019-05-08T00:00:00+00:00\",\"2019-05-09T00:00:00+00:00\",\"2019-05-10T00:00:00+00:00\",\"2019-05-11T00:00:00+00:00\",\"2019-05-12T00:00:00+00:00\",\"2019-05-13T00:00:00+00:00\",\"2019-05-14T00:00:00+00:00\",\"2019-05-15T00:00:00+00:00\",\"2019-05-16T00:00:00+00:00\",\"2019-05-17T00:00:00+00:00\",\"2019-05-18T00:00:00+00:00\",\"2019-05-19T00:00:00+00:00\",\"2019-05-20T00:00:00+00:00\",\"2019-05-21T00:00:00+00:00\",\"2019-05-22T00:00:00+00:00\",\"2019-05-23T00:00:00+00:00\",\"2019-05-24T00:00:00+00:00\",\"2019-05-25T00:00:00+00:00\",\"2019-05-26T00:00:00+00:00\",\"2019-05-27T00:00:00+00:00\",\"2019-05-28T00:00:00+00:00\",\"2019-05-29T00:00:00+00:00\",\"2019-05-30T00:00:00+00:00\",\"2019-05-31T00:00:00+00:00\",\"2019-06-01T00:00:00+00:00\",\"2019-06-02T00:00:00+00:00\",\"2019-06-03T00:00:00+00:00\",\"2019-06-04T00:00:00+00:00\",\"2019-06-05T00:00:00+00:00\",\"2019-06-06T00:00:00+00:00\",\"2019-06-07T00:00:00+00:00\",\"2019-06-08T00:00:00+00:00\",\"2019-06-09T00:00:00+00:00\",\"2019-06-10T00:00:00+00:00\",\"2019-06-11T00:00:00+00:00\",\"2019-06-12T00:00:00+00:00\",\"2019-06-13T00:00:00+00:00\",\"2019-06-14T00:00:00+00:00\",\"2019-06-15T00:00:00+00:00\",\"2019-06-16T00:00:00+00:00\",\"2019-06-17T00:00:00+00:00\",\"2019-06-18T00:00:00+00:00\",\"2019-06-19T00:00:00+00:00\",\"2019-06-20T00:00:00+00:00\",\"2019-06-21T00:00:00+00:00\",\"2019-06-22T00:00:00+00:00\",\"2019-06-23T00:00:00+00:00\",\"2019-06-24T00:00:00+00:00\",\"2019-06-25T00:00:00+00:00\",\"2019-06-26T00:00:00+00:00\",\"2019-06-27T00:00:00+00:00\",\"2019-06-28T00:00:00+00:00\",\"2019-06-29T00:00:00+00:00\",\"2019-06-30T00:00:00+00:00\",\"2019-07-01T00:00:00+00:00\",\"2019-07-02T00:00:00+00:00\",\"2019-07-03T00:00:00+00:00\",\"2019-07-04T00:00:00+00:00\",\"2019-07-05T00:00:00+00:00\",\"2019-07-06T00:00:00+00:00\",\"2019-07-07T00:00:00+00:00\",\"2019-07-08T00:00:00+00:00\",\"2019-07-09T00:00:00+00:00\",\"2019-07-10T00:00:00+00:00\",\"2019-07-11T00:00:00+00:00\",\"2019-07-12T00:00:00+00:00\",\"2019-07-13T00:00:00+00:00\",\"2019-07-14T00:00:00+00:00\",\"2019-07-15T00:00:00+00:00\",\"2019-07-16T00:00:00+00:00\",\"2019-07-17T00:00:00+00:00\",\"2019-07-18T00:00:00+00:00\",\"2019-07-19T00:00:00+00:00\",\"2019-07-20T00:00:00+00:00\",\"2019-07-21T00:00:00+00:00\",\"2019-07-22T00:00:00+00:00\",\"2019-07-23T00:00:00+00:00\",\"2019-07-24T00:00:00+00:00\",\"2019-07-25T00:00:00+00:00\",\"2019-07-26T00:00:00+00:00\",\"2019-07-27T00:00:00+00:00\",\"2019-07-28T00:00:00+00:00\",\"2019-07-29T00:00:00+00:00\",\"2019-07-30T00:00:00+00:00\",\"2019-07-31T00:00:00+00:00\",\"2019-08-01T00:00:00+00:00\",\"2019-08-02T00:00:00+00:00\",\"2019-08-03T00:00:00+00:00\",\"2019-08-04T00:00:00+00:00\",\"2019-08-05T00:00:00+00:00\",\"2019-08-06T00:00:00+00:00\",\"2019-08-07T00:00:00+00:00\",\"2019-08-08T00:00:00+00:00\",\"2019-08-09T00:00:00+00:00\",\"2019-08-10T00:00:00+00:00\",\"2019-08-11T00:00:00+00:00\",\"2019-08-12T00:00:00+00:00\",\"2019-08-13T00:00:00+00:00\",\"2019-08-14T00:00:00+00:00\",\"2019-08-15T00:00:00+00:00\",\"2019-08-16T00:00:00+00:00\",\"2019-08-17T00:00:00+00:00\",\"2019-08-18T00:00:00+00:00\",\"2019-08-19T00:00:00+00:00\",\"2019-08-20T00:00:00+00:00\",\"2019-08-21T00:00:00+00:00\",\"2019-08-22T00:00:00+00:00\",\"2019-08-23T00:00:00+00:00\",\"2019-08-24T00:00:00+00:00\",\"2019-08-25T00:00:00+00:00\",\"2019-08-26T00:00:00+00:00\",\"2019-08-27T00:00:00+00:00\",\"2019-08-28T00:00:00+00:00\",\"2019-08-29T00:00:00+00:00\",\"2019-08-30T00:00:00+00:00\",\"2019-08-31T00:00:00+00:00\",\"2019-09-01T00:00:00+00:00\",\"2019-09-02T00:00:00+00:00\",\"2019-09-03T00:00:00+00:00\",\"2019-09-04T00:00:00+00:00\",\"2019-09-05T00:00:00+00:00\",\"2019-09-06T00:00:00+00:00\",\"2019-09-07T00:00:00+00:00\",\"2019-09-08T00:00:00+00:00\",\"2019-09-09T00:00:00+00:00\",\"2019-09-10T00:00:00+00:00\",\"2019-09-11T00:00:00+00:00\",\"2019-09-12T00:00:00+00:00\",\"2019-09-13T00:00:00+00:00\",\"2019-09-14T00:00:00+00:00\",\"2019-09-15T00:00:00+00:00\",\"2019-09-16T00:00:00+00:00\",\"2019-09-17T00:00:00+00:00\",\"2019-09-18T00:00:00+00:00\",\"2019-09-19T00:00:00+00:00\",\"2019-09-20T00:00:00+00:00\",\"2019-09-21T00:00:00+00:00\",\"2019-09-22T00:00:00+00:00\",\"2019-09-23T00:00:00+00:00\",\"2019-09-24T00:00:00+00:00\",\"2019-09-25T00:00:00+00:00\",\"2019-09-26T00:00:00+00:00\",\"2019-09-27T00:00:00+00:00\",\"2019-09-28T00:00:00+00:00\",\"2019-09-29T00:00:00+00:00\",\"2019-09-30T00:00:00+00:00\",\"2019-10-01T00:00:00+00:00\",\"2019-10-02T00:00:00+00:00\",\"2019-10-03T00:00:00+00:00\",\"2019-10-04T00:00:00+00:00\",\"2019-10-05T00:00:00+00:00\",\"2019-10-06T00:00:00+00:00\",\"2019-10-07T00:00:00+00:00\",\"2019-10-08T00:00:00+00:00\",\"2019-10-09T00:00:00+00:00\",\"2019-10-10T00:00:00+00:00\",\"2019-10-11T00:00:00+00:00\",\"2019-10-12T00:00:00+00:00\",\"2019-10-13T00:00:00+00:00\",\"2019-10-14T00:00:00+00:00\",\"2019-10-15T00:00:00+00:00\",\"2019-10-16T00:00:00+00:00\",\"2019-10-17T00:00:00+00:00\",\"2019-10-18T00:00:00+00:00\",\"2019-10-19T00:00:00+00:00\",\"2019-10-20T00:00:00+00:00\",\"2019-10-21T00:00:00+00:00\",\"2019-10-22T00:00:00+00:00\",\"2019-10-23T00:00:00+00:00\",\"2019-10-24T00:00:00+00:00\",\"2019-10-25T00:00:00+00:00\",\"2019-10-26T00:00:00+00:00\",\"2019-10-27T00:00:00+00:00\",\"2019-10-28T00:00:00+00:00\",\"2019-10-29T00:00:00+00:00\",\"2019-10-30T00:00:00+00:00\",\"2019-10-31T00:00:00+00:00\",\"2019-11-01T00:00:00+00:00\",\"2019-11-02T00:00:00+00:00\",\"2019-11-03T00:00:00+00:00\",\"2019-11-04T00:00:00+00:00\",\"2019-11-05T00:00:00+00:00\",\"2019-11-06T00:00:00+00:00\",\"2019-11-07T00:00:00+00:00\",\"2019-11-08T00:00:00+00:00\",\"2019-11-09T00:00:00+00:00\",\"2019-11-10T00:00:00+00:00\",\"2019-11-11T00:00:00+00:00\",\"2019-11-12T00:00:00+00:00\",\"2019-11-13T00:00:00+00:00\",\"2019-11-14T00:00:00+00:00\",\"2019-11-15T00:00:00+00:00\",\"2019-11-16T00:00:00+00:00\",\"2019-11-17T00:00:00+00:00\",\"2019-11-18T00:00:00+00:00\",\"2019-11-19T00:00:00+00:00\",\"2019-11-20T00:00:00+00:00\",\"2019-11-21T00:00:00+00:00\",\"2019-11-22T00:00:00+00:00\",\"2019-11-23T00:00:00+00:00\",\"2019-11-24T00:00:00+00:00\",\"2019-11-25T00:00:00+00:00\",\"2019-11-26T00:00:00+00:00\",\"2019-11-27T00:00:00+00:00\",\"2019-11-28T00:00:00+00:00\",\"2019-11-29T00:00:00+00:00\",\"2019-11-30T00:00:00+00:00\",\"2019-12-01T00:00:00+00:00\",\"2019-12-02T00:00:00+00:00\",\"2019-12-03T00:00:00+00:00\",\"2019-12-04T00:00:00+00:00\",\"2019-12-05T00:00:00+00:00\",\"2019-12-06T00:00:00+00:00\",\"2019-12-07T00:00:00+00:00\",\"2019-12-08T00:00:00+00:00\",\"2019-12-09T00:00:00+00:00\",\"2019-12-10T00:00:00+00:00\",\"2019-12-11T00:00:00+00:00\",\"2019-12-12T00:00:00+00:00\",\"2019-12-13T00:00:00+00:00\",\"2019-12-14T00:00:00+00:00\",\"2019-12-15T00:00:00+00:00\",\"2019-12-16T00:00:00+00:00\",\"2019-12-17T00:00:00+00:00\",\"2019-12-18T00:00:00+00:00\",\"2019-12-19T00:00:00+00:00\",\"2019-12-20T00:00:00+00:00\",\"2019-12-21T00:00:00+00:00\",\"2019-12-22T00:00:00+00:00\",\"2019-12-23T00:00:00+00:00\",\"2019-12-24T00:00:00+00:00\",\"2019-12-25T00:00:00+00:00\",\"2019-12-26T00:00:00+00:00\",\"2019-12-27T00:00:00+00:00\",\"2019-12-28T00:00:00+00:00\",\"2019-12-29T00:00:00+00:00\",\"2019-12-30T00:00:00+00:00\",\"2019-12-31T00:00:00+00:00\",\"2020-01-01T00:00:00+00:00\",\"2020-01-02T00:00:00+00:00\",\"2020-01-03T00:00:00+00:00\",\"2020-01-04T00:00:00+00:00\",\"2020-01-05T00:00:00+00:00\",\"2020-01-06T00:00:00+00:00\",\"2020-01-07T00:00:00+00:00\",\"2020-01-08T00:00:00+00:00\",\"2020-01-09T00:00:00+00:00\",\"2020-01-10T00:00:00+00:00\",\"2020-01-11T00:00:00+00:00\",\"2020-01-12T00:00:00+00:00\",\"2020-01-13T00:00:00+00:00\",\"2020-01-14T00:00:00+00:00\",\"2020-01-15T00:00:00+00:00\",\"2020-01-16T00:00:00+00:00\",\"2020-01-17T00:00:00+00:00\",\"2020-01-18T00:00:00+00:00\",\"2020-01-19T00:00:00+00:00\",\"2020-01-20T00:00:00+00:00\",\"2020-01-21T00:00:00+00:00\",\"2020-01-22T00:00:00+00:00\",\"2020-01-23T00:00:00+00:00\",\"2020-01-24T00:00:00+00:00\",\"2020-01-25T00:00:00+00:00\",\"2020-01-26T00:00:00+00:00\",\"2020-01-27T00:00:00+00:00\",\"2020-01-28T00:00:00+00:00\",\"2020-01-29T00:00:00+00:00\",\"2020-01-30T00:00:00+00:00\",\"2020-01-31T00:00:00+00:00\",\"2020-02-01T00:00:00+00:00\",\"2020-02-02T00:00:00+00:00\",\"2020-02-03T00:00:00+00:00\",\"2020-02-04T00:00:00+00:00\",\"2020-02-05T00:00:00+00:00\",\"2020-02-06T00:00:00+00:00\",\"2020-02-07T00:00:00+00:00\",\"2020-02-08T00:00:00+00:00\",\"2020-02-09T00:00:00+00:00\",\"2020-02-10T00:00:00+00:00\",\"2020-02-11T00:00:00+00:00\",\"2020-02-12T00:00:00+00:00\",\"2020-02-13T00:00:00+00:00\",\"2020-02-14T00:00:00+00:00\",\"2020-02-15T00:00:00+00:00\",\"2020-02-16T00:00:00+00:00\",\"2020-02-17T00:00:00+00:00\",\"2020-02-18T00:00:00+00:00\",\"2020-02-19T00:00:00+00:00\",\"2020-02-20T00:00:00+00:00\",\"2020-02-21T00:00:00+00:00\",\"2020-02-22T00:00:00+00:00\",\"2020-02-23T00:00:00+00:00\",\"2020-02-24T00:00:00+00:00\",\"2020-02-25T00:00:00+00:00\",\"2020-02-26T00:00:00+00:00\",\"2020-02-27T00:00:00+00:00\",\"2020-02-28T00:00:00+00:00\",\"2020-02-29T00:00:00+00:00\",\"2020-03-01T00:00:00+00:00\",\"2020-03-02T00:00:00+00:00\",\"2020-03-03T00:00:00+00:00\",\"2020-03-04T00:00:00+00:00\",\"2020-03-05T00:00:00+00:00\",\"2020-03-06T00:00:00+00:00\",\"2020-03-07T00:00:00+00:00\",\"2020-03-08T00:00:00+00:00\",\"2020-03-09T00:00:00+00:00\",\"2020-03-10T00:00:00+00:00\",\"2020-03-11T00:00:00+00:00\",\"2020-03-12T00:00:00+00:00\",\"2020-03-13T00:00:00+00:00\",\"2020-03-14T00:00:00+00:00\",\"2020-03-15T00:00:00+00:00\",\"2020-03-16T00:00:00+00:00\",\"2020-03-17T00:00:00+00:00\",\"2020-03-18T00:00:00+00:00\",\"2020-03-19T00:00:00+00:00\",\"2020-03-20T00:00:00+00:00\",\"2020-03-21T00:00:00+00:00\",\"2020-03-22T00:00:00+00:00\",\"2020-03-23T00:00:00+00:00\",\"2020-03-24T00:00:00+00:00\",\"2020-03-25T00:00:00+00:00\",\"2020-03-26T00:00:00+00:00\",\"2020-03-27T00:00:00+00:00\",\"2020-03-28T00:00:00+00:00\",\"2020-03-29T00:00:00+00:00\",\"2020-03-30T00:00:00+00:00\",\"2020-03-31T00:00:00+00:00\",\"2020-04-01T00:00:00+00:00\",\"2020-04-02T00:00:00+00:00\",\"2020-04-03T00:00:00+00:00\",\"2020-04-04T00:00:00+00:00\",\"2020-04-05T00:00:00+00:00\",\"2020-04-06T00:00:00+00:00\",\"2020-04-07T00:00:00+00:00\",\"2020-04-08T00:00:00+00:00\",\"2020-04-09T00:00:00+00:00\",\"2020-04-10T00:00:00+00:00\",\"2020-04-11T00:00:00+00:00\",\"2020-04-12T00:00:00+00:00\",\"2020-04-13T00:00:00+00:00\",\"2020-04-14T00:00:00+00:00\",\"2020-04-15T00:00:00+00:00\",\"2020-04-16T00:00:00+00:00\",\"2020-04-17T00:00:00+00:00\",\"2020-04-18T00:00:00+00:00\",\"2020-04-19T00:00:00+00:00\",\"2020-04-20T00:00:00+00:00\",\"2020-04-21T00:00:00+00:00\",\"2020-04-22T00:00:00+00:00\",\"2020-04-23T00:00:00+00:00\",\"2020-04-24T00:00:00+00:00\",\"2020-04-25T00:00:00+00:00\",\"2020-04-26T00:00:00+00:00\",\"2020-04-27T00:00:00+00:00\",\"2020-04-28T00:00:00+00:00\",\"2020-04-29T00:00:00+00:00\",\"2020-04-30T00:00:00+00:00\",\"2020-05-01T00:00:00+00:00\",\"2020-05-02T00:00:00+00:00\",\"2020-05-03T00:00:00+00:00\",\"2020-05-04T00:00:00+00:00\",\"2020-05-05T00:00:00+00:00\",\"2020-05-06T00:00:00+00:00\",\"2020-05-07T00:00:00+00:00\",\"2020-05-08T00:00:00+00:00\",\"2020-05-09T00:00:00+00:00\",\"2020-05-10T00:00:00+00:00\",\"2020-05-11T00:00:00+00:00\",\"2020-05-12T00:00:00+00:00\",\"2020-05-13T00:00:00+00:00\",\"2020-05-14T00:00:00+00:00\",\"2020-05-15T00:00:00+00:00\",\"2020-05-16T00:00:00+00:00\",\"2020-05-17T00:00:00+00:00\",\"2020-05-18T00:00:00+00:00\",\"2020-05-19T00:00:00+00:00\",\"2020-05-20T00:00:00+00:00\",\"2020-05-21T00:00:00+00:00\",\"2020-05-22T00:00:00+00:00\",\"2020-05-23T00:00:00+00:00\",\"2020-05-24T00:00:00+00:00\",\"2020-05-25T00:00:00+00:00\",\"2020-05-26T00:00:00+00:00\",\"2020-05-27T00:00:00+00:00\",\"2020-05-28T00:00:00+00:00\",\"2020-05-29T00:00:00+00:00\",\"2020-05-30T00:00:00+00:00\",\"2020-05-31T00:00:00+00:00\",\"2020-06-01T00:00:00+00:00\",\"2020-06-02T00:00:00+00:00\",\"2020-06-03T00:00:00+00:00\",\"2020-06-04T00:00:00+00:00\",\"2020-06-05T00:00:00+00:00\",\"2020-06-06T00:00:00+00:00\",\"2020-06-07T00:00:00+00:00\",\"2020-06-08T00:00:00+00:00\",\"2020-06-09T00:00:00+00:00\",\"2020-06-10T00:00:00+00:00\",\"2020-06-11T00:00:00+00:00\",\"2020-06-12T00:00:00+00:00\",\"2020-06-13T00:00:00+00:00\",\"2020-06-14T00:00:00+00:00\",\"2020-06-15T00:00:00+00:00\",\"2020-06-16T00:00:00+00:00\",\"2020-06-17T00:00:00+00:00\",\"2020-06-18T00:00:00+00:00\",\"2020-06-19T00:00:00+00:00\",\"2020-06-20T00:00:00+00:00\",\"2020-06-21T00:00:00+00:00\",\"2020-06-22T00:00:00+00:00\",\"2020-06-23T00:00:00+00:00\",\"2020-06-24T00:00:00+00:00\",\"2020-06-25T00:00:00+00:00\",\"2020-06-26T00:00:00+00:00\",\"2020-06-27T00:00:00+00:00\",\"2020-06-28T00:00:00+00:00\",\"2020-06-29T00:00:00+00:00\",\"2020-06-30T00:00:00+00:00\"],\"y\":[0.6659999999999999,0.609,0.5720000000000001,0.588,0.622,0.665,0.665,0.6659999999999999,0.609,0.604,0.64,0.644,0.64,0.645,0.647,0.5710000000000001,0.584,0.653,0.645,0.632,0.643,0.66,0.61,0.6,0.6579999999999999,0.648,0.65,0.652,0.6659999999999999,0.61,0.605,0.664,0.619,0.6659999999999999,0.653,0.659,0.619,0.611,0.664,0.6579999999999999,0.653,0.637,0.647,0.596,0.5920000000000001,0.6579999999999999,0.648,0.648,0.614,0.58,0.5920000000000001,0.5920000000000001,0.638,0.634,0.632,0.632,0.647,0.594,0.5820000000000001,0.635,0.62,0.584,0.649,0.6509999999999999,0.602,0.594,0.6559999999999999,0.647,0.642,0.634,0.638,0.596,0.565,0.556,0.578,0.599,0.602,0.593,0.5589999999999999,0.573,0.61,0.62,0.62,0.621,0.648,0.594,0.595,0.6409999999999999,0.597,0.606,0.633,0.655,0.614,0.596,0.649,0.642,0.637,0.631,0.645,0.59,0.598,0.64,0.635,0.639,0.622,0.633,0.568,0.532,0.599,0.662,0.63,0.5870000000000001,0.65,0.597,0.5670000000000001,0.655,0.6459999999999999,0.631,0.633,0.6459999999999999,0.597,0.588,0.653,0.645,0.64,0.602,0.626,0.594,0.58,0.598,0.597,0.654,0.638,0.63,0.568,0.5770000000000001,0.638,0.638,0.628,0.625,0.626,0.573,0.563,0.61,0.612,0.589,0.584,0.624,0.5720000000000001,0.5710000000000001,0.614,0.596,0.605,0.636,0.617,0.581,0.5870000000000001,0.654,0.633,0.65,0.635,0.633,0.609,0.615,0.6709999999999999,0.659,0.648,0.578,0.62,0.602,0.5770000000000001,0.601,0.622,0.633,0.616,0.629,0.599,0.589,0.644,0.631,0.645,0.634,0.633,0.598,0.611,0.652,0.639,0.637,0.636,0.638,0.597,0.601,0.647,0.6459999999999999,0.6409999999999999,0.632,0.648,0.584,0.5870000000000001,0.636,0.6409999999999999,0.649,0.624,0.644,0.57,0.5820000000000001,0.639,0.634,0.638,0.633,0.652,0.603,0.597,0.653,0.648,0.654,0.649,0.645,0.603,0.618,0.6579999999999999,0.65,0.6509999999999999,0.65,0.642,0.594,0.594,0.615,0.655,0.649,0.637,0.632,0.608,0.585,0.632,0.625,0.644,0.647,0.6809999999999999,0.64,0.647,0.644,0.649,0.643,0.6409999999999999,0.653,0.589,0.5720000000000001,0.564,0.593,0.616,0.62,0.64,0.589,0.595,0.649,0.644,0.654,0.642,0.649,0.585,0.578,0.614,0.648,0.643,0.599,0.649,0.599,0.588,0.643,0.6409999999999999,0.638,0.625,0.625,0.589,0.596,0.645,0.643,0.018000000000000002,0.209,0.309,0.5760000000000001,0.605,0.669,0.669,0.655,0.647,0.665,0.62,0.635,0.606,0.6659999999999999,0.669,0.67,0.6659999999999999,0.633,0.62,0.674,0.629,0.588,0.653,0.6559999999999999,0.617,0.613,0.659,0.632,0.599,0.659,0.63,0.618,0.599,0.662,0.6509999999999999,0.6559999999999999,0.653,0.65,0.599,0.6,0.6629999999999999,0.652,0.647,0.642,0.647,0.597,0.583,0.648,0.639,0.636,0.63,0.654,0.601,0.593,0.648,0.644,0.634,0.636,0.6559999999999999,0.611,0.606,0.6659999999999999,0.66,0.6559999999999999,0.653,0.648,0.608,0.601,0.662,0.6579999999999999,0.6559999999999999,0.649,0.653,0.602,0.598,0.65,0.649,0.647,0.638,0.648,0.589,0.57,0.59,0.621,0.665,0.6509999999999999,0.653,0.617,0.619,0.66,0.659,0.66,0.652,0.6509999999999999,0.615,0.606,0.653,0.6559999999999999,0.65,0.655,0.659,0.601,0.598,0.654,0.6409999999999999,0.64,0.631,0.541,0.515,0.512,0.529,0.522,0.5539999999999999,0.547,0.564,0.557,0.5529999999999999,0.5870000000000001,0.594,0.607,0.611,0.617,0.591,0.588,0.611,0.605,0.596,0.598,0.6,0.596,0.6,0.629,0.634,0.623,0.624,0.625,0.593,0.595,0.627,0.624,0.617,0.616,0.633,0.5920000000000001,0.594,0.625,0.616,0.622,0.617,0.612,0.615,0.607,0.637,0.637,0.634,0.563,0.648,0.607,0.604,0.633,0.629,0.628,0.581,0.623,0.593,0.6,0.628,0.623,0.625,0.618,0.629,0.5920000000000001,0.584,0.615,0.638,0.638,0.639,0.657,0.617,0.621,0.649,0.655,0.635,0.655,0.647,0.62,0.617,0.631,0.65,0.649,0.653,0.654,0.623,0.616,0.645,0.664,0.6609999999999999,0.662,0.6579999999999999,0.618,0.622,0.657,0.649,0.645,0.654,0.662,0.627,0.628,0.662,0.655]},{\"marker\":{\"color\":\"LightSkyBlue\",\"line\":{\"color\":\"red\",\"width\":2},\"opacity\":0.5,\"size\":6},\"mode\":\"markers\",\"showlegend\":false,\"type\":\"scatter\",\"x\":[\"2019-12-04T00:00:00+00:00\",\"2019-12-05T00:00:00+00:00\"],\"y\":[0.018000000000000002,0.209]}],                        {\"template\":{\"data\":{\"bar\":[{\"error_x\":{\"color\":\"#2a3f5f\"},\"error_y\":{\"color\":\"#2a3f5f\"},\"marker\":{\"line\":{\"color\":\"#E5ECF6\",\"width\":0.5},\"pattern\":{\"fillmode\":\"overlay\",\"size\":10,\"solidity\":0.2}},\"type\":\"bar\"}],\"barpolar\":[{\"marker\":{\"line\":{\"color\":\"#E5ECF6\",\"width\":0.5},\"pattern\":{\"fillmode\":\"overlay\",\"size\":10,\"solidity\":0.2}},\"type\":\"barpolar\"}],\"carpet\":[{\"aaxis\":{\"endlinecolor\":\"#2a3f5f\",\"gridcolor\":\"white\",\"linecolor\":\"white\",\"minorgridcolor\":\"white\",\"startlinecolor\":\"#2a3f5f\"},\"baxis\":{\"endlinecolor\":\"#2a3f5f\",\"gridcolor\":\"white\",\"linecolor\":\"white\",\"minorgridcolor\":\"white\",\"startlinecolor\":\"#2a3f5f\"},\"type\":\"carpet\"}],\"choropleth\":[{\"colorbar\":{\"outlinewidth\":0,\"ticks\":\"\"},\"type\":\"choropleth\"}],\"contour\":[{\"colorbar\":{\"outlinewidth\":0,\"ticks\":\"\"},\"colorscale\":[[0.0,\"#0d0887\"],[0.1111111111111111,\"#46039f\"],[0.2222222222222222,\"#7201a8\"],[0.3333333333333333,\"#9c179e\"],[0.4444444444444444,\"#bd3786\"],[0.5555555555555556,\"#d8576b\"],[0.6666666666666666,\"#ed7953\"],[0.7777777777777778,\"#fb9f3a\"],[0.8888888888888888,\"#fdca26\"],[1.0,\"#f0f921\"]],\"type\":\"contour\"}],\"contourcarpet\":[{\"colorbar\":{\"outlinewidth\":0,\"ticks\":\"\"},\"type\":\"contourcarpet\"}],\"heatmap\":[{\"colorbar\":{\"outlinewidth\":0,\"ticks\":\"\"},\"colorscale\":[[0.0,\"#0d0887\"],[0.1111111111111111,\"#46039f\"],[0.2222222222222222,\"#7201a8\"],[0.3333333333333333,\"#9c179e\"],[0.4444444444444444,\"#bd3786\"],[0.5555555555555556,\"#d8576b\"],[0.6666666666666666,\"#ed7953\"],[0.7777777777777778,\"#fb9f3a\"],[0.8888888888888888,\"#fdca26\"],[1.0,\"#f0f921\"]],\"type\":\"heatmap\"}],\"heatmapgl\":[{\"colorbar\":{\"outlinewidth\":0,\"ticks\":\"\"},\"colorscale\":[[0.0,\"#0d0887\"],[0.1111111111111111,\"#46039f\"],[0.2222222222222222,\"#7201a8\"],[0.3333333333333333,\"#9c179e\"],[0.4444444444444444,\"#bd3786\"],[0.5555555555555556,\"#d8576b\"],[0.6666666666666666,\"#ed7953\"],[0.7777777777777778,\"#fb9f3a\"],[0.8888888888888888,\"#fdca26\"],[1.0,\"#f0f921\"]],\"type\":\"heatmapgl\"}],\"histogram\":[{\"marker\":{\"pattern\":{\"fillmode\":\"overlay\",\"size\":10,\"solidity\":0.2}},\"type\":\"histogram\"}],\"histogram2d\":[{\"colorbar\":{\"outlinewidth\":0,\"ticks\":\"\"},\"colorscale\":[[0.0,\"#0d0887\"],[0.1111111111111111,\"#46039f\"],[0.2222222222222222,\"#7201a8\"],[0.3333333333333333,\"#9c179e\"],[0.4444444444444444,\"#bd3786\"],[0.5555555555555556,\"#d8576b\"],[0.6666666666666666,\"#ed7953\"],[0.7777777777777778,\"#fb9f3a\"],[0.8888888888888888,\"#fdca26\"],[1.0,\"#f0f921\"]],\"type\":\"histogram2d\"}],\"histogram2dcontour\":[{\"colorbar\":{\"outlinewidth\":0,\"ticks\":\"\"},\"colorscale\":[[0.0,\"#0d0887\"],[0.1111111111111111,\"#46039f\"],[0.2222222222222222,\"#7201a8\"],[0.3333333333333333,\"#9c179e\"],[0.4444444444444444,\"#bd3786\"],[0.5555555555555556,\"#d8576b\"],[0.6666666666666666,\"#ed7953\"],[0.7777777777777778,\"#fb9f3a\"],[0.8888888888888888,\"#fdca26\"],[1.0,\"#f0f921\"]],\"type\":\"histogram2dcontour\"}],\"mesh3d\":[{\"colorbar\":{\"outlinewidth\":0,\"ticks\":\"\"},\"type\":\"mesh3d\"}],\"parcoords\":[{\"line\":{\"colorbar\":{\"outlinewidth\":0,\"ticks\":\"\"}},\"type\":\"parcoords\"}],\"pie\":[{\"automargin\":true,\"type\":\"pie\"}],\"scatter\":[{\"marker\":{\"colorbar\":{\"outlinewidth\":0,\"ticks\":\"\"}},\"type\":\"scatter\"}],\"scatter3d\":[{\"line\":{\"colorbar\":{\"outlinewidth\":0,\"ticks\":\"\"}},\"marker\":{\"colorbar\":{\"outlinewidth\":0,\"ticks\":\"\"}},\"type\":\"scatter3d\"}],\"scattercarpet\":[{\"marker\":{\"colorbar\":{\"outlinewidth\":0,\"ticks\":\"\"}},\"type\":\"scattercarpet\"}],\"scattergeo\":[{\"marker\":{\"colorbar\":{\"outlinewidth\":0,\"ticks\":\"\"}},\"type\":\"scattergeo\"}],\"scattergl\":[{\"marker\":{\"colorbar\":{\"outlinewidth\":0,\"ticks\":\"\"}},\"type\":\"scattergl\"}],\"scattermapbox\":[{\"marker\":{\"colorbar\":{\"outlinewidth\":0,\"ticks\":\"\"}},\"type\":\"scattermapbox\"}],\"scatterpolar\":[{\"marker\":{\"colorbar\":{\"outlinewidth\":0,\"ticks\":\"\"}},\"type\":\"scatterpolar\"}],\"scatterpolargl\":[{\"marker\":{\"colorbar\":{\"outlinewidth\":0,\"ticks\":\"\"}},\"type\":\"scatterpolargl\"}],\"scatterternary\":[{\"marker\":{\"colorbar\":{\"outlinewidth\":0,\"ticks\":\"\"}},\"type\":\"scatterternary\"}],\"surface\":[{\"colorbar\":{\"outlinewidth\":0,\"ticks\":\"\"},\"colorscale\":[[0.0,\"#0d0887\"],[0.1111111111111111,\"#46039f\"],[0.2222222222222222,\"#7201a8\"],[0.3333333333333333,\"#9c179e\"],[0.4444444444444444,\"#bd3786\"],[0.5555555555555556,\"#d8576b\"],[0.6666666666666666,\"#ed7953\"],[0.7777777777777778,\"#fb9f3a\"],[0.8888888888888888,\"#fdca26\"],[1.0,\"#f0f921\"]],\"type\":\"surface\"}],\"table\":[{\"cells\":{\"fill\":{\"color\":\"#EBF0F8\"},\"line\":{\"color\":\"white\"}},\"header\":{\"fill\":{\"color\":\"#C8D4E3\"},\"line\":{\"color\":\"white\"}},\"type\":\"table\"}]},\"layout\":{\"annotationdefaults\":{\"arrowcolor\":\"#2a3f5f\",\"arrowhead\":0,\"arrowwidth\":1},\"autotypenumbers\":\"strict\",\"coloraxis\":{\"colorbar\":{\"outlinewidth\":0,\"ticks\":\"\"}},\"colorscale\":{\"diverging\":[[0,\"#8e0152\"],[0.1,\"#c51b7d\"],[0.2,\"#de77ae\"],[0.3,\"#f1b6da\"],[0.4,\"#fde0ef\"],[0.5,\"#f7f7f7\"],[0.6,\"#e6f5d0\"],[0.7,\"#b8e186\"],[0.8,\"#7fbc41\"],[0.9,\"#4d9221\"],[1,\"#276419\"]],\"sequential\":[[0.0,\"#0d0887\"],[0.1111111111111111,\"#46039f\"],[0.2222222222222222,\"#7201a8\"],[0.3333333333333333,\"#9c179e\"],[0.4444444444444444,\"#bd3786\"],[0.5555555555555556,\"#d8576b\"],[0.6666666666666666,\"#ed7953\"],[0.7777777777777778,\"#fb9f3a\"],[0.8888888888888888,\"#fdca26\"],[1.0,\"#f0f921\"]],\"sequentialminus\":[[0.0,\"#0d0887\"],[0.1111111111111111,\"#46039f\"],[0.2222222222222222,\"#7201a8\"],[0.3333333333333333,\"#9c179e\"],[0.4444444444444444,\"#bd3786\"],[0.5555555555555556,\"#d8576b\"],[0.6666666666666666,\"#ed7953\"],[0.7777777777777778,\"#fb9f3a\"],[0.8888888888888888,\"#fdca26\"],[1.0,\"#f0f921\"]]},\"colorway\":[\"#636efa\",\"#EF553B\",\"#00cc96\",\"#ab63fa\",\"#FFA15A\",\"#19d3f3\",\"#FF6692\",\"#B6E880\",\"#FF97FF\",\"#FECB52\"],\"font\":{\"color\":\"#2a3f5f\"},\"geo\":{\"bgcolor\":\"white\",\"lakecolor\":\"white\",\"landcolor\":\"#E5ECF6\",\"showlakes\":true,\"showland\":true,\"subunitcolor\":\"white\"},\"hoverlabel\":{\"align\":\"left\"},\"hovermode\":\"closest\",\"mapbox\":{\"style\":\"light\"},\"paper_bgcolor\":\"white\",\"plot_bgcolor\":\"#E5ECF6\",\"polar\":{\"angularaxis\":{\"gridcolor\":\"white\",\"linecolor\":\"white\",\"ticks\":\"\"},\"bgcolor\":\"#E5ECF6\",\"radialaxis\":{\"gridcolor\":\"white\",\"linecolor\":\"white\",\"ticks\":\"\"}},\"scene\":{\"xaxis\":{\"backgroundcolor\":\"#E5ECF6\",\"gridcolor\":\"white\",\"gridwidth\":2,\"linecolor\":\"white\",\"showbackground\":true,\"ticks\":\"\",\"zerolinecolor\":\"white\"},\"yaxis\":{\"backgroundcolor\":\"#E5ECF6\",\"gridcolor\":\"white\",\"gridwidth\":2,\"linecolor\":\"white\",\"showbackground\":true,\"ticks\":\"\",\"zerolinecolor\":\"white\"},\"zaxis\":{\"backgroundcolor\":\"#E5ECF6\",\"gridcolor\":\"white\",\"gridwidth\":2,\"linecolor\":\"white\",\"showbackground\":true,\"ticks\":\"\",\"zerolinecolor\":\"white\"}},\"shapedefaults\":{\"line\":{\"color\":\"#2a3f5f\"}},\"ternary\":{\"aaxis\":{\"gridcolor\":\"white\",\"linecolor\":\"white\",\"ticks\":\"\"},\"baxis\":{\"gridcolor\":\"white\",\"linecolor\":\"white\",\"ticks\":\"\"},\"bgcolor\":\"#E5ECF6\",\"caxis\":{\"gridcolor\":\"white\",\"linecolor\":\"white\",\"ticks\":\"\"}},\"title\":{\"x\":0.05},\"xaxis\":{\"automargin\":true,\"gridcolor\":\"white\",\"linecolor\":\"white\",\"ticks\":\"\",\"title\":{\"standoff\":15},\"zerolinecolor\":\"white\",\"zerolinewidth\":2},\"yaxis\":{\"automargin\":true,\"gridcolor\":\"white\",\"linecolor\":\"white\",\"ticks\":\"\",\"title\":{\"standoff\":15},\"zerolinecolor\":\"white\",\"zerolinewidth\":2}}},\"title\":{\"text\":\" Autoregression Plot for site MLA on flow direct and device Desktop\"}},                        {\"responsive\": true}                    ).then(function(){\n",
       "                            \n",
       "var gd = document.getElementById('e2b9d232-4557-4660-88dc-69291096dfa5');\n",
       "var x = new MutationObserver(function (mutations, observer) {{\n",
       "        var display = window.getComputedStyle(gd).display;\n",
       "        if (!display || display === 'none') {{\n",
       "            console.log([gd, 'removed!']);\n",
       "            Plotly.purge(gd);\n",
       "            observer.disconnect();\n",
       "        }}\n",
       "}});\n",
       "\n",
       "// Listen for the removal of the full notebook cells\n",
       "var notebookContainer = gd.closest('#notebook-container');\n",
       "if (notebookContainer) {{\n",
       "    x.observe(notebookContainer, {childList: true});\n",
       "}}\n",
       "\n",
       "// Listen for the clearing of the current output cell\n",
       "var outputEl = gd.closest('.output');\n",
       "if (outputEl) {{\n",
       "    x.observe(outputEl, {childList: true});\n",
       "}}\n",
       "\n",
       "                        })                };                });            </script>        </div>"
      ]
     },
     "metadata": {},
     "output_type": "display_data"
    },
    {
     "name": "stdout",
     "output_type": "stream",
     "text": [
      "[[439   0]\n",
      " [ 47   2]]\n"
     ]
    },
    {
     "data": {
      "image/png": "[encoded data removed]",
      "text/plain": [
       "<Figure size 432x432 with 2 Axes>"
      ]
     },
     "metadata": {},
     "output_type": "display_data"
    },
    {
     "name": "stdout",
     "output_type": "stream",
     "text": [
      "Precision                                   : 1.000\n",
      "Recall                                      : 0.041\n",
      "F1-Score                                    : 0.078\n",
      "\n",
      "Precision Recall F1-Score Support Per Class : \n",
      " (array([0.90329218, 1.        ]), array([1.        , 0.04081633]), array([0.94918919, 0.07843137]), array([439,  49], dtype=int64))\n",
      "\n",
      "Classification Report                       : \n",
      "              precision    recall  f1-score   support\n",
      "\n",
      "       False       0.90      1.00      0.95       439\n",
      "        True       1.00      0.04      0.08        49\n",
      "\n",
      "    accuracy                           0.90       488\n",
      "   macro avg       0.95      0.52      0.51       488\n",
      "weighted avg       0.91      0.90      0.86       488\n",
      "\n"
     ]
    }
   ],
   "source": [
    "#Autoregression\n",
    "autoregression_ad = AutoregressionAD(n_steps=7 * 2, step_size=2, c=10.0)\n",
    "anomalies_ad = autoregression_ad.fit_detect(s)\n",
    "anomaly_plot(s, anomaly=anomalies_ad, anomaly_color=\"red\",\n",
    "title=f\" Autoregression Plot for site {site} on flow {flow} and device {device}\"\n",
    ")\n",
    "    \n",
    "Y_test = serie[\"anomaly\"]\n",
    "Y_preds = anomalies_ad\n",
    "Y_preds=np.nan_to_num(Y_preds) #convierte NaN en zeros\n",
    "confusion_matrix_plot(Y_test, Y_preds)\n",
    "print_report(Y_test, Y_preds) \n"
   ]
  },
  {
   "cell_type": "markdown",
   "metadata": {},
   "source": [
    "Volatility Shift detecta cambios en la volatilidad en la serie analizando las variaciones en una ventana de tiempo. En nuestros caso, no cumple el objetivo de detectar una cantidad significativa de outliers.\n",
    "\n",
    "Sin embargo este modelo es útil para detectar mayores cambios en volatilidad"
   ]
  },
  {
   "cell_type": "code",
   "execution_count": 112,
   "metadata": {},
   "outputs": [
    {
     "data": {
      "text/html": [
       "<div>\n",
       "<style scoped>\n",
       "    .dataframe tbody tr th:only-of-type {\n",
       "        vertical-align: middle;\n",
       "    }\n",
       "\n",
       "    .dataframe tbody tr th {\n",
       "        vertical-align: top;\n",
       "    }\n",
       "\n",
       "    .dataframe thead th {\n",
       "        text-align: right;\n",
       "    }\n",
       "</style>\n",
       "<table border=\"1\" class=\"dataframe\">\n",
       "  <thead>\n",
       "    <tr style=\"text-align: right;\">\n",
       "      <th></th>\n",
       "      <th>Parametro</th>\n",
       "      <th>Recall</th>\n",
       "      <th>Precision</th>\n",
       "    </tr>\n",
       "  </thead>\n",
       "  <tbody>\n",
       "    <tr>\n",
       "      <th>0</th>\n",
       "      <td>Window: 2</td>\n",
       "      <td>0.183673</td>\n",
       "      <td>0.123288</td>\n",
       "    </tr>\n",
       "    <tr>\n",
       "      <th>1</th>\n",
       "      <td>Window: 3</td>\n",
       "      <td>0.142857</td>\n",
       "      <td>0.114754</td>\n",
       "    </tr>\n",
       "    <tr>\n",
       "      <th>2</th>\n",
       "      <td>Window: 4</td>\n",
       "      <td>0.081633</td>\n",
       "      <td>0.060606</td>\n",
       "    </tr>\n",
       "    <tr>\n",
       "      <th>3</th>\n",
       "      <td>Window: 5</td>\n",
       "      <td>0.040816</td>\n",
       "      <td>0.051282</td>\n",
       "    </tr>\n",
       "    <tr>\n",
       "      <th>4</th>\n",
       "      <td>Window: 6</td>\n",
       "      <td>0.102041</td>\n",
       "      <td>0.185185</td>\n",
       "    </tr>\n",
       "    <tr>\n",
       "      <th>5</th>\n",
       "      <td>Window: 7</td>\n",
       "      <td>0.142857</td>\n",
       "      <td>0.241379</td>\n",
       "    </tr>\n",
       "    <tr>\n",
       "      <th>6</th>\n",
       "      <td>Window: 8</td>\n",
       "      <td>0.163265</td>\n",
       "      <td>0.275862</td>\n",
       "    </tr>\n",
       "    <tr>\n",
       "      <th>7</th>\n",
       "      <td>Window: 10</td>\n",
       "      <td>0.142857</td>\n",
       "      <td>0.318182</td>\n",
       "    </tr>\n",
       "    <tr>\n",
       "      <th>8</th>\n",
       "      <td>Window: 20</td>\n",
       "      <td>0.020408</td>\n",
       "      <td>0.050000</td>\n",
       "    </tr>\n",
       "  </tbody>\n",
       "</table>\n",
       "</div>"
      ],
      "text/plain": [
       "    Parametro    Recall  Precision\n",
       "0   Window: 2  0.183673   0.123288\n",
       "1   Window: 3  0.142857   0.114754\n",
       "2   Window: 4  0.081633   0.060606\n",
       "3   Window: 5  0.040816   0.051282\n",
       "4   Window: 6  0.102041   0.185185\n",
       "5   Window: 7  0.142857   0.241379\n",
       "6   Window: 8  0.163265   0.275862\n",
       "7  Window: 10  0.142857   0.318182\n",
       "8  Window: 20  0.020408   0.050000"
      ]
     },
     "execution_count": 112,
     "metadata": {},
     "output_type": "execute_result"
    }
   ],
   "source": [
    "WinddowsPar = [2,3,4,5,6,7,8,10,20]\n",
    "Results_VS = pd.DataFrame(columns=['Parametro', 'Recall', 'Precision'])\n",
    "Results_VS.set_index('Parametro')\n",
    "\n",
    "for i in WinddowsPar :\n",
    "    volatility_shift_ad = VolatilityShiftAD(c=2.5, side=\"both\", window=i)\n",
    "    anomalies_vs = volatility_shift_ad.fit_detect(s)\n",
    "    Y_test = serie[\"anomaly\"]\n",
    "    Y_preds = anomalies_vs\n",
    "    Y_preds=np.nan_to_num(Y_preds) #convierte NaN en zeros\n",
    "    new_row = {'Parametro':\"Window: \"+ str(i), 'Recall':recall_score(Y_test, Y_preds), 'Precision':precision_score(Y_test, Y_preds)}\n",
    "    Results_VS = Results_VS.append(new_row, ignore_index=True)\n",
    "\n",
    "Results_VS.head(10)"
   ]
  },
  {
   "cell_type": "code",
   "execution_count": 113,
   "metadata": {},
   "outputs": [
    {
     "data": {
      "application/vnd.plotly.v1+json": {
       "config": {
        "plotlyServerURL": "https://plot.ly"
       },
       "data": [
        {
         "mode": "lines",
         "name": "TOTAL",
         "type": "scatter",
         "x": [
          "2019-03-01T00:00:00+00:00",
          "2019-03-02T00:00:00+00:00",
          "2019-03-03T00:00:00+00:00",
          "2019-03-04T00:00:00+00:00",
          "2019-03-05T00:00:00+00:00",
          "2019-03-06T00:00:00+00:00",
          "2019-03-07T00:00:00+00:00",
          "2019-03-08T00:00:00+00:00",
          "2019-03-09T00:00:00+00:00",
          "2019-03-10T00:00:00+00:00",
          "2019-03-11T00:00:00+00:00",
          "2019-03-12T00:00:00+00:00",
          "2019-03-13T00:00:00+00:00",
          "2019-03-14T00:00:00+00:00",
          "2019-03-15T00:00:00+00:00",
          "2019-03-16T00:00:00+00:00",
          "2019-03-17T00:00:00+00:00",
          "2019-03-18T00:00:00+00:00",
          "2019-03-19T00:00:00+00:00",
          "2019-03-20T00:00:00+00:00",
          "2019-03-21T00:00:00+00:00",
          "2019-03-22T00:00:00+00:00",
          "2019-03-23T00:00:00+00:00",
          "2019-03-24T00:00:00+00:00",
          "2019-03-25T00:00:00+00:00",
          "2019-03-26T00:00:00+00:00",
          "2019-03-27T00:00:00+00:00",
          "2019-03-28T00:00:00+00:00",
          "2019-03-29T00:00:00+00:00",
          "2019-03-30T00:00:00+00:00",
          "2019-03-31T00:00:00+00:00",
          "2019-04-01T00:00:00+00:00",
          "2019-04-02T00:00:00+00:00",
          "2019-04-03T00:00:00+00:00",
          "2019-04-04T00:00:00+00:00",
          "2019-04-05T00:00:00+00:00",
          "2019-04-06T00:00:00+00:00",
          "2019-04-07T00:00:00+00:00",
          "2019-04-08T00:00:00+00:00",
          "2019-04-09T00:00:00+00:00",
          "2019-04-10T00:00:00+00:00",
          "2019-04-11T00:00:00+00:00",
          "2019-04-12T00:00:00+00:00",
          "2019-04-13T00:00:00+00:00",
          "2019-04-14T00:00:00+00:00",
          "2019-04-15T00:00:00+00:00",
          "2019-04-16T00:00:00+00:00",
          "2019-04-17T00:00:00+00:00",
          "2019-04-18T00:00:00+00:00",
          "2019-04-19T00:00:00+00:00",
          "2019-04-20T00:00:00+00:00",
          "2019-04-21T00:00:00+00:00",
          "2019-04-22T00:00:00+00:00",
          "2019-04-23T00:00:00+00:00",
          "2019-04-24T00:00:00+00:00",
          "2019-04-25T00:00:00+00:00",
          "2019-04-26T00:00:00+00:00",
          "2019-04-27T00:00:00+00:00",
          "2019-04-28T00:00:00+00:00",
          "2019-04-29T00:00:00+00:00",
          "2019-04-30T00:00:00+00:00",
          "2019-05-01T00:00:00+00:00",
          "2019-05-02T00:00:00+00:00",
          "2019-05-03T00:00:00+00:00",
          "2019-05-04T00:00:00+00:00",
          "2019-05-05T00:00:00+00:00",
          "2019-05-06T00:00:00+00:00",
          "2019-05-07T00:00:00+00:00",
          "2019-05-08T00:00:00+00:00",
          "2019-05-09T00:00:00+00:00",
          "2019-05-10T00:00:00+00:00",
          "2019-05-11T00:00:00+00:00",
          "2019-05-12T00:00:00+00:00",
          "2019-05-13T00:00:00+00:00",
          "2019-05-14T00:00:00+00:00",
          "2019-05-15T00:00:00+00:00",
          "2019-05-16T00:00:00+00:00",
          "2019-05-17T00:00:00+00:00",
          "2019-05-18T00:00:00+00:00",
          "2019-05-19T00:00:00+00:00",
          "2019-05-20T00:00:00+00:00",
          "2019-05-21T00:00:00+00:00",
          "2019-05-22T00:00:00+00:00",
          "2019-05-23T00:00:00+00:00",
          "2019-05-24T00:00:00+00:00",
          "2019-05-25T00:00:00+00:00",
          "2019-05-26T00:00:00+00:00",
          "2019-05-27T00:00:00+00:00",
          "2019-05-28T00:00:00+00:00",
          "2019-05-29T00:00:00+00:00",
          "2019-05-30T00:00:00+00:00",
          "2019-05-31T00:00:00+00:00",
          "2019-06-01T00:00:00+00:00",
          "2019-06-02T00:00:00+00:00",
          "2019-06-03T00:00:00+00:00",
          "2019-06-04T00:00:00+00:00",
          "2019-06-05T00:00:00+00:00",
          "2019-06-06T00:00:00+00:00",
          "2019-06-07T00:00:00+00:00",
          "2019-06-08T00:00:00+00:00",
          "2019-06-09T00:00:00+00:00",
          "2019-06-10T00:00:00+00:00",
          "2019-06-11T00:00:00+00:00",
          "2019-06-12T00:00:00+00:00",
          "2019-06-13T00:00:00+00:00",
          "2019-06-14T00:00:00+00:00",
          "2019-06-15T00:00:00+00:00",
          "2019-06-16T00:00:00+00:00",
          "2019-06-17T00:00:00+00:00",
          "2019-06-18T00:00:00+00:00",
          "2019-06-19T00:00:00+00:00",
          "2019-06-20T00:00:00+00:00",
          "2019-06-21T00:00:00+00:00",
          "2019-06-22T00:00:00+00:00",
          "2019-06-23T00:00:00+00:00",
          "2019-06-24T00:00:00+00:00",
          "2019-06-25T00:00:00+00:00",
          "2019-06-26T00:00:00+00:00",
          "2019-06-27T00:00:00+00:00",
          "2019-06-28T00:00:00+00:00",
          "2019-06-29T00:00:00+00:00",
          "2019-06-30T00:00:00+00:00",
          "2019-07-01T00:00:00+00:00",
          "2019-07-02T00:00:00+00:00",
          "2019-07-03T00:00:00+00:00",
          "2019-07-04T00:00:00+00:00",
          "2019-07-05T00:00:00+00:00",
          "2019-07-06T00:00:00+00:00",
          "2019-07-07T00:00:00+00:00",
          "2019-07-08T00:00:00+00:00",
          "2019-07-09T00:00:00+00:00",
          "2019-07-10T00:00:00+00:00",
          "2019-07-11T00:00:00+00:00",
          "2019-07-12T00:00:00+00:00",
          "2019-07-13T00:00:00+00:00",
          "2019-07-14T00:00:00+00:00",
          "2019-07-15T00:00:00+00:00",
          "2019-07-16T00:00:00+00:00",
          "2019-07-17T00:00:00+00:00",
          "2019-07-18T00:00:00+00:00",
          "2019-07-19T00:00:00+00:00",
          "2019-07-20T00:00:00+00:00",
          "2019-07-21T00:00:00+00:00",
          "2019-07-22T00:00:00+00:00",
          "2019-07-23T00:00:00+00:00",
          "2019-07-24T00:00:00+00:00",
          "2019-07-25T00:00:00+00:00",
          "2019-07-26T00:00:00+00:00",
          "2019-07-27T00:00:00+00:00",
          "2019-07-28T00:00:00+00:00",
          "2019-07-29T00:00:00+00:00",
          "2019-07-30T00:00:00+00:00",
          "2019-07-31T00:00:00+00:00",
          "2019-08-01T00:00:00+00:00",
          "2019-08-02T00:00:00+00:00",
          "2019-08-03T00:00:00+00:00",
          "2019-08-04T00:00:00+00:00",
          "2019-08-05T00:00:00+00:00",
          "2019-08-06T00:00:00+00:00",
          "2019-08-07T00:00:00+00:00",
          "2019-08-08T00:00:00+00:00",
          "2019-08-09T00:00:00+00:00",
          "2019-08-10T00:00:00+00:00",
          "2019-08-11T00:00:00+00:00",
          "2019-08-12T00:00:00+00:00",
          "2019-08-13T00:00:00+00:00",
          "2019-08-14T00:00:00+00:00",
          "2019-08-15T00:00:00+00:00",
          "2019-08-16T00:00:00+00:00",
          "2019-08-17T00:00:00+00:00",
          "2019-08-18T00:00:00+00:00",
          "2019-08-19T00:00:00+00:00",
          "2019-08-20T00:00:00+00:00",
          "2019-08-21T00:00:00+00:00",
          "2019-08-22T00:00:00+00:00",
          "2019-08-23T00:00:00+00:00",
          "2019-08-24T00:00:00+00:00",
          "2019-08-25T00:00:00+00:00",
          "2019-08-26T00:00:00+00:00",
          "2019-08-27T00:00:00+00:00",
          "2019-08-28T00:00:00+00:00",
          "2019-08-29T00:00:00+00:00",
          "2019-08-30T00:00:00+00:00",
          "2019-08-31T00:00:00+00:00",
          "2019-09-01T00:00:00+00:00",
          "2019-09-02T00:00:00+00:00",
          "2019-09-03T00:00:00+00:00",
          "2019-09-04T00:00:00+00:00",
          "2019-09-05T00:00:00+00:00",
          "2019-09-06T00:00:00+00:00",
          "2019-09-07T00:00:00+00:00",
          "2019-09-08T00:00:00+00:00",
          "2019-09-09T00:00:00+00:00",
          "2019-09-10T00:00:00+00:00",
          "2019-09-11T00:00:00+00:00",
          "2019-09-12T00:00:00+00:00",
          "2019-09-13T00:00:00+00:00",
          "2019-09-14T00:00:00+00:00",
          "2019-09-15T00:00:00+00:00",
          "2019-09-16T00:00:00+00:00",
          "2019-09-17T00:00:00+00:00",
          "2019-09-18T00:00:00+00:00",
          "2019-09-19T00:00:00+00:00",
          "2019-09-20T00:00:00+00:00",
          "2019-09-21T00:00:00+00:00",
          "2019-09-22T00:00:00+00:00",
          "2019-09-23T00:00:00+00:00",
          "2019-09-24T00:00:00+00:00",
          "2019-09-25T00:00:00+00:00",
          "2019-09-26T00:00:00+00:00",
          "2019-09-27T00:00:00+00:00",
          "2019-09-28T00:00:00+00:00",
          "2019-09-29T00:00:00+00:00",
          "2019-09-30T00:00:00+00:00",
          "2019-10-01T00:00:00+00:00",
          "2019-10-02T00:00:00+00:00",
          "2019-10-03T00:00:00+00:00",
          "2019-10-04T00:00:00+00:00",
          "2019-10-05T00:00:00+00:00",
          "2019-10-06T00:00:00+00:00",
          "2019-10-07T00:00:00+00:00",
          "2019-10-08T00:00:00+00:00",
          "2019-10-09T00:00:00+00:00",
          "2019-10-10T00:00:00+00:00",
          "2019-10-11T00:00:00+00:00",
          "2019-10-12T00:00:00+00:00",
          "2019-10-13T00:00:00+00:00",
          "2019-10-14T00:00:00+00:00",
          "2019-10-15T00:00:00+00:00",
          "2019-10-16T00:00:00+00:00",
          "2019-10-17T00:00:00+00:00",
          "2019-10-18T00:00:00+00:00",
          "2019-10-19T00:00:00+00:00",
          "2019-10-20T00:00:00+00:00",
          "2019-10-21T00:00:00+00:00",
          "2019-10-22T00:00:00+00:00",
          "2019-10-23T00:00:00+00:00",
          "2019-10-24T00:00:00+00:00",
          "2019-10-25T00:00:00+00:00",
          "2019-10-26T00:00:00+00:00",
          "2019-10-27T00:00:00+00:00",
          "2019-10-28T00:00:00+00:00",
          "2019-10-29T00:00:00+00:00",
          "2019-10-30T00:00:00+00:00",
          "2019-10-31T00:00:00+00:00",
          "2019-11-01T00:00:00+00:00",
          "2019-11-02T00:00:00+00:00",
          "2019-11-03T00:00:00+00:00",
          "2019-11-04T00:00:00+00:00",
          "2019-11-05T00:00:00+00:00",
          "2019-11-06T00:00:00+00:00",
          "2019-11-07T00:00:00+00:00",
          "2019-11-08T00:00:00+00:00",
          "2019-11-09T00:00:00+00:00",
          "2019-11-10T00:00:00+00:00",
          "2019-11-11T00:00:00+00:00",
          "2019-11-12T00:00:00+00:00",
          "2019-11-13T00:00:00+00:00",
          "2019-11-14T00:00:00+00:00",
          "2019-11-15T00:00:00+00:00",
          "2019-11-16T00:00:00+00:00",
          "2019-11-17T00:00:00+00:00",
          "2019-11-18T00:00:00+00:00",
          "2019-11-19T00:00:00+00:00",
          "2019-11-20T00:00:00+00:00",
          "2019-11-21T00:00:00+00:00",
          "2019-11-22T00:00:00+00:00",
          "2019-11-23T00:00:00+00:00",
          "2019-11-24T00:00:00+00:00",
          "2019-11-25T00:00:00+00:00",
          "2019-11-26T00:00:00+00:00",
          "2019-11-27T00:00:00+00:00",
          "2019-11-28T00:00:00+00:00",
          "2019-11-29T00:00:00+00:00",
          "2019-11-30T00:00:00+00:00",
          "2019-12-01T00:00:00+00:00",
          "2019-12-02T00:00:00+00:00",
          "2019-12-03T00:00:00+00:00",
          "2019-12-04T00:00:00+00:00",
          "2019-12-05T00:00:00+00:00",
          "2019-12-06T00:00:00+00:00",
          "2019-12-07T00:00:00+00:00",
          "2019-12-08T00:00:00+00:00",
          "2019-12-09T00:00:00+00:00",
          "2019-12-10T00:00:00+00:00",
          "2019-12-11T00:00:00+00:00",
          "2019-12-12T00:00:00+00:00",
          "2019-12-13T00:00:00+00:00",
          "2019-12-14T00:00:00+00:00",
          "2019-12-15T00:00:00+00:00",
          "2019-12-16T00:00:00+00:00",
          "2019-12-17T00:00:00+00:00",
          "2019-12-18T00:00:00+00:00",
          "2019-12-19T00:00:00+00:00",
          "2019-12-20T00:00:00+00:00",
          "2019-12-21T00:00:00+00:00",
          "2019-12-22T00:00:00+00:00",
          "2019-12-23T00:00:00+00:00",
          "2019-12-24T00:00:00+00:00",
          "2019-12-25T00:00:00+00:00",
          "2019-12-26T00:00:00+00:00",
          "2019-12-27T00:00:00+00:00",
          "2019-12-28T00:00:00+00:00",
          "2019-12-29T00:00:00+00:00",
          "2019-12-30T00:00:00+00:00",
          "2019-12-31T00:00:00+00:00",
          "2020-01-01T00:00:00+00:00",
          "2020-01-02T00:00:00+00:00",
          "2020-01-03T00:00:00+00:00",
          "2020-01-04T00:00:00+00:00",
          "2020-01-05T00:00:00+00:00",
          "2020-01-06T00:00:00+00:00",
          "2020-01-07T00:00:00+00:00",
          "2020-01-08T00:00:00+00:00",
          "2020-01-09T00:00:00+00:00",
          "2020-01-10T00:00:00+00:00",
          "2020-01-11T00:00:00+00:00",
          "2020-01-12T00:00:00+00:00",
          "2020-01-13T00:00:00+00:00",
          "2020-01-14T00:00:00+00:00",
          "2020-01-15T00:00:00+00:00",
          "2020-01-16T00:00:00+00:00",
          "2020-01-17T00:00:00+00:00",
          "2020-01-18T00:00:00+00:00",
          "2020-01-19T00:00:00+00:00",
          "2020-01-20T00:00:00+00:00",
          "2020-01-21T00:00:00+00:00",
          "2020-01-22T00:00:00+00:00",
          "2020-01-23T00:00:00+00:00",
          "2020-01-24T00:00:00+00:00",
          "2020-01-25T00:00:00+00:00",
          "2020-01-26T00:00:00+00:00",
          "2020-01-27T00:00:00+00:00",
          "2020-01-28T00:00:00+00:00",
          "2020-01-29T00:00:00+00:00",
          "2020-01-30T00:00:00+00:00",
          "2020-01-31T00:00:00+00:00",
          "2020-02-01T00:00:00+00:00",
          "2020-02-02T00:00:00+00:00",
          "2020-02-03T00:00:00+00:00",
          "2020-02-04T00:00:00+00:00",
          "2020-02-05T00:00:00+00:00",
          "2020-02-06T00:00:00+00:00",
          "2020-02-07T00:00:00+00:00",
          "2020-02-08T00:00:00+00:00",
          "2020-02-09T00:00:00+00:00",
          "2020-02-10T00:00:00+00:00",
          "2020-02-11T00:00:00+00:00",
          "2020-02-12T00:00:00+00:00",
          "2020-02-13T00:00:00+00:00",
          "2020-02-14T00:00:00+00:00",
          "2020-02-15T00:00:00+00:00",
          "2020-02-16T00:00:00+00:00",
          "2020-02-17T00:00:00+00:00",
          "2020-02-18T00:00:00+00:00",
          "2020-02-19T00:00:00+00:00",
          "2020-02-20T00:00:00+00:00",
          "2020-02-21T00:00:00+00:00",
          "2020-02-22T00:00:00+00:00",
          "2020-02-23T00:00:00+00:00",
          "2020-02-24T00:00:00+00:00",
          "2020-02-25T00:00:00+00:00",
          "2020-02-26T00:00:00+00:00",
          "2020-02-27T00:00:00+00:00",
          "2020-02-28T00:00:00+00:00",
          "2020-02-29T00:00:00+00:00",
          "2020-03-01T00:00:00+00:00",
          "2020-03-02T00:00:00+00:00",
          "2020-03-03T00:00:00+00:00",
          "2020-03-04T00:00:00+00:00",
          "2020-03-05T00:00:00+00:00",
          "2020-03-06T00:00:00+00:00",
          "2020-03-07T00:00:00+00:00",
          "2020-03-08T00:00:00+00:00",
          "2020-03-09T00:00:00+00:00",
          "2020-03-10T00:00:00+00:00",
          "2020-03-11T00:00:00+00:00",
          "2020-03-12T00:00:00+00:00",
          "2020-03-13T00:00:00+00:00",
          "2020-03-14T00:00:00+00:00",
          "2020-03-15T00:00:00+00:00",
          "2020-03-16T00:00:00+00:00",
          "2020-03-17T00:00:00+00:00",
          "2020-03-18T00:00:00+00:00",
          "2020-03-19T00:00:00+00:00",
          "2020-03-20T00:00:00+00:00",
          "2020-03-21T00:00:00+00:00",
          "2020-03-22T00:00:00+00:00",
          "2020-03-23T00:00:00+00:00",
          "2020-03-24T00:00:00+00:00",
          "2020-03-25T00:00:00+00:00",
          "2020-03-26T00:00:00+00:00",
          "2020-03-27T00:00:00+00:00",
          "2020-03-28T00:00:00+00:00",
          "2020-03-29T00:00:00+00:00",
          "2020-03-30T00:00:00+00:00",
          "2020-03-31T00:00:00+00:00",
          "2020-04-01T00:00:00+00:00",
          "2020-04-02T00:00:00+00:00",
          "2020-04-03T00:00:00+00:00",
          "2020-04-04T00:00:00+00:00",
          "2020-04-05T00:00:00+00:00",
          "2020-04-06T00:00:00+00:00",
          "2020-04-07T00:00:00+00:00",
          "2020-04-08T00:00:00+00:00",
          "2020-04-09T00:00:00+00:00",
          "2020-04-10T00:00:00+00:00",
          "2020-04-11T00:00:00+00:00",
          "2020-04-12T00:00:00+00:00",
          "2020-04-13T00:00:00+00:00",
          "2020-04-14T00:00:00+00:00",
          "2020-04-15T00:00:00+00:00",
          "2020-04-16T00:00:00+00:00",
          "2020-04-17T00:00:00+00:00",
          "2020-04-18T00:00:00+00:00",
          "2020-04-19T00:00:00+00:00",
          "2020-04-20T00:00:00+00:00",
          "2020-04-21T00:00:00+00:00",
          "2020-04-22T00:00:00+00:00",
          "2020-04-23T00:00:00+00:00",
          "2020-04-24T00:00:00+00:00",
          "2020-04-25T00:00:00+00:00",
          "2020-04-26T00:00:00+00:00",
          "2020-04-27T00:00:00+00:00",
          "2020-04-28T00:00:00+00:00",
          "2020-04-29T00:00:00+00:00",
          "2020-04-30T00:00:00+00:00",
          "2020-05-01T00:00:00+00:00",
          "2020-05-02T00:00:00+00:00",
          "2020-05-03T00:00:00+00:00",
          "2020-05-04T00:00:00+00:00",
          "2020-05-05T00:00:00+00:00",
          "2020-05-06T00:00:00+00:00",
          "2020-05-07T00:00:00+00:00",
          "2020-05-08T00:00:00+00:00",
          "2020-05-09T00:00:00+00:00",
          "2020-05-10T00:00:00+00:00",
          "2020-05-11T00:00:00+00:00",
          "2020-05-12T00:00:00+00:00",
          "2020-05-13T00:00:00+00:00",
          "2020-05-14T00:00:00+00:00",
          "2020-05-15T00:00:00+00:00",
          "2020-05-16T00:00:00+00:00",
          "2020-05-17T00:00:00+00:00",
          "2020-05-18T00:00:00+00:00",
          "2020-05-19T00:00:00+00:00",
          "2020-05-20T00:00:00+00:00",
          "2020-05-21T00:00:00+00:00",
          "2020-05-22T00:00:00+00:00",
          "2020-05-23T00:00:00+00:00",
          "2020-05-24T00:00:00+00:00",
          "2020-05-25T00:00:00+00:00",
          "2020-05-26T00:00:00+00:00",
          "2020-05-27T00:00:00+00:00",
          "2020-05-28T00:00:00+00:00",
          "2020-05-29T00:00:00+00:00",
          "2020-05-30T00:00:00+00:00",
          "2020-05-31T00:00:00+00:00",
          "2020-06-01T00:00:00+00:00",
          "2020-06-02T00:00:00+00:00",
          "2020-06-03T00:00:00+00:00",
          "2020-06-04T00:00:00+00:00",
          "2020-06-05T00:00:00+00:00",
          "2020-06-06T00:00:00+00:00",
          "2020-06-07T00:00:00+00:00",
          "2020-06-08T00:00:00+00:00",
          "2020-06-09T00:00:00+00:00",
          "2020-06-10T00:00:00+00:00",
          "2020-06-11T00:00:00+00:00",
          "2020-06-12T00:00:00+00:00",
          "2020-06-13T00:00:00+00:00",
          "2020-06-14T00:00:00+00:00",
          "2020-06-15T00:00:00+00:00",
          "2020-06-16T00:00:00+00:00",
          "2020-06-17T00:00:00+00:00",
          "2020-06-18T00:00:00+00:00",
          "2020-06-19T00:00:00+00:00",
          "2020-06-20T00:00:00+00:00",
          "2020-06-21T00:00:00+00:00",
          "2020-06-22T00:00:00+00:00",
          "2020-06-23T00:00:00+00:00",
          "2020-06-24T00:00:00+00:00",
          "2020-06-25T00:00:00+00:00",
          "2020-06-26T00:00:00+00:00",
          "2020-06-27T00:00:00+00:00",
          "2020-06-28T00:00:00+00:00",
          "2020-06-29T00:00:00+00:00",
          "2020-06-30T00:00:00+00:00"
         ],
         "y": [
          0.6659999999999999,
          0.609,
          0.5720000000000001,
          0.588,
          0.622,
          0.665,
          0.665,
          0.6659999999999999,
          0.609,
          0.604,
          0.64,
          0.644,
          0.64,
          0.645,
          0.647,
          0.5710000000000001,
          0.584,
          0.653,
          0.645,
          0.632,
          0.643,
          0.66,
          0.61,
          0.6,
          0.6579999999999999,
          0.648,
          0.65,
          0.652,
          0.6659999999999999,
          0.61,
          0.605,
          0.664,
          0.619,
          0.6659999999999999,
          0.653,
          0.659,
          0.619,
          0.611,
          0.664,
          0.6579999999999999,
          0.653,
          0.637,
          0.647,
          0.596,
          0.5920000000000001,
          0.6579999999999999,
          0.648,
          0.648,
          0.614,
          0.58,
          0.5920000000000001,
          0.5920000000000001,
          0.638,
          0.634,
          0.632,
          0.632,
          0.647,
          0.594,
          0.5820000000000001,
          0.635,
          0.62,
          0.584,
          0.649,
          0.6509999999999999,
          0.602,
          0.594,
          0.6559999999999999,
          0.647,
          0.642,
          0.634,
          0.638,
          0.596,
          0.565,
          0.556,
          0.578,
          0.599,
          0.602,
          0.593,
          0.5589999999999999,
          0.573,
          0.61,
          0.62,
          0.62,
          0.621,
          0.648,
          0.594,
          0.595,
          0.6409999999999999,
          0.597,
          0.606,
          0.633,
          0.655,
          0.614,
          0.596,
          0.649,
          0.642,
          0.637,
          0.631,
          0.645,
          0.59,
          0.598,
          0.64,
          0.635,
          0.639,
          0.622,
          0.633,
          0.568,
          0.532,
          0.599,
          0.662,
          0.63,
          0.5870000000000001,
          0.65,
          0.597,
          0.5670000000000001,
          0.655,
          0.6459999999999999,
          0.631,
          0.633,
          0.6459999999999999,
          0.597,
          0.588,
          0.653,
          0.645,
          0.64,
          0.602,
          0.626,
          0.594,
          0.58,
          0.598,
          0.597,
          0.654,
          0.638,
          0.63,
          0.568,
          0.5770000000000001,
          0.638,
          0.638,
          0.628,
          0.625,
          0.626,
          0.573,
          0.563,
          0.61,
          0.612,
          0.589,
          0.584,
          0.624,
          0.5720000000000001,
          0.5710000000000001,
          0.614,
          0.596,
          0.605,
          0.636,
          0.617,
          0.581,
          0.5870000000000001,
          0.654,
          0.633,
          0.65,
          0.635,
          0.633,
          0.609,
          0.615,
          0.6709999999999999,
          0.659,
          0.648,
          0.578,
          0.62,
          0.602,
          0.5770000000000001,
          0.601,
          0.622,
          0.633,
          0.616,
          0.629,
          0.599,
          0.589,
          0.644,
          0.631,
          0.645,
          0.634,
          0.633,
          0.598,
          0.611,
          0.652,
          0.639,
          0.637,
          0.636,
          0.638,
          0.597,
          0.601,
          0.647,
          0.6459999999999999,
          0.6409999999999999,
          0.632,
          0.648,
          0.584,
          0.5870000000000001,
          0.636,
          0.6409999999999999,
          0.649,
          0.624,
          0.644,
          0.57,
          0.5820000000000001,
          0.639,
          0.634,
          0.638,
          0.633,
          0.652,
          0.603,
          0.597,
          0.653,
          0.648,
          0.654,
          0.649,
          0.645,
          0.603,
          0.618,
          0.6579999999999999,
          0.65,
          0.6509999999999999,
          0.65,
          0.642,
          0.594,
          0.594,
          0.615,
          0.655,
          0.649,
          0.637,
          0.632,
          0.608,
          0.585,
          0.632,
          0.625,
          0.644,
          0.647,
          0.6809999999999999,
          0.64,
          0.647,
          0.644,
          0.649,
          0.643,
          0.6409999999999999,
          0.653,
          0.589,
          0.5720000000000001,
          0.564,
          0.593,
          0.616,
          0.62,
          0.64,
          0.589,
          0.595,
          0.649,
          0.644,
          0.654,
          0.642,
          0.649,
          0.585,
          0.578,
          0.614,
          0.648,
          0.643,
          0.599,
          0.649,
          0.599,
          0.588,
          0.643,
          0.6409999999999999,
          0.638,
          0.625,
          0.625,
          0.589,
          0.596,
          0.645,
          0.643,
          0.018000000000000002,
          0.209,
          0.309,
          0.5760000000000001,
          0.605,
          0.669,
          0.669,
          0.655,
          0.647,
          0.665,
          0.62,
          0.635,
          0.606,
          0.6659999999999999,
          0.669,
          0.67,
          0.6659999999999999,
          0.633,
          0.62,
          0.674,
          0.629,
          0.588,
          0.653,
          0.6559999999999999,
          0.617,
          0.613,
          0.659,
          0.632,
          0.599,
          0.659,
          0.63,
          0.618,
          0.599,
          0.662,
          0.6509999999999999,
          0.6559999999999999,
          0.653,
          0.65,
          0.599,
          0.6,
          0.6629999999999999,
          0.652,
          0.647,
          0.642,
          0.647,
          0.597,
          0.583,
          0.648,
          0.639,
          0.636,
          0.63,
          0.654,
          0.601,
          0.593,
          0.648,
          0.644,
          0.634,
          0.636,
          0.6559999999999999,
          0.611,
          0.606,
          0.6659999999999999,
          0.66,
          0.6559999999999999,
          0.653,
          0.648,
          0.608,
          0.601,
          0.662,
          0.6579999999999999,
          0.6559999999999999,
          0.649,
          0.653,
          0.602,
          0.598,
          0.65,
          0.649,
          0.647,
          0.638,
          0.648,
          0.589,
          0.57,
          0.59,
          0.621,
          0.665,
          0.6509999999999999,
          0.653,
          0.617,
          0.619,
          0.66,
          0.659,
          0.66,
          0.652,
          0.6509999999999999,
          0.615,
          0.606,
          0.653,
          0.6559999999999999,
          0.65,
          0.655,
          0.659,
          0.601,
          0.598,
          0.654,
          0.6409999999999999,
          0.64,
          0.631,
          0.541,
          0.515,
          0.512,
          0.529,
          0.522,
          0.5539999999999999,
          0.547,
          0.564,
          0.557,
          0.5529999999999999,
          0.5870000000000001,
          0.594,
          0.607,
          0.611,
          0.617,
          0.591,
          0.588,
          0.611,
          0.605,
          0.596,
          0.598,
          0.6,
          0.596,
          0.6,
          0.629,
          0.634,
          0.623,
          0.624,
          0.625,
          0.593,
          0.595,
          0.627,
          0.624,
          0.617,
          0.616,
          0.633,
          0.5920000000000001,
          0.594,
          0.625,
          0.616,
          0.622,
          0.617,
          0.612,
          0.615,
          0.607,
          0.637,
          0.637,
          0.634,
          0.563,
          0.648,
          0.607,
          0.604,
          0.633,
          0.629,
          0.628,
          0.581,
          0.623,
          0.593,
          0.6,
          0.628,
          0.623,
          0.625,
          0.618,
          0.629,
          0.5920000000000001,
          0.584,
          0.615,
          0.638,
          0.638,
          0.639,
          0.657,
          0.617,
          0.621,
          0.649,
          0.655,
          0.635,
          0.655,
          0.647,
          0.62,
          0.617,
          0.631,
          0.65,
          0.649,
          0.653,
          0.654,
          0.623,
          0.616,
          0.645,
          0.664,
          0.6609999999999999,
          0.662,
          0.6579999999999999,
          0.618,
          0.622,
          0.657,
          0.649,
          0.645,
          0.654,
          0.662,
          0.627,
          0.628,
          0.662,
          0.655
         ]
        },
        {
         "marker": {
          "color": "LightSkyBlue",
          "line": {
           "color": "red",
           "width": 2
          },
          "opacity": 0.5,
          "size": 6
         },
         "mode": "markers",
         "showlegend": false,
         "type": "scatter",
         "x": [
          "2019-06-12T00:00:00+00:00",
          "2019-06-13T00:00:00+00:00",
          "2019-06-14T00:00:00+00:00",
          "2019-06-15T00:00:00+00:00",
          "2019-10-29T00:00:00+00:00",
          "2019-10-30T00:00:00+00:00",
          "2019-10-31T00:00:00+00:00",
          "2019-11-01T00:00:00+00:00",
          "2019-11-27T00:00:00+00:00",
          "2019-11-28T00:00:00+00:00",
          "2019-11-29T00:00:00+00:00",
          "2019-11-30T00:00:00+00:00",
          "2019-12-01T00:00:00+00:00",
          "2019-12-02T00:00:00+00:00",
          "2019-12-03T00:00:00+00:00",
          "2019-12-04T00:00:00+00:00",
          "2020-03-13T00:00:00+00:00",
          "2020-03-14T00:00:00+00:00",
          "2020-03-15T00:00:00+00:00",
          "2020-03-16T00:00:00+00:00",
          "2020-03-17T00:00:00+00:00",
          "2020-03-18T00:00:00+00:00",
          "2020-04-12T00:00:00+00:00",
          "2020-04-13T00:00:00+00:00",
          "2020-05-03T00:00:00+00:00",
          "2020-05-04T00:00:00+00:00",
          "2020-05-05T00:00:00+00:00",
          "2020-05-06T00:00:00+00:00",
          "2020-05-07T00:00:00+00:00"
         ],
         "y": [
          0.639,
          0.622,
          0.633,
          0.568,
          0.649,
          0.643,
          0.6409999999999999,
          0.653,
          0.638,
          0.625,
          0.625,
          0.589,
          0.596,
          0.645,
          0.643,
          0.018000000000000002,
          0.659,
          0.601,
          0.598,
          0.654,
          0.6409999999999999,
          0.64,
          0.6,
          0.629,
          0.607,
          0.637,
          0.637,
          0.634,
          0.563
         ]
        }
       ],
       "layout": {
        "template": {
         "data": {
          "bar": [
           {
            "error_x": {
             "color": "#2a3f5f"
            },
            "error_y": {
             "color": "#2a3f5f"
            },
            "marker": {
             "line": {
              "color": "#E5ECF6",
              "width": 0.5
             },
             "pattern": {
              "fillmode": "overlay",
              "size": 10,
              "solidity": 0.2
             }
            },
            "type": "bar"
           }
          ],
          "barpolar": [
           {
            "marker": {
             "line": {
              "color": "#E5ECF6",
              "width": 0.5
             },
             "pattern": {
              "fillmode": "overlay",
              "size": 10,
              "solidity": 0.2
             }
            },
            "type": "barpolar"
           }
          ],
          "carpet": [
           {
            "aaxis": {
             "endlinecolor": "#2a3f5f",
             "gridcolor": "white",
             "linecolor": "white",
             "minorgridcolor": "white",
             "startlinecolor": "#2a3f5f"
            },
            "baxis": {
             "endlinecolor": "#2a3f5f",
             "gridcolor": "white",
             "linecolor": "white",
             "minorgridcolor": "white",
             "startlinecolor": "#2a3f5f"
            },
            "type": "carpet"
           }
          ],
          "choropleth": [
           {
            "colorbar": {
             "outlinewidth": 0,
             "ticks": ""
            },
            "type": "choropleth"
           }
          ],
          "contour": [
           {
            "colorbar": {
             "outlinewidth": 0,
             "ticks": ""
            },
            "colorscale": [
             [
              0,
              "#0d0887"
             ],
             [
              0.1111111111111111,
              "#46039f"
             ],
             [
              0.2222222222222222,
              "#7201a8"
             ],
             [
              0.3333333333333333,
              "#9c179e"
             ],
             [
              0.4444444444444444,
              "#bd3786"
             ],
             [
              0.5555555555555556,
              "#d8576b"
             ],
             [
              0.6666666666666666,
              "#ed7953"
             ],
             [
              0.7777777777777778,
              "#fb9f3a"
             ],
             [
              0.8888888888888888,
              "#fdca26"
             ],
             [
              1,
              "#f0f921"
             ]
            ],
            "type": "contour"
           }
          ],
          "contourcarpet": [
           {
            "colorbar": {
             "outlinewidth": 0,
             "ticks": ""
            },
            "type": "contourcarpet"
           }
          ],
          "heatmap": [
           {
            "colorbar": {
             "outlinewidth": 0,
             "ticks": ""
            },
            "colorscale": [
             [
              0,
              "#0d0887"
             ],
             [
              0.1111111111111111,
              "#46039f"
             ],
             [
              0.2222222222222222,
              "#7201a8"
             ],
             [
              0.3333333333333333,
              "#9c179e"
             ],
             [
              0.4444444444444444,
              "#bd3786"
             ],
             [
              0.5555555555555556,
              "#d8576b"
             ],
             [
              0.6666666666666666,
              "#ed7953"
             ],
             [
              0.7777777777777778,
              "#fb9f3a"
             ],
             [
              0.8888888888888888,
              "#fdca26"
             ],
             [
              1,
              "#f0f921"
             ]
            ],
            "type": "heatmap"
           }
          ],
          "heatmapgl": [
           {
            "colorbar": {
             "outlinewidth": 0,
             "ticks": ""
            },
            "colorscale": [
             [
              0,
              "#0d0887"
             ],
             [
              0.1111111111111111,
              "#46039f"
             ],
             [
              0.2222222222222222,
              "#7201a8"
             ],
             [
              0.3333333333333333,
              "#9c179e"
             ],
             [
              0.4444444444444444,
              "#bd3786"
             ],
             [
              0.5555555555555556,
              "#d8576b"
             ],
             [
              0.6666666666666666,
              "#ed7953"
             ],
             [
              0.7777777777777778,
              "#fb9f3a"
             ],
             [
              0.8888888888888888,
              "#fdca26"
             ],
             [
              1,
              "#f0f921"
             ]
            ],
            "type": "heatmapgl"
           }
          ],
          "histogram": [
           {
            "marker": {
             "pattern": {
              "fillmode": "overlay",
              "size": 10,
              "solidity": 0.2
             }
            },
            "type": "histogram"
           }
          ],
          "histogram2d": [
           {
            "colorbar": {
             "outlinewidth": 0,
             "ticks": ""
            },
            "colorscale": [
             [
              0,
              "#0d0887"
             ],
             [
              0.1111111111111111,
              "#46039f"
             ],
             [
              0.2222222222222222,
              "#7201a8"
             ],
             [
              0.3333333333333333,
              "#9c179e"
             ],
             [
              0.4444444444444444,
              "#bd3786"
             ],
             [
              0.5555555555555556,
              "#d8576b"
             ],
             [
              0.6666666666666666,
              "#ed7953"
             ],
             [
              0.7777777777777778,
              "#fb9f3a"
             ],
             [
              0.8888888888888888,
              "#fdca26"
             ],
             [
              1,
              "#f0f921"
             ]
            ],
            "type": "histogram2d"
           }
          ],
          "histogram2dcontour": [
           {
            "colorbar": {
             "outlinewidth": 0,
             "ticks": ""
            },
            "colorscale": [
             [
              0,
              "#0d0887"
             ],
             [
              0.1111111111111111,
              "#46039f"
             ],
             [
              0.2222222222222222,
              "#7201a8"
             ],
             [
              0.3333333333333333,
              "#9c179e"
             ],
             [
              0.4444444444444444,
              "#bd3786"
             ],
             [
              0.5555555555555556,
              "#d8576b"
             ],
             [
              0.6666666666666666,
              "#ed7953"
             ],
             [
              0.7777777777777778,
              "#fb9f3a"
             ],
             [
              0.8888888888888888,
              "#fdca26"
             ],
             [
              1,
              "#f0f921"
             ]
            ],
            "type": "histogram2dcontour"
           }
          ],
          "mesh3d": [
           {
            "colorbar": {
             "outlinewidth": 0,
             "ticks": ""
            },
            "type": "mesh3d"
           }
          ],
          "parcoords": [
           {
            "line": {
             "colorbar": {
              "outlinewidth": 0,
              "ticks": ""
             }
            },
            "type": "parcoords"
           }
          ],
          "pie": [
           {
            "automargin": true,
            "type": "pie"
           }
          ],
          "scatter": [
           {
            "marker": {
             "colorbar": {
              "outlinewidth": 0,
              "ticks": ""
             }
            },
            "type": "scatter"
           }
          ],
          "scatter3d": [
           {
            "line": {
             "colorbar": {
              "outlinewidth": 0,
              "ticks": ""
             }
            },
            "marker": {
             "colorbar": {
              "outlinewidth": 0,
              "ticks": ""
             }
            },
            "type": "scatter3d"
           }
          ],
          "scattercarpet": [
           {
            "marker": {
             "colorbar": {
              "outlinewidth": 0,
              "ticks": ""
             }
            },
            "type": "scattercarpet"
           }
          ],
          "scattergeo": [
           {
            "marker": {
             "colorbar": {
              "outlinewidth": 0,
              "ticks": ""
             }
            },
            "type": "scattergeo"
           }
          ],
          "scattergl": [
           {
            "marker": {
             "colorbar": {
              "outlinewidth": 0,
              "ticks": ""
             }
            },
            "type": "scattergl"
           }
          ],
          "scattermapbox": [
           {
            "marker": {
             "colorbar": {
              "outlinewidth": 0,
              "ticks": ""
             }
            },
            "type": "scattermapbox"
           }
          ],
          "scatterpolar": [
           {
            "marker": {
             "colorbar": {
              "outlinewidth": 0,
              "ticks": ""
             }
            },
            "type": "scatterpolar"
           }
          ],
          "scatterpolargl": [
           {
            "marker": {
             "colorbar": {
              "outlinewidth": 0,
              "ticks": ""
             }
            },
            "type": "scatterpolargl"
           }
          ],
          "scatterternary": [
           {
            "marker": {
             "colorbar": {
              "outlinewidth": 0,
              "ticks": ""
             }
            },
            "type": "scatterternary"
           }
          ],
          "surface": [
           {
            "colorbar": {
             "outlinewidth": 0,
             "ticks": ""
            },
            "colorscale": [
             [
              0,
              "#0d0887"
             ],
             [
              0.1111111111111111,
              "#46039f"
             ],
             [
              0.2222222222222222,
              "#7201a8"
             ],
             [
              0.3333333333333333,
              "#9c179e"
             ],
             [
              0.4444444444444444,
              "#bd3786"
             ],
             [
              0.5555555555555556,
              "#d8576b"
             ],
             [
              0.6666666666666666,
              "#ed7953"
             ],
             [
              0.7777777777777778,
              "#fb9f3a"
             ],
             [
              0.8888888888888888,
              "#fdca26"
             ],
             [
              1,
              "#f0f921"
             ]
            ],
            "type": "surface"
           }
          ],
          "table": [
           {
            "cells": {
             "fill": {
              "color": "#EBF0F8"
             },
             "line": {
              "color": "white"
             }
            },
            "header": {
             "fill": {
              "color": "#C8D4E3"
             },
             "line": {
              "color": "white"
             }
            },
            "type": "table"
           }
          ]
         },
         "layout": {
          "annotationdefaults": {
           "arrowcolor": "#2a3f5f",
           "arrowhead": 0,
           "arrowwidth": 1
          },
          "autotypenumbers": "strict",
          "coloraxis": {
           "colorbar": {
            "outlinewidth": 0,
            "ticks": ""
           }
          },
          "colorscale": {
           "diverging": [
            [
             0,
             "#8e0152"
            ],
            [
             0.1,
             "#c51b7d"
            ],
            [
             0.2,
             "#de77ae"
            ],
            [
             0.3,
             "#f1b6da"
            ],
            [
             0.4,
             "#fde0ef"
            ],
            [
             0.5,
             "#f7f7f7"
            ],
            [
             0.6,
             "#e6f5d0"
            ],
            [
             0.7,
             "#b8e186"
            ],
            [
             0.8,
             "#7fbc41"
            ],
            [
             0.9,
             "#4d9221"
            ],
            [
             1,
             "#276419"
            ]
           ],
           "sequential": [
            [
             0,
             "#0d0887"
            ],
            [
             0.1111111111111111,
             "#46039f"
            ],
            [
             0.2222222222222222,
             "#7201a8"
            ],
            [
             0.3333333333333333,
             "#9c179e"
            ],
            [
             0.4444444444444444,
             "#bd3786"
            ],
            [
             0.5555555555555556,
             "#d8576b"
            ],
            [
             0.6666666666666666,
             "#ed7953"
            ],
            [
             0.7777777777777778,
             "#fb9f3a"
            ],
            [
             0.8888888888888888,
             "#fdca26"
            ],
            [
             1,
             "#f0f921"
            ]
           ],
           "sequentialminus": [
            [
             0,
             "#0d0887"
            ],
            [
             0.1111111111111111,
             "#46039f"
            ],
            [
             0.2222222222222222,
             "#7201a8"
            ],
            [
             0.3333333333333333,
             "#9c179e"
            ],
            [
             0.4444444444444444,
             "#bd3786"
            ],
            [
             0.5555555555555556,
             "#d8576b"
            ],
            [
             0.6666666666666666,
             "#ed7953"
            ],
            [
             0.7777777777777778,
             "#fb9f3a"
            ],
            [
             0.8888888888888888,
             "#fdca26"
            ],
            [
             1,
             "#f0f921"
            ]
           ]
          },
          "colorway": [
           "#636efa",
           "#EF553B",
           "#00cc96",
           "#ab63fa",
           "#FFA15A",
           "#19d3f3",
           "#FF6692",
           "#B6E880",
           "#FF97FF",
           "#FECB52"
          ],
          "font": {
           "color": "#2a3f5f"
          },
          "geo": {
           "bgcolor": "white",
           "lakecolor": "white",
           "landcolor": "#E5ECF6",
           "showlakes": true,
           "showland": true,
           "subunitcolor": "white"
          },
          "hoverlabel": {
           "align": "left"
          },
          "hovermode": "closest",
          "mapbox": {
           "style": "light"
          },
          "paper_bgcolor": "white",
          "plot_bgcolor": "#E5ECF6",
          "polar": {
           "angularaxis": {
            "gridcolor": "white",
            "linecolor": "white",
            "ticks": ""
           },
           "bgcolor": "#E5ECF6",
           "radialaxis": {
            "gridcolor": "white",
            "linecolor": "white",
            "ticks": ""
           }
          },
          "scene": {
           "xaxis": {
            "backgroundcolor": "#E5ECF6",
            "gridcolor": "white",
            "gridwidth": 2,
            "linecolor": "white",
            "showbackground": true,
            "ticks": "",
            "zerolinecolor": "white"
           },
           "yaxis": {
            "backgroundcolor": "#E5ECF6",
            "gridcolor": "white",
            "gridwidth": 2,
            "linecolor": "white",
            "showbackground": true,
            "ticks": "",
            "zerolinecolor": "white"
           },
           "zaxis": {
            "backgroundcolor": "#E5ECF6",
            "gridcolor": "white",
            "gridwidth": 2,
            "linecolor": "white",
            "showbackground": true,
            "ticks": "",
            "zerolinecolor": "white"
           }
          },
          "shapedefaults": {
           "line": {
            "color": "#2a3f5f"
           }
          },
          "ternary": {
           "aaxis": {
            "gridcolor": "white",
            "linecolor": "white",
            "ticks": ""
           },
           "baxis": {
            "gridcolor": "white",
            "linecolor": "white",
            "ticks": ""
           },
           "bgcolor": "#E5ECF6",
           "caxis": {
            "gridcolor": "white",
            "linecolor": "white",
            "ticks": ""
           }
          },
          "title": {
           "x": 0.05
          },
          "xaxis": {
           "automargin": true,
           "gridcolor": "white",
           "linecolor": "white",
           "ticks": "",
           "title": {
            "standoff": 15
           },
           "zerolinecolor": "white",
           "zerolinewidth": 2
          },
          "yaxis": {
           "automargin": true,
           "gridcolor": "white",
           "linecolor": "white",
           "ticks": "",
           "title": {
            "standoff": 15
           },
           "zerolinecolor": "white",
           "zerolinewidth": 2
          }
         }
        },
        "title": {
         "text": " Volatility Shift Ad Plot for site MLA on flow direct and device Desktop"
        }
       }
      },
      "text/html": [
       "<div>                            <div id=\"3fbc73bd-1ac4-42b7-b1ca-06bb483ba62b\" class=\"plotly-graph-div\" style=\"height:525px; width:100%;\"></div>            <script type=\"text/javascript\">                require([\"plotly\"], function(Plotly) {                    window.PLOTLYENV=window.PLOTLYENV || {};                                    if (document.getElementById(\"3fbc73bd-1ac4-42b7-b1ca-06bb483ba62b\")) {                    Plotly.newPlot(                        \"3fbc73bd-1ac4-42b7-b1ca-06bb483ba62b\",                        [{\"mode\":\"lines\",\"name\":\"TOTAL\",\"type\":\"scatter\",\"x\":[\"2019-03-01T00:00:00+00:00\",\"2019-03-02T00:00:00+00:00\",\"2019-03-03T00:00:00+00:00\",\"2019-03-04T00:00:00+00:00\",\"2019-03-05T00:00:00+00:00\",\"2019-03-06T00:00:00+00:00\",\"2019-03-07T00:00:00+00:00\",\"2019-03-08T00:00:00+00:00\",\"2019-03-09T00:00:00+00:00\",\"2019-03-10T00:00:00+00:00\",\"2019-03-11T00:00:00+00:00\",\"2019-03-12T00:00:00+00:00\",\"2019-03-13T00:00:00+00:00\",\"2019-03-14T00:00:00+00:00\",\"2019-03-15T00:00:00+00:00\",\"2019-03-16T00:00:00+00:00\",\"2019-03-17T00:00:00+00:00\",\"2019-03-18T00:00:00+00:00\",\"2019-03-19T00:00:00+00:00\",\"2019-03-20T00:00:00+00:00\",\"2019-03-21T00:00:00+00:00\",\"2019-03-22T00:00:00+00:00\",\"2019-03-23T00:00:00+00:00\",\"2019-03-24T00:00:00+00:00\",\"2019-03-25T00:00:00+00:00\",\"2019-03-26T00:00:00+00:00\",\"2019-03-27T00:00:00+00:00\",\"2019-03-28T00:00:00+00:00\",\"2019-03-29T00:00:00+00:00\",\"2019-03-30T00:00:00+00:00\",\"2019-03-31T00:00:00+00:00\",\"2019-04-01T00:00:00+00:00\",\"2019-04-02T00:00:00+00:00\",\"2019-04-03T00:00:00+00:00\",\"2019-04-04T00:00:00+00:00\",\"2019-04-05T00:00:00+00:00\",\"2019-04-06T00:00:00+00:00\",\"2019-04-07T00:00:00+00:00\",\"2019-04-08T00:00:00+00:00\",\"2019-04-09T00:00:00+00:00\",\"2019-04-10T00:00:00+00:00\",\"2019-04-11T00:00:00+00:00\",\"2019-04-12T00:00:00+00:00\",\"2019-04-13T00:00:00+00:00\",\"2019-04-14T00:00:00+00:00\",\"2019-04-15T00:00:00+00:00\",\"2019-04-16T00:00:00+00:00\",\"2019-04-17T00:00:00+00:00\",\"2019-04-18T00:00:00+00:00\",\"2019-04-19T00:00:00+00:00\",\"2019-04-20T00:00:00+00:00\",\"2019-04-21T00:00:00+00:00\",\"2019-04-22T00:00:00+00:00\",\"2019-04-23T00:00:00+00:00\",\"2019-04-24T00:00:00+00:00\",\"2019-04-25T00:00:00+00:00\",\"2019-04-26T00:00:00+00:00\",\"2019-04-27T00:00:00+00:00\",\"2019-04-28T00:00:00+00:00\",\"2019-04-29T00:00:00+00:00\",\"2019-04-30T00:00:00+00:00\",\"2019-05-01T00:00:00+00:00\",\"2019-05-02T00:00:00+00:00\",\"2019-05-03T00:00:00+00:00\",\"2019-05-04T00:00:00+00:00\",\"2019-05-05T00:00:00+00:00\",\"2019-05-06T00:00:00+00:00\",\"2019-05-07T00:00:00+00:00\",\"2019-05-08T00:00:00+00:00\",\"2019-05-09T00:00:00+00:00\",\"2019-05-10T00:00:00+00:00\",\"2019-05-11T00:00:00+00:00\",\"2019-05-12T00:00:00+00:00\",\"2019-05-13T00:00:00+00:00\",\"2019-05-14T00:00:00+00:00\",\"2019-05-15T00:00:00+00:00\",\"2019-05-16T00:00:00+00:00\",\"2019-05-17T00:00:00+00:00\",\"2019-05-18T00:00:00+00:00\",\"2019-05-19T00:00:00+00:00\",\"2019-05-20T00:00:00+00:00\",\"2019-05-21T00:00:00+00:00\",\"2019-05-22T00:00:00+00:00\",\"2019-05-23T00:00:00+00:00\",\"2019-05-24T00:00:00+00:00\",\"2019-05-25T00:00:00+00:00\",\"2019-05-26T00:00:00+00:00\",\"2019-05-27T00:00:00+00:00\",\"2019-05-28T00:00:00+00:00\",\"2019-05-29T00:00:00+00:00\",\"2019-05-30T00:00:00+00:00\",\"2019-05-31T00:00:00+00:00\",\"2019-06-01T00:00:00+00:00\",\"2019-06-02T00:00:00+00:00\",\"2019-06-03T00:00:00+00:00\",\"2019-06-04T00:00:00+00:00\",\"2019-06-05T00:00:00+00:00\",\"2019-06-06T00:00:00+00:00\",\"2019-06-07T00:00:00+00:00\",\"2019-06-08T00:00:00+00:00\",\"2019-06-09T00:00:00+00:00\",\"2019-06-10T00:00:00+00:00\",\"2019-06-11T00:00:00+00:00\",\"2019-06-12T00:00:00+00:00\",\"2019-06-13T00:00:00+00:00\",\"2019-06-14T00:00:00+00:00\",\"2019-06-15T00:00:00+00:00\",\"2019-06-16T00:00:00+00:00\",\"2019-06-17T00:00:00+00:00\",\"2019-06-18T00:00:00+00:00\",\"2019-06-19T00:00:00+00:00\",\"2019-06-20T00:00:00+00:00\",\"2019-06-21T00:00:00+00:00\",\"2019-06-22T00:00:00+00:00\",\"2019-06-23T00:00:00+00:00\",\"2019-06-24T00:00:00+00:00\",\"2019-06-25T00:00:00+00:00\",\"2019-06-26T00:00:00+00:00\",\"2019-06-27T00:00:00+00:00\",\"2019-06-28T00:00:00+00:00\",\"2019-06-29T00:00:00+00:00\",\"2019-06-30T00:00:00+00:00\",\"2019-07-01T00:00:00+00:00\",\"2019-07-02T00:00:00+00:00\",\"2019-07-03T00:00:00+00:00\",\"2019-07-04T00:00:00+00:00\",\"2019-07-05T00:00:00+00:00\",\"2019-07-06T00:00:00+00:00\",\"2019-07-07T00:00:00+00:00\",\"2019-07-08T00:00:00+00:00\",\"2019-07-09T00:00:00+00:00\",\"2019-07-10T00:00:00+00:00\",\"2019-07-11T00:00:00+00:00\",\"2019-07-12T00:00:00+00:00\",\"2019-07-13T00:00:00+00:00\",\"2019-07-14T00:00:00+00:00\",\"2019-07-15T00:00:00+00:00\",\"2019-07-16T00:00:00+00:00\",\"2019-07-17T00:00:00+00:00\",\"2019-07-18T00:00:00+00:00\",\"2019-07-19T00:00:00+00:00\",\"2019-07-20T00:00:00+00:00\",\"2019-07-21T00:00:00+00:00\",\"2019-07-22T00:00:00+00:00\",\"2019-07-23T00:00:00+00:00\",\"2019-07-24T00:00:00+00:00\",\"2019-07-25T00:00:00+00:00\",\"2019-07-26T00:00:00+00:00\",\"2019-07-27T00:00:00+00:00\",\"2019-07-28T00:00:00+00:00\",\"2019-07-29T00:00:00+00:00\",\"2019-07-30T00:00:00+00:00\",\"2019-07-31T00:00:00+00:00\",\"2019-08-01T00:00:00+00:00\",\"2019-08-02T00:00:00+00:00\",\"2019-08-03T00:00:00+00:00\",\"2019-08-04T00:00:00+00:00\",\"2019-08-05T00:00:00+00:00\",\"2019-08-06T00:00:00+00:00\",\"2019-08-07T00:00:00+00:00\",\"2019-08-08T00:00:00+00:00\",\"2019-08-09T00:00:00+00:00\",\"2019-08-10T00:00:00+00:00\",\"2019-08-11T00:00:00+00:00\",\"2019-08-12T00:00:00+00:00\",\"2019-08-13T00:00:00+00:00\",\"2019-08-14T00:00:00+00:00\",\"2019-08-15T00:00:00+00:00\",\"2019-08-16T00:00:00+00:00\",\"2019-08-17T00:00:00+00:00\",\"2019-08-18T00:00:00+00:00\",\"2019-08-19T00:00:00+00:00\",\"2019-08-20T00:00:00+00:00\",\"2019-08-21T00:00:00+00:00\",\"2019-08-22T00:00:00+00:00\",\"2019-08-23T00:00:00+00:00\",\"2019-08-24T00:00:00+00:00\",\"2019-08-25T00:00:00+00:00\",\"2019-08-26T00:00:00+00:00\",\"2019-08-27T00:00:00+00:00\",\"2019-08-28T00:00:00+00:00\",\"2019-08-29T00:00:00+00:00\",\"2019-08-30T00:00:00+00:00\",\"2019-08-31T00:00:00+00:00\",\"2019-09-01T00:00:00+00:00\",\"2019-09-02T00:00:00+00:00\",\"2019-09-03T00:00:00+00:00\",\"2019-09-04T00:00:00+00:00\",\"2019-09-05T00:00:00+00:00\",\"2019-09-06T00:00:00+00:00\",\"2019-09-07T00:00:00+00:00\",\"2019-09-08T00:00:00+00:00\",\"2019-09-09T00:00:00+00:00\",\"2019-09-10T00:00:00+00:00\",\"2019-09-11T00:00:00+00:00\",\"2019-09-12T00:00:00+00:00\",\"2019-09-13T00:00:00+00:00\",\"2019-09-14T00:00:00+00:00\",\"2019-09-15T00:00:00+00:00\",\"2019-09-16T00:00:00+00:00\",\"2019-09-17T00:00:00+00:00\",\"2019-09-18T00:00:00+00:00\",\"2019-09-19T00:00:00+00:00\",\"2019-09-20T00:00:00+00:00\",\"2019-09-21T00:00:00+00:00\",\"2019-09-22T00:00:00+00:00\",\"2019-09-23T00:00:00+00:00\",\"2019-09-24T00:00:00+00:00\",\"2019-09-25T00:00:00+00:00\",\"2019-09-26T00:00:00+00:00\",\"2019-09-27T00:00:00+00:00\",\"2019-09-28T00:00:00+00:00\",\"2019-09-29T00:00:00+00:00\",\"2019-09-30T00:00:00+00:00\",\"2019-10-01T00:00:00+00:00\",\"2019-10-02T00:00:00+00:00\",\"2019-10-03T00:00:00+00:00\",\"2019-10-04T00:00:00+00:00\",\"2019-10-05T00:00:00+00:00\",\"2019-10-06T00:00:00+00:00\",\"2019-10-07T00:00:00+00:00\",\"2019-10-08T00:00:00+00:00\",\"2019-10-09T00:00:00+00:00\",\"2019-10-10T00:00:00+00:00\",\"2019-10-11T00:00:00+00:00\",\"2019-10-12T00:00:00+00:00\",\"2019-10-13T00:00:00+00:00\",\"2019-10-14T00:00:00+00:00\",\"2019-10-15T00:00:00+00:00\",\"2019-10-16T00:00:00+00:00\",\"2019-10-17T00:00:00+00:00\",\"2019-10-18T00:00:00+00:00\",\"2019-10-19T00:00:00+00:00\",\"2019-10-20T00:00:00+00:00\",\"2019-10-21T00:00:00+00:00\",\"2019-10-22T00:00:00+00:00\",\"2019-10-23T00:00:00+00:00\",\"2019-10-24T00:00:00+00:00\",\"2019-10-25T00:00:00+00:00\",\"2019-10-26T00:00:00+00:00\",\"2019-10-27T00:00:00+00:00\",\"2019-10-28T00:00:00+00:00\",\"2019-10-29T00:00:00+00:00\",\"2019-10-30T00:00:00+00:00\",\"2019-10-31T00:00:00+00:00\",\"2019-11-01T00:00:00+00:00\",\"2019-11-02T00:00:00+00:00\",\"2019-11-03T00:00:00+00:00\",\"2019-11-04T00:00:00+00:00\",\"2019-11-05T00:00:00+00:00\",\"2019-11-06T00:00:00+00:00\",\"2019-11-07T00:00:00+00:00\",\"2019-11-08T00:00:00+00:00\",\"2019-11-09T00:00:00+00:00\",\"2019-11-10T00:00:00+00:00\",\"2019-11-11T00:00:00+00:00\",\"2019-11-12T00:00:00+00:00\",\"2019-11-13T00:00:00+00:00\",\"2019-11-14T00:00:00+00:00\",\"2019-11-15T00:00:00+00:00\",\"2019-11-16T00:00:00+00:00\",\"2019-11-17T00:00:00+00:00\",\"2019-11-18T00:00:00+00:00\",\"2019-11-19T00:00:00+00:00\",\"2019-11-20T00:00:00+00:00\",\"2019-11-21T00:00:00+00:00\",\"2019-11-22T00:00:00+00:00\",\"2019-11-23T00:00:00+00:00\",\"2019-11-24T00:00:00+00:00\",\"2019-11-25T00:00:00+00:00\",\"2019-11-26T00:00:00+00:00\",\"2019-11-27T00:00:00+00:00\",\"2019-11-28T00:00:00+00:00\",\"2019-11-29T00:00:00+00:00\",\"2019-11-30T00:00:00+00:00\",\"2019-12-01T00:00:00+00:00\",\"2019-12-02T00:00:00+00:00\",\"2019-12-03T00:00:00+00:00\",\"2019-12-04T00:00:00+00:00\",\"2019-12-05T00:00:00+00:00\",\"2019-12-06T00:00:00+00:00\",\"2019-12-07T00:00:00+00:00\",\"2019-12-08T00:00:00+00:00\",\"2019-12-09T00:00:00+00:00\",\"2019-12-10T00:00:00+00:00\",\"2019-12-11T00:00:00+00:00\",\"2019-12-12T00:00:00+00:00\",\"2019-12-13T00:00:00+00:00\",\"2019-12-14T00:00:00+00:00\",\"2019-12-15T00:00:00+00:00\",\"2019-12-16T00:00:00+00:00\",\"2019-12-17T00:00:00+00:00\",\"2019-12-18T00:00:00+00:00\",\"2019-12-19T00:00:00+00:00\",\"2019-12-20T00:00:00+00:00\",\"2019-12-21T00:00:00+00:00\",\"2019-12-22T00:00:00+00:00\",\"2019-12-23T00:00:00+00:00\",\"2019-12-24T00:00:00+00:00\",\"2019-12-25T00:00:00+00:00\",\"2019-12-26T00:00:00+00:00\",\"2019-12-27T00:00:00+00:00\",\"2019-12-28T00:00:00+00:00\",\"2019-12-29T00:00:00+00:00\",\"2019-12-30T00:00:00+00:00\",\"2019-12-31T00:00:00+00:00\",\"2020-01-01T00:00:00+00:00\",\"2020-01-02T00:00:00+00:00\",\"2020-01-03T00:00:00+00:00\",\"2020-01-04T00:00:00+00:00\",\"2020-01-05T00:00:00+00:00\",\"2020-01-06T00:00:00+00:00\",\"2020-01-07T00:00:00+00:00\",\"2020-01-08T00:00:00+00:00\",\"2020-01-09T00:00:00+00:00\",\"2020-01-10T00:00:00+00:00\",\"2020-01-11T00:00:00+00:00\",\"2020-01-12T00:00:00+00:00\",\"2020-01-13T00:00:00+00:00\",\"2020-01-14T00:00:00+00:00\",\"2020-01-15T00:00:00+00:00\",\"2020-01-16T00:00:00+00:00\",\"2020-01-17T00:00:00+00:00\",\"2020-01-18T00:00:00+00:00\",\"2020-01-19T00:00:00+00:00\",\"2020-01-20T00:00:00+00:00\",\"2020-01-21T00:00:00+00:00\",\"2020-01-22T00:00:00+00:00\",\"2020-01-23T00:00:00+00:00\",\"2020-01-24T00:00:00+00:00\",\"2020-01-25T00:00:00+00:00\",\"2020-01-26T00:00:00+00:00\",\"2020-01-27T00:00:00+00:00\",\"2020-01-28T00:00:00+00:00\",\"2020-01-29T00:00:00+00:00\",\"2020-01-30T00:00:00+00:00\",\"2020-01-31T00:00:00+00:00\",\"2020-02-01T00:00:00+00:00\",\"2020-02-02T00:00:00+00:00\",\"2020-02-03T00:00:00+00:00\",\"2020-02-04T00:00:00+00:00\",\"2020-02-05T00:00:00+00:00\",\"2020-02-06T00:00:00+00:00\",\"2020-02-07T00:00:00+00:00\",\"2020-02-08T00:00:00+00:00\",\"2020-02-09T00:00:00+00:00\",\"2020-02-10T00:00:00+00:00\",\"2020-02-11T00:00:00+00:00\",\"2020-02-12T00:00:00+00:00\",\"2020-02-13T00:00:00+00:00\",\"2020-02-14T00:00:00+00:00\",\"2020-02-15T00:00:00+00:00\",\"2020-02-16T00:00:00+00:00\",\"2020-02-17T00:00:00+00:00\",\"2020-02-18T00:00:00+00:00\",\"2020-02-19T00:00:00+00:00\",\"2020-02-20T00:00:00+00:00\",\"2020-02-21T00:00:00+00:00\",\"2020-02-22T00:00:00+00:00\",\"2020-02-23T00:00:00+00:00\",\"2020-02-24T00:00:00+00:00\",\"2020-02-25T00:00:00+00:00\",\"2020-02-26T00:00:00+00:00\",\"2020-02-27T00:00:00+00:00\",\"2020-02-28T00:00:00+00:00\",\"2020-02-29T00:00:00+00:00\",\"2020-03-01T00:00:00+00:00\",\"2020-03-02T00:00:00+00:00\",\"2020-03-03T00:00:00+00:00\",\"2020-03-04T00:00:00+00:00\",\"2020-03-05T00:00:00+00:00\",\"2020-03-06T00:00:00+00:00\",\"2020-03-07T00:00:00+00:00\",\"2020-03-08T00:00:00+00:00\",\"2020-03-09T00:00:00+00:00\",\"2020-03-10T00:00:00+00:00\",\"2020-03-11T00:00:00+00:00\",\"2020-03-12T00:00:00+00:00\",\"2020-03-13T00:00:00+00:00\",\"2020-03-14T00:00:00+00:00\",\"2020-03-15T00:00:00+00:00\",\"2020-03-16T00:00:00+00:00\",\"2020-03-17T00:00:00+00:00\",\"2020-03-18T00:00:00+00:00\",\"2020-03-19T00:00:00+00:00\",\"2020-03-20T00:00:00+00:00\",\"2020-03-21T00:00:00+00:00\",\"2020-03-22T00:00:00+00:00\",\"2020-03-23T00:00:00+00:00\",\"2020-03-24T00:00:00+00:00\",\"2020-03-25T00:00:00+00:00\",\"2020-03-26T00:00:00+00:00\",\"2020-03-27T00:00:00+00:00\",\"2020-03-28T00:00:00+00:00\",\"2020-03-29T00:00:00+00:00\",\"2020-03-30T00:00:00+00:00\",\"2020-03-31T00:00:00+00:00\",\"2020-04-01T00:00:00+00:00\",\"2020-04-02T00:00:00+00:00\",\"2020-04-03T00:00:00+00:00\",\"2020-04-04T00:00:00+00:00\",\"2020-04-05T00:00:00+00:00\",\"2020-04-06T00:00:00+00:00\",\"2020-04-07T00:00:00+00:00\",\"2020-04-08T00:00:00+00:00\",\"2020-04-09T00:00:00+00:00\",\"2020-04-10T00:00:00+00:00\",\"2020-04-11T00:00:00+00:00\",\"2020-04-12T00:00:00+00:00\",\"2020-04-13T00:00:00+00:00\",\"2020-04-14T00:00:00+00:00\",\"2020-04-15T00:00:00+00:00\",\"2020-04-16T00:00:00+00:00\",\"2020-04-17T00:00:00+00:00\",\"2020-04-18T00:00:00+00:00\",\"2020-04-19T00:00:00+00:00\",\"2020-04-20T00:00:00+00:00\",\"2020-04-21T00:00:00+00:00\",\"2020-04-22T00:00:00+00:00\",\"2020-04-23T00:00:00+00:00\",\"2020-04-24T00:00:00+00:00\",\"2020-04-25T00:00:00+00:00\",\"2020-04-26T00:00:00+00:00\",\"2020-04-27T00:00:00+00:00\",\"2020-04-28T00:00:00+00:00\",\"2020-04-29T00:00:00+00:00\",\"2020-04-30T00:00:00+00:00\",\"2020-05-01T00:00:00+00:00\",\"2020-05-02T00:00:00+00:00\",\"2020-05-03T00:00:00+00:00\",\"2020-05-04T00:00:00+00:00\",\"2020-05-05T00:00:00+00:00\",\"2020-05-06T00:00:00+00:00\",\"2020-05-07T00:00:00+00:00\",\"2020-05-08T00:00:00+00:00\",\"2020-05-09T00:00:00+00:00\",\"2020-05-10T00:00:00+00:00\",\"2020-05-11T00:00:00+00:00\",\"2020-05-12T00:00:00+00:00\",\"2020-05-13T00:00:00+00:00\",\"2020-05-14T00:00:00+00:00\",\"2020-05-15T00:00:00+00:00\",\"2020-05-16T00:00:00+00:00\",\"2020-05-17T00:00:00+00:00\",\"2020-05-18T00:00:00+00:00\",\"2020-05-19T00:00:00+00:00\",\"2020-05-20T00:00:00+00:00\",\"2020-05-21T00:00:00+00:00\",\"2020-05-22T00:00:00+00:00\",\"2020-05-23T00:00:00+00:00\",\"2020-05-24T00:00:00+00:00\",\"2020-05-25T00:00:00+00:00\",\"2020-05-26T00:00:00+00:00\",\"2020-05-27T00:00:00+00:00\",\"2020-05-28T00:00:00+00:00\",\"2020-05-29T00:00:00+00:00\",\"2020-05-30T00:00:00+00:00\",\"2020-05-31T00:00:00+00:00\",\"2020-06-01T00:00:00+00:00\",\"2020-06-02T00:00:00+00:00\",\"2020-06-03T00:00:00+00:00\",\"2020-06-04T00:00:00+00:00\",\"2020-06-05T00:00:00+00:00\",\"2020-06-06T00:00:00+00:00\",\"2020-06-07T00:00:00+00:00\",\"2020-06-08T00:00:00+00:00\",\"2020-06-09T00:00:00+00:00\",\"2020-06-10T00:00:00+00:00\",\"2020-06-11T00:00:00+00:00\",\"2020-06-12T00:00:00+00:00\",\"2020-06-13T00:00:00+00:00\",\"2020-06-14T00:00:00+00:00\",\"2020-06-15T00:00:00+00:00\",\"2020-06-16T00:00:00+00:00\",\"2020-06-17T00:00:00+00:00\",\"2020-06-18T00:00:00+00:00\",\"2020-06-19T00:00:00+00:00\",\"2020-06-20T00:00:00+00:00\",\"2020-06-21T00:00:00+00:00\",\"2020-06-22T00:00:00+00:00\",\"2020-06-23T00:00:00+00:00\",\"2020-06-24T00:00:00+00:00\",\"2020-06-25T00:00:00+00:00\",\"2020-06-26T00:00:00+00:00\",\"2020-06-27T00:00:00+00:00\",\"2020-06-28T00:00:00+00:00\",\"2020-06-29T00:00:00+00:00\",\"2020-06-30T00:00:00+00:00\"],\"y\":[0.6659999999999999,0.609,0.5720000000000001,0.588,0.622,0.665,0.665,0.6659999999999999,0.609,0.604,0.64,0.644,0.64,0.645,0.647,0.5710000000000001,0.584,0.653,0.645,0.632,0.643,0.66,0.61,0.6,0.6579999999999999,0.648,0.65,0.652,0.6659999999999999,0.61,0.605,0.664,0.619,0.6659999999999999,0.653,0.659,0.619,0.611,0.664,0.6579999999999999,0.653,0.637,0.647,0.596,0.5920000000000001,0.6579999999999999,0.648,0.648,0.614,0.58,0.5920000000000001,0.5920000000000001,0.638,0.634,0.632,0.632,0.647,0.594,0.5820000000000001,0.635,0.62,0.584,0.649,0.6509999999999999,0.602,0.594,0.6559999999999999,0.647,0.642,0.634,0.638,0.596,0.565,0.556,0.578,0.599,0.602,0.593,0.5589999999999999,0.573,0.61,0.62,0.62,0.621,0.648,0.594,0.595,0.6409999999999999,0.597,0.606,0.633,0.655,0.614,0.596,0.649,0.642,0.637,0.631,0.645,0.59,0.598,0.64,0.635,0.639,0.622,0.633,0.568,0.532,0.599,0.662,0.63,0.5870000000000001,0.65,0.597,0.5670000000000001,0.655,0.6459999999999999,0.631,0.633,0.6459999999999999,0.597,0.588,0.653,0.645,0.64,0.602,0.626,0.594,0.58,0.598,0.597,0.654,0.638,0.63,0.568,0.5770000000000001,0.638,0.638,0.628,0.625,0.626,0.573,0.563,0.61,0.612,0.589,0.584,0.624,0.5720000000000001,0.5710000000000001,0.614,0.596,0.605,0.636,0.617,0.581,0.5870000000000001,0.654,0.633,0.65,0.635,0.633,0.609,0.615,0.6709999999999999,0.659,0.648,0.578,0.62,0.602,0.5770000000000001,0.601,0.622,0.633,0.616,0.629,0.599,0.589,0.644,0.631,0.645,0.634,0.633,0.598,0.611,0.652,0.639,0.637,0.636,0.638,0.597,0.601,0.647,0.6459999999999999,0.6409999999999999,0.632,0.648,0.584,0.5870000000000001,0.636,0.6409999999999999,0.649,0.624,0.644,0.57,0.5820000000000001,0.639,0.634,0.638,0.633,0.652,0.603,0.597,0.653,0.648,0.654,0.649,0.645,0.603,0.618,0.6579999999999999,0.65,0.6509999999999999,0.65,0.642,0.594,0.594,0.615,0.655,0.649,0.637,0.632,0.608,0.585,0.632,0.625,0.644,0.647,0.6809999999999999,0.64,0.647,0.644,0.649,0.643,0.6409999999999999,0.653,0.589,0.5720000000000001,0.564,0.593,0.616,0.62,0.64,0.589,0.595,0.649,0.644,0.654,0.642,0.649,0.585,0.578,0.614,0.648,0.643,0.599,0.649,0.599,0.588,0.643,0.6409999999999999,0.638,0.625,0.625,0.589,0.596,0.645,0.643,0.018000000000000002,0.209,0.309,0.5760000000000001,0.605,0.669,0.669,0.655,0.647,0.665,0.62,0.635,0.606,0.6659999999999999,0.669,0.67,0.6659999999999999,0.633,0.62,0.674,0.629,0.588,0.653,0.6559999999999999,0.617,0.613,0.659,0.632,0.599,0.659,0.63,0.618,0.599,0.662,0.6509999999999999,0.6559999999999999,0.653,0.65,0.599,0.6,0.6629999999999999,0.652,0.647,0.642,0.647,0.597,0.583,0.648,0.639,0.636,0.63,0.654,0.601,0.593,0.648,0.644,0.634,0.636,0.6559999999999999,0.611,0.606,0.6659999999999999,0.66,0.6559999999999999,0.653,0.648,0.608,0.601,0.662,0.6579999999999999,0.6559999999999999,0.649,0.653,0.602,0.598,0.65,0.649,0.647,0.638,0.648,0.589,0.57,0.59,0.621,0.665,0.6509999999999999,0.653,0.617,0.619,0.66,0.659,0.66,0.652,0.6509999999999999,0.615,0.606,0.653,0.6559999999999999,0.65,0.655,0.659,0.601,0.598,0.654,0.6409999999999999,0.64,0.631,0.541,0.515,0.512,0.529,0.522,0.5539999999999999,0.547,0.564,0.557,0.5529999999999999,0.5870000000000001,0.594,0.607,0.611,0.617,0.591,0.588,0.611,0.605,0.596,0.598,0.6,0.596,0.6,0.629,0.634,0.623,0.624,0.625,0.593,0.595,0.627,0.624,0.617,0.616,0.633,0.5920000000000001,0.594,0.625,0.616,0.622,0.617,0.612,0.615,0.607,0.637,0.637,0.634,0.563,0.648,0.607,0.604,0.633,0.629,0.628,0.581,0.623,0.593,0.6,0.628,0.623,0.625,0.618,0.629,0.5920000000000001,0.584,0.615,0.638,0.638,0.639,0.657,0.617,0.621,0.649,0.655,0.635,0.655,0.647,0.62,0.617,0.631,0.65,0.649,0.653,0.654,0.623,0.616,0.645,0.664,0.6609999999999999,0.662,0.6579999999999999,0.618,0.622,0.657,0.649,0.645,0.654,0.662,0.627,0.628,0.662,0.655]},{\"marker\":{\"color\":\"LightSkyBlue\",\"line\":{\"color\":\"red\",\"width\":2},\"opacity\":0.5,\"size\":6},\"mode\":\"markers\",\"showlegend\":false,\"type\":\"scatter\",\"x\":[\"2019-06-12T00:00:00+00:00\",\"2019-06-13T00:00:00+00:00\",\"2019-06-14T00:00:00+00:00\",\"2019-06-15T00:00:00+00:00\",\"2019-10-29T00:00:00+00:00\",\"2019-10-30T00:00:00+00:00\",\"2019-10-31T00:00:00+00:00\",\"2019-11-01T00:00:00+00:00\",\"2019-11-27T00:00:00+00:00\",\"2019-11-28T00:00:00+00:00\",\"2019-11-29T00:00:00+00:00\",\"2019-11-30T00:00:00+00:00\",\"2019-12-01T00:00:00+00:00\",\"2019-12-02T00:00:00+00:00\",\"2019-12-03T00:00:00+00:00\",\"2019-12-04T00:00:00+00:00\",\"2020-03-13T00:00:00+00:00\",\"2020-03-14T00:00:00+00:00\",\"2020-03-15T00:00:00+00:00\",\"2020-03-16T00:00:00+00:00\",\"2020-03-17T00:00:00+00:00\",\"2020-03-18T00:00:00+00:00\",\"2020-04-12T00:00:00+00:00\",\"2020-04-13T00:00:00+00:00\",\"2020-05-03T00:00:00+00:00\",\"2020-05-04T00:00:00+00:00\",\"2020-05-05T00:00:00+00:00\",\"2020-05-06T00:00:00+00:00\",\"2020-05-07T00:00:00+00:00\"],\"y\":[0.639,0.622,0.633,0.568,0.649,0.643,0.6409999999999999,0.653,0.638,0.625,0.625,0.589,0.596,0.645,0.643,0.018000000000000002,0.659,0.601,0.598,0.654,0.6409999999999999,0.64,0.6,0.629,0.607,0.637,0.637,0.634,0.563]}],                        {\"template\":{\"data\":{\"bar\":[{\"error_x\":{\"color\":\"#2a3f5f\"},\"error_y\":{\"color\":\"#2a3f5f\"},\"marker\":{\"line\":{\"color\":\"#E5ECF6\",\"width\":0.5},\"pattern\":{\"fillmode\":\"overlay\",\"size\":10,\"solidity\":0.2}},\"type\":\"bar\"}],\"barpolar\":[{\"marker\":{\"line\":{\"color\":\"#E5ECF6\",\"width\":0.5},\"pattern\":{\"fillmode\":\"overlay\",\"size\":10,\"solidity\":0.2}},\"type\":\"barpolar\"}],\"carpet\":[{\"aaxis\":{\"endlinecolor\":\"#2a3f5f\",\"gridcolor\":\"white\",\"linecolor\":\"white\",\"minorgridcolor\":\"white\",\"startlinecolor\":\"#2a3f5f\"},\"baxis\":{\"endlinecolor\":\"#2a3f5f\",\"gridcolor\":\"white\",\"linecolor\":\"white\",\"minorgridcolor\":\"white\",\"startlinecolor\":\"#2a3f5f\"},\"type\":\"carpet\"}],\"choropleth\":[{\"colorbar\":{\"outlinewidth\":0,\"ticks\":\"\"},\"type\":\"choropleth\"}],\"contour\":[{\"colorbar\":{\"outlinewidth\":0,\"ticks\":\"\"},\"colorscale\":[[0.0,\"#0d0887\"],[0.1111111111111111,\"#46039f\"],[0.2222222222222222,\"#7201a8\"],[0.3333333333333333,\"#9c179e\"],[0.4444444444444444,\"#bd3786\"],[0.5555555555555556,\"#d8576b\"],[0.6666666666666666,\"#ed7953\"],[0.7777777777777778,\"#fb9f3a\"],[0.8888888888888888,\"#fdca26\"],[1.0,\"#f0f921\"]],\"type\":\"contour\"}],\"contourcarpet\":[{\"colorbar\":{\"outlinewidth\":0,\"ticks\":\"\"},\"type\":\"contourcarpet\"}],\"heatmap\":[{\"colorbar\":{\"outlinewidth\":0,\"ticks\":\"\"},\"colorscale\":[[0.0,\"#0d0887\"],[0.1111111111111111,\"#46039f\"],[0.2222222222222222,\"#7201a8\"],[0.3333333333333333,\"#9c179e\"],[0.4444444444444444,\"#bd3786\"],[0.5555555555555556,\"#d8576b\"],[0.6666666666666666,\"#ed7953\"],[0.7777777777777778,\"#fb9f3a\"],[0.8888888888888888,\"#fdca26\"],[1.0,\"#f0f921\"]],\"type\":\"heatmap\"}],\"heatmapgl\":[{\"colorbar\":{\"outlinewidth\":0,\"ticks\":\"\"},\"colorscale\":[[0.0,\"#0d0887\"],[0.1111111111111111,\"#46039f\"],[0.2222222222222222,\"#7201a8\"],[0.3333333333333333,\"#9c179e\"],[0.4444444444444444,\"#bd3786\"],[0.5555555555555556,\"#d8576b\"],[0.6666666666666666,\"#ed7953\"],[0.7777777777777778,\"#fb9f3a\"],[0.8888888888888888,\"#fdca26\"],[1.0,\"#f0f921\"]],\"type\":\"heatmapgl\"}],\"histogram\":[{\"marker\":{\"pattern\":{\"fillmode\":\"overlay\",\"size\":10,\"solidity\":0.2}},\"type\":\"histogram\"}],\"histogram2d\":[{\"colorbar\":{\"outlinewidth\":0,\"ticks\":\"\"},\"colorscale\":[[0.0,\"#0d0887\"],[0.1111111111111111,\"#46039f\"],[0.2222222222222222,\"#7201a8\"],[0.3333333333333333,\"#9c179e\"],[0.4444444444444444,\"#bd3786\"],[0.5555555555555556,\"#d8576b\"],[0.6666666666666666,\"#ed7953\"],[0.7777777777777778,\"#fb9f3a\"],[0.8888888888888888,\"#fdca26\"],[1.0,\"#f0f921\"]],\"type\":\"histogram2d\"}],\"histogram2dcontour\":[{\"colorbar\":{\"outlinewidth\":0,\"ticks\":\"\"},\"colorscale\":[[0.0,\"#0d0887\"],[0.1111111111111111,\"#46039f\"],[0.2222222222222222,\"#7201a8\"],[0.3333333333333333,\"#9c179e\"],[0.4444444444444444,\"#bd3786\"],[0.5555555555555556,\"#d8576b\"],[0.6666666666666666,\"#ed7953\"],[0.7777777777777778,\"#fb9f3a\"],[0.8888888888888888,\"#fdca26\"],[1.0,\"#f0f921\"]],\"type\":\"histogram2dcontour\"}],\"mesh3d\":[{\"colorbar\":{\"outlinewidth\":0,\"ticks\":\"\"},\"type\":\"mesh3d\"}],\"parcoords\":[{\"line\":{\"colorbar\":{\"outlinewidth\":0,\"ticks\":\"\"}},\"type\":\"parcoords\"}],\"pie\":[{\"automargin\":true,\"type\":\"pie\"}],\"scatter\":[{\"marker\":{\"colorbar\":{\"outlinewidth\":0,\"ticks\":\"\"}},\"type\":\"scatter\"}],\"scatter3d\":[{\"line\":{\"colorbar\":{\"outlinewidth\":0,\"ticks\":\"\"}},\"marker\":{\"colorbar\":{\"outlinewidth\":0,\"ticks\":\"\"}},\"type\":\"scatter3d\"}],\"scattercarpet\":[{\"marker\":{\"colorbar\":{\"outlinewidth\":0,\"ticks\":\"\"}},\"type\":\"scattercarpet\"}],\"scattergeo\":[{\"marker\":{\"colorbar\":{\"outlinewidth\":0,\"ticks\":\"\"}},\"type\":\"scattergeo\"}],\"scattergl\":[{\"marker\":{\"colorbar\":{\"outlinewidth\":0,\"ticks\":\"\"}},\"type\":\"scattergl\"}],\"scattermapbox\":[{\"marker\":{\"colorbar\":{\"outlinewidth\":0,\"ticks\":\"\"}},\"type\":\"scattermapbox\"}],\"scatterpolar\":[{\"marker\":{\"colorbar\":{\"outlinewidth\":0,\"ticks\":\"\"}},\"type\":\"scatterpolar\"}],\"scatterpolargl\":[{\"marker\":{\"colorbar\":{\"outlinewidth\":0,\"ticks\":\"\"}},\"type\":\"scatterpolargl\"}],\"scatterternary\":[{\"marker\":{\"colorbar\":{\"outlinewidth\":0,\"ticks\":\"\"}},\"type\":\"scatterternary\"}],\"surface\":[{\"colorbar\":{\"outlinewidth\":0,\"ticks\":\"\"},\"colorscale\":[[0.0,\"#0d0887\"],[0.1111111111111111,\"#46039f\"],[0.2222222222222222,\"#7201a8\"],[0.3333333333333333,\"#9c179e\"],[0.4444444444444444,\"#bd3786\"],[0.5555555555555556,\"#d8576b\"],[0.6666666666666666,\"#ed7953\"],[0.7777777777777778,\"#fb9f3a\"],[0.8888888888888888,\"#fdca26\"],[1.0,\"#f0f921\"]],\"type\":\"surface\"}],\"table\":[{\"cells\":{\"fill\":{\"color\":\"#EBF0F8\"},\"line\":{\"color\":\"white\"}},\"header\":{\"fill\":{\"color\":\"#C8D4E3\"},\"line\":{\"color\":\"white\"}},\"type\":\"table\"}]},\"layout\":{\"annotationdefaults\":{\"arrowcolor\":\"#2a3f5f\",\"arrowhead\":0,\"arrowwidth\":1},\"autotypenumbers\":\"strict\",\"coloraxis\":{\"colorbar\":{\"outlinewidth\":0,\"ticks\":\"\"}},\"colorscale\":{\"diverging\":[[0,\"#8e0152\"],[0.1,\"#c51b7d\"],[0.2,\"#de77ae\"],[0.3,\"#f1b6da\"],[0.4,\"#fde0ef\"],[0.5,\"#f7f7f7\"],[0.6,\"#e6f5d0\"],[0.7,\"#b8e186\"],[0.8,\"#7fbc41\"],[0.9,\"#4d9221\"],[1,\"#276419\"]],\"sequential\":[[0.0,\"#0d0887\"],[0.1111111111111111,\"#46039f\"],[0.2222222222222222,\"#7201a8\"],[0.3333333333333333,\"#9c179e\"],[0.4444444444444444,\"#bd3786\"],[0.5555555555555556,\"#d8576b\"],[0.6666666666666666,\"#ed7953\"],[0.7777777777777778,\"#fb9f3a\"],[0.8888888888888888,\"#fdca26\"],[1.0,\"#f0f921\"]],\"sequentialminus\":[[0.0,\"#0d0887\"],[0.1111111111111111,\"#46039f\"],[0.2222222222222222,\"#7201a8\"],[0.3333333333333333,\"#9c179e\"],[0.4444444444444444,\"#bd3786\"],[0.5555555555555556,\"#d8576b\"],[0.6666666666666666,\"#ed7953\"],[0.7777777777777778,\"#fb9f3a\"],[0.8888888888888888,\"#fdca26\"],[1.0,\"#f0f921\"]]},\"colorway\":[\"#636efa\",\"#EF553B\",\"#00cc96\",\"#ab63fa\",\"#FFA15A\",\"#19d3f3\",\"#FF6692\",\"#B6E880\",\"#FF97FF\",\"#FECB52\"],\"font\":{\"color\":\"#2a3f5f\"},\"geo\":{\"bgcolor\":\"white\",\"lakecolor\":\"white\",\"landcolor\":\"#E5ECF6\",\"showlakes\":true,\"showland\":true,\"subunitcolor\":\"white\"},\"hoverlabel\":{\"align\":\"left\"},\"hovermode\":\"closest\",\"mapbox\":{\"style\":\"light\"},\"paper_bgcolor\":\"white\",\"plot_bgcolor\":\"#E5ECF6\",\"polar\":{\"angularaxis\":{\"gridcolor\":\"white\",\"linecolor\":\"white\",\"ticks\":\"\"},\"bgcolor\":\"#E5ECF6\",\"radialaxis\":{\"gridcolor\":\"white\",\"linecolor\":\"white\",\"ticks\":\"\"}},\"scene\":{\"xaxis\":{\"backgroundcolor\":\"#E5ECF6\",\"gridcolor\":\"white\",\"gridwidth\":2,\"linecolor\":\"white\",\"showbackground\":true,\"ticks\":\"\",\"zerolinecolor\":\"white\"},\"yaxis\":{\"backgroundcolor\":\"#E5ECF6\",\"gridcolor\":\"white\",\"gridwidth\":2,\"linecolor\":\"white\",\"showbackground\":true,\"ticks\":\"\",\"zerolinecolor\":\"white\"},\"zaxis\":{\"backgroundcolor\":\"#E5ECF6\",\"gridcolor\":\"white\",\"gridwidth\":2,\"linecolor\":\"white\",\"showbackground\":true,\"ticks\":\"\",\"zerolinecolor\":\"white\"}},\"shapedefaults\":{\"line\":{\"color\":\"#2a3f5f\"}},\"ternary\":{\"aaxis\":{\"gridcolor\":\"white\",\"linecolor\":\"white\",\"ticks\":\"\"},\"baxis\":{\"gridcolor\":\"white\",\"linecolor\":\"white\",\"ticks\":\"\"},\"bgcolor\":\"#E5ECF6\",\"caxis\":{\"gridcolor\":\"white\",\"linecolor\":\"white\",\"ticks\":\"\"}},\"title\":{\"x\":0.05},\"xaxis\":{\"automargin\":true,\"gridcolor\":\"white\",\"linecolor\":\"white\",\"ticks\":\"\",\"title\":{\"standoff\":15},\"zerolinecolor\":\"white\",\"zerolinewidth\":2},\"yaxis\":{\"automargin\":true,\"gridcolor\":\"white\",\"linecolor\":\"white\",\"ticks\":\"\",\"title\":{\"standoff\":15},\"zerolinecolor\":\"white\",\"zerolinewidth\":2}}},\"title\":{\"text\":\" Volatility Shift Ad Plot for site MLA on flow direct and device Desktop\"}},                        {\"responsive\": true}                    ).then(function(){\n",
       "                            \n",
       "var gd = document.getElementById('3fbc73bd-1ac4-42b7-b1ca-06bb483ba62b');\n",
       "var x = new MutationObserver(function (mutations, observer) {{\n",
       "        var display = window.getComputedStyle(gd).display;\n",
       "        if (!display || display === 'none') {{\n",
       "            console.log([gd, 'removed!']);\n",
       "            Plotly.purge(gd);\n",
       "            observer.disconnect();\n",
       "        }}\n",
       "}});\n",
       "\n",
       "// Listen for the removal of the full notebook cells\n",
       "var notebookContainer = gd.closest('#notebook-container');\n",
       "if (notebookContainer) {{\n",
       "    x.observe(notebookContainer, {childList: true});\n",
       "}}\n",
       "\n",
       "// Listen for the clearing of the current output cell\n",
       "var outputEl = gd.closest('.output');\n",
       "if (outputEl) {{\n",
       "    x.observe(outputEl, {childList: true});\n",
       "}}\n",
       "\n",
       "                        })                };                });            </script>        </div>"
      ]
     },
     "metadata": {},
     "output_type": "display_data"
    },
    {
     "name": "stdout",
     "output_type": "stream",
     "text": [
      "[[418  21]\n",
      " [ 41   8]]\n"
     ]
    },
    {
     "data": {
      "image/png": "[encoded data removed]",
      "text/plain": [
       "<Figure size 432x432 with 2 Axes>"
      ]
     },
     "metadata": {},
     "output_type": "display_data"
    },
    {
     "name": "stdout",
     "output_type": "stream",
     "text": [
      "Precision                                   : 0.276\n",
      "Recall                                      : 0.163\n",
      "F1-Score                                    : 0.205\n",
      "\n",
      "Precision Recall F1-Score Support Per Class : \n",
      " (array([0.91067538, 0.27586207]), array([0.95216401, 0.16326531]), array([0.93095768, 0.20512821]), array([439,  49], dtype=int64))\n",
      "\n",
      "Classification Report                       : \n",
      "              precision    recall  f1-score   support\n",
      "\n",
      "       False       0.91      0.95      0.93       439\n",
      "        True       0.28      0.16      0.21        49\n",
      "\n",
      "    accuracy                           0.87       488\n",
      "   macro avg       0.59      0.56      0.57       488\n",
      "weighted avg       0.85      0.87      0.86       488\n",
      "\n"
     ]
    }
   ],
   "source": [
    "    volatility_shift_ad = VolatilityShiftAD(c=2.5, side=\"both\", window=8)\n",
    "    anomalies_vs = volatility_shift_ad.fit_detect(s)\n",
    "    anomaly_plot(s, anomaly=anomalies_vs, anomaly_color=\"red\",\n",
    "                 title=f\" Volatility Shift Ad Plot for site {site} on flow {flow} and device {device}\"\n",
    "    )\n",
    "    \n",
    "    Y_test = serie[\"anomaly\"]\n",
    "    Y_preds = anomalies_vs\n",
    "    Y_preds=np.nan_to_num(Y_preds) #convierte NaN en zeros\n",
    "    confusion_matrix_plot(Y_test, Y_preds)\n",
    "    print_report(Y_test, Y_preds) \n",
    "\n",
    "    "
   ]
  },
  {
   "cell_type": "markdown",
   "metadata": {},
   "source": [
    "min_cluster_detector está diseñado para detectar outliers en datasets multivariables. El outlier se da cuando la relación entre dos o más variables se dispara. En nuestro caso podriamos utlizarlo por ejemplo para detectar cuando la relación entre dos etapas del funnel.\n",
    "\n",
    "Pero siguiendo con nuestro objetivo de detectar los outliers etiquetados notamos que el modelo no da resultados satisfactorio y tampoco cambia la métrica de precision y recall con diferentes clusters.\n"
   ]
  },
  {
   "cell_type": "code",
   "execution_count": 114,
   "metadata": {},
   "outputs": [
    {
     "data": {
      "text/html": [
       "<div>\n",
       "<style scoped>\n",
       "    .dataframe tbody tr th:only-of-type {\n",
       "        vertical-align: middle;\n",
       "    }\n",
       "\n",
       "    .dataframe tbody tr th {\n",
       "        vertical-align: top;\n",
       "    }\n",
       "\n",
       "    .dataframe thead th {\n",
       "        text-align: right;\n",
       "    }\n",
       "</style>\n",
       "<table border=\"1\" class=\"dataframe\">\n",
       "  <thead>\n",
       "    <tr style=\"text-align: right;\">\n",
       "      <th></th>\n",
       "      <th>Parametro</th>\n",
       "      <th>Recall</th>\n",
       "      <th>Precision</th>\n",
       "    </tr>\n",
       "  </thead>\n",
       "  <tbody>\n",
       "    <tr>\n",
       "      <th>0</th>\n",
       "      <td>Clusters: 2</td>\n",
       "      <td>0.163265</td>\n",
       "      <td>0.275862</td>\n",
       "    </tr>\n",
       "    <tr>\n",
       "      <th>1</th>\n",
       "      <td>Clusters: 3</td>\n",
       "      <td>0.163265</td>\n",
       "      <td>0.275862</td>\n",
       "    </tr>\n",
       "    <tr>\n",
       "      <th>2</th>\n",
       "      <td>Clusters: 4</td>\n",
       "      <td>0.163265</td>\n",
       "      <td>0.275862</td>\n",
       "    </tr>\n",
       "    <tr>\n",
       "      <th>3</th>\n",
       "      <td>Clusters: 5</td>\n",
       "      <td>0.163265</td>\n",
       "      <td>0.275862</td>\n",
       "    </tr>\n",
       "    <tr>\n",
       "      <th>4</th>\n",
       "      <td>Clusters: 6</td>\n",
       "      <td>0.163265</td>\n",
       "      <td>0.275862</td>\n",
       "    </tr>\n",
       "    <tr>\n",
       "      <th>5</th>\n",
       "      <td>Clusters: 7</td>\n",
       "      <td>0.163265</td>\n",
       "      <td>0.275862</td>\n",
       "    </tr>\n",
       "    <tr>\n",
       "      <th>6</th>\n",
       "      <td>Clusters: 8</td>\n",
       "      <td>0.163265</td>\n",
       "      <td>0.275862</td>\n",
       "    </tr>\n",
       "    <tr>\n",
       "      <th>7</th>\n",
       "      <td>Clusters: 10</td>\n",
       "      <td>0.163265</td>\n",
       "      <td>0.275862</td>\n",
       "    </tr>\n",
       "    <tr>\n",
       "      <th>8</th>\n",
       "      <td>Clusters: 20</td>\n",
       "      <td>0.163265</td>\n",
       "      <td>0.275862</td>\n",
       "    </tr>\n",
       "  </tbody>\n",
       "</table>\n",
       "</div>"
      ],
      "text/plain": [
       "      Parametro    Recall  Precision\n",
       "0   Clusters: 2  0.163265   0.275862\n",
       "1   Clusters: 3  0.163265   0.275862\n",
       "2   Clusters: 4  0.163265   0.275862\n",
       "3   Clusters: 5  0.163265   0.275862\n",
       "4   Clusters: 6  0.163265   0.275862\n",
       "5   Clusters: 7  0.163265   0.275862\n",
       "6   Clusters: 8  0.163265   0.275862\n",
       "7  Clusters: 10  0.163265   0.275862\n",
       "8  Clusters: 20  0.163265   0.275862"
      ]
     },
     "execution_count": 114,
     "metadata": {},
     "output_type": "execute_result"
    }
   ],
   "source": [
    "ClustersPar = [2,3,4,5,6,7,8,10,20]\n",
    "Results_CD = pd.DataFrame(columns=['Parametro', 'Recall', 'Precision'])\n",
    "Results_CD.set_index('Parametro')\n",
    "\n",
    "for i in ClustersPar :\n",
    "    min_cluster_detector = MinClusterDetector(KMeans(n_clusters=i))\n",
    "    anomalies = min_cluster_detector.fit_detect(s.to_frame())\n",
    "    Y_test = serie[\"anomaly\"]\n",
    "    Y_preds = anomalies_vs\n",
    "    Y_preds=np.nan_to_num(Y_preds) #convierte NaN en zeros\n",
    "    new_row = {'Parametro':\"Clusters: \"+ str(i), 'Recall':recall_score(Y_test, Y_preds), 'Precision':precision_score(Y_test, Y_preds)}\n",
    "    Results_CD = Results_CD.append(new_row, ignore_index=True)\n",
    "\n",
    "Results_CD.head(10)"
   ]
  },
  {
   "cell_type": "code",
   "execution_count": 115,
   "metadata": {},
   "outputs": [
    {
     "data": {
      "application/vnd.plotly.v1+json": {
       "config": {
        "plotlyServerURL": "https://plot.ly"
       },
       "data": [
        {
         "mode": "lines",
         "name": "TOTAL",
         "type": "scatter",
         "x": [
          "2019-03-01T00:00:00+00:00",
          "2019-03-02T00:00:00+00:00",
          "2019-03-03T00:00:00+00:00",
          "2019-03-04T00:00:00+00:00",
          "2019-03-05T00:00:00+00:00",
          "2019-03-06T00:00:00+00:00",
          "2019-03-07T00:00:00+00:00",
          "2019-03-08T00:00:00+00:00",
          "2019-03-09T00:00:00+00:00",
          "2019-03-10T00:00:00+00:00",
          "2019-03-11T00:00:00+00:00",
          "2019-03-12T00:00:00+00:00",
          "2019-03-13T00:00:00+00:00",
          "2019-03-14T00:00:00+00:00",
          "2019-03-15T00:00:00+00:00",
          "2019-03-16T00:00:00+00:00",
          "2019-03-17T00:00:00+00:00",
          "2019-03-18T00:00:00+00:00",
          "2019-03-19T00:00:00+00:00",
          "2019-03-20T00:00:00+00:00",
          "2019-03-21T00:00:00+00:00",
          "2019-03-22T00:00:00+00:00",
          "2019-03-23T00:00:00+00:00",
          "2019-03-24T00:00:00+00:00",
          "2019-03-25T00:00:00+00:00",
          "2019-03-26T00:00:00+00:00",
          "2019-03-27T00:00:00+00:00",
          "2019-03-28T00:00:00+00:00",
          "2019-03-29T00:00:00+00:00",
          "2019-03-30T00:00:00+00:00",
          "2019-03-31T00:00:00+00:00",
          "2019-04-01T00:00:00+00:00",
          "2019-04-02T00:00:00+00:00",
          "2019-04-03T00:00:00+00:00",
          "2019-04-04T00:00:00+00:00",
          "2019-04-05T00:00:00+00:00",
          "2019-04-06T00:00:00+00:00",
          "2019-04-07T00:00:00+00:00",
          "2019-04-08T00:00:00+00:00",
          "2019-04-09T00:00:00+00:00",
          "2019-04-10T00:00:00+00:00",
          "2019-04-11T00:00:00+00:00",
          "2019-04-12T00:00:00+00:00",
          "2019-04-13T00:00:00+00:00",
          "2019-04-14T00:00:00+00:00",
          "2019-04-15T00:00:00+00:00",
          "2019-04-16T00:00:00+00:00",
          "2019-04-17T00:00:00+00:00",
          "2019-04-18T00:00:00+00:00",
          "2019-04-19T00:00:00+00:00",
          "2019-04-20T00:00:00+00:00",
          "2019-04-21T00:00:00+00:00",
          "2019-04-22T00:00:00+00:00",
          "2019-04-23T00:00:00+00:00",
          "2019-04-24T00:00:00+00:00",
          "2019-04-25T00:00:00+00:00",
          "2019-04-26T00:00:00+00:00",
          "2019-04-27T00:00:00+00:00",
          "2019-04-28T00:00:00+00:00",
          "2019-04-29T00:00:00+00:00",
          "2019-04-30T00:00:00+00:00",
          "2019-05-01T00:00:00+00:00",
          "2019-05-02T00:00:00+00:00",
          "2019-05-03T00:00:00+00:00",
          "2019-05-04T00:00:00+00:00",
          "2019-05-05T00:00:00+00:00",
          "2019-05-06T00:00:00+00:00",
          "2019-05-07T00:00:00+00:00",
          "2019-05-08T00:00:00+00:00",
          "2019-05-09T00:00:00+00:00",
          "2019-05-10T00:00:00+00:00",
          "2019-05-11T00:00:00+00:00",
          "2019-05-12T00:00:00+00:00",
          "2019-05-13T00:00:00+00:00",
          "2019-05-14T00:00:00+00:00",
          "2019-05-15T00:00:00+00:00",
          "2019-05-16T00:00:00+00:00",
          "2019-05-17T00:00:00+00:00",
          "2019-05-18T00:00:00+00:00",
          "2019-05-19T00:00:00+00:00",
          "2019-05-20T00:00:00+00:00",
          "2019-05-21T00:00:00+00:00",
          "2019-05-22T00:00:00+00:00",
          "2019-05-23T00:00:00+00:00",
          "2019-05-24T00:00:00+00:00",
          "2019-05-25T00:00:00+00:00",
          "2019-05-26T00:00:00+00:00",
          "2019-05-27T00:00:00+00:00",
          "2019-05-28T00:00:00+00:00",
          "2019-05-29T00:00:00+00:00",
          "2019-05-30T00:00:00+00:00",
          "2019-05-31T00:00:00+00:00",
          "2019-06-01T00:00:00+00:00",
          "2019-06-02T00:00:00+00:00",
          "2019-06-03T00:00:00+00:00",
          "2019-06-04T00:00:00+00:00",
          "2019-06-05T00:00:00+00:00",
          "2019-06-06T00:00:00+00:00",
          "2019-06-07T00:00:00+00:00",
          "2019-06-08T00:00:00+00:00",
          "2019-06-09T00:00:00+00:00",
          "2019-06-10T00:00:00+00:00",
          "2019-06-11T00:00:00+00:00",
          "2019-06-12T00:00:00+00:00",
          "2019-06-13T00:00:00+00:00",
          "2019-06-14T00:00:00+00:00",
          "2019-06-15T00:00:00+00:00",
          "2019-06-16T00:00:00+00:00",
          "2019-06-17T00:00:00+00:00",
          "2019-06-18T00:00:00+00:00",
          "2019-06-19T00:00:00+00:00",
          "2019-06-20T00:00:00+00:00",
          "2019-06-21T00:00:00+00:00",
          "2019-06-22T00:00:00+00:00",
          "2019-06-23T00:00:00+00:00",
          "2019-06-24T00:00:00+00:00",
          "2019-06-25T00:00:00+00:00",
          "2019-06-26T00:00:00+00:00",
          "2019-06-27T00:00:00+00:00",
          "2019-06-28T00:00:00+00:00",
          "2019-06-29T00:00:00+00:00",
          "2019-06-30T00:00:00+00:00",
          "2019-07-01T00:00:00+00:00",
          "2019-07-02T00:00:00+00:00",
          "2019-07-03T00:00:00+00:00",
          "2019-07-04T00:00:00+00:00",
          "2019-07-05T00:00:00+00:00",
          "2019-07-06T00:00:00+00:00",
          "2019-07-07T00:00:00+00:00",
          "2019-07-08T00:00:00+00:00",
          "2019-07-09T00:00:00+00:00",
          "2019-07-10T00:00:00+00:00",
          "2019-07-11T00:00:00+00:00",
          "2019-07-12T00:00:00+00:00",
          "2019-07-13T00:00:00+00:00",
          "2019-07-14T00:00:00+00:00",
          "2019-07-15T00:00:00+00:00",
          "2019-07-16T00:00:00+00:00",
          "2019-07-17T00:00:00+00:00",
          "2019-07-18T00:00:00+00:00",
          "2019-07-19T00:00:00+00:00",
          "2019-07-20T00:00:00+00:00",
          "2019-07-21T00:00:00+00:00",
          "2019-07-22T00:00:00+00:00",
          "2019-07-23T00:00:00+00:00",
          "2019-07-24T00:00:00+00:00",
          "2019-07-25T00:00:00+00:00",
          "2019-07-26T00:00:00+00:00",
          "2019-07-27T00:00:00+00:00",
          "2019-07-28T00:00:00+00:00",
          "2019-07-29T00:00:00+00:00",
          "2019-07-30T00:00:00+00:00",
          "2019-07-31T00:00:00+00:00",
          "2019-08-01T00:00:00+00:00",
          "2019-08-02T00:00:00+00:00",
          "2019-08-03T00:00:00+00:00",
          "2019-08-04T00:00:00+00:00",
          "2019-08-05T00:00:00+00:00",
          "2019-08-06T00:00:00+00:00",
          "2019-08-07T00:00:00+00:00",
          "2019-08-08T00:00:00+00:00",
          "2019-08-09T00:00:00+00:00",
          "2019-08-10T00:00:00+00:00",
          "2019-08-11T00:00:00+00:00",
          "2019-08-12T00:00:00+00:00",
          "2019-08-13T00:00:00+00:00",
          "2019-08-14T00:00:00+00:00",
          "2019-08-15T00:00:00+00:00",
          "2019-08-16T00:00:00+00:00",
          "2019-08-17T00:00:00+00:00",
          "2019-08-18T00:00:00+00:00",
          "2019-08-19T00:00:00+00:00",
          "2019-08-20T00:00:00+00:00",
          "2019-08-21T00:00:00+00:00",
          "2019-08-22T00:00:00+00:00",
          "2019-08-23T00:00:00+00:00",
          "2019-08-24T00:00:00+00:00",
          "2019-08-25T00:00:00+00:00",
          "2019-08-26T00:00:00+00:00",
          "2019-08-27T00:00:00+00:00",
          "2019-08-28T00:00:00+00:00",
          "2019-08-29T00:00:00+00:00",
          "2019-08-30T00:00:00+00:00",
          "2019-08-31T00:00:00+00:00",
          "2019-09-01T00:00:00+00:00",
          "2019-09-02T00:00:00+00:00",
          "2019-09-03T00:00:00+00:00",
          "2019-09-04T00:00:00+00:00",
          "2019-09-05T00:00:00+00:00",
          "2019-09-06T00:00:00+00:00",
          "2019-09-07T00:00:00+00:00",
          "2019-09-08T00:00:00+00:00",
          "2019-09-09T00:00:00+00:00",
          "2019-09-10T00:00:00+00:00",
          "2019-09-11T00:00:00+00:00",
          "2019-09-12T00:00:00+00:00",
          "2019-09-13T00:00:00+00:00",
          "2019-09-14T00:00:00+00:00",
          "2019-09-15T00:00:00+00:00",
          "2019-09-16T00:00:00+00:00",
          "2019-09-17T00:00:00+00:00",
          "2019-09-18T00:00:00+00:00",
          "2019-09-19T00:00:00+00:00",
          "2019-09-20T00:00:00+00:00",
          "2019-09-21T00:00:00+00:00",
          "2019-09-22T00:00:00+00:00",
          "2019-09-23T00:00:00+00:00",
          "2019-09-24T00:00:00+00:00",
          "2019-09-25T00:00:00+00:00",
          "2019-09-26T00:00:00+00:00",
          "2019-09-27T00:00:00+00:00",
          "2019-09-28T00:00:00+00:00",
          "2019-09-29T00:00:00+00:00",
          "2019-09-30T00:00:00+00:00",
          "2019-10-01T00:00:00+00:00",
          "2019-10-02T00:00:00+00:00",
          "2019-10-03T00:00:00+00:00",
          "2019-10-04T00:00:00+00:00",
          "2019-10-05T00:00:00+00:00",
          "2019-10-06T00:00:00+00:00",
          "2019-10-07T00:00:00+00:00",
          "2019-10-08T00:00:00+00:00",
          "2019-10-09T00:00:00+00:00",
          "2019-10-10T00:00:00+00:00",
          "2019-10-11T00:00:00+00:00",
          "2019-10-12T00:00:00+00:00",
          "2019-10-13T00:00:00+00:00",
          "2019-10-14T00:00:00+00:00",
          "2019-10-15T00:00:00+00:00",
          "2019-10-16T00:00:00+00:00",
          "2019-10-17T00:00:00+00:00",
          "2019-10-18T00:00:00+00:00",
          "2019-10-19T00:00:00+00:00",
          "2019-10-20T00:00:00+00:00",
          "2019-10-21T00:00:00+00:00",
          "2019-10-22T00:00:00+00:00",
          "2019-10-23T00:00:00+00:00",
          "2019-10-24T00:00:00+00:00",
          "2019-10-25T00:00:00+00:00",
          "2019-10-26T00:00:00+00:00",
          "2019-10-27T00:00:00+00:00",
          "2019-10-28T00:00:00+00:00",
          "2019-10-29T00:00:00+00:00",
          "2019-10-30T00:00:00+00:00",
          "2019-10-31T00:00:00+00:00",
          "2019-11-01T00:00:00+00:00",
          "2019-11-02T00:00:00+00:00",
          "2019-11-03T00:00:00+00:00",
          "2019-11-04T00:00:00+00:00",
          "2019-11-05T00:00:00+00:00",
          "2019-11-06T00:00:00+00:00",
          "2019-11-07T00:00:00+00:00",
          "2019-11-08T00:00:00+00:00",
          "2019-11-09T00:00:00+00:00",
          "2019-11-10T00:00:00+00:00",
          "2019-11-11T00:00:00+00:00",
          "2019-11-12T00:00:00+00:00",
          "2019-11-13T00:00:00+00:00",
          "2019-11-14T00:00:00+00:00",
          "2019-11-15T00:00:00+00:00",
          "2019-11-16T00:00:00+00:00",
          "2019-11-17T00:00:00+00:00",
          "2019-11-18T00:00:00+00:00",
          "2019-11-19T00:00:00+00:00",
          "2019-11-20T00:00:00+00:00",
          "2019-11-21T00:00:00+00:00",
          "2019-11-22T00:00:00+00:00",
          "2019-11-23T00:00:00+00:00",
          "2019-11-24T00:00:00+00:00",
          "2019-11-25T00:00:00+00:00",
          "2019-11-26T00:00:00+00:00",
          "2019-11-27T00:00:00+00:00",
          "2019-11-28T00:00:00+00:00",
          "2019-11-29T00:00:00+00:00",
          "2019-11-30T00:00:00+00:00",
          "2019-12-01T00:00:00+00:00",
          "2019-12-02T00:00:00+00:00",
          "2019-12-03T00:00:00+00:00",
          "2019-12-04T00:00:00+00:00",
          "2019-12-05T00:00:00+00:00",
          "2019-12-06T00:00:00+00:00",
          "2019-12-07T00:00:00+00:00",
          "2019-12-08T00:00:00+00:00",
          "2019-12-09T00:00:00+00:00",
          "2019-12-10T00:00:00+00:00",
          "2019-12-11T00:00:00+00:00",
          "2019-12-12T00:00:00+00:00",
          "2019-12-13T00:00:00+00:00",
          "2019-12-14T00:00:00+00:00",
          "2019-12-15T00:00:00+00:00",
          "2019-12-16T00:00:00+00:00",
          "2019-12-17T00:00:00+00:00",
          "2019-12-18T00:00:00+00:00",
          "2019-12-19T00:00:00+00:00",
          "2019-12-20T00:00:00+00:00",
          "2019-12-21T00:00:00+00:00",
          "2019-12-22T00:00:00+00:00",
          "2019-12-23T00:00:00+00:00",
          "2019-12-24T00:00:00+00:00",
          "2019-12-25T00:00:00+00:00",
          "2019-12-26T00:00:00+00:00",
          "2019-12-27T00:00:00+00:00",
          "2019-12-28T00:00:00+00:00",
          "2019-12-29T00:00:00+00:00",
          "2019-12-30T00:00:00+00:00",
          "2019-12-31T00:00:00+00:00",
          "2020-01-01T00:00:00+00:00",
          "2020-01-02T00:00:00+00:00",
          "2020-01-03T00:00:00+00:00",
          "2020-01-04T00:00:00+00:00",
          "2020-01-05T00:00:00+00:00",
          "2020-01-06T00:00:00+00:00",
          "2020-01-07T00:00:00+00:00",
          "2020-01-08T00:00:00+00:00",
          "2020-01-09T00:00:00+00:00",
          "2020-01-10T00:00:00+00:00",
          "2020-01-11T00:00:00+00:00",
          "2020-01-12T00:00:00+00:00",
          "2020-01-13T00:00:00+00:00",
          "2020-01-14T00:00:00+00:00",
          "2020-01-15T00:00:00+00:00",
          "2020-01-16T00:00:00+00:00",
          "2020-01-17T00:00:00+00:00",
          "2020-01-18T00:00:00+00:00",
          "2020-01-19T00:00:00+00:00",
          "2020-01-20T00:00:00+00:00",
          "2020-01-21T00:00:00+00:00",
          "2020-01-22T00:00:00+00:00",
          "2020-01-23T00:00:00+00:00",
          "2020-01-24T00:00:00+00:00",
          "2020-01-25T00:00:00+00:00",
          "2020-01-26T00:00:00+00:00",
          "2020-01-27T00:00:00+00:00",
          "2020-01-28T00:00:00+00:00",
          "2020-01-29T00:00:00+00:00",
          "2020-01-30T00:00:00+00:00",
          "2020-01-31T00:00:00+00:00",
          "2020-02-01T00:00:00+00:00",
          "2020-02-02T00:00:00+00:00",
          "2020-02-03T00:00:00+00:00",
          "2020-02-04T00:00:00+00:00",
          "2020-02-05T00:00:00+00:00",
          "2020-02-06T00:00:00+00:00",
          "2020-02-07T00:00:00+00:00",
          "2020-02-08T00:00:00+00:00",
          "2020-02-09T00:00:00+00:00",
          "2020-02-10T00:00:00+00:00",
          "2020-02-11T00:00:00+00:00",
          "2020-02-12T00:00:00+00:00",
          "2020-02-13T00:00:00+00:00",
          "2020-02-14T00:00:00+00:00",
          "2020-02-15T00:00:00+00:00",
          "2020-02-16T00:00:00+00:00",
          "2020-02-17T00:00:00+00:00",
          "2020-02-18T00:00:00+00:00",
          "2020-02-19T00:00:00+00:00",
          "2020-02-20T00:00:00+00:00",
          "2020-02-21T00:00:00+00:00",
          "2020-02-22T00:00:00+00:00",
          "2020-02-23T00:00:00+00:00",
          "2020-02-24T00:00:00+00:00",
          "2020-02-25T00:00:00+00:00",
          "2020-02-26T00:00:00+00:00",
          "2020-02-27T00:00:00+00:00",
          "2020-02-28T00:00:00+00:00",
          "2020-02-29T00:00:00+00:00",
          "2020-03-01T00:00:00+00:00",
          "2020-03-02T00:00:00+00:00",
          "2020-03-03T00:00:00+00:00",
          "2020-03-04T00:00:00+00:00",
          "2020-03-05T00:00:00+00:00",
          "2020-03-06T00:00:00+00:00",
          "2020-03-07T00:00:00+00:00",
          "2020-03-08T00:00:00+00:00",
          "2020-03-09T00:00:00+00:00",
          "2020-03-10T00:00:00+00:00",
          "2020-03-11T00:00:00+00:00",
          "2020-03-12T00:00:00+00:00",
          "2020-03-13T00:00:00+00:00",
          "2020-03-14T00:00:00+00:00",
          "2020-03-15T00:00:00+00:00",
          "2020-03-16T00:00:00+00:00",
          "2020-03-17T00:00:00+00:00",
          "2020-03-18T00:00:00+00:00",
          "2020-03-19T00:00:00+00:00",
          "2020-03-20T00:00:00+00:00",
          "2020-03-21T00:00:00+00:00",
          "2020-03-22T00:00:00+00:00",
          "2020-03-23T00:00:00+00:00",
          "2020-03-24T00:00:00+00:00",
          "2020-03-25T00:00:00+00:00",
          "2020-03-26T00:00:00+00:00",
          "2020-03-27T00:00:00+00:00",
          "2020-03-28T00:00:00+00:00",
          "2020-03-29T00:00:00+00:00",
          "2020-03-30T00:00:00+00:00",
          "2020-03-31T00:00:00+00:00",
          "2020-04-01T00:00:00+00:00",
          "2020-04-02T00:00:00+00:00",
          "2020-04-03T00:00:00+00:00",
          "2020-04-04T00:00:00+00:00",
          "2020-04-05T00:00:00+00:00",
          "2020-04-06T00:00:00+00:00",
          "2020-04-07T00:00:00+00:00",
          "2020-04-08T00:00:00+00:00",
          "2020-04-09T00:00:00+00:00",
          "2020-04-10T00:00:00+00:00",
          "2020-04-11T00:00:00+00:00",
          "2020-04-12T00:00:00+00:00",
          "2020-04-13T00:00:00+00:00",
          "2020-04-14T00:00:00+00:00",
          "2020-04-15T00:00:00+00:00",
          "2020-04-16T00:00:00+00:00",
          "2020-04-17T00:00:00+00:00",
          "2020-04-18T00:00:00+00:00",
          "2020-04-19T00:00:00+00:00",
          "2020-04-20T00:00:00+00:00",
          "2020-04-21T00:00:00+00:00",
          "2020-04-22T00:00:00+00:00",
          "2020-04-23T00:00:00+00:00",
          "2020-04-24T00:00:00+00:00",
          "2020-04-25T00:00:00+00:00",
          "2020-04-26T00:00:00+00:00",
          "2020-04-27T00:00:00+00:00",
          "2020-04-28T00:00:00+00:00",
          "2020-04-29T00:00:00+00:00",
          "2020-04-30T00:00:00+00:00",
          "2020-05-01T00:00:00+00:00",
          "2020-05-02T00:00:00+00:00",
          "2020-05-03T00:00:00+00:00",
          "2020-05-04T00:00:00+00:00",
          "2020-05-05T00:00:00+00:00",
          "2020-05-06T00:00:00+00:00",
          "2020-05-07T00:00:00+00:00",
          "2020-05-08T00:00:00+00:00",
          "2020-05-09T00:00:00+00:00",
          "2020-05-10T00:00:00+00:00",
          "2020-05-11T00:00:00+00:00",
          "2020-05-12T00:00:00+00:00",
          "2020-05-13T00:00:00+00:00",
          "2020-05-14T00:00:00+00:00",
          "2020-05-15T00:00:00+00:00",
          "2020-05-16T00:00:00+00:00",
          "2020-05-17T00:00:00+00:00",
          "2020-05-18T00:00:00+00:00",
          "2020-05-19T00:00:00+00:00",
          "2020-05-20T00:00:00+00:00",
          "2020-05-21T00:00:00+00:00",
          "2020-05-22T00:00:00+00:00",
          "2020-05-23T00:00:00+00:00",
          "2020-05-24T00:00:00+00:00",
          "2020-05-25T00:00:00+00:00",
          "2020-05-26T00:00:00+00:00",
          "2020-05-27T00:00:00+00:00",
          "2020-05-28T00:00:00+00:00",
          "2020-05-29T00:00:00+00:00",
          "2020-05-30T00:00:00+00:00",
          "2020-05-31T00:00:00+00:00",
          "2020-06-01T00:00:00+00:00",
          "2020-06-02T00:00:00+00:00",
          "2020-06-03T00:00:00+00:00",
          "2020-06-04T00:00:00+00:00",
          "2020-06-05T00:00:00+00:00",
          "2020-06-06T00:00:00+00:00",
          "2020-06-07T00:00:00+00:00",
          "2020-06-08T00:00:00+00:00",
          "2020-06-09T00:00:00+00:00",
          "2020-06-10T00:00:00+00:00",
          "2020-06-11T00:00:00+00:00",
          "2020-06-12T00:00:00+00:00",
          "2020-06-13T00:00:00+00:00",
          "2020-06-14T00:00:00+00:00",
          "2020-06-15T00:00:00+00:00",
          "2020-06-16T00:00:00+00:00",
          "2020-06-17T00:00:00+00:00",
          "2020-06-18T00:00:00+00:00",
          "2020-06-19T00:00:00+00:00",
          "2020-06-20T00:00:00+00:00",
          "2020-06-21T00:00:00+00:00",
          "2020-06-22T00:00:00+00:00",
          "2020-06-23T00:00:00+00:00",
          "2020-06-24T00:00:00+00:00",
          "2020-06-25T00:00:00+00:00",
          "2020-06-26T00:00:00+00:00",
          "2020-06-27T00:00:00+00:00",
          "2020-06-28T00:00:00+00:00",
          "2020-06-29T00:00:00+00:00",
          "2020-06-30T00:00:00+00:00"
         ],
         "y": [
          0.6659999999999999,
          0.609,
          0.5720000000000001,
          0.588,
          0.622,
          0.665,
          0.665,
          0.6659999999999999,
          0.609,
          0.604,
          0.64,
          0.644,
          0.64,
          0.645,
          0.647,
          0.5710000000000001,
          0.584,
          0.653,
          0.645,
          0.632,
          0.643,
          0.66,
          0.61,
          0.6,
          0.6579999999999999,
          0.648,
          0.65,
          0.652,
          0.6659999999999999,
          0.61,
          0.605,
          0.664,
          0.619,
          0.6659999999999999,
          0.653,
          0.659,
          0.619,
          0.611,
          0.664,
          0.6579999999999999,
          0.653,
          0.637,
          0.647,
          0.596,
          0.5920000000000001,
          0.6579999999999999,
          0.648,
          0.648,
          0.614,
          0.58,
          0.5920000000000001,
          0.5920000000000001,
          0.638,
          0.634,
          0.632,
          0.632,
          0.647,
          0.594,
          0.5820000000000001,
          0.635,
          0.62,
          0.584,
          0.649,
          0.6509999999999999,
          0.602,
          0.594,
          0.6559999999999999,
          0.647,
          0.642,
          0.634,
          0.638,
          0.596,
          0.565,
          0.556,
          0.578,
          0.599,
          0.602,
          0.593,
          0.5589999999999999,
          0.573,
          0.61,
          0.62,
          0.62,
          0.621,
          0.648,
          0.594,
          0.595,
          0.6409999999999999,
          0.597,
          0.606,
          0.633,
          0.655,
          0.614,
          0.596,
          0.649,
          0.642,
          0.637,
          0.631,
          0.645,
          0.59,
          0.598,
          0.64,
          0.635,
          0.639,
          0.622,
          0.633,
          0.568,
          0.532,
          0.599,
          0.662,
          0.63,
          0.5870000000000001,
          0.65,
          0.597,
          0.5670000000000001,
          0.655,
          0.6459999999999999,
          0.631,
          0.633,
          0.6459999999999999,
          0.597,
          0.588,
          0.653,
          0.645,
          0.64,
          0.602,
          0.626,
          0.594,
          0.58,
          0.598,
          0.597,
          0.654,
          0.638,
          0.63,
          0.568,
          0.5770000000000001,
          0.638,
          0.638,
          0.628,
          0.625,
          0.626,
          0.573,
          0.563,
          0.61,
          0.612,
          0.589,
          0.584,
          0.624,
          0.5720000000000001,
          0.5710000000000001,
          0.614,
          0.596,
          0.605,
          0.636,
          0.617,
          0.581,
          0.5870000000000001,
          0.654,
          0.633,
          0.65,
          0.635,
          0.633,
          0.609,
          0.615,
          0.6709999999999999,
          0.659,
          0.648,
          0.578,
          0.62,
          0.602,
          0.5770000000000001,
          0.601,
          0.622,
          0.633,
          0.616,
          0.629,
          0.599,
          0.589,
          0.644,
          0.631,
          0.645,
          0.634,
          0.633,
          0.598,
          0.611,
          0.652,
          0.639,
          0.637,
          0.636,
          0.638,
          0.597,
          0.601,
          0.647,
          0.6459999999999999,
          0.6409999999999999,
          0.632,
          0.648,
          0.584,
          0.5870000000000001,
          0.636,
          0.6409999999999999,
          0.649,
          0.624,
          0.644,
          0.57,
          0.5820000000000001,
          0.639,
          0.634,
          0.638,
          0.633,
          0.652,
          0.603,
          0.597,
          0.653,
          0.648,
          0.654,
          0.649,
          0.645,
          0.603,
          0.618,
          0.6579999999999999,
          0.65,
          0.6509999999999999,
          0.65,
          0.642,
          0.594,
          0.594,
          0.615,
          0.655,
          0.649,
          0.637,
          0.632,
          0.608,
          0.585,
          0.632,
          0.625,
          0.644,
          0.647,
          0.6809999999999999,
          0.64,
          0.647,
          0.644,
          0.649,
          0.643,
          0.6409999999999999,
          0.653,
          0.589,
          0.5720000000000001,
          0.564,
          0.593,
          0.616,
          0.62,
          0.64,
          0.589,
          0.595,
          0.649,
          0.644,
          0.654,
          0.642,
          0.649,
          0.585,
          0.578,
          0.614,
          0.648,
          0.643,
          0.599,
          0.649,
          0.599,
          0.588,
          0.643,
          0.6409999999999999,
          0.638,
          0.625,
          0.625,
          0.589,
          0.596,
          0.645,
          0.643,
          0.018000000000000002,
          0.209,
          0.309,
          0.5760000000000001,
          0.605,
          0.669,
          0.669,
          0.655,
          0.647,
          0.665,
          0.62,
          0.635,
          0.606,
          0.6659999999999999,
          0.669,
          0.67,
          0.6659999999999999,
          0.633,
          0.62,
          0.674,
          0.629,
          0.588,
          0.653,
          0.6559999999999999,
          0.617,
          0.613,
          0.659,
          0.632,
          0.599,
          0.659,
          0.63,
          0.618,
          0.599,
          0.662,
          0.6509999999999999,
          0.6559999999999999,
          0.653,
          0.65,
          0.599,
          0.6,
          0.6629999999999999,
          0.652,
          0.647,
          0.642,
          0.647,
          0.597,
          0.583,
          0.648,
          0.639,
          0.636,
          0.63,
          0.654,
          0.601,
          0.593,
          0.648,
          0.644,
          0.634,
          0.636,
          0.6559999999999999,
          0.611,
          0.606,
          0.6659999999999999,
          0.66,
          0.6559999999999999,
          0.653,
          0.648,
          0.608,
          0.601,
          0.662,
          0.6579999999999999,
          0.6559999999999999,
          0.649,
          0.653,
          0.602,
          0.598,
          0.65,
          0.649,
          0.647,
          0.638,
          0.648,
          0.589,
          0.57,
          0.59,
          0.621,
          0.665,
          0.6509999999999999,
          0.653,
          0.617,
          0.619,
          0.66,
          0.659,
          0.66,
          0.652,
          0.6509999999999999,
          0.615,
          0.606,
          0.653,
          0.6559999999999999,
          0.65,
          0.655,
          0.659,
          0.601,
          0.598,
          0.654,
          0.6409999999999999,
          0.64,
          0.631,
          0.541,
          0.515,
          0.512,
          0.529,
          0.522,
          0.5539999999999999,
          0.547,
          0.564,
          0.557,
          0.5529999999999999,
          0.5870000000000001,
          0.594,
          0.607,
          0.611,
          0.617,
          0.591,
          0.588,
          0.611,
          0.605,
          0.596,
          0.598,
          0.6,
          0.596,
          0.6,
          0.629,
          0.634,
          0.623,
          0.624,
          0.625,
          0.593,
          0.595,
          0.627,
          0.624,
          0.617,
          0.616,
          0.633,
          0.5920000000000001,
          0.594,
          0.625,
          0.616,
          0.622,
          0.617,
          0.612,
          0.615,
          0.607,
          0.637,
          0.637,
          0.634,
          0.563,
          0.648,
          0.607,
          0.604,
          0.633,
          0.629,
          0.628,
          0.581,
          0.623,
          0.593,
          0.6,
          0.628,
          0.623,
          0.625,
          0.618,
          0.629,
          0.5920000000000001,
          0.584,
          0.615,
          0.638,
          0.638,
          0.639,
          0.657,
          0.617,
          0.621,
          0.649,
          0.655,
          0.635,
          0.655,
          0.647,
          0.62,
          0.617,
          0.631,
          0.65,
          0.649,
          0.653,
          0.654,
          0.623,
          0.616,
          0.645,
          0.664,
          0.6609999999999999,
          0.662,
          0.6579999999999999,
          0.618,
          0.622,
          0.657,
          0.649,
          0.645,
          0.654,
          0.662,
          0.627,
          0.628,
          0.662,
          0.655
         ]
        },
        {
         "marker": {
          "color": "LightSkyBlue",
          "line": {
           "color": "red",
           "width": 2
          },
          "opacity": 0.5,
          "size": 6
         },
         "mode": "markers",
         "showlegend": false,
         "type": "scatter",
         "x": [
          "2019-12-06T00:00:00+00:00"
         ],
         "y": [
          0.309
         ]
        }
       ],
       "layout": {
        "template": {
         "data": {
          "bar": [
           {
            "error_x": {
             "color": "#2a3f5f"
            },
            "error_y": {
             "color": "#2a3f5f"
            },
            "marker": {
             "line": {
              "color": "#E5ECF6",
              "width": 0.5
             },
             "pattern": {
              "fillmode": "overlay",
              "size": 10,
              "solidity": 0.2
             }
            },
            "type": "bar"
           }
          ],
          "barpolar": [
           {
            "marker": {
             "line": {
              "color": "#E5ECF6",
              "width": 0.5
             },
             "pattern": {
              "fillmode": "overlay",
              "size": 10,
              "solidity": 0.2
             }
            },
            "type": "barpolar"
           }
          ],
          "carpet": [
           {
            "aaxis": {
             "endlinecolor": "#2a3f5f",
             "gridcolor": "white",
             "linecolor": "white",
             "minorgridcolor": "white",
             "startlinecolor": "#2a3f5f"
            },
            "baxis": {
             "endlinecolor": "#2a3f5f",
             "gridcolor": "white",
             "linecolor": "white",
             "minorgridcolor": "white",
             "startlinecolor": "#2a3f5f"
            },
            "type": "carpet"
           }
          ],
          "choropleth": [
           {
            "colorbar": {
             "outlinewidth": 0,
             "ticks": ""
            },
            "type": "choropleth"
           }
          ],
          "contour": [
           {
            "colorbar": {
             "outlinewidth": 0,
             "ticks": ""
            },
            "colorscale": [
             [
              0,
              "#0d0887"
             ],
             [
              0.1111111111111111,
              "#46039f"
             ],
             [
              0.2222222222222222,
              "#7201a8"
             ],
             [
              0.3333333333333333,
              "#9c179e"
             ],
             [
              0.4444444444444444,
              "#bd3786"
             ],
             [
              0.5555555555555556,
              "#d8576b"
             ],
             [
              0.6666666666666666,
              "#ed7953"
             ],
             [
              0.7777777777777778,
              "#fb9f3a"
             ],
             [
              0.8888888888888888,
              "#fdca26"
             ],
             [
              1,
              "#f0f921"
             ]
            ],
            "type": "contour"
           }
          ],
          "contourcarpet": [
           {
            "colorbar": {
             "outlinewidth": 0,
             "ticks": ""
            },
            "type": "contourcarpet"
           }
          ],
          "heatmap": [
           {
            "colorbar": {
             "outlinewidth": 0,
             "ticks": ""
            },
            "colorscale": [
             [
              0,
              "#0d0887"
             ],
             [
              0.1111111111111111,
              "#46039f"
             ],
             [
              0.2222222222222222,
              "#7201a8"
             ],
             [
              0.3333333333333333,
              "#9c179e"
             ],
             [
              0.4444444444444444,
              "#bd3786"
             ],
             [
              0.5555555555555556,
              "#d8576b"
             ],
             [
              0.6666666666666666,
              "#ed7953"
             ],
             [
              0.7777777777777778,
              "#fb9f3a"
             ],
             [
              0.8888888888888888,
              "#fdca26"
             ],
             [
              1,
              "#f0f921"
             ]
            ],
            "type": "heatmap"
           }
          ],
          "heatmapgl": [
           {
            "colorbar": {
             "outlinewidth": 0,
             "ticks": ""
            },
            "colorscale": [
             [
              0,
              "#0d0887"
             ],
             [
              0.1111111111111111,
              "#46039f"
             ],
             [
              0.2222222222222222,
              "#7201a8"
             ],
             [
              0.3333333333333333,
              "#9c179e"
             ],
             [
              0.4444444444444444,
              "#bd3786"
             ],
             [
              0.5555555555555556,
              "#d8576b"
             ],
             [
              0.6666666666666666,
              "#ed7953"
             ],
             [
              0.7777777777777778,
              "#fb9f3a"
             ],
             [
              0.8888888888888888,
              "#fdca26"
             ],
             [
              1,
              "#f0f921"
             ]
            ],
            "type": "heatmapgl"
           }
          ],
          "histogram": [
           {
            "marker": {
             "pattern": {
              "fillmode": "overlay",
              "size": 10,
              "solidity": 0.2
             }
            },
            "type": "histogram"
           }
          ],
          "histogram2d": [
           {
            "colorbar": {
             "outlinewidth": 0,
             "ticks": ""
            },
            "colorscale": [
             [
              0,
              "#0d0887"
             ],
             [
              0.1111111111111111,
              "#46039f"
             ],
             [
              0.2222222222222222,
              "#7201a8"
             ],
             [
              0.3333333333333333,
              "#9c179e"
             ],
             [
              0.4444444444444444,
              "#bd3786"
             ],
             [
              0.5555555555555556,
              "#d8576b"
             ],
             [
              0.6666666666666666,
              "#ed7953"
             ],
             [
              0.7777777777777778,
              "#fb9f3a"
             ],
             [
              0.8888888888888888,
              "#fdca26"
             ],
             [
              1,
              "#f0f921"
             ]
            ],
            "type": "histogram2d"
           }
          ],
          "histogram2dcontour": [
           {
            "colorbar": {
             "outlinewidth": 0,
             "ticks": ""
            },
            "colorscale": [
             [
              0,
              "#0d0887"
             ],
             [
              0.1111111111111111,
              "#46039f"
             ],
             [
              0.2222222222222222,
              "#7201a8"
             ],
             [
              0.3333333333333333,
              "#9c179e"
             ],
             [
              0.4444444444444444,
              "#bd3786"
             ],
             [
              0.5555555555555556,
              "#d8576b"
             ],
             [
              0.6666666666666666,
              "#ed7953"
             ],
             [
              0.7777777777777778,
              "#fb9f3a"
             ],
             [
              0.8888888888888888,
              "#fdca26"
             ],
             [
              1,
              "#f0f921"
             ]
            ],
            "type": "histogram2dcontour"
           }
          ],
          "mesh3d": [
           {
            "colorbar": {
             "outlinewidth": 0,
             "ticks": ""
            },
            "type": "mesh3d"
           }
          ],
          "parcoords": [
           {
            "line": {
             "colorbar": {
              "outlinewidth": 0,
              "ticks": ""
             }
            },
            "type": "parcoords"
           }
          ],
          "pie": [
           {
            "automargin": true,
            "type": "pie"
           }
          ],
          "scatter": [
           {
            "marker": {
             "colorbar": {
              "outlinewidth": 0,
              "ticks": ""
             }
            },
            "type": "scatter"
           }
          ],
          "scatter3d": [
           {
            "line": {
             "colorbar": {
              "outlinewidth": 0,
              "ticks": ""
             }
            },
            "marker": {
             "colorbar": {
              "outlinewidth": 0,
              "ticks": ""
             }
            },
            "type": "scatter3d"
           }
          ],
          "scattercarpet": [
           {
            "marker": {
             "colorbar": {
              "outlinewidth": 0,
              "ticks": ""
             }
            },
            "type": "scattercarpet"
           }
          ],
          "scattergeo": [
           {
            "marker": {
             "colorbar": {
              "outlinewidth": 0,
              "ticks": ""
             }
            },
            "type": "scattergeo"
           }
          ],
          "scattergl": [
           {
            "marker": {
             "colorbar": {
              "outlinewidth": 0,
              "ticks": ""
             }
            },
            "type": "scattergl"
           }
          ],
          "scattermapbox": [
           {
            "marker": {
             "colorbar": {
              "outlinewidth": 0,
              "ticks": ""
             }
            },
            "type": "scattermapbox"
           }
          ],
          "scatterpolar": [
           {
            "marker": {
             "colorbar": {
              "outlinewidth": 0,
              "ticks": ""
             }
            },
            "type": "scatterpolar"
           }
          ],
          "scatterpolargl": [
           {
            "marker": {
             "colorbar": {
              "outlinewidth": 0,
              "ticks": ""
             }
            },
            "type": "scatterpolargl"
           }
          ],
          "scatterternary": [
           {
            "marker": {
             "colorbar": {
              "outlinewidth": 0,
              "ticks": ""
             }
            },
            "type": "scatterternary"
           }
          ],
          "surface": [
           {
            "colorbar": {
             "outlinewidth": 0,
             "ticks": ""
            },
            "colorscale": [
             [
              0,
              "#0d0887"
             ],
             [
              0.1111111111111111,
              "#46039f"
             ],
             [
              0.2222222222222222,
              "#7201a8"
             ],
             [
              0.3333333333333333,
              "#9c179e"
             ],
             [
              0.4444444444444444,
              "#bd3786"
             ],
             [
              0.5555555555555556,
              "#d8576b"
             ],
             [
              0.6666666666666666,
              "#ed7953"
             ],
             [
              0.7777777777777778,
              "#fb9f3a"
             ],
             [
              0.8888888888888888,
              "#fdca26"
             ],
             [
              1,
              "#f0f921"
             ]
            ],
            "type": "surface"
           }
          ],
          "table": [
           {
            "cells": {
             "fill": {
              "color": "#EBF0F8"
             },
             "line": {
              "color": "white"
             }
            },
            "header": {
             "fill": {
              "color": "#C8D4E3"
             },
             "line": {
              "color": "white"
             }
            },
            "type": "table"
           }
          ]
         },
         "layout": {
          "annotationdefaults": {
           "arrowcolor": "#2a3f5f",
           "arrowhead": 0,
           "arrowwidth": 1
          },
          "autotypenumbers": "strict",
          "coloraxis": {
           "colorbar": {
            "outlinewidth": 0,
            "ticks": ""
           }
          },
          "colorscale": {
           "diverging": [
            [
             0,
             "#8e0152"
            ],
            [
             0.1,
             "#c51b7d"
            ],
            [
             0.2,
             "#de77ae"
            ],
            [
             0.3,
             "#f1b6da"
            ],
            [
             0.4,
             "#fde0ef"
            ],
            [
             0.5,
             "#f7f7f7"
            ],
            [
             0.6,
             "#e6f5d0"
            ],
            [
             0.7,
             "#b8e186"
            ],
            [
             0.8,
             "#7fbc41"
            ],
            [
             0.9,
             "#4d9221"
            ],
            [
             1,
             "#276419"
            ]
           ],
           "sequential": [
            [
             0,
             "#0d0887"
            ],
            [
             0.1111111111111111,
             "#46039f"
            ],
            [
             0.2222222222222222,
             "#7201a8"
            ],
            [
             0.3333333333333333,
             "#9c179e"
            ],
            [
             0.4444444444444444,
             "#bd3786"
            ],
            [
             0.5555555555555556,
             "#d8576b"
            ],
            [
             0.6666666666666666,
             "#ed7953"
            ],
            [
             0.7777777777777778,
             "#fb9f3a"
            ],
            [
             0.8888888888888888,
             "#fdca26"
            ],
            [
             1,
             "#f0f921"
            ]
           ],
           "sequentialminus": [
            [
             0,
             "#0d0887"
            ],
            [
             0.1111111111111111,
             "#46039f"
            ],
            [
             0.2222222222222222,
             "#7201a8"
            ],
            [
             0.3333333333333333,
             "#9c179e"
            ],
            [
             0.4444444444444444,
             "#bd3786"
            ],
            [
             0.5555555555555556,
             "#d8576b"
            ],
            [
             0.6666666666666666,
             "#ed7953"
            ],
            [
             0.7777777777777778,
             "#fb9f3a"
            ],
            [
             0.8888888888888888,
             "#fdca26"
            ],
            [
             1,
             "#f0f921"
            ]
           ]
          },
          "colorway": [
           "#636efa",
           "#EF553B",
           "#00cc96",
           "#ab63fa",
           "#FFA15A",
           "#19d3f3",
           "#FF6692",
           "#B6E880",
           "#FF97FF",
           "#FECB52"
          ],
          "font": {
           "color": "#2a3f5f"
          },
          "geo": {
           "bgcolor": "white",
           "lakecolor": "white",
           "landcolor": "#E5ECF6",
           "showlakes": true,
           "showland": true,
           "subunitcolor": "white"
          },
          "hoverlabel": {
           "align": "left"
          },
          "hovermode": "closest",
          "mapbox": {
           "style": "light"
          },
          "paper_bgcolor": "white",
          "plot_bgcolor": "#E5ECF6",
          "polar": {
           "angularaxis": {
            "gridcolor": "white",
            "linecolor": "white",
            "ticks": ""
           },
           "bgcolor": "#E5ECF6",
           "radialaxis": {
            "gridcolor": "white",
            "linecolor": "white",
            "ticks": ""
           }
          },
          "scene": {
           "xaxis": {
            "backgroundcolor": "#E5ECF6",
            "gridcolor": "white",
            "gridwidth": 2,
            "linecolor": "white",
            "showbackground": true,
            "ticks": "",
            "zerolinecolor": "white"
           },
           "yaxis": {
            "backgroundcolor": "#E5ECF6",
            "gridcolor": "white",
            "gridwidth": 2,
            "linecolor": "white",
            "showbackground": true,
            "ticks": "",
            "zerolinecolor": "white"
           },
           "zaxis": {
            "backgroundcolor": "#E5ECF6",
            "gridcolor": "white",
            "gridwidth": 2,
            "linecolor": "white",
            "showbackground": true,
            "ticks": "",
            "zerolinecolor": "white"
           }
          },
          "shapedefaults": {
           "line": {
            "color": "#2a3f5f"
           }
          },
          "ternary": {
           "aaxis": {
            "gridcolor": "white",
            "linecolor": "white",
            "ticks": ""
           },
           "baxis": {
            "gridcolor": "white",
            "linecolor": "white",
            "ticks": ""
           },
           "bgcolor": "#E5ECF6",
           "caxis": {
            "gridcolor": "white",
            "linecolor": "white",
            "ticks": ""
           }
          },
          "title": {
           "x": 0.05
          },
          "xaxis": {
           "automargin": true,
           "gridcolor": "white",
           "linecolor": "white",
           "ticks": "",
           "title": {
            "standoff": 15
           },
           "zerolinecolor": "white",
           "zerolinewidth": 2
          },
          "yaxis": {
           "automargin": true,
           "gridcolor": "white",
           "linecolor": "white",
           "ticks": "",
           "title": {
            "standoff": 15
           },
           "zerolinecolor": "white",
           "zerolinewidth": 2
          }
         }
        },
        "title": {
         "text": " Min Cluster Detector for site MLA on flow direct and device Desktop"
        }
       }
      },
      "text/html": [
       "<div>                            <div id=\"408e9f7c-c260-4087-a7eb-6e7f9fe52b4a\" class=\"plotly-graph-div\" style=\"height:525px; width:100%;\"></div>            <script type=\"text/javascript\">                require([\"plotly\"], function(Plotly) {                    window.PLOTLYENV=window.PLOTLYENV || {};                                    if (document.getElementById(\"408e9f7c-c260-4087-a7eb-6e7f9fe52b4a\")) {                    Plotly.newPlot(                        \"408e9f7c-c260-4087-a7eb-6e7f9fe52b4a\",                        [{\"mode\":\"lines\",\"name\":\"TOTAL\",\"type\":\"scatter\",\"x\":[\"2019-03-01T00:00:00+00:00\",\"2019-03-02T00:00:00+00:00\",\"2019-03-03T00:00:00+00:00\",\"2019-03-04T00:00:00+00:00\",\"2019-03-05T00:00:00+00:00\",\"2019-03-06T00:00:00+00:00\",\"2019-03-07T00:00:00+00:00\",\"2019-03-08T00:00:00+00:00\",\"2019-03-09T00:00:00+00:00\",\"2019-03-10T00:00:00+00:00\",\"2019-03-11T00:00:00+00:00\",\"2019-03-12T00:00:00+00:00\",\"2019-03-13T00:00:00+00:00\",\"2019-03-14T00:00:00+00:00\",\"2019-03-15T00:00:00+00:00\",\"2019-03-16T00:00:00+00:00\",\"2019-03-17T00:00:00+00:00\",\"2019-03-18T00:00:00+00:00\",\"2019-03-19T00:00:00+00:00\",\"2019-03-20T00:00:00+00:00\",\"2019-03-21T00:00:00+00:00\",\"2019-03-22T00:00:00+00:00\",\"2019-03-23T00:00:00+00:00\",\"2019-03-24T00:00:00+00:00\",\"2019-03-25T00:00:00+00:00\",\"2019-03-26T00:00:00+00:00\",\"2019-03-27T00:00:00+00:00\",\"2019-03-28T00:00:00+00:00\",\"2019-03-29T00:00:00+00:00\",\"2019-03-30T00:00:00+00:00\",\"2019-03-31T00:00:00+00:00\",\"2019-04-01T00:00:00+00:00\",\"2019-04-02T00:00:00+00:00\",\"2019-04-03T00:00:00+00:00\",\"2019-04-04T00:00:00+00:00\",\"2019-04-05T00:00:00+00:00\",\"2019-04-06T00:00:00+00:00\",\"2019-04-07T00:00:00+00:00\",\"2019-04-08T00:00:00+00:00\",\"2019-04-09T00:00:00+00:00\",\"2019-04-10T00:00:00+00:00\",\"2019-04-11T00:00:00+00:00\",\"2019-04-12T00:00:00+00:00\",\"2019-04-13T00:00:00+00:00\",\"2019-04-14T00:00:00+00:00\",\"2019-04-15T00:00:00+00:00\",\"2019-04-16T00:00:00+00:00\",\"2019-04-17T00:00:00+00:00\",\"2019-04-18T00:00:00+00:00\",\"2019-04-19T00:00:00+00:00\",\"2019-04-20T00:00:00+00:00\",\"2019-04-21T00:00:00+00:00\",\"2019-04-22T00:00:00+00:00\",\"2019-04-23T00:00:00+00:00\",\"2019-04-24T00:00:00+00:00\",\"2019-04-25T00:00:00+00:00\",\"2019-04-26T00:00:00+00:00\",\"2019-04-27T00:00:00+00:00\",\"2019-04-28T00:00:00+00:00\",\"2019-04-29T00:00:00+00:00\",\"2019-04-30T00:00:00+00:00\",\"2019-05-01T00:00:00+00:00\",\"2019-05-02T00:00:00+00:00\",\"2019-05-03T00:00:00+00:00\",\"2019-05-04T00:00:00+00:00\",\"2019-05-05T00:00:00+00:00\",\"2019-05-06T00:00:00+00:00\",\"2019-05-07T00:00:00+00:00\",\"2019-05-08T00:00:00+00:00\",\"2019-05-09T00:00:00+00:00\",\"2019-05-10T00:00:00+00:00\",\"2019-05-11T00:00:00+00:00\",\"2019-05-12T00:00:00+00:00\",\"2019-05-13T00:00:00+00:00\",\"2019-05-14T00:00:00+00:00\",\"2019-05-15T00:00:00+00:00\",\"2019-05-16T00:00:00+00:00\",\"2019-05-17T00:00:00+00:00\",\"2019-05-18T00:00:00+00:00\",\"2019-05-19T00:00:00+00:00\",\"2019-05-20T00:00:00+00:00\",\"2019-05-21T00:00:00+00:00\",\"2019-05-22T00:00:00+00:00\",\"2019-05-23T00:00:00+00:00\",\"2019-05-24T00:00:00+00:00\",\"2019-05-25T00:00:00+00:00\",\"2019-05-26T00:00:00+00:00\",\"2019-05-27T00:00:00+00:00\",\"2019-05-28T00:00:00+00:00\",\"2019-05-29T00:00:00+00:00\",\"2019-05-30T00:00:00+00:00\",\"2019-05-31T00:00:00+00:00\",\"2019-06-01T00:00:00+00:00\",\"2019-06-02T00:00:00+00:00\",\"2019-06-03T00:00:00+00:00\",\"2019-06-04T00:00:00+00:00\",\"2019-06-05T00:00:00+00:00\",\"2019-06-06T00:00:00+00:00\",\"2019-06-07T00:00:00+00:00\",\"2019-06-08T00:00:00+00:00\",\"2019-06-09T00:00:00+00:00\",\"2019-06-10T00:00:00+00:00\",\"2019-06-11T00:00:00+00:00\",\"2019-06-12T00:00:00+00:00\",\"2019-06-13T00:00:00+00:00\",\"2019-06-14T00:00:00+00:00\",\"2019-06-15T00:00:00+00:00\",\"2019-06-16T00:00:00+00:00\",\"2019-06-17T00:00:00+00:00\",\"2019-06-18T00:00:00+00:00\",\"2019-06-19T00:00:00+00:00\",\"2019-06-20T00:00:00+00:00\",\"2019-06-21T00:00:00+00:00\",\"2019-06-22T00:00:00+00:00\",\"2019-06-23T00:00:00+00:00\",\"2019-06-24T00:00:00+00:00\",\"2019-06-25T00:00:00+00:00\",\"2019-06-26T00:00:00+00:00\",\"2019-06-27T00:00:00+00:00\",\"2019-06-28T00:00:00+00:00\",\"2019-06-29T00:00:00+00:00\",\"2019-06-30T00:00:00+00:00\",\"2019-07-01T00:00:00+00:00\",\"2019-07-02T00:00:00+00:00\",\"2019-07-03T00:00:00+00:00\",\"2019-07-04T00:00:00+00:00\",\"2019-07-05T00:00:00+00:00\",\"2019-07-06T00:00:00+00:00\",\"2019-07-07T00:00:00+00:00\",\"2019-07-08T00:00:00+00:00\",\"2019-07-09T00:00:00+00:00\",\"2019-07-10T00:00:00+00:00\",\"2019-07-11T00:00:00+00:00\",\"2019-07-12T00:00:00+00:00\",\"2019-07-13T00:00:00+00:00\",\"2019-07-14T00:00:00+00:00\",\"2019-07-15T00:00:00+00:00\",\"2019-07-16T00:00:00+00:00\",\"2019-07-17T00:00:00+00:00\",\"2019-07-18T00:00:00+00:00\",\"2019-07-19T00:00:00+00:00\",\"2019-07-20T00:00:00+00:00\",\"2019-07-21T00:00:00+00:00\",\"2019-07-22T00:00:00+00:00\",\"2019-07-23T00:00:00+00:00\",\"2019-07-24T00:00:00+00:00\",\"2019-07-25T00:00:00+00:00\",\"2019-07-26T00:00:00+00:00\",\"2019-07-27T00:00:00+00:00\",\"2019-07-28T00:00:00+00:00\",\"2019-07-29T00:00:00+00:00\",\"2019-07-30T00:00:00+00:00\",\"2019-07-31T00:00:00+00:00\",\"2019-08-01T00:00:00+00:00\",\"2019-08-02T00:00:00+00:00\",\"2019-08-03T00:00:00+00:00\",\"2019-08-04T00:00:00+00:00\",\"2019-08-05T00:00:00+00:00\",\"2019-08-06T00:00:00+00:00\",\"2019-08-07T00:00:00+00:00\",\"2019-08-08T00:00:00+00:00\",\"2019-08-09T00:00:00+00:00\",\"2019-08-10T00:00:00+00:00\",\"2019-08-11T00:00:00+00:00\",\"2019-08-12T00:00:00+00:00\",\"2019-08-13T00:00:00+00:00\",\"2019-08-14T00:00:00+00:00\",\"2019-08-15T00:00:00+00:00\",\"2019-08-16T00:00:00+00:00\",\"2019-08-17T00:00:00+00:00\",\"2019-08-18T00:00:00+00:00\",\"2019-08-19T00:00:00+00:00\",\"2019-08-20T00:00:00+00:00\",\"2019-08-21T00:00:00+00:00\",\"2019-08-22T00:00:00+00:00\",\"2019-08-23T00:00:00+00:00\",\"2019-08-24T00:00:00+00:00\",\"2019-08-25T00:00:00+00:00\",\"2019-08-26T00:00:00+00:00\",\"2019-08-27T00:00:00+00:00\",\"2019-08-28T00:00:00+00:00\",\"2019-08-29T00:00:00+00:00\",\"2019-08-30T00:00:00+00:00\",\"2019-08-31T00:00:00+00:00\",\"2019-09-01T00:00:00+00:00\",\"2019-09-02T00:00:00+00:00\",\"2019-09-03T00:00:00+00:00\",\"2019-09-04T00:00:00+00:00\",\"2019-09-05T00:00:00+00:00\",\"2019-09-06T00:00:00+00:00\",\"2019-09-07T00:00:00+00:00\",\"2019-09-08T00:00:00+00:00\",\"2019-09-09T00:00:00+00:00\",\"2019-09-10T00:00:00+00:00\",\"2019-09-11T00:00:00+00:00\",\"2019-09-12T00:00:00+00:00\",\"2019-09-13T00:00:00+00:00\",\"2019-09-14T00:00:00+00:00\",\"2019-09-15T00:00:00+00:00\",\"2019-09-16T00:00:00+00:00\",\"2019-09-17T00:00:00+00:00\",\"2019-09-18T00:00:00+00:00\",\"2019-09-19T00:00:00+00:00\",\"2019-09-20T00:00:00+00:00\",\"2019-09-21T00:00:00+00:00\",\"2019-09-22T00:00:00+00:00\",\"2019-09-23T00:00:00+00:00\",\"2019-09-24T00:00:00+00:00\",\"2019-09-25T00:00:00+00:00\",\"2019-09-26T00:00:00+00:00\",\"2019-09-27T00:00:00+00:00\",\"2019-09-28T00:00:00+00:00\",\"2019-09-29T00:00:00+00:00\",\"2019-09-30T00:00:00+00:00\",\"2019-10-01T00:00:00+00:00\",\"2019-10-02T00:00:00+00:00\",\"2019-10-03T00:00:00+00:00\",\"2019-10-04T00:00:00+00:00\",\"2019-10-05T00:00:00+00:00\",\"2019-10-06T00:00:00+00:00\",\"2019-10-07T00:00:00+00:00\",\"2019-10-08T00:00:00+00:00\",\"2019-10-09T00:00:00+00:00\",\"2019-10-10T00:00:00+00:00\",\"2019-10-11T00:00:00+00:00\",\"2019-10-12T00:00:00+00:00\",\"2019-10-13T00:00:00+00:00\",\"2019-10-14T00:00:00+00:00\",\"2019-10-15T00:00:00+00:00\",\"2019-10-16T00:00:00+00:00\",\"2019-10-17T00:00:00+00:00\",\"2019-10-18T00:00:00+00:00\",\"2019-10-19T00:00:00+00:00\",\"2019-10-20T00:00:00+00:00\",\"2019-10-21T00:00:00+00:00\",\"2019-10-22T00:00:00+00:00\",\"2019-10-23T00:00:00+00:00\",\"2019-10-24T00:00:00+00:00\",\"2019-10-25T00:00:00+00:00\",\"2019-10-26T00:00:00+00:00\",\"2019-10-27T00:00:00+00:00\",\"2019-10-28T00:00:00+00:00\",\"2019-10-29T00:00:00+00:00\",\"2019-10-30T00:00:00+00:00\",\"2019-10-31T00:00:00+00:00\",\"2019-11-01T00:00:00+00:00\",\"2019-11-02T00:00:00+00:00\",\"2019-11-03T00:00:00+00:00\",\"2019-11-04T00:00:00+00:00\",\"2019-11-05T00:00:00+00:00\",\"2019-11-06T00:00:00+00:00\",\"2019-11-07T00:00:00+00:00\",\"2019-11-08T00:00:00+00:00\",\"2019-11-09T00:00:00+00:00\",\"2019-11-10T00:00:00+00:00\",\"2019-11-11T00:00:00+00:00\",\"2019-11-12T00:00:00+00:00\",\"2019-11-13T00:00:00+00:00\",\"2019-11-14T00:00:00+00:00\",\"2019-11-15T00:00:00+00:00\",\"2019-11-16T00:00:00+00:00\",\"2019-11-17T00:00:00+00:00\",\"2019-11-18T00:00:00+00:00\",\"2019-11-19T00:00:00+00:00\",\"2019-11-20T00:00:00+00:00\",\"2019-11-21T00:00:00+00:00\",\"2019-11-22T00:00:00+00:00\",\"2019-11-23T00:00:00+00:00\",\"2019-11-24T00:00:00+00:00\",\"2019-11-25T00:00:00+00:00\",\"2019-11-26T00:00:00+00:00\",\"2019-11-27T00:00:00+00:00\",\"2019-11-28T00:00:00+00:00\",\"2019-11-29T00:00:00+00:00\",\"2019-11-30T00:00:00+00:00\",\"2019-12-01T00:00:00+00:00\",\"2019-12-02T00:00:00+00:00\",\"2019-12-03T00:00:00+00:00\",\"2019-12-04T00:00:00+00:00\",\"2019-12-05T00:00:00+00:00\",\"2019-12-06T00:00:00+00:00\",\"2019-12-07T00:00:00+00:00\",\"2019-12-08T00:00:00+00:00\",\"2019-12-09T00:00:00+00:00\",\"2019-12-10T00:00:00+00:00\",\"2019-12-11T00:00:00+00:00\",\"2019-12-12T00:00:00+00:00\",\"2019-12-13T00:00:00+00:00\",\"2019-12-14T00:00:00+00:00\",\"2019-12-15T00:00:00+00:00\",\"2019-12-16T00:00:00+00:00\",\"2019-12-17T00:00:00+00:00\",\"2019-12-18T00:00:00+00:00\",\"2019-12-19T00:00:00+00:00\",\"2019-12-20T00:00:00+00:00\",\"2019-12-21T00:00:00+00:00\",\"2019-12-22T00:00:00+00:00\",\"2019-12-23T00:00:00+00:00\",\"2019-12-24T00:00:00+00:00\",\"2019-12-25T00:00:00+00:00\",\"2019-12-26T00:00:00+00:00\",\"2019-12-27T00:00:00+00:00\",\"2019-12-28T00:00:00+00:00\",\"2019-12-29T00:00:00+00:00\",\"2019-12-30T00:00:00+00:00\",\"2019-12-31T00:00:00+00:00\",\"2020-01-01T00:00:00+00:00\",\"2020-01-02T00:00:00+00:00\",\"2020-01-03T00:00:00+00:00\",\"2020-01-04T00:00:00+00:00\",\"2020-01-05T00:00:00+00:00\",\"2020-01-06T00:00:00+00:00\",\"2020-01-07T00:00:00+00:00\",\"2020-01-08T00:00:00+00:00\",\"2020-01-09T00:00:00+00:00\",\"2020-01-10T00:00:00+00:00\",\"2020-01-11T00:00:00+00:00\",\"2020-01-12T00:00:00+00:00\",\"2020-01-13T00:00:00+00:00\",\"2020-01-14T00:00:00+00:00\",\"2020-01-15T00:00:00+00:00\",\"2020-01-16T00:00:00+00:00\",\"2020-01-17T00:00:00+00:00\",\"2020-01-18T00:00:00+00:00\",\"2020-01-19T00:00:00+00:00\",\"2020-01-20T00:00:00+00:00\",\"2020-01-21T00:00:00+00:00\",\"2020-01-22T00:00:00+00:00\",\"2020-01-23T00:00:00+00:00\",\"2020-01-24T00:00:00+00:00\",\"2020-01-25T00:00:00+00:00\",\"2020-01-26T00:00:00+00:00\",\"2020-01-27T00:00:00+00:00\",\"2020-01-28T00:00:00+00:00\",\"2020-01-29T00:00:00+00:00\",\"2020-01-30T00:00:00+00:00\",\"2020-01-31T00:00:00+00:00\",\"2020-02-01T00:00:00+00:00\",\"2020-02-02T00:00:00+00:00\",\"2020-02-03T00:00:00+00:00\",\"2020-02-04T00:00:00+00:00\",\"2020-02-05T00:00:00+00:00\",\"2020-02-06T00:00:00+00:00\",\"2020-02-07T00:00:00+00:00\",\"2020-02-08T00:00:00+00:00\",\"2020-02-09T00:00:00+00:00\",\"2020-02-10T00:00:00+00:00\",\"2020-02-11T00:00:00+00:00\",\"2020-02-12T00:00:00+00:00\",\"2020-02-13T00:00:00+00:00\",\"2020-02-14T00:00:00+00:00\",\"2020-02-15T00:00:00+00:00\",\"2020-02-16T00:00:00+00:00\",\"2020-02-17T00:00:00+00:00\",\"2020-02-18T00:00:00+00:00\",\"2020-02-19T00:00:00+00:00\",\"2020-02-20T00:00:00+00:00\",\"2020-02-21T00:00:00+00:00\",\"2020-02-22T00:00:00+00:00\",\"2020-02-23T00:00:00+00:00\",\"2020-02-24T00:00:00+00:00\",\"2020-02-25T00:00:00+00:00\",\"2020-02-26T00:00:00+00:00\",\"2020-02-27T00:00:00+00:00\",\"2020-02-28T00:00:00+00:00\",\"2020-02-29T00:00:00+00:00\",\"2020-03-01T00:00:00+00:00\",\"2020-03-02T00:00:00+00:00\",\"2020-03-03T00:00:00+00:00\",\"2020-03-04T00:00:00+00:00\",\"2020-03-05T00:00:00+00:00\",\"2020-03-06T00:00:00+00:00\",\"2020-03-07T00:00:00+00:00\",\"2020-03-08T00:00:00+00:00\",\"2020-03-09T00:00:00+00:00\",\"2020-03-10T00:00:00+00:00\",\"2020-03-11T00:00:00+00:00\",\"2020-03-12T00:00:00+00:00\",\"2020-03-13T00:00:00+00:00\",\"2020-03-14T00:00:00+00:00\",\"2020-03-15T00:00:00+00:00\",\"2020-03-16T00:00:00+00:00\",\"2020-03-17T00:00:00+00:00\",\"2020-03-18T00:00:00+00:00\",\"2020-03-19T00:00:00+00:00\",\"2020-03-20T00:00:00+00:00\",\"2020-03-21T00:00:00+00:00\",\"2020-03-22T00:00:00+00:00\",\"2020-03-23T00:00:00+00:00\",\"2020-03-24T00:00:00+00:00\",\"2020-03-25T00:00:00+00:00\",\"2020-03-26T00:00:00+00:00\",\"2020-03-27T00:00:00+00:00\",\"2020-03-28T00:00:00+00:00\",\"2020-03-29T00:00:00+00:00\",\"2020-03-30T00:00:00+00:00\",\"2020-03-31T00:00:00+00:00\",\"2020-04-01T00:00:00+00:00\",\"2020-04-02T00:00:00+00:00\",\"2020-04-03T00:00:00+00:00\",\"2020-04-04T00:00:00+00:00\",\"2020-04-05T00:00:00+00:00\",\"2020-04-06T00:00:00+00:00\",\"2020-04-07T00:00:00+00:00\",\"2020-04-08T00:00:00+00:00\",\"2020-04-09T00:00:00+00:00\",\"2020-04-10T00:00:00+00:00\",\"2020-04-11T00:00:00+00:00\",\"2020-04-12T00:00:00+00:00\",\"2020-04-13T00:00:00+00:00\",\"2020-04-14T00:00:00+00:00\",\"2020-04-15T00:00:00+00:00\",\"2020-04-16T00:00:00+00:00\",\"2020-04-17T00:00:00+00:00\",\"2020-04-18T00:00:00+00:00\",\"2020-04-19T00:00:00+00:00\",\"2020-04-20T00:00:00+00:00\",\"2020-04-21T00:00:00+00:00\",\"2020-04-22T00:00:00+00:00\",\"2020-04-23T00:00:00+00:00\",\"2020-04-24T00:00:00+00:00\",\"2020-04-25T00:00:00+00:00\",\"2020-04-26T00:00:00+00:00\",\"2020-04-27T00:00:00+00:00\",\"2020-04-28T00:00:00+00:00\",\"2020-04-29T00:00:00+00:00\",\"2020-04-30T00:00:00+00:00\",\"2020-05-01T00:00:00+00:00\",\"2020-05-02T00:00:00+00:00\",\"2020-05-03T00:00:00+00:00\",\"2020-05-04T00:00:00+00:00\",\"2020-05-05T00:00:00+00:00\",\"2020-05-06T00:00:00+00:00\",\"2020-05-07T00:00:00+00:00\",\"2020-05-08T00:00:00+00:00\",\"2020-05-09T00:00:00+00:00\",\"2020-05-10T00:00:00+00:00\",\"2020-05-11T00:00:00+00:00\",\"2020-05-12T00:00:00+00:00\",\"2020-05-13T00:00:00+00:00\",\"2020-05-14T00:00:00+00:00\",\"2020-05-15T00:00:00+00:00\",\"2020-05-16T00:00:00+00:00\",\"2020-05-17T00:00:00+00:00\",\"2020-05-18T00:00:00+00:00\",\"2020-05-19T00:00:00+00:00\",\"2020-05-20T00:00:00+00:00\",\"2020-05-21T00:00:00+00:00\",\"2020-05-22T00:00:00+00:00\",\"2020-05-23T00:00:00+00:00\",\"2020-05-24T00:00:00+00:00\",\"2020-05-25T00:00:00+00:00\",\"2020-05-26T00:00:00+00:00\",\"2020-05-27T00:00:00+00:00\",\"2020-05-28T00:00:00+00:00\",\"2020-05-29T00:00:00+00:00\",\"2020-05-30T00:00:00+00:00\",\"2020-05-31T00:00:00+00:00\",\"2020-06-01T00:00:00+00:00\",\"2020-06-02T00:00:00+00:00\",\"2020-06-03T00:00:00+00:00\",\"2020-06-04T00:00:00+00:00\",\"2020-06-05T00:00:00+00:00\",\"2020-06-06T00:00:00+00:00\",\"2020-06-07T00:00:00+00:00\",\"2020-06-08T00:00:00+00:00\",\"2020-06-09T00:00:00+00:00\",\"2020-06-10T00:00:00+00:00\",\"2020-06-11T00:00:00+00:00\",\"2020-06-12T00:00:00+00:00\",\"2020-06-13T00:00:00+00:00\",\"2020-06-14T00:00:00+00:00\",\"2020-06-15T00:00:00+00:00\",\"2020-06-16T00:00:00+00:00\",\"2020-06-17T00:00:00+00:00\",\"2020-06-18T00:00:00+00:00\",\"2020-06-19T00:00:00+00:00\",\"2020-06-20T00:00:00+00:00\",\"2020-06-21T00:00:00+00:00\",\"2020-06-22T00:00:00+00:00\",\"2020-06-23T00:00:00+00:00\",\"2020-06-24T00:00:00+00:00\",\"2020-06-25T00:00:00+00:00\",\"2020-06-26T00:00:00+00:00\",\"2020-06-27T00:00:00+00:00\",\"2020-06-28T00:00:00+00:00\",\"2020-06-29T00:00:00+00:00\",\"2020-06-30T00:00:00+00:00\"],\"y\":[0.6659999999999999,0.609,0.5720000000000001,0.588,0.622,0.665,0.665,0.6659999999999999,0.609,0.604,0.64,0.644,0.64,0.645,0.647,0.5710000000000001,0.584,0.653,0.645,0.632,0.643,0.66,0.61,0.6,0.6579999999999999,0.648,0.65,0.652,0.6659999999999999,0.61,0.605,0.664,0.619,0.6659999999999999,0.653,0.659,0.619,0.611,0.664,0.6579999999999999,0.653,0.637,0.647,0.596,0.5920000000000001,0.6579999999999999,0.648,0.648,0.614,0.58,0.5920000000000001,0.5920000000000001,0.638,0.634,0.632,0.632,0.647,0.594,0.5820000000000001,0.635,0.62,0.584,0.649,0.6509999999999999,0.602,0.594,0.6559999999999999,0.647,0.642,0.634,0.638,0.596,0.565,0.556,0.578,0.599,0.602,0.593,0.5589999999999999,0.573,0.61,0.62,0.62,0.621,0.648,0.594,0.595,0.6409999999999999,0.597,0.606,0.633,0.655,0.614,0.596,0.649,0.642,0.637,0.631,0.645,0.59,0.598,0.64,0.635,0.639,0.622,0.633,0.568,0.532,0.599,0.662,0.63,0.5870000000000001,0.65,0.597,0.5670000000000001,0.655,0.6459999999999999,0.631,0.633,0.6459999999999999,0.597,0.588,0.653,0.645,0.64,0.602,0.626,0.594,0.58,0.598,0.597,0.654,0.638,0.63,0.568,0.5770000000000001,0.638,0.638,0.628,0.625,0.626,0.573,0.563,0.61,0.612,0.589,0.584,0.624,0.5720000000000001,0.5710000000000001,0.614,0.596,0.605,0.636,0.617,0.581,0.5870000000000001,0.654,0.633,0.65,0.635,0.633,0.609,0.615,0.6709999999999999,0.659,0.648,0.578,0.62,0.602,0.5770000000000001,0.601,0.622,0.633,0.616,0.629,0.599,0.589,0.644,0.631,0.645,0.634,0.633,0.598,0.611,0.652,0.639,0.637,0.636,0.638,0.597,0.601,0.647,0.6459999999999999,0.6409999999999999,0.632,0.648,0.584,0.5870000000000001,0.636,0.6409999999999999,0.649,0.624,0.644,0.57,0.5820000000000001,0.639,0.634,0.638,0.633,0.652,0.603,0.597,0.653,0.648,0.654,0.649,0.645,0.603,0.618,0.6579999999999999,0.65,0.6509999999999999,0.65,0.642,0.594,0.594,0.615,0.655,0.649,0.637,0.632,0.608,0.585,0.632,0.625,0.644,0.647,0.6809999999999999,0.64,0.647,0.644,0.649,0.643,0.6409999999999999,0.653,0.589,0.5720000000000001,0.564,0.593,0.616,0.62,0.64,0.589,0.595,0.649,0.644,0.654,0.642,0.649,0.585,0.578,0.614,0.648,0.643,0.599,0.649,0.599,0.588,0.643,0.6409999999999999,0.638,0.625,0.625,0.589,0.596,0.645,0.643,0.018000000000000002,0.209,0.309,0.5760000000000001,0.605,0.669,0.669,0.655,0.647,0.665,0.62,0.635,0.606,0.6659999999999999,0.669,0.67,0.6659999999999999,0.633,0.62,0.674,0.629,0.588,0.653,0.6559999999999999,0.617,0.613,0.659,0.632,0.599,0.659,0.63,0.618,0.599,0.662,0.6509999999999999,0.6559999999999999,0.653,0.65,0.599,0.6,0.6629999999999999,0.652,0.647,0.642,0.647,0.597,0.583,0.648,0.639,0.636,0.63,0.654,0.601,0.593,0.648,0.644,0.634,0.636,0.6559999999999999,0.611,0.606,0.6659999999999999,0.66,0.6559999999999999,0.653,0.648,0.608,0.601,0.662,0.6579999999999999,0.6559999999999999,0.649,0.653,0.602,0.598,0.65,0.649,0.647,0.638,0.648,0.589,0.57,0.59,0.621,0.665,0.6509999999999999,0.653,0.617,0.619,0.66,0.659,0.66,0.652,0.6509999999999999,0.615,0.606,0.653,0.6559999999999999,0.65,0.655,0.659,0.601,0.598,0.654,0.6409999999999999,0.64,0.631,0.541,0.515,0.512,0.529,0.522,0.5539999999999999,0.547,0.564,0.557,0.5529999999999999,0.5870000000000001,0.594,0.607,0.611,0.617,0.591,0.588,0.611,0.605,0.596,0.598,0.6,0.596,0.6,0.629,0.634,0.623,0.624,0.625,0.593,0.595,0.627,0.624,0.617,0.616,0.633,0.5920000000000001,0.594,0.625,0.616,0.622,0.617,0.612,0.615,0.607,0.637,0.637,0.634,0.563,0.648,0.607,0.604,0.633,0.629,0.628,0.581,0.623,0.593,0.6,0.628,0.623,0.625,0.618,0.629,0.5920000000000001,0.584,0.615,0.638,0.638,0.639,0.657,0.617,0.621,0.649,0.655,0.635,0.655,0.647,0.62,0.617,0.631,0.65,0.649,0.653,0.654,0.623,0.616,0.645,0.664,0.6609999999999999,0.662,0.6579999999999999,0.618,0.622,0.657,0.649,0.645,0.654,0.662,0.627,0.628,0.662,0.655]},{\"marker\":{\"color\":\"LightSkyBlue\",\"line\":{\"color\":\"red\",\"width\":2},\"opacity\":0.5,\"size\":6},\"mode\":\"markers\",\"showlegend\":false,\"type\":\"scatter\",\"x\":[\"2019-12-06T00:00:00+00:00\"],\"y\":[0.309]}],                        {\"template\":{\"data\":{\"bar\":[{\"error_x\":{\"color\":\"#2a3f5f\"},\"error_y\":{\"color\":\"#2a3f5f\"},\"marker\":{\"line\":{\"color\":\"#E5ECF6\",\"width\":0.5},\"pattern\":{\"fillmode\":\"overlay\",\"size\":10,\"solidity\":0.2}},\"type\":\"bar\"}],\"barpolar\":[{\"marker\":{\"line\":{\"color\":\"#E5ECF6\",\"width\":0.5},\"pattern\":{\"fillmode\":\"overlay\",\"size\":10,\"solidity\":0.2}},\"type\":\"barpolar\"}],\"carpet\":[{\"aaxis\":{\"endlinecolor\":\"#2a3f5f\",\"gridcolor\":\"white\",\"linecolor\":\"white\",\"minorgridcolor\":\"white\",\"startlinecolor\":\"#2a3f5f\"},\"baxis\":{\"endlinecolor\":\"#2a3f5f\",\"gridcolor\":\"white\",\"linecolor\":\"white\",\"minorgridcolor\":\"white\",\"startlinecolor\":\"#2a3f5f\"},\"type\":\"carpet\"}],\"choropleth\":[{\"colorbar\":{\"outlinewidth\":0,\"ticks\":\"\"},\"type\":\"choropleth\"}],\"contour\":[{\"colorbar\":{\"outlinewidth\":0,\"ticks\":\"\"},\"colorscale\":[[0.0,\"#0d0887\"],[0.1111111111111111,\"#46039f\"],[0.2222222222222222,\"#7201a8\"],[0.3333333333333333,\"#9c179e\"],[0.4444444444444444,\"#bd3786\"],[0.5555555555555556,\"#d8576b\"],[0.6666666666666666,\"#ed7953\"],[0.7777777777777778,\"#fb9f3a\"],[0.8888888888888888,\"#fdca26\"],[1.0,\"#f0f921\"]],\"type\":\"contour\"}],\"contourcarpet\":[{\"colorbar\":{\"outlinewidth\":0,\"ticks\":\"\"},\"type\":\"contourcarpet\"}],\"heatmap\":[{\"colorbar\":{\"outlinewidth\":0,\"ticks\":\"\"},\"colorscale\":[[0.0,\"#0d0887\"],[0.1111111111111111,\"#46039f\"],[0.2222222222222222,\"#7201a8\"],[0.3333333333333333,\"#9c179e\"],[0.4444444444444444,\"#bd3786\"],[0.5555555555555556,\"#d8576b\"],[0.6666666666666666,\"#ed7953\"],[0.7777777777777778,\"#fb9f3a\"],[0.8888888888888888,\"#fdca26\"],[1.0,\"#f0f921\"]],\"type\":\"heatmap\"}],\"heatmapgl\":[{\"colorbar\":{\"outlinewidth\":0,\"ticks\":\"\"},\"colorscale\":[[0.0,\"#0d0887\"],[0.1111111111111111,\"#46039f\"],[0.2222222222222222,\"#7201a8\"],[0.3333333333333333,\"#9c179e\"],[0.4444444444444444,\"#bd3786\"],[0.5555555555555556,\"#d8576b\"],[0.6666666666666666,\"#ed7953\"],[0.7777777777777778,\"#fb9f3a\"],[0.8888888888888888,\"#fdca26\"],[1.0,\"#f0f921\"]],\"type\":\"heatmapgl\"}],\"histogram\":[{\"marker\":{\"pattern\":{\"fillmode\":\"overlay\",\"size\":10,\"solidity\":0.2}},\"type\":\"histogram\"}],\"histogram2d\":[{\"colorbar\":{\"outlinewidth\":0,\"ticks\":\"\"},\"colorscale\":[[0.0,\"#0d0887\"],[0.1111111111111111,\"#46039f\"],[0.2222222222222222,\"#7201a8\"],[0.3333333333333333,\"#9c179e\"],[0.4444444444444444,\"#bd3786\"],[0.5555555555555556,\"#d8576b\"],[0.6666666666666666,\"#ed7953\"],[0.7777777777777778,\"#fb9f3a\"],[0.8888888888888888,\"#fdca26\"],[1.0,\"#f0f921\"]],\"type\":\"histogram2d\"}],\"histogram2dcontour\":[{\"colorbar\":{\"outlinewidth\":0,\"ticks\":\"\"},\"colorscale\":[[0.0,\"#0d0887\"],[0.1111111111111111,\"#46039f\"],[0.2222222222222222,\"#7201a8\"],[0.3333333333333333,\"#9c179e\"],[0.4444444444444444,\"#bd3786\"],[0.5555555555555556,\"#d8576b\"],[0.6666666666666666,\"#ed7953\"],[0.7777777777777778,\"#fb9f3a\"],[0.8888888888888888,\"#fdca26\"],[1.0,\"#f0f921\"]],\"type\":\"histogram2dcontour\"}],\"mesh3d\":[{\"colorbar\":{\"outlinewidth\":0,\"ticks\":\"\"},\"type\":\"mesh3d\"}],\"parcoords\":[{\"line\":{\"colorbar\":{\"outlinewidth\":0,\"ticks\":\"\"}},\"type\":\"parcoords\"}],\"pie\":[{\"automargin\":true,\"type\":\"pie\"}],\"scatter\":[{\"marker\":{\"colorbar\":{\"outlinewidth\":0,\"ticks\":\"\"}},\"type\":\"scatter\"}],\"scatter3d\":[{\"line\":{\"colorbar\":{\"outlinewidth\":0,\"ticks\":\"\"}},\"marker\":{\"colorbar\":{\"outlinewidth\":0,\"ticks\":\"\"}},\"type\":\"scatter3d\"}],\"scattercarpet\":[{\"marker\":{\"colorbar\":{\"outlinewidth\":0,\"ticks\":\"\"}},\"type\":\"scattercarpet\"}],\"scattergeo\":[{\"marker\":{\"colorbar\":{\"outlinewidth\":0,\"ticks\":\"\"}},\"type\":\"scattergeo\"}],\"scattergl\":[{\"marker\":{\"colorbar\":{\"outlinewidth\":0,\"ticks\":\"\"}},\"type\":\"scattergl\"}],\"scattermapbox\":[{\"marker\":{\"colorbar\":{\"outlinewidth\":0,\"ticks\":\"\"}},\"type\":\"scattermapbox\"}],\"scatterpolar\":[{\"marker\":{\"colorbar\":{\"outlinewidth\":0,\"ticks\":\"\"}},\"type\":\"scatterpolar\"}],\"scatterpolargl\":[{\"marker\":{\"colorbar\":{\"outlinewidth\":0,\"ticks\":\"\"}},\"type\":\"scatterpolargl\"}],\"scatterternary\":[{\"marker\":{\"colorbar\":{\"outlinewidth\":0,\"ticks\":\"\"}},\"type\":\"scatterternary\"}],\"surface\":[{\"colorbar\":{\"outlinewidth\":0,\"ticks\":\"\"},\"colorscale\":[[0.0,\"#0d0887\"],[0.1111111111111111,\"#46039f\"],[0.2222222222222222,\"#7201a8\"],[0.3333333333333333,\"#9c179e\"],[0.4444444444444444,\"#bd3786\"],[0.5555555555555556,\"#d8576b\"],[0.6666666666666666,\"#ed7953\"],[0.7777777777777778,\"#fb9f3a\"],[0.8888888888888888,\"#fdca26\"],[1.0,\"#f0f921\"]],\"type\":\"surface\"}],\"table\":[{\"cells\":{\"fill\":{\"color\":\"#EBF0F8\"},\"line\":{\"color\":\"white\"}},\"header\":{\"fill\":{\"color\":\"#C8D4E3\"},\"line\":{\"color\":\"white\"}},\"type\":\"table\"}]},\"layout\":{\"annotationdefaults\":{\"arrowcolor\":\"#2a3f5f\",\"arrowhead\":0,\"arrowwidth\":1},\"autotypenumbers\":\"strict\",\"coloraxis\":{\"colorbar\":{\"outlinewidth\":0,\"ticks\":\"\"}},\"colorscale\":{\"diverging\":[[0,\"#8e0152\"],[0.1,\"#c51b7d\"],[0.2,\"#de77ae\"],[0.3,\"#f1b6da\"],[0.4,\"#fde0ef\"],[0.5,\"#f7f7f7\"],[0.6,\"#e6f5d0\"],[0.7,\"#b8e186\"],[0.8,\"#7fbc41\"],[0.9,\"#4d9221\"],[1,\"#276419\"]],\"sequential\":[[0.0,\"#0d0887\"],[0.1111111111111111,\"#46039f\"],[0.2222222222222222,\"#7201a8\"],[0.3333333333333333,\"#9c179e\"],[0.4444444444444444,\"#bd3786\"],[0.5555555555555556,\"#d8576b\"],[0.6666666666666666,\"#ed7953\"],[0.7777777777777778,\"#fb9f3a\"],[0.8888888888888888,\"#fdca26\"],[1.0,\"#f0f921\"]],\"sequentialminus\":[[0.0,\"#0d0887\"],[0.1111111111111111,\"#46039f\"],[0.2222222222222222,\"#7201a8\"],[0.3333333333333333,\"#9c179e\"],[0.4444444444444444,\"#bd3786\"],[0.5555555555555556,\"#d8576b\"],[0.6666666666666666,\"#ed7953\"],[0.7777777777777778,\"#fb9f3a\"],[0.8888888888888888,\"#fdca26\"],[1.0,\"#f0f921\"]]},\"colorway\":[\"#636efa\",\"#EF553B\",\"#00cc96\",\"#ab63fa\",\"#FFA15A\",\"#19d3f3\",\"#FF6692\",\"#B6E880\",\"#FF97FF\",\"#FECB52\"],\"font\":{\"color\":\"#2a3f5f\"},\"geo\":{\"bgcolor\":\"white\",\"lakecolor\":\"white\",\"landcolor\":\"#E5ECF6\",\"showlakes\":true,\"showland\":true,\"subunitcolor\":\"white\"},\"hoverlabel\":{\"align\":\"left\"},\"hovermode\":\"closest\",\"mapbox\":{\"style\":\"light\"},\"paper_bgcolor\":\"white\",\"plot_bgcolor\":\"#E5ECF6\",\"polar\":{\"angularaxis\":{\"gridcolor\":\"white\",\"linecolor\":\"white\",\"ticks\":\"\"},\"bgcolor\":\"#E5ECF6\",\"radialaxis\":{\"gridcolor\":\"white\",\"linecolor\":\"white\",\"ticks\":\"\"}},\"scene\":{\"xaxis\":{\"backgroundcolor\":\"#E5ECF6\",\"gridcolor\":\"white\",\"gridwidth\":2,\"linecolor\":\"white\",\"showbackground\":true,\"ticks\":\"\",\"zerolinecolor\":\"white\"},\"yaxis\":{\"backgroundcolor\":\"#E5ECF6\",\"gridcolor\":\"white\",\"gridwidth\":2,\"linecolor\":\"white\",\"showbackground\":true,\"ticks\":\"\",\"zerolinecolor\":\"white\"},\"zaxis\":{\"backgroundcolor\":\"#E5ECF6\",\"gridcolor\":\"white\",\"gridwidth\":2,\"linecolor\":\"white\",\"showbackground\":true,\"ticks\":\"\",\"zerolinecolor\":\"white\"}},\"shapedefaults\":{\"line\":{\"color\":\"#2a3f5f\"}},\"ternary\":{\"aaxis\":{\"gridcolor\":\"white\",\"linecolor\":\"white\",\"ticks\":\"\"},\"baxis\":{\"gridcolor\":\"white\",\"linecolor\":\"white\",\"ticks\":\"\"},\"bgcolor\":\"#E5ECF6\",\"caxis\":{\"gridcolor\":\"white\",\"linecolor\":\"white\",\"ticks\":\"\"}},\"title\":{\"x\":0.05},\"xaxis\":{\"automargin\":true,\"gridcolor\":\"white\",\"linecolor\":\"white\",\"ticks\":\"\",\"title\":{\"standoff\":15},\"zerolinecolor\":\"white\",\"zerolinewidth\":2},\"yaxis\":{\"automargin\":true,\"gridcolor\":\"white\",\"linecolor\":\"white\",\"ticks\":\"\",\"title\":{\"standoff\":15},\"zerolinecolor\":\"white\",\"zerolinewidth\":2}}},\"title\":{\"text\":\" Min Cluster Detector for site MLA on flow direct and device Desktop\"}},                        {\"responsive\": true}                    ).then(function(){\n",
       "                            \n",
       "var gd = document.getElementById('408e9f7c-c260-4087-a7eb-6e7f9fe52b4a');\n",
       "var x = new MutationObserver(function (mutations, observer) {{\n",
       "        var display = window.getComputedStyle(gd).display;\n",
       "        if (!display || display === 'none') {{\n",
       "            console.log([gd, 'removed!']);\n",
       "            Plotly.purge(gd);\n",
       "            observer.disconnect();\n",
       "        }}\n",
       "}});\n",
       "\n",
       "// Listen for the removal of the full notebook cells\n",
       "var notebookContainer = gd.closest('#notebook-container');\n",
       "if (notebookContainer) {{\n",
       "    x.observe(notebookContainer, {childList: true});\n",
       "}}\n",
       "\n",
       "// Listen for the clearing of the current output cell\n",
       "var outputEl = gd.closest('.output');\n",
       "if (outputEl) {{\n",
       "    x.observe(outputEl, {childList: true});\n",
       "}}\n",
       "\n",
       "                        })                };                });            </script>        </div>"
      ]
     },
     "metadata": {},
     "output_type": "display_data"
    }
   ],
   "source": [
    "min_cluster_detector = MinClusterDetector(KMeans(n_clusters=10))\n",
    "anomalies = min_cluster_detector.fit_detect(s.to_frame())\n",
    "anomaly_plot(s, anomaly=anomalies, anomaly_color=\"red\",\n",
    "                 title=f\" Min Cluster Detector for site {site} on flow {flow} and device {device}\"\n",
    "    )\n",
    "    \n",
    "\n"
   ]
  },
  {
   "cell_type": "code",
   "execution_count": null,
   "metadata": {},
   "outputs": [],
   "source": []
  },
  {
   "cell_type": "code",
   "execution_count": null,
   "metadata": {},
   "outputs": [],
   "source": []
  },
  {
   "cell_type": "code",
   "execution_count": null,
   "metadata": {},
   "outputs": [],
   "source": []
  },
  {
   "cell_type": "code",
   "execution_count": null,
   "metadata": {},
   "outputs": [],
   "source": []
  },
  {
   "cell_type": "code",
   "execution_count": null,
   "metadata": {},
   "outputs": [],
   "source": []
  }
 ],
 "metadata": {
  "kernelspec": {
   "display_name": "Python 3",
   "language": "python",
   "name": "python3"
  },
  "language_info": {
   "codemirror_mode": {
    "name": "ipython",
    "version": 3
   },
   "file_extension": ".py",
   "mimetype": "text/x-python",
   "name": "python",
   "nbconvert_exporter": "python",
   "pygments_lexer": "ipython3",
   "version": "3.8.5"
  }
 },
 "nbformat": 4,
 "nbformat_minor": 4
}
